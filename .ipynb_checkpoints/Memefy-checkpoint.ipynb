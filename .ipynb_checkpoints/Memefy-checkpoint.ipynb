{
 "cells": [
  {
   "cell_type": "markdown",
   "metadata": {},
   "source": [
    "## Program"
   ]
  },
  {
   "cell_type": "code",
   "execution_count": 1,
   "metadata": {},
   "outputs": [
    {
     "data": {
      "text/plain": [
       "'Thisstoryisrealsfreakinghfunny Thisstoryisrealsfreakinghfunny Thisstoryisrealsfreakinghfunny THISSTORYISREALSFREAKINGHFUNNY Thisstoryisrealsfreakinghfunny THiSsToRyIsReAlSfReAkInGhFuNnY'"
      ]
     },
     "execution_count": 1,
     "metadata": {},
     "output_type": "execute_result"
    }
   ],
   "source": [
    "def memefy(sentence):\n",
    "    #Splitting the sentence into words\n",
    "    words = sentence.split()    \n",
    "    new_words = []\n",
    "    \n",
    "    for word in words:\n",
    "        \n",
    "        each_word_letter_list = []\n",
    "        for letter in word:\n",
    "            each_word_letter_list.append(letter)\n",
    "        \n",
    "        \n",
    "        each_word_replaced_letters = []\n",
    "        for letter in each_word_letter_list:            \n",
    "            if letter != 'a' and letter != 's' and letter != 'h' and letter != 'o':\n",
    "                letter = letter\n",
    "            elif letter == 'a':\n",
    "                letter = '@'\n",
    "            elif letter == 's':\n",
    "                letter = '$'\n",
    "            elif letter == 'h':\n",
    "                letter = '#'\n",
    "            elif letter == 'o':\n",
    "                letter = '0'\n",
    "            each_word_replaced_letters.append(letter)\n",
    "            \n",
    "        new_word = \"\".join(each_word_replaced_letters)\n",
    "        new_words.append(new_word)\n",
    "    \n",
    "    try:\n",
    "        #Capitalizing the 4th word of the sentence\n",
    "        new_words[3] = new_words[3].upper()\n",
    "        \n",
    "        #Memefying the sixth word of the sentence\n",
    "        sixth_word_letters = [i for i in new_words[5]]\n",
    "        index = 0\n",
    "        mem_sixth= []\n",
    "        \n",
    "        while index < len(sixth_word_letters):\n",
    "            if index % 2 == 0:\n",
    "                mem_sixth.append(sixth_word_letters[index])\n",
    "            else:\n",
    "                mem_sixth.append(sixth_word_letters[index].upper())\n",
    "            index += 1\n",
    "        sixth_word = \"\".join(mem_sixth)\n",
    "        new_words[5] = sixth_word\n",
    "        \n",
    "    except:\n",
    "        pass\n",
    "        \n",
    "    memefied = \" \".join(new_words)\n",
    "    return memefied\n",
    "\n",
    "    \n",
    "        \n",
    "memefy('This story is real sfreaking hfunny')        \n",
    "        "
   ]
  },
  {
   "cell_type": "markdown",
   "metadata": {},
   "source": [
    "## Script\n"
   ]
  },
  {
   "cell_type": "code",
   "execution_count": 6,
   "metadata": {},
   "outputs": [
    {
     "name": "stdout",
     "output_type": "stream",
     "text": [
      "Enter the sentence that you want to memefy: We live in a society. The world is fucking weird.\n"
     ]
    },
    {
     "data": {
      "text/plain": [
       "'We live in @ $0ciety. T#e w0rld i$ fucking weird.'"
      ]
     },
     "execution_count": 6,
     "metadata": {},
     "output_type": "execute_result"
    }
   ],
   "source": [
    "def memefy(sentence):\n",
    "    #Splitting the sentence into words\n",
    "    words = sentence.split()    \n",
    "    new_words = []\n",
    "    \n",
    "    for word in words:\n",
    "        \n",
    "        each_word_letter_list = []\n",
    "        for letter in word:\n",
    "            each_word_letter_list.append(letter)\n",
    "        \n",
    "        \n",
    "        each_word_replaced_letters = []\n",
    "        for letter in each_word_letter_list:            \n",
    "            if letter != 'a' and letter != 's' and letter != 'h' and letter != 'o':\n",
    "                letter = letter\n",
    "            elif letter == 'a':\n",
    "                letter = '@'\n",
    "            elif letter == 's':\n",
    "                letter = '$'\n",
    "            elif letter == 'h':\n",
    "                letter = '#'\n",
    "            elif letter == 'o':\n",
    "                letter = '0'\n",
    "            each_word_replaced_letters.append(letter)\n",
    "            \n",
    "        new_word = \"\".join(each_word_replaced_letters)\n",
    "        new_words.append(new_word)\n",
    "    \n",
    "    try:\n",
    "        #Capitalizing the 4th word of the sentence\n",
    "        new_words[3] = new_words[3].upper()\n",
    "        \n",
    "        #Memefying the sixth word of the sentence\n",
    "        sixth_word_letters = [i for i in new_words[5]]\n",
    "        index = 0\n",
    "        mem_sixth= []\n",
    "        \n",
    "        while index < len(sixth_word_letters):\n",
    "            if index % 2 == 0:\n",
    "                mem_sixth.append(sixth_word_letters[index])\n",
    "            else:\n",
    "                mem_sixth.append(sixth_word_letters[index].upper())\n",
    "            index += 1\n",
    "        sixth_word = \"\".join(mem_sixth)\n",
    "        new_words[5] = sixth_word\n",
    "        \n",
    "    except:\n",
    "        pass\n",
    "        \n",
    "    memefied = \" \".join(new_words)\n",
    "    return memefied\n",
    "\n",
    "    \n",
    "user_sentence = input('Enter the sentence that you want to memefy: ')        \n",
    "memefy(user_sentence)        \n",
    "        "
   ]
  }
 ],
 "metadata": {
  "kernelspec": {
   "display_name": "Python 3",
   "language": "python",
   "name": "python3"
  },
  "language_info": {
   "codemirror_mode": {
    "name": "ipython",
    "version": 3
   },
   "file_extension": ".py",
   "mimetype": "text/x-python",
   "name": "python",
   "nbconvert_exporter": "python",
   "pygments_lexer": "ipython3",
   "version": "3.7.4"
  }
 },
 "nbformat": 4,
 "nbformat_minor": 2
}
