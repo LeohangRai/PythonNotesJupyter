{
 "cells": [
  {
   "cell_type": "code",
   "execution_count": 16,
   "metadata": {},
   "outputs": [
    {
     "name": "stdout",
     "output_type": "stream",
     "text": [
      "['a', 'c', 'd']\n",
      "[0, 1, 2, 3, 5, 6]\n",
      "[1, 2, 3, 4, 5, 6]\n"
     ]
    }
   ],
   "source": [
    "def InsertionSort(arr):\n",
    "    sorted_so_far = 1\n",
    "    #First loop is for the unsorted part \n",
    "    for i in range(1,len(arr)):\n",
    "        value = arr[i]\n",
    "        hole = i\n",
    "        #This loop is for swapping elements in the sorted part\n",
    "        while i > 0 and arr[i-1] > value:\n",
    "            #The larger element is pushed to the right\n",
    "            arr[i] = arr[i-1]\n",
    "            i -= 1\n",
    "        arr[i] = value\n",
    "    return arr\n",
    "\n",
    "#Test\n",
    "my_arr = ['c','a','d']\n",
    "my_arr2 = [3,1,6,5,2,0]\n",
    "already_sorted_arr = [1,2,3,4,5,6]\n",
    "print(InsertionSort(my_arr))\n",
    "print(InsertionSort(my_arr2))\n",
    "print(InsertionSort(already_sorted_arr))"
   ]
  },
  {
   "cell_type": "code",
   "execution_count": 12,
   "metadata": {},
   "outputs": [
    {
     "name": "stdout",
     "output_type": "stream",
     "text": [
      "2.14 µs ± 173 ns per loop (mean ± std. dev. of 7 runs, 100000 loops each)\n"
     ]
    }
   ],
   "source": [
    "%timeit InsertionSort(my_arr)"
   ]
  },
  {
   "cell_type": "code",
   "execution_count": null,
   "metadata": {},
   "outputs": [],
   "source": []
  },
  {
   "cell_type": "code",
   "execution_count": 3,
   "metadata": {},
   "outputs": [
    {
     "name": "stdout",
     "output_type": "stream",
     "text": [
      "['a', 'c', 'd']\n",
      "[0, 1, 2, 3, 5, 6]\n",
      "[1, 2, 3, 4, 5, 6]\n"
     ]
    }
   ],
   "source": [
    "def InsertionSort2(arr):\n",
    "    for i in range(1,len(arr)):\n",
    "        value = arr[i]\n",
    "        hole = i\n",
    "        while hole>0 and arr[hole-1]>value:\n",
    "            arr[hole] = arr[hole-1]\n",
    "            hole -= 1\n",
    "        arr[hole] = value\n",
    "    return arr\n",
    "\n",
    "my_arr = ['c','a','d']\n",
    "my_arr2 = [3,1,6,5,2,0]\n",
    "already_sorted_arr = [1,2,3,4,5,6]\n",
    "print(InsertionSort2(my_arr))\n",
    "print(InsertionSort2(my_arr2))\n",
    "print(InsertionSort2(already_sorted_arr))"
   ]
  },
  {
   "cell_type": "code",
   "execution_count": null,
   "metadata": {},
   "outputs": [],
   "source": [
    "def InsertionSort3(arr):\n",
    "    for i in range(1, len(arr)):\n",
    "        value = arr[i]\n",
    "        while i>0 and arr[i-1]>value:\n",
    "            \n",
    "    "
   ]
  }
 ],
 "metadata": {
  "kernelspec": {
   "display_name": "Python 3",
   "language": "python",
   "name": "python3"
  },
  "language_info": {
   "codemirror_mode": {
    "name": "ipython",
    "version": 3
   },
   "file_extension": ".py",
   "mimetype": "text/x-python",
   "name": "python",
   "nbconvert_exporter": "python",
   "pygments_lexer": "ipython3",
   "version": "3.8.3"
  }
 },
 "nbformat": 4,
 "nbformat_minor": 4
}
