{
 "cells": [
  {
   "cell_type": "code",
   "execution_count": 16,
   "metadata": {},
   "outputs": [
    {
     "name": "stdout",
     "output_type": "stream",
     "text": [
      "Printing model: Huawei\n",
      "Printing model: Apple\n",
      "Printing model: Samsung\n",
      "\n",
      "The completed designs list now: ['Mantra', 'Sahana', 'Huawei', 'Apple', 'Samsung']\n",
      "\n",
      "The unprinted designs list now: []\n"
     ]
    }
   ],
   "source": [
    "#Passing lists to a function\n",
    "#The list will modify the passed lists\n",
    "\n",
    "def print_models(unprinted_designs, completed_models):\n",
    "    while unprinted_designs:\n",
    "        current_design = unprinted_designs.pop()\n",
    "        \n",
    "        print(\"Printing model: \"+ current_design)\n",
    "        completed_models.append(current_design)\n",
    "        \n",
    "def show_completed_models(completed_models):\n",
    "    print(\"\\nThe following models have been printed:\")\n",
    "    for models in completed_models:\n",
    "        print(model)\n",
    "\n",
    "#TEST\n",
    "my_unprinted_designs = ['Samsung','Apple','Huawei']\n",
    "my_completed_designs = ['Mantra','Sahana']\n",
    "print_models(my_unprinted_designs, my_completed_designs)\n",
    "\n",
    "print(\"\\nThe completed designs list now: \" + str(my_completed_designs))\n",
    "print(\"\\nThe unprinted designs list now: \" + str(my_unprinted_designs))"
   ]
  },
  {
   "cell_type": "code",
   "execution_count": 13,
   "metadata": {},
   "outputs": [
    {
     "name": "stdout",
     "output_type": "stream",
     "text": [
      "Printing model: Huawei\n",
      "Printing model: Apple\n",
      "Printing model: Samsung\n",
      "['Samsung', 'Apple', 'Huawei']\n"
     ]
    }
   ],
   "source": [
    "#Passing lists to a function\n",
    "#And preventing the function from modifying the list\n",
    "#NOTE: The function is same as above, only the function call argument is different\n",
    "\n",
    "def print_models(unprinted_designs, completed_models):\n",
    "    while unprinted_designs:\n",
    "        current_design = unprinted_designs.pop()\n",
    "        \n",
    "        print(\"Printing model: \"+ current_design)\n",
    "        completed_models.append(current_design)\n",
    "        \n",
    "def show_completed_models(completed_models):\n",
    "    print(\"\\nThe following models have been printed:\")\n",
    "    for models in completed_models:\n",
    "        print(model)\n",
    "        \n",
    "#TEST\n",
    "my_unprinted_designs = ['Samsung','Apple','Huawei']\n",
    "my_completed_designs = ['Mantra','Sahana']\n",
    "print_models(my_unprinted_designs[:], my_completed_designs)\n",
    "print(my_unprinted_designs)"
   ]
  },
  {
   "cell_type": "code",
   "execution_count": null,
   "metadata": {},
   "outputs": [],
   "source": []
  }
 ],
 "metadata": {
  "kernelspec": {
   "display_name": "Python 3",
   "language": "python",
   "name": "python3"
  },
  "language_info": {
   "codemirror_mode": {
    "name": "ipython",
    "version": 3
   },
   "file_extension": ".py",
   "mimetype": "text/x-python",
   "name": "python",
   "nbconvert_exporter": "python",
   "pygments_lexer": "ipython3",
   "version": "3.7.4"
  }
 },
 "nbformat": 4,
 "nbformat_minor": 2
}
