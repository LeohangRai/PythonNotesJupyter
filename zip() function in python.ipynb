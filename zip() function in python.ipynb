{
 "cells": [
  {
   "cell_type": "markdown",
   "metadata": {},
   "source": [
    "## zip() function in Python\n",
    "The purpose of zip() is to map the similar index of multiple containers so that they can be used just using as single entity. <br>\n",
    "i.e. it groups the corresponding items of the iterables provided to it as arguments (as tuples)."
   ]
  },
  {
   "cell_type": "markdown",
   "metadata": {},
   "source": [
    "<pre>\n",
    "Syntax :\n",
    "zip(*iterators)\n",
    "Parameters :\n",
    "Python iterables or containers ( list, string etc )\n",
    "Return Value :\n",
    "Returns a single iterator object, having mapped values from all the\n",
    "containers.\n"
   ]
  },
  {
   "cell_type": "markdown",
   "metadata": {},
   "source": [
    "<PRe>The zip() function returns a zip object, which is an iterator of tuples where the first item in each passed iterator is paired together, and then the second item in each passed iterator are paired together etc.\n",
    "\n",
    "If the passed iterators have different lengths, the iterator with the least items decides the length of the new iterator."
   ]
  },
  {
   "cell_type": "markdown",
   "metadata": {},
   "source": [
    "### Example"
   ]
  },
  {
   "cell_type": "code",
   "execution_count": 15,
   "metadata": {},
   "outputs": [
    {
     "name": "stdout",
     "output_type": "stream",
     "text": [
      "<class 'zip'>\n",
      "[('Leo', 7, 'L'), ('Pica', 8, 'P'), ('Shizen', 99, 'S')]\n",
      "set()\n"
     ]
    }
   ],
   "source": [
    "name = ['Leo', 'Pica', 'Shizen']\n",
    "roll = [7,8,99]\n",
    "grades = ['L', 'P', 'S']\n",
    "\n",
    "zipped = zip(name, roll, grades)\n",
    "\n",
    "print(type(zipped))  #Seems like the zipped object is an object of its own, different from the other container types\n",
    "#So we need to typecast it into the object type we need\n",
    "print(list(zipped))\n",
    "\n",
    "#It seems like the zip object is a mutable object.\n",
    "#since it has already been typecasted into a list, it cannot be further typecasted into another container\n",
    "print(set(zipped))"
   ]
  },
  {
   "cell_type": "code",
   "execution_count": null,
   "metadata": {},
   "outputs": [],
   "source": []
  },
  {
   "cell_type": "markdown",
   "metadata": {},
   "source": [
    "## Unzipping the zipped values\n",
    "Unzipping means converting the zipped values back to the individual self as they were. This is done with the help of “*” operator."
   ]
  },
  {
   "cell_type": "code",
   "execution_count": 23,
   "metadata": {},
   "outputs": [
    {
     "name": "stdout",
     "output_type": "stream",
     "text": [
      "['Leo', 'Pica', 'Shizen'] [7, 8, 99] ('L', 'P', 'S')\n"
     ]
    }
   ],
   "source": [
    "name = ['Leo', 'Pica', 'Shizen']\n",
    "roll = [7,8,99]\n",
    "grades = ['L', 'P', 'S']\n",
    "\n",
    "#zipping\n",
    "zipped = zip(name, roll, grades)\n",
    "\n",
    "#unzipping\n",
    "nam, rol, grad = zip(*zipped)\n",
    "print(name, roll, grad)\n"
   ]
  }
 ],
 "metadata": {
  "kernelspec": {
   "display_name": "Python 3",
   "language": "python",
   "name": "python3"
  },
  "language_info": {
   "codemirror_mode": {
    "name": "ipython",
    "version": 3
   },
   "file_extension": ".py",
   "mimetype": "text/x-python",
   "name": "python",
   "nbconvert_exporter": "python",
   "pygments_lexer": "ipython3",
   "version": "3.8.3"
  }
 },
 "nbformat": 4,
 "nbformat_minor": 4
}
