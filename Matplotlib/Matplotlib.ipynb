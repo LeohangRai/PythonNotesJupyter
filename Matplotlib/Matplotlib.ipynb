{
 "cells": [
  {
   "cell_type": "markdown",
   "metadata": {
    "colab_type": "text",
    "id": "7P0TFBIHv5v5",
    "slideshow": {
     "slide_type": "slide"
    }
   },
   "source": [
    "### Matplotlib Overview"
   ]
  },
  {
   "cell_type": "markdown",
   "metadata": {
    "colab_type": "text",
    "id": "7P0TFBIHv5v5",
    "slideshow": {
     "slide_type": "fragment"
    }
   },
   "source": [
    "Matplotlib is a data visualization library.\n",
    "\n",
    "> It is an excellent 2D and 3D graphics library for generating scientific figures. \n",
    "\n",
    "Some of the major Pros of Matplotlib are:\n",
    "\n",
    "* Generally easy to get started for simple plots\n",
    "* Support for custom labels and texts\n",
    "* Great control of every element in a figure\n",
    "* High-quality output in many formats\n",
    "* Very customizable in general\n",
    "\n",
    "> Matplotlib allows you to create reproducible figures programmatically. "
   ]
  },
  {
   "cell_type": "markdown",
   "metadata": {
    "colab_type": "text",
    "id": "QsNXu9jBv5v8",
    "slideshow": {
     "slide_type": "slide"
    }
   },
   "source": [
    "Import the `matplotlib.pyplot` module under the name `plt` (convention: the tidy way):"
   ]
  },
  {
   "cell_type": "code",
   "execution_count": 1,
   "metadata": {
    "colab": {},
    "colab_type": "code",
    "id": "ylXkq_kcv5v-",
    "slideshow": {
     "slide_type": "fragment"
    }
   },
   "outputs": [],
   "source": [
    "import numpy as np\n",
    "import matplotlib.pyplot as plt\n",
    "# %matplotlib inline"
   ]
  },
  {
   "cell_type": "code",
   "execution_count": 2,
   "metadata": {
    "colab": {
     "base_uri": "https://localhost:8080/",
     "height": 282
    },
    "colab_type": "code",
    "executionInfo": {
     "elapsed": 2314,
     "status": "ok",
     "timestamp": 1582011580194,
     "user": {
      "displayName": "Manasi Kattel",
      "photoUrl": "https://lh3.googleusercontent.com/a-/AAuE7mCTgx8PqszpqeRJ07EEuTfA6gZRFotonvrWEEI=s64",
      "userId": "01404412698388297287"
     },
     "user_tz": -345
    },
    "id": "1k3gu0-9v5wC",
    "outputId": "58eb403e-ac7f-4212-f6cc-24d988c83913",
    "slideshow": {
     "slide_type": "fragment"
    }
   },
   "outputs": [
    {
     "data": {
      "text/plain": [
       "[<matplotlib.lines.Line2D at 0x7fc199586410>]"
      ]
     },
     "execution_count": 2,
     "metadata": {},
     "output_type": "execute_result"
    },
    {
     "data": {
      "image/png": "[encoded data removed]",
      "text/plain": [
       "<Figure size 432x288 with 1 Axes>"
      ]
     },
     "metadata": {
      "needs_background": "light"
     },
     "output_type": "display_data"
    }
   ],
   "source": [
    "x = [1,2,3,4,7]\n",
    "\n",
    "plt.plot(x)\n",
    "# plots the values of the X\n",
    "# starts from zero going up to as many items in the data."
   ]
  },
  {
   "cell_type": "markdown",
   "metadata": {
    "colab_type": "text",
    "id": "c4G-HLqwv5wH",
    "slideshow": {
     "slide_type": "slide"
    }
   },
   "source": [
    "### Basic Example\n",
    "\n",
    "\n",
    "#### The functional way/ the MATLAB way"
   ]
  },
  {
   "cell_type": "markdown",
   "metadata": {
    "colab_type": "text",
    "id": "Va7yuPufv5wI",
    "slideshow": {
     "slide_type": "fragment"
    }
   },
   "source": [
    "#### Plot $y = f(x) = x^2$"
   ]
  },
  {
   "cell_type": "code",
   "execution_count": 3,
   "metadata": {
    "colab": {},
    "colab_type": "code",
    "id": "RQoQEablv5wJ",
    "slideshow": {
     "slide_type": "fragment"
    }
   },
   "outputs": [],
   "source": [
    "# Data we want to plot\n",
    "\n",
    "import numpy as np\n",
    "x = np.linspace(0, 7, 15)\n",
    "\n",
    "y = x ** 2"
   ]
  },
  {
   "cell_type": "code",
   "execution_count": 4,
   "metadata": {
    "colab": {
     "base_uri": "https://localhost:8080/",
     "height": 51
    },
    "colab_type": "code",
    "executionInfo": {
     "elapsed": 2305,
     "status": "ok",
     "timestamp": 1582011580196,
     "user": {
      "displayName": "Manasi Kattel",
      "photoUrl": "https://lh3.googleusercontent.com/a-/AAuE7mCTgx8PqszpqeRJ07EEuTfA6gZRFotonvrWEEI=s64",
      "userId": "01404412698388297287"
     },
     "user_tz": -345
    },
    "id": "dMV6AQIBv5wM",
    "outputId": "2c0d8e42-07e9-4b00-d9d5-dbaa376ee8c1",
    "slideshow": {
     "slide_type": "slide"
    }
   },
   "outputs": [
    {
     "data": {
      "text/plain": [
       "array([0. , 0.5, 1. , 1.5, 2. , 2.5, 3. , 3.5, 4. , 4.5, 5. , 5.5, 6. ,\n",
       "       6.5, 7. ])"
      ]
     },
     "execution_count": 4,
     "metadata": {},
     "output_type": "execute_result"
    }
   ],
   "source": [
    "x"
   ]
  },
  {
   "cell_type": "code",
   "execution_count": 5,
   "metadata": {
    "colab": {
     "base_uri": "https://localhost:8080/",
     "height": 51
    },
    "colab_type": "code",
    "executionInfo": {
     "elapsed": 2297,
     "status": "ok",
     "timestamp": 1582011580196,
     "user": {
      "displayName": "Manasi Kattel",
      "photoUrl": "https://lh3.googleusercontent.com/a-/AAuE7mCTgx8PqszpqeRJ07EEuTfA6gZRFotonvrWEEI=s64",
      "userId": "01404412698388297287"
     },
     "user_tz": -345
    },
    "id": "XmYDFdEUv5wP",
    "outputId": "a107c497-d99d-4d7b-cb14-7e188dc32c96",
    "slideshow": {
     "slide_type": "fragment"
    }
   },
   "outputs": [
    {
     "data": {
      "text/plain": [
       "array([ 0.  ,  0.25,  1.  ,  2.25,  4.  ,  6.25,  9.  , 12.25, 16.  ,\n",
       "       20.25, 25.  , 30.25, 36.  , 42.25, 49.  ])"
      ]
     },
     "execution_count": 5,
     "metadata": {},
     "output_type": "execute_result"
    }
   ],
   "source": [
    "y"
   ]
  },
  {
   "cell_type": "code",
   "execution_count": 6,
   "metadata": {
    "colab": {
     "base_uri": "https://localhost:8080/",
     "height": 282
    },
    "colab_type": "code",
    "executionInfo": {
     "elapsed": 4419,
     "status": "ok",
     "timestamp": 1582011582326,
     "user": {
      "displayName": "Manasi Kattel",
      "photoUrl": "https://lh3.googleusercontent.com/a-/AAuE7mCTgx8PqszpqeRJ07EEuTfA6gZRFotonvrWEEI=s64",
      "userId": "01404412698388297287"
     },
     "user_tz": -345
    },
    "id": "ggcKb9Vsv5wT",
    "outputId": "1de45e29-42cd-4864-b9a2-c44ae52d66a6",
    "slideshow": {
     "slide_type": "fragment"
    }
   },
   "outputs": [
    {
     "data": {
      "text/plain": [
       "[<matplotlib.lines.Line2D at 0x11fa3ccf8>]"
      ]
     },
     "execution_count": 6,
     "metadata": {},
     "output_type": "execute_result"
    },
    {
     "data": {
      "image/png": "[encoded data removed]",
      "text/plain": [
       "<Figure size 432x288 with 1 Axes>"
      ]
     },
     "metadata": {
      "needs_background": "light"
     },
     "output_type": "display_data"
    }
   ],
   "source": [
    "plt.plot(x,y)"
   ]
  },
  {
   "cell_type": "code",
   "execution_count": 7,
   "metadata": {
    "colab": {
     "base_uri": "https://localhost:8080/",
     "height": 312
    },
    "colab_type": "code",
    "executionInfo": {
     "elapsed": 4412,
     "status": "ok",
     "timestamp": 1582011582327,
     "user": {
      "displayName": "Manasi Kattel",
      "photoUrl": "https://lh3.googleusercontent.com/a-/AAuE7mCTgx8PqszpqeRJ07EEuTfA6gZRFotonvrWEEI=s64",
      "userId": "01404412698388297287"
     },
     "user_tz": -345
    },
    "id": "TyZUeaNPv5wW",
    "outputId": "30dcefc7-b316-48c8-a580-4d15a8e3c588",
    "slideshow": {
     "slide_type": "fragment"
    }
   },
   "outputs": [
    {
     "data": {
      "text/plain": [
       "[<matplotlib.lines.Line2D at 0x11fb22fd0>]"
      ]
     },
     "execution_count": 7,
     "metadata": {},
     "output_type": "execute_result"
    },
    {
     "data": {
      "image/png": "[encoded data removed]",
      "text/plain": [
       "<Figure size 432x288 with 1 Axes>"
      ]
     },
     "metadata": {
      "needs_background": "light"
     },
     "output_type": "display_data"
    }
   ],
   "source": [
    "# Axes = x-axis(xlabel) + y-axis(y-label)\n",
    "plt.xlabel('X')\n",
    "plt.ylabel('Y')\n",
    "\n",
    "# title of plot\n",
    "plt.title('Y = f(X)')\n",
    "plt.plot(x,y)"
   ]
  },
  {
   "cell_type": "markdown",
   "metadata": {
    "colab_type": "text",
    "id": "fpqP6CFMv5wZ",
    "slideshow": {
     "slide_type": "slide"
    }
   },
   "source": [
    "### Three Basic Arguments: plt.plot(x, y, format) \n",
    "\n",
    "* `format` is a short hand combination of `{color}` `{marker}` `{line}`.\n",
    "\n",
    "Eg:- `go-` has 3 characters standing for: ‘green colored dots with solid line’\n",
    "\n",
    "#### Commonly used short hand formats:-\n",
    "\n",
    "* `r*--` : ‘red stars with dashed lines’\n",
    "* `ks.`  : ‘black squares with dotted line’ (‘k’ stands for black)\n",
    "* `bD-.` : ‘blue diamonds with dash-dot line’"
   ]
  },
  {
   "cell_type": "code",
   "execution_count": 13,
   "metadata": {
    "colab": {},
    "colab_type": "code",
    "id": "SCmpW3kXv5wa",
    "slideshow": {
     "slide_type": "fragment"
    }
   },
   "outputs": [],
   "source": [
    "x = np.linspace(0,10,100)"
   ]
  },
  {
   "cell_type": "markdown",
   "metadata": {
    "colab_type": "text",
    "id": "BsupLgYbv5wf",
    "slideshow": {
     "slide_type": "slide"
    }
   },
   "source": [
    "> Plot $y = sin(x)$ and $y = cos(x)$"
   ]
  },
  {
   "cell_type": "code",
   "execution_count": 14,
   "metadata": {
    "colab": {
     "base_uri": "https://localhost:8080/",
     "height": 279
    },
    "colab_type": "code",
    "executionInfo": {
     "elapsed": 1378,
     "status": "ok",
     "timestamp": 1582011679244,
     "user": {
      "displayName": "Manasi Kattel",
      "photoUrl": "https://lh3.googleusercontent.com/a-/AAuE7mCTgx8PqszpqeRJ07EEuTfA6gZRFotonvrWEEI=s64",
      "userId": "01404412698388297287"
     },
     "user_tz": -345
    },
    "id": "_XQH8A2qv5wg",
    "outputId": "68e5242b-d45b-49d1-e4f2-58ddba16b1c2",
    "slideshow": {
     "slide_type": "fragment"
    }
   },
   "outputs": [
    {
     "data": {
      "text/plain": [
       "[<matplotlib.lines.Line2D at 0x1a2290bba8>]"
      ]
     },
     "execution_count": 14,
     "metadata": {},
     "output_type": "execute_result"
    },
    {
     "data": {
      "image/png": "[encoded data removed]",
      "text/plain": [
       "<Figure size 432x288 with 1 Axes>"
      ]
     },
     "metadata": {
      "needs_background": "light"
     },
     "output_type": "display_data"
    }
   ],
   "source": [
    "plt.plot(x,np.sin(x),'k.')"
   ]
  },
  {
   "cell_type": "code",
   "execution_count": 15,
   "metadata": {
    "colab": {
     "base_uri": "https://localhost:8080/",
     "height": 282
    },
    "colab_type": "code",
    "executionInfo": {
     "elapsed": 4395,
     "status": "ok",
     "timestamp": 1582011582330,
     "user": {
      "displayName": "Manasi Kattel",
      "photoUrl": "https://lh3.googleusercontent.com/a-/AAuE7mCTgx8PqszpqeRJ07EEuTfA6gZRFotonvrWEEI=s64",
      "userId": "01404412698388297287"
     },
     "user_tz": -345
    },
    "id": "t5Hzni8Pv5wj",
    "outputId": "56d897d1-43ba-41d9-c53d-5376fe604eee",
    "slideshow": {
     "slide_type": "fragment"
    }
   },
   "outputs": [
    {
     "data": {
      "text/plain": [
       "[<matplotlib.lines.Line2D at 0x1a22776b38>]"
      ]
     },
     "execution_count": 15,
     "metadata": {},
     "output_type": "execute_result"
    },
    {
     "data": {
      "image/png": "[encoded data removed]",
      "text/plain": [
       "<Figure size 432x288 with 1 Axes>"
      ]
     },
     "metadata": {
      "needs_background": "light"
     },
     "output_type": "display_data"
    }
   ],
   "source": [
    "plt.plot(x,np.cos(x),'--')"
   ]
  },
  {
   "cell_type": "code",
   "execution_count": 16,
   "metadata": {
    "colab": {
     "base_uri": "https://localhost:8080/",
     "height": 282
    },
    "colab_type": "code",
    "executionInfo": {
     "elapsed": 4387,
     "status": "ok",
     "timestamp": 1582011582331,
     "user": {
      "displayName": "Manasi Kattel",
      "photoUrl": "https://lh3.googleusercontent.com/a-/AAuE7mCTgx8PqszpqeRJ07EEuTfA6gZRFotonvrWEEI=s64",
      "userId": "01404412698388297287"
     },
     "user_tz": -345
    },
    "id": "l4zoB8tLv5wm",
    "outputId": "48f70a36-453c-4e5d-f1d7-51e76088c33f",
    "slideshow": {
     "slide_type": "slide"
    }
   },
   "outputs": [
    {
     "data": {
      "text/plain": [
       "<matplotlib.legend.Legend at 0x1a2282c2e8>"
      ]
     },
     "execution_count": 16,
     "metadata": {},
     "output_type": "execute_result"
    },
    {
     "data": {
      "image/png": "[encoded data removed]",
      "text/plain": [
       "<Figure size 432x288 with 1 Axes>"
      ]
     },
     "metadata": {
      "needs_background": "light"
     },
     "output_type": "display_data"
    }
   ],
   "source": [
    "plt.plot(x,np.sin(x),'-', label = 'sine wave')\n",
    "plt.plot(x,np.cos(x),'--',label = 'cosine wave')\n",
    "plt.legend()"
   ]
  },
  {
   "cell_type": "markdown",
   "metadata": {
    "colab": {
     "base_uri": "https://localhost:8080/",
     "height": 265
    },
    "colab_type": "code",
    "executionInfo": {
     "elapsed": 4380,
     "status": "ok",
     "timestamp": 1582011582331,
     "user": {
      "displayName": "Manasi Kattel",
      "photoUrl": "https://lh3.googleusercontent.com/a-/AAuE7mCTgx8PqszpqeRJ07EEuTfA6gZRFotonvrWEEI=s64",
      "userId": "01404412698388297287"
     },
     "user_tz": -345
    },
    "id": "1fD1i9hPv5wp",
    "outputId": "fb0832da-96fc-43f1-8f97-8b16b822cd4f",
    "slideshow": {
     "slide_type": "slide"
    }
   },
   "source": [
    "### Saving figure"
   ]
  },
  {
   "cell_type": "code",
   "execution_count": 17,
   "metadata": {
    "colab": {
     "base_uri": "https://localhost:8080/",
     "height": 265
    },
    "colab_type": "code",
    "executionInfo": {
     "elapsed": 4380,
     "status": "ok",
     "timestamp": 1582011582331,
     "user": {
      "displayName": "Manasi Kattel",
      "photoUrl": "https://lh3.googleusercontent.com/a-/AAuE7mCTgx8PqszpqeRJ07EEuTfA6gZRFotonvrWEEI=s64",
      "userId": "01404412698388297287"
     },
     "user_tz": -345
    },
    "id": "1fD1i9hPv5wp",
    "outputId": "fb0832da-96fc-43f1-8f97-8b16b822cd4f",
    "slideshow": {
     "slide_type": "fragment"
    }
   },
   "outputs": [
    {
     "data": {
      "image/png": "[encoded data removed]",
      "text/plain": [
       "<Figure size 432x288 with 1 Axes>"
      ]
     },
     "metadata": {
      "needs_background": "light"
     },
     "output_type": "display_data"
    }
   ],
   "source": [
    "fig = plt.figure()\n",
    "\n",
    "plt.plot(x,np.sin(x),'-')\n",
    "plt.plot(x,np.cos(x),'--')\n",
    "\n",
    "fig.savefig('plots.png')"
   ]
  },
  {
   "cell_type": "markdown",
   "metadata": {
    "colab_type": "text",
    "id": "p_GaEprjv5wr",
    "slideshow": {
     "slide_type": "slide"
    }
   },
   "source": [
    "### Creating Multiplots on Same Canvas: `subplot`\n",
    "\n"
   ]
  },
  {
   "cell_type": "code",
   "execution_count": 18,
   "metadata": {
    "colab": {},
    "colab_type": "code",
    "id": "FR-yGMJ8v5ws",
    "slideshow": {
     "slide_type": "fragment"
    }
   },
   "outputs": [],
   "source": [
    "x = np.linspace(0, 7, 15)\n",
    "y = x ** 2"
   ]
  },
  {
   "cell_type": "markdown",
   "metadata": {
    "colab": {
     "base_uri": "https://localhost:8080/",
     "height": 265
    },
    "colab_type": "code",
    "executionInfo": {
     "elapsed": 5134,
     "status": "ok",
     "timestamp": 1582011583096,
     "user": {
      "displayName": "Manasi Kattel",
      "photoUrl": "https://lh3.googleusercontent.com/a-/AAuE7mCTgx8PqszpqeRJ07EEuTfA6gZRFotonvrWEEI=s64",
      "userId": "01404412698388297287"
     },
     "user_tz": -345
    },
    "id": "I5ciAhRwv5wv",
    "outputId": "4690563e-3e14-418e-eabb-5b29d50e3c12",
    "slideshow": {
     "slide_type": "fragment"
    }
   },
   "source": [
    "```\n",
    "plt.subplot(nrows, ncols, plot_number)\n",
    "```"
   ]
  },
  {
   "cell_type": "code",
   "execution_count": 19,
   "metadata": {
    "colab": {
     "base_uri": "https://localhost:8080/",
     "height": 265
    },
    "colab_type": "code",
    "executionInfo": {
     "elapsed": 5134,
     "status": "ok",
     "timestamp": 1582011583096,
     "user": {
      "displayName": "Manasi Kattel",
      "photoUrl": "https://lh3.googleusercontent.com/a-/AAuE7mCTgx8PqszpqeRJ07EEuTfA6gZRFotonvrWEEI=s64",
      "userId": "01404412698388297287"
     },
     "user_tz": -345
    },
    "id": "I5ciAhRwv5wv",
    "outputId": "4690563e-3e14-418e-eabb-5b29d50e3c12",
    "slideshow": {
     "slide_type": "fragment"
    }
   },
   "outputs": [
    {
     "data": {
      "image/png": "[encoded data removed]",
      "text/plain": [
       "<Figure size 432x288 with 2 Axes>"
      ]
     },
     "metadata": {
      "needs_background": "light"
     },
     "output_type": "display_data"
    }
   ],
   "source": [
    "plt.subplot(1,2,1)\n",
    "plt.plot(x, y, 'r') \n",
    "\n",
    "plt.subplot(1,2,2)\n",
    "plt.plot(y, x, 'g');"
   ]
  },
  {
   "cell_type": "markdown",
   "metadata": {
    "colab_type": "text",
    "id": "MfCJFffSv5wy",
    "slideshow": {
     "slide_type": "slide"
    }
   },
   "source": [
    "### Matplotlib Object Oriented Method\n",
    "\n",
    ">Recommended\n",
    "\n",
    "The main idea in using the more formal Object Oriented method is to create figure objects and then just call methods or attributes off of that object. This approach is nicer when dealing with a canvas that has multiple plots on it. \n",
    "\n",
    "To begin we create a `figure` instance. Then we can add `axes` to that figure:"
   ]
  },
  {
   "cell_type": "markdown",
   "metadata": {
    "colab": {
     "base_uri": "https://localhost:8080/",
     "height": 269
    },
    "colab_type": "code",
    "executionInfo": {
     "elapsed": 5126,
     "status": "ok",
     "timestamp": 1582011583097,
     "user": {
      "displayName": "Manasi Kattel",
      "photoUrl": "https://lh3.googleusercontent.com/a-/AAuE7mCTgx8PqszpqeRJ07EEuTfA6gZRFotonvrWEEI=s64",
      "userId": "01404412698388297287"
     },
     "user_tz": -345
    },
    "id": "eSY4oqFkv5wz",
    "outputId": "100809cd-ca80-49cd-8019-d3de8346b49e",
    "slideshow": {
     "slide_type": "fragment"
    }
   },
   "source": [
    "```\n",
    "Create a grid of plots\n",
    "ax will be an array of two Axes objects\n",
    "Notice: subplots(nrows,ncols) not subplot\n",
    "```"
   ]
  },
  {
   "cell_type": "code",
   "execution_count": 20,
   "metadata": {
    "slideshow": {
     "slide_type": "fragment"
    }
   },
   "outputs": [
    {
     "data": {
      "image/png": "[encoded data removed]",
      "text/plain": [
       "<Figure size 432x288 with 2 Axes>"
      ]
     },
     "metadata": {
      "needs_background": "light"
     },
     "output_type": "display_data"
    }
   ],
   "source": [
    "fig,ax = plt.subplots(2)\n"
   ]
  },
  {
   "cell_type": "code",
   "execution_count": 21,
   "metadata": {
    "colab": {
     "base_uri": "https://localhost:8080/",
     "height": 282
    },
    "colab_type": "code",
    "executionInfo": {
     "elapsed": 7066,
     "status": "ok",
     "timestamp": 1582011585051,
     "user": {
      "displayName": "Manasi Kattel",
      "photoUrl": "https://lh3.googleusercontent.com/a-/AAuE7mCTgx8PqszpqeRJ07EEuTfA6gZRFotonvrWEEI=s64",
      "userId": "01404412698388297287"
     },
     "user_tz": -345
    },
    "id": "YwZYqHxXv5w4",
    "outputId": "05375493-bbb3-4ad8-fabe-b44971214dab",
    "slideshow": {
     "slide_type": "slide"
    }
   },
   "outputs": [
    {
     "data": {
      "text/plain": [
       "[<matplotlib.lines.Line2D at 0x1a22d4ed68>]"
      ]
     },
     "execution_count": 21,
     "metadata": {},
     "output_type": "execute_result"
    },
    {
     "data": {
      "image/png": "[encoded data removed]",
      "text/plain": [
       "<Figure size 504x504 with 2 Axes>"
      ]
     },
     "metadata": {
      "needs_background": "light"
     },
     "output_type": "display_data"
    }
   ],
   "source": [
    "fig,ax = plt.subplots(2, figsize=(7,7))\n",
    " \n",
    "# Call plot() method on the appropriate object\n",
    "ax[0].plot(x,np.sin(x))\n",
    "ax[1].plot(x,np.cos(x))"
   ]
  },
  {
   "cell_type": "markdown",
   "metadata": {
    "colab": {
     "base_uri": "https://localhost:8080/",
     "height": 269
    },
    "colab_type": "code",
    "executionInfo": {
     "elapsed": 5126,
     "status": "ok",
     "timestamp": 1582011583097,
     "user": {
      "displayName": "Manasi Kattel",
      "photoUrl": "https://lh3.googleusercontent.com/a-/AAuE7mCTgx8PqszpqeRJ07EEuTfA6gZRFotonvrWEEI=s64",
      "userId": "01404412698388297287"
     },
     "user_tz": -345
    },
    "id": "eSY4oqFkv5wz",
    "outputId": "100809cd-ca80-49cd-8019-d3de8346b49e",
    "slideshow": {
     "slide_type": "fragment"
    }
   },
   "source": [
    "```refer as: ax[0],ax[1]```"
   ]
  },
  {
   "cell_type": "code",
   "execution_count": 22,
   "metadata": {
    "colab": {
     "base_uri": "https://localhost:8080/",
     "height": 269
    },
    "colab_type": "code",
    "executionInfo": {
     "elapsed": 5120,
     "status": "ok",
     "timestamp": 1582011583098,
     "user": {
      "displayName": "Manasi Kattel",
      "photoUrl": "https://lh3.googleusercontent.com/a-/AAuE7mCTgx8PqszpqeRJ07EEuTfA6gZRFotonvrWEEI=s64",
      "userId": "01404412698388297287"
     },
     "user_tz": -345
    },
    "id": "qnuA_tN-v5w1",
    "outputId": "2425851f-314c-409f-d74a-2d7e6c0995ce",
    "slideshow": {
     "slide_type": "slide"
    }
   },
   "outputs": [
    {
     "data": {
      "image/png": "[encoded data removed]",
      "text/plain": [
       "<Figure size 720x720 with 4 Axes>"
      ]
     },
     "metadata": {
      "needs_background": "light"
     },
     "output_type": "display_data"
    }
   ],
   "source": [
    "fig,ax = plt.subplots(2,2, figsize=(10,10))"
   ]
  },
  {
   "cell_type": "markdown",
   "metadata": {
    "colab": {
     "base_uri": "https://localhost:8080/",
     "height": 269
    },
    "colab_type": "code",
    "executionInfo": {
     "elapsed": 5120,
     "status": "ok",
     "timestamp": 1582011583098,
     "user": {
      "displayName": "Manasi Kattel",
      "photoUrl": "https://lh3.googleusercontent.com/a-/AAuE7mCTgx8PqszpqeRJ07EEuTfA6gZRFotonvrWEEI=s64",
      "userId": "01404412698388297287"
     },
     "user_tz": -345
    },
    "id": "qnuA_tN-v5w1",
    "outputId": "2425851f-314c-409f-d74a-2d7e6c0995ce",
    "slideshow": {
     "slide_type": "fragment"
    }
   },
   "source": [
    "```Refer as: ax[0][0], ax[0][1], ax[1][0], ax[1][1]```"
   ]
  },
  {
   "cell_type": "markdown",
   "metadata": {
    "colab_type": "text",
    "id": "5lGfCcUfv5w6",
    "slideshow": {
     "slide_type": "slide"
    }
   },
   "source": [
    "###  OR : `figure` + `add_axes`"
   ]
  },
  {
   "cell_type": "code",
   "execution_count": 23,
   "metadata": {
    "colab": {},
    "colab_type": "code",
    "id": "d70QIIJav5w7",
    "slideshow": {
     "slide_type": "fragment"
    }
   },
   "outputs": [],
   "source": [
    "plt.style.use('seaborn-whitegrid')"
   ]
  },
  {
   "cell_type": "code",
   "execution_count": 31,
   "metadata": {
    "colab": {
     "base_uri": "https://localhost:8080/",
     "height": 336
    },
    "colab_type": "code",
    "executionInfo": {
     "elapsed": 7058,
     "status": "ok",
     "timestamp": 1582011585053,
     "user": {
      "displayName": "Manasi Kattel",
      "photoUrl": "https://lh3.googleusercontent.com/a-/AAuE7mCTgx8PqszpqeRJ07EEuTfA6gZRFotonvrWEEI=s64",
      "userId": "01404412698388297287"
     },
     "user_tz": -345
    },
    "id": "IX3Zl6Yev5w_",
    "outputId": "91c756f6-1c26-4d37-fc53-90507aad648e",
    "slideshow": {
     "slide_type": "fragment"
    }
   },
   "outputs": [
    {
     "data": {
      "image/png": "[encoded data removed]",
      "text/plain": [
       "<Figure size 504x504 with 1 Axes>"
      ]
     },
     "metadata": {},
     "output_type": "display_data"
    }
   ],
   "source": [
    "# Create Figure (empty canvas)\n",
    "fig = plt.figure(figsize=(7,7))\n",
    "\n",
    "# Add set of axes to figure\n",
    "ax = fig.add_axes([0,0,1,1]) # left, bottom, width, height (range 0 to 1)\n"
   ]
  },
  {
   "cell_type": "code",
   "execution_count": 34,
   "metadata": {
    "colab": {
     "base_uri": "https://localhost:8080/",
     "height": 192
    },
    "colab_type": "code",
    "executionInfo": {
     "elapsed": 7051,
     "status": "ok",
     "timestamp": 1582011585053,
     "user": {
      "displayName": "Manasi Kattel",
      "photoUrl": "https://lh3.googleusercontent.com/a-/AAuE7mCTgx8PqszpqeRJ07EEuTfA6gZRFotonvrWEEI=s64",
      "userId": "01404412698388297287"
     },
     "user_tz": -345
    },
    "id": "75XfqiCev5xB",
    "outputId": "8557b9e1-2e4f-4d18-dbc1-c4cfd85e5248",
    "slideshow": {
     "slide_type": "slide"
    }
   },
   "outputs": [
    {
     "data": {
      "image/png": "[encoded data removed]",
      "text/plain": [
       "<Figure size 504x504 with 1 Axes>"
      ]
     },
     "metadata": {},
     "output_type": "display_data"
    }
   ],
   "source": [
    "fig = plt.figure(figsize=(7,7))\n",
    "ax = fig.add_axes([0, 0, 0.5, 0.5])"
   ]
  },
  {
   "cell_type": "code",
   "execution_count": 29,
   "metadata": {
    "colab": {
     "base_uri": "https://localhost:8080/",
     "height": 336
    },
    "colab_type": "code",
    "executionInfo": {
     "elapsed": 7045,
     "status": "ok",
     "timestamp": 1582011585055,
     "user": {
      "displayName": "Manasi Kattel",
      "photoUrl": "https://lh3.googleusercontent.com/a-/AAuE7mCTgx8PqszpqeRJ07EEuTfA6gZRFotonvrWEEI=s64",
      "userId": "01404412698388297287"
     },
     "user_tz": -345
    },
    "id": "H3ykQlPzv5xE",
    "outputId": "e02ede6d-b4ff-4cef-a91f-88b3816b8f31",
    "slideshow": {
     "slide_type": "fragment"
    }
   },
   "outputs": [
    {
     "data": {
      "image/png": "[encoded data removed]",
      "text/plain": [
       "<Figure size 432x288 with 2 Axes>"
      ]
     },
     "metadata": {},
     "output_type": "display_data"
    }
   ],
   "source": [
    "fig = plt.figure()\n",
    "ax1 = fig.add_axes([0, 0, 1, 1]) #create an axes from origin\n",
    "ax2 = fig.add_axes([0.15, 0.65, 0.4, 0.3]) #create an axes from (0.15,0.65)"
   ]
  },
  {
   "cell_type": "code",
   "execution_count": 35,
   "metadata": {
    "colab": {},
    "colab_type": "code",
    "id": "FfczJgTwv5xG",
    "slideshow": {
     "slide_type": "slide"
    }
   },
   "outputs": [],
   "source": [
    "## randomly generate data using numpy to plot the graphs.\n",
    "x = np.linspace(-5, 10, 100)\n",
    "y = np.linspace(-1,1,25)"
   ]
  },
  {
   "cell_type": "code",
   "execution_count": 36,
   "metadata": {
    "colab": {
     "base_uri": "https://localhost:8080/",
     "height": 364
    },
    "colab_type": "code",
    "executionInfo": {
     "elapsed": 7037,
     "status": "ok",
     "timestamp": 1582011585056,
     "user": {
      "displayName": "Manasi Kattel",
      "photoUrl": "https://lh3.googleusercontent.com/a-/AAuE7mCTgx8PqszpqeRJ07EEuTfA6gZRFotonvrWEEI=s64",
      "userId": "01404412698388297287"
     },
     "user_tz": -345
    },
    "id": "hom4bjNzv5xK",
    "outputId": "6e0f7f5f-d41f-413e-ec5a-b6b880046021",
    "slideshow": {
     "slide_type": "fragment"
    }
   },
   "outputs": [
    {
     "data": {
      "text/plain": [
       "Text(0.5, 1.0, 'local minima at X=0')"
      ]
     },
     "execution_count": 36,
     "metadata": {},
     "output_type": "execute_result"
    },
    {
     "data": {
      "image/png": "[encoded data removed]",
      "text/plain": [
       "<Figure size 432x288 with 2 Axes>"
      ]
     },
     "metadata": {},
     "output_type": "display_data"
    }
   ],
   "source": [
    "fig = plt.figure()\n",
    "ax1 = fig.add_axes([0, 0, 1, 1])\n",
    "ax2 = fig.add_axes([0.15, 0.65, 0.4, 0.3])\n",
    "\n",
    "\n",
    "ax1.plot(x, x*np.sin(x),'g')\n",
    "# Notice: set_title not title\n",
    "ax1.set_title('Graph of X * sin(X)')\n",
    "\n",
    "\n",
    "ax2.plot(y, y*np.sin(y),'b')\n",
    "ax2.set_title('local minima at X=0')"
   ]
  },
  {
   "cell_type": "markdown",
   "metadata": {
    "slideshow": {
     "slide_type": "slide"
    }
   },
   "source": [
    "#### Common plots:\n",
    "\n",
    "* Line Plots\n",
    "* Bar Plots\n",
    "* Histograms\n",
    "* Scatter Plots\n",
    "* Pie Charts"
   ]
  },
  {
   "cell_type": "markdown",
   "metadata": {
    "colab_type": "text",
    "id": "PJKv63QZzHwa",
    "slideshow": {
     "slide_type": "slide"
    }
   },
   "source": [
    "### Bar Chart Plotting\n",
    "\n",
    "A Bar Plots helps us visualize categorical data.  \n",
    "You can create bar plots in matplotlib using the `plt.bar()` method. Let's look at an exmaple. "
   ]
  },
  {
   "cell_type": "code",
   "execution_count": 8,
   "metadata": {
    "colab": {
     "base_uri": "https://localhost:8080/",
     "height": 295
    },
    "colab_type": "code",
    "id": "zUccjcrvzHwb",
    "outputId": "951cefc5-d60f-4972-94c0-3bbaad1f5f20",
    "slideshow": {
     "slide_type": "fragment"
    }
   },
   "outputs": [
    {
     "data": {
      "image/png": "[encoded data removed]",
      "text/plain": [
       "<Figure size 432x288 with 1 Axes>"
      ]
     },
     "metadata": {
      "needs_background": "light"
     },
     "output_type": "display_data"
    }
   ],
   "source": [
    "category = ['a', 'b', 'c', 'd', 'e']\n",
    "magnitude = [5, 2, 7, 8, 2]\n",
    "\n",
    "plt.bar(category, magnitude, label= \"Data magnitudes\")\n",
    "plt.legend()\n",
    "plt.xlabel('bar name')\n",
    "plt.ylabel('bar height')\n",
    "plt.title('Bar Graph')\n",
    "plt.show()"
   ]
  },
  {
   "cell_type": "markdown",
   "metadata": {
    "colab_type": "text",
    "id": "w8Uqk_g5zHwh",
    "slideshow": {
     "slide_type": "slide"
    }
   },
   "source": [
    "### Histogram\n",
    "\n",
    "A histogram is a type of bar plot that shows the frequency distribution of a dataset. They help visualize which datapoints occur the most, and which don't. \n",
    "\n",
    "A histogram divides data into a fixed number of defined intervals called \"bins\". Each bin contains the count of the data points that fall into that bin. The bins are then plotted as vertical (or horizontal) bars where the height of the part indicated the frequency of the data in that bin. \n",
    "\n",
    "You can create a histogram in matplotlib using the `plt.hist()` method. Below is an example"
   ]
  },
  {
   "cell_type": "code",
   "execution_count": 9,
   "metadata": {
    "colab": {
     "base_uri": "https://localhost:8080/",
     "height": 312
    },
    "colab_type": "code",
    "id": "BHVEKuCIzHwj",
    "outputId": "4bff66fa-dc78-48f0-c399-49bd95b06993",
    "slideshow": {
     "slide_type": "fragment"
    }
   },
   "outputs": [
    {
     "data": {
      "text/plain": [
       "Text(0.5, 1.0, 'Histogram')"
      ]
     },
     "execution_count": 9,
     "metadata": {},
     "output_type": "execute_result"
    },
    {
     "data": {
      "image/png": "[encoded data removed]",
      "text/plain": [
       "<Figure size 432x288 with 1 Axes>"
      ]
     },
     "metadata": {
      "needs_background": "light"
     },
     "output_type": "display_data"
    }
   ],
   "source": [
    "# creating some data\n",
    "d = np.random.normal(loc=15, scale=3, size=500)\n",
    "\n",
    "#plotting\n",
    "\n",
    "plt.hist(x=d, bins='auto')\n",
    "plt.xlabel('Value')\n",
    "plt.ylabel('Frequency')\n",
    "plt.title('Histogram')\n"
   ]
  },
  {
   "cell_type": "markdown",
   "metadata": {
    "colab_type": "text",
    "id": "8yFfXlzXzHwp",
    "slideshow": {
     "slide_type": "fragment"
    }
   },
   "source": [
    "The data we've used here is 500 random samples from a normal distribution with mean 15. Because of that, you can see in the plot that most of the data centers around 15.0. Values around the edges, like 25.0 have small frequencies. \n",
    "\n"
   ]
  },
  {
   "cell_type": "markdown",
   "metadata": {
    "colab_type": "text",
    "id": "ZIhVAe7RzHwr",
    "slideshow": {
     "slide_type": "slide"
    }
   },
   "source": [
    "### Scatter Plot\n",
    "Scatter plot helps in visualizing 2 different numeric variables with the help of dots. It shows the correlation between the two vairables. \n",
    "\n",
    "Scatter plots are useful to visualize data when using machine learning techniques like regression, where x and y are continuous variables. They are also used in clustering and outlier detection.\n",
    "\n",
    "You can create scatter plots in matplotlib using the `plt.scatter()` method. \n",
    "\n",
    "\n"
   ]
  },
  {
   "cell_type": "code",
   "execution_count": 10,
   "metadata": {
    "colab": {
     "base_uri": "https://localhost:8080/",
     "height": 295
    },
    "colab_type": "code",
    "id": "CfXozOW7zHwt",
    "outputId": "93041274-2869-42de-f957-a470be9f362a",
    "slideshow": {
     "slide_type": "fragment"
    }
   },
   "outputs": [
    {
     "data": {
      "image/png": "[encoded data removed]",
      "text/plain": [
       "<Figure size 432x288 with 1 Axes>"
      ]
     },
     "metadata": {
      "needs_background": "light"
     },
     "output_type": "display_data"
    }
   ],
   "source": [
    "x = np.linspace(-20, 20, 50)\n",
    "plt.scatter(x, x**2)\n",
    "plt.title('Scatter-Plot ')\n",
    "plt.xlabel('x')\n",
    "plt.ylabel('f(x)')\n",
    "plt.show()"
   ]
  },
  {
   "cell_type": "markdown",
   "metadata": {
    "colab_type": "text",
    "id": "Xxrf4Ky9lPf0",
    "slideshow": {
     "slide_type": "fragment"
    }
   },
   "source": [
    "A common addition you can make to a scatter plot is a line showing the trend of the overall data.  \n",
    "And you can also define the sizes or colors of the dots to reflect the magnitude another property of the data. "
   ]
  },
  {
   "cell_type": "markdown",
   "metadata": {
    "colab_type": "text",
    "id": "5fCs7oi4nC2W",
    "slideshow": {
     "slide_type": "slide"
    }
   },
   "source": [
    "### Pie chart\n",
    "\n",
    "Pie chart is another very common type of plot that you most likely have already seen before. It is a circular graph divided into slices that are proportional to the quantities they represent.  \n",
    "You create pie charts in matplotlib using the `plt.pie()` method."
   ]
  },
  {
   "cell_type": "code",
   "execution_count": 11,
   "metadata": {
    "colab": {
     "base_uri": "https://localhost:8080/",
     "height": 255
    },
    "colab_type": "code",
    "id": "YvhfSpWjqmKS",
    "outputId": "2f41a79d-a209-437f-cea3-1f60f01f2344",
    "slideshow": {
     "slide_type": "fragment"
    }
   },
   "outputs": [
    {
     "data": {
      "image/png": "[encoded data removed]",
      "text/plain": [
       "<Figure size 432x288 with 1 Axes>"
      ]
     },
     "metadata": {},
     "output_type": "display_data"
    }
   ],
   "source": [
    "labels = ['Apple','Banana','Cherry','Dates','Elderberry']\n",
    "sizes = [20,10,25,25,20]\n",
    "\n",
    "plt.pie(sizes, labels=labels, autopct='%1.1f%%') #autopct adds the percentage labels to the sectors.\n",
    "plt.show()"
   ]
  },
  {
   "cell_type": "markdown",
   "metadata": {
    "colab_type": "text",
    "id": "5-_yD5z0zHxC",
    "slideshow": {
     "slide_type": "slide"
    }
   },
   "source": [
    "### Images\n",
    "\n",
    "Images are stored in computers as two dimensional arrays. Every element of the array represents a pixel. Its values range from 0 to 255, which is 0 for no intensity, and 255 for full intensity. You can use matplotlib's `plt.imshow()` method to plot these images as well. \n"
   ]
  },
  {
   "cell_type": "code",
   "execution_count": 12,
   "metadata": {
    "colab": {
     "base_uri": "https://localhost:8080/",
     "height": 422
    },
    "colab_type": "code",
    "id": "QBvjU_TqzHxD",
    "outputId": "3d1b713a-6382-47d5-f11f-8a32518a94b4",
    "slideshow": {
     "slide_type": "fragment"
    }
   },
   "outputs": [
    {
     "name": "stdout",
     "output_type": "stream",
     "text": [
      "[[ 0.  0.  5. 13.  9.  1.  0.  0.]\n",
      " [ 0.  0. 13. 15. 10. 15.  5.  0.]\n",
      " [ 0.  3. 15.  2.  0. 11.  8.  0.]\n",
      " [ 0.  4. 12.  0.  0.  8.  8.  0.]\n",
      " [ 0.  5.  8.  0.  0.  9.  8.  0.]\n",
      " [ 0.  4. 11.  0.  1. 12.  7.  0.]\n",
      " [ 0.  2. 14.  5. 10. 12.  0.  0.]\n",
      " [ 0.  0.  6. 13. 10.  0.  0.  0.]]\n"
     ]
    },
    {
     "data": {
      "text/plain": [
       "<matplotlib.image.AxesImage at 0x1a22795fd0>"
      ]
     },
     "execution_count": 12,
     "metadata": {},
     "output_type": "execute_result"
    },
    {
     "data": {
      "image/png": "[encoded data removed]",
      "text/plain": [
       "<Figure size 432x288 with 1 Axes>"
      ]
     },
     "metadata": {
      "needs_background": "light"
     },
     "output_type": "display_data"
    }
   ],
   "source": [
    "from sklearn.datasets import load_digits\n",
    "digits = load_digits()\n",
    "one_digit = digits.data[0].reshape(8,8)\n",
    "print(one_digit)\n",
    "\n",
    "plt.imshow(one_digit, cmap='gray')"
   ]
  },
  {
   "cell_type": "markdown",
   "metadata": {
    "slideshow": {
     "slide_type": "slide"
    }
   },
   "source": [
    "### How to choose which figure to use\n",
    "\n",
    "We've just discussed various types of plots. But one question still remains. Under what situations do we use all these kinds of plots? Of course it all depends on what sort of data we are plotting, and what we want to actually visualize. For example, if you want to show the values of some categorical data, a bar plot is a good way to go. But if you want to plot the frequency distribution of some data, you would go for a histogram. \n",
    "\n",
    "Similarly, there are multitudes of other plots (on top of the ones we've just discussed) that are useful for different kinds of data and for presenting different ideas. \n",
    "\n",
    "You can see a summary below. \n",
    "\n",
    "![Thought Starter](https://docs.google.com/uc?export=download&id=1vh_ZNg_geE-hzBG5w28yvSn9fAdpB0wd)\n",
    "\n"
   ]
  }
 ],
 "metadata": {
  "celltoolbar": "Slideshow",
  "colab": {
   "name": "Matplotlib Introduction.ipynb",
   "provenance": []
  },
  "kernelspec": {
   "display_name": "Python 3",
   "language": "python",
   "name": "python3"
  },
  "language_info": {
   "codemirror_mode": {
    "name": "ipython",
    "version": 3
   },
   "file_extension": ".py",
   "mimetype": "text/x-python",
   "name": "python",
   "nbconvert_exporter": "python",
   "pygments_lexer": "ipython3",
   "version": "3.7.4"
  },
  "toc": {
   "base_numbering": 1,
   "nav_menu": {},
   "number_sections": true,
   "sideBar": true,
   "skip_h1_title": false,
   "title_cell": "Table of Contents",
   "title_sidebar": "Contents",
   "toc_cell": false,
   "toc_position": {},
   "toc_section_display": true,
   "toc_window_display": false
  }
 },
 "nbformat": 4,
 "nbformat_minor": 1
}
