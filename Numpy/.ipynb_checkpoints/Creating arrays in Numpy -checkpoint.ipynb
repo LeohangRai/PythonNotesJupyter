{
 "cells": [
  {
   "cell_type": "code",
   "execution_count": 50,
   "metadata": {},
   "outputs": [
    {
     "name": "stdout",
     "output_type": "stream",
     "text": [
      "One dimensional array \n",
      " [1 2 3]\n",
      "\n",
      "Two dimensional array \n",
      " [[1 2 3]\n",
      " [4 5 6]]\n",
      "\n",
      "Another 2 dimensional array \n",
      " [[1 2 3]\n",
      " [4 5 6]\n",
      " [7 8 9]]\n",
      "\n",
      "Three dimensional array \n",
      " [[[1 2 3]\n",
      "  [4 5 6]]\n",
      "\n",
      " [[1 2 3]\n",
      "  [4 5 6]]]\n"
     ]
    }
   ],
   "source": [
    "#Creating arrays of different dimensions\n",
    "import numpy as np\n",
    "\n",
    "#One dimensional array\n",
    "arr = np.array([1,2,3])\n",
    "print(\"One dimensional array \\n\",arr)\n",
    "\n",
    "#Two dimensional array\n",
    "arr2 = np.array([(1,2,3),(4,5,6)])\n",
    "print(\"\\nTwo dimensional array \\n\", arr2)\n",
    "\n",
    "#Another two dimensional array\n",
    "arr1 = np.array([(1,2,3),(4,5,6),(7,8,9)])\n",
    "print(\"\\nAnother 2 dimensional array \\n\", arr1)\n",
    "\n",
    "#Three dimensional array\n",
    "arr3 = np.array([ [(1,2,3),(4,5,6)], [(1,2,3),(4,5,6)]  ])\n",
    "print(\"\\nThree dimensional array \\n\", arr3)"
   ]
  },
  {
   "cell_type": "code",
   "execution_count": 78,
   "metadata": {},
   "outputs": [
    {
     "name": "stdout",
     "output_type": "stream",
     "text": [
      "[[4 4 4]\n",
      " [4 4 4]\n",
      " [4 4 4]]\n",
      "\n",
      " [0 1 2 3 4 5 6 7 8 9]\n"
     ]
    }
   ],
   "source": [
    "#Other ways to create arrays\n",
    "\n",
    "#Create a 3x3 array filled with 4\n",
    "arr = np.full((3,3),4)  # the first argument takes the shape and the second arg takes the element to be placed\n",
    "print(arr)\n",
    "\n",
    "#Range in array\n",
    "#Create an array of linear sequence starting 0 and ending at 9\n",
    "arr = np.arange(0,10)\n",
    "print(\"\\n\",arr)"
   ]
  },
  {
   "cell_type": "code",
   "execution_count": 67,
   "metadata": {},
   "outputs": [
    {
     "name": "stdout",
     "output_type": "stream",
     "text": [
      "[0 0 0 0 0]\n",
      "\n",
      " [[0 0 0]\n",
      " [0 0 0]]\n",
      "\n",
      " [[[0 0 0]\n",
      "  [0 0 0]]\n",
      "\n",
      " [[0 0 0]\n",
      "  [0 0 0]]\n",
      "\n",
      " [[0 0 0]\n",
      "  [0 0 0]]]\n"
     ]
    }
   ],
   "source": [
    "#Creating arrays filled with ones and zeros\n",
    "\n",
    "#Creating array filled with 0 by only specifying the columns (1 row is taken)\n",
    "zer = np.zeros(5, dtype = np.int)  #1 row and 5 columns\n",
    "print(zer)\n",
    "\n",
    "\n",
    "#Creating array filled with 0 by specifying the rows and column num\n",
    "zer = np.zeros([2,3], dtype = np.int32) #2 rows and 3 columns\n",
    "print(\"\\n\", zer)\n",
    "\n",
    "#Creating array filled with 0 specifying the dimensions along with rows and columns\n",
    "zer = np.zeros([3,2,3], dtype = np.int) # 3 dimensions, 2 rows and 3 columns\n",
    "print('\\n', zer)"
   ]
  },
  {
   "cell_type": "code",
   "execution_count": 95,
   "metadata": {},
   "outputs": [
    {
     "name": "stdout",
     "output_type": "stream",
     "text": [
      "Random array with rows and columns specified\n",
      " [[0.50571106 0.87301432 0.1179042 ]\n",
      " [0.67738847 0.38300909 0.81699609]\n",
      " [0.53680957 0.36398374 0.35569814]]\n",
      "\n",
      "Random array with dimensions specified\n",
      " [[[0.61264681 0.86675032 0.18161783]\n",
      "  [0.67064756 0.01849988 0.98080768]\n",
      "  [0.98954442 0.74922443 0.72007383]]\n",
      "\n",
      " [[0.59723742 0.93679084 0.23924654]\n",
      "  [0.5675695  0.3284505  0.28573805]\n",
      "  [0.5516326  0.2128255  0.53861438]]\n",
      "\n",
      " [[0.58459669 0.71031021 0.94835763]\n",
      "  [0.75142992 0.22139511 0.39826602]\n",
      "  [0.44997617 0.27816223 0.71976097]]]\n",
      "\n",
      "Random array with the range of intgers specified\n",
      " [[9 0]\n",
      " [4 5]\n",
      " [0 3]]\n"
     ]
    }
   ],
   "source": [
    "#Creating arrays using random elements\n",
    "\n",
    "#Creating a random array of specified shape (rows and columns) \n",
    "arr = np.random.random((3,3))\n",
    "print(\"Random array with rows and columns specified\\n\",arr)\n",
    "\n",
    "#Same as above but with dimension too\n",
    "arr = np.random.random((3,3,3))\n",
    "print(\"\\nRandom array with dimensions specified\\n\",arr)\n",
    "\n",
    "#Creating a random array with range specified \n",
    "arr = np.random.randint(0,10,(3,2))\n",
    "print(\"\\nRandom array with the range of intgers specified\\n\",arr)"
   ]
  },
  {
   "cell_type": "code",
   "execution_count": 43,
   "metadata": {},
   "outputs": [
    {
     "name": "stdout",
     "output_type": "stream",
     "text": [
      "1\n",
      "2\n",
      "2\n",
      "3\n"
     ]
    }
   ],
   "source": [
    "#Finding out the dimension of any array\n",
    "import numpy as np\n",
    "\n",
    "arr = np.array([1,2,3])  #only a single row\n",
    "arr1 = np.array([(1,2,3),(4,5,6)])    # Two rows\n",
    "arr2 = np.array([(1,2,3),(1,3,5),(3,4,5)])  #Three rows\n",
    "arr3 = np.array([[(1,2,3),(4,5,6)],[(3,4,5),(3,4,5)]])  \n",
    "\n",
    "print(arr.ndim)\n",
    "print(arr1.ndim)\n",
    "print(arr2.ndim)\n",
    "print(arr3.ndim)"
   ]
  },
  {
   "cell_type": "code",
   "execution_count": 5,
   "metadata": {},
   "outputs": [
    {
     "name": "stdout",
     "output_type": "stream",
     "text": [
      "4\n"
     ]
    }
   ],
   "source": [
    "#Finding out the itemsize of elements in an array\n",
    "arr = np.array([1,2,3])\n",
    "\n",
    "print(arr.itemsize)\n"
   ]
  },
  {
   "cell_type": "code",
   "execution_count": 7,
   "metadata": {},
   "outputs": [
    {
     "name": "stdout",
     "output_type": "stream",
     "text": [
      "int32\n"
     ]
    }
   ],
   "source": [
    "#Finding out the data type of elements in an array\n",
    "arr = np.array([1,2,3])\n",
    "\n",
    "print(arr.dtype)\n"
   ]
  },
  {
   "cell_type": "code",
   "execution_count": 8,
   "metadata": {},
   "outputs": [
    {
     "name": "stdout",
     "output_type": "stream",
     "text": [
      "3\n",
      "6\n",
      "9\n"
     ]
    }
   ],
   "source": [
    "#Finding the size of the whole array (i.e.the number of elements in the array)\n",
    "\n",
    "arr = np.array([1,2,3])\n",
    "arr1 = np.array([(1,2,3),(4,5,6)])\n",
    "arr2 = np.array([(1,2,3),(1,3,5),(3,4,5)])\n",
    "\n",
    "print(arr.size)\n",
    "print(arr1.size)\n",
    "print(arr2.size)"
   ]
  },
  {
   "cell_type": "code",
   "execution_count": 14,
   "metadata": {},
   "outputs": [
    {
     "name": "stdout",
     "output_type": "stream",
     "text": [
      "(7,)\n",
      "(2, 3)\n",
      "(3, 3)\n",
      "(2, 3)\n"
     ]
    }
   ],
   "source": [
    "#Finding the shape of an array (i.e. the number of rows and columns)\n",
    "\n",
    "arr = np.array([1,2,3,4,5,6,7])\n",
    "arr1 = np.array([(1,2,3),(4,5,6)])\n",
    "arr2 = np.array([(1,2,3),(1,3,5),(3,4,5)])\n",
    "arr3 = np.array([(1,2,3),(1,3,5)])\n",
    "\n",
    "print(arr.shape)\n",
    "print(arr1.shape)\n",
    "print(arr2.shape)\n",
    "print(arr3.shape)"
   ]
  },
  {
   "cell_type": "code",
   "execution_count": 24,
   "metadata": {},
   "outputs": [
    {
     "name": "stdout",
     "output_type": "stream",
     "text": [
      "Inital array  [1 2 3 4 5 6 7]\n",
      "\n",
      "Reshaped array  [[1]\n",
      " [2]\n",
      " [3]\n",
      " [4]\n",
      " [5]\n",
      " [6]\n",
      " [7]]\n"
     ]
    }
   ],
   "source": [
    "#Reshaping the array (Changing rows and columns)\n",
    "\n",
    "arr = np.array([1,2,3,4,5,6,7])\n",
    "print(\"Inital array \",arr)\n",
    "arr = arr.reshape(7,1)\n",
    "print(\"\\nReshaped array \",arr)"
   ]
  },
  {
   "cell_type": "code",
   "execution_count": 32,
   "metadata": {},
   "outputs": [
    {
     "name": "stdout",
     "output_type": "stream",
     "text": [
      "Initial array \n",
      " [[1 2 3]\n",
      " [4 5 6]]\n",
      "\n",
      "Reshaped array \n",
      " [[1 2]\n",
      " [3 4]\n",
      " [5 6]]\n"
     ]
    }
   ],
   "source": [
    "#Reshaping the array (Changing rows and columns)\n",
    "arr1 = np.array([(1,2,3),(4,5,6)])\n",
    "print(\"Initial array \\n\", arr1)\n",
    "arr1 = arr1.reshape(3,2)\n",
    "print(\"\\nReshaped array \\n\", arr1)"
   ]
  },
  {
   "cell_type": "code",
   "execution_count": 36,
   "metadata": {},
   "outputs": [
    {
     "name": "stdout",
     "output_type": "stream",
     "text": [
      "[4 8]\n"
     ]
    }
   ],
   "source": [
    "#Slicing an array\n",
    "arr = np.array([(1,2,3,4),(4,5,6,8)])\n",
    "\n",
    "#Print statement to return the 3rd index value in each row\n",
    "print(arr[0:, 3])"
   ]
  },
  {
   "cell_type": "code",
   "execution_count": null,
   "metadata": {},
   "outputs": [],
   "source": []
  }
 ],
 "metadata": {
  "kernelspec": {
   "display_name": "Python 3",
   "language": "python",
   "name": "python3"
  },
  "language_info": {
   "codemirror_mode": {
    "name": "ipython",
    "version": 3
   },
   "file_extension": ".py",
   "mimetype": "text/x-python",
   "name": "python",
   "nbconvert_exporter": "python",
   "pygments_lexer": "ipython3",
   "version": "3.7.4"
  }
 },
 "nbformat": 4,
 "nbformat_minor": 2
}
