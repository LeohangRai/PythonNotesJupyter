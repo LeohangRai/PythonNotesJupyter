{
 "cells": [
  {
   "cell_type": "code",
   "execution_count": 10,
   "metadata": {},
   "outputs": [
    {
     "name": "stdout",
     "output_type": "stream",
     "text": [
      "20\n",
      "18\n",
      "6.4031242374328485\n"
     ]
    }
   ],
   "source": [
    "class Rectangle:\n",
    "    #initializer/constructor here\n",
    "    def __init__(self, length, breadth):\n",
    "        self.length = length\n",
    "        self.breadth = breadth\n",
    "        \n",
    "    \n",
    "    def get_area(self):\n",
    "        area = self.length * self.breadth\n",
    "        return area\n",
    "        \n",
    "    def get_perimeter(self):\n",
    "        perimeter = 2*(self.length + self.breadth)\n",
    "        return perimeter\n",
    "        \n",
    "    def get_diagonal_length(self):\n",
    "        diagonal_length = ((self.length**2) + (self.breadth**2)) ** 0.5\n",
    "        return float(diagonal_length)\n",
    "    \n",
    "r1= Rectangle(5,4)\n",
    "print(r1.get_area())\n",
    "print(r1.get_perimeter())\n",
    "print(r1.get_diagonal_length())"
   ]
  },
  {
   "cell_type": "code",
   "execution_count": 8,
   "metadata": {},
   "outputs": [
    {
     "name": "stdout",
     "output_type": "stream",
     "text": [
      "20\n",
      "18\n",
      "<bound method Rectangle.get_diagonal_length of <__main__.Rectangle object at 0x000001E70EF08088>>\n"
     ]
    }
   ],
   "source": [
    "class Rectangle:\n",
    "    #initializer/constructor here\n",
    "    def __init__(self, length, breadth):\n",
    "        self.length = length\n",
    "        self.breadth = breadth\n",
    "        \n",
    "    \n",
    "    def get_area(self):\n",
    "        area = self.length * self.breadth\n",
    "        return area\n",
    "        \n",
    "    def get_perimeter(self):\n",
    "        perimeter = 2*(self.length + self.breadth)\n",
    "        return perimeter\n",
    "        \n",
    "    def get_diagonal_length(self):\n",
    "        diagonal_length = ((self.length**2) + (self.breadth**2)) ** 0.5\n",
    "        return float(diagonal_length)\n",
    "    \n",
    "r1= Rectangle(5,4)\n",
    "print(r1.get_area())\n",
    "print(r1.get_perimeter())\n",
    "print(r1.get_diagonal_length)"
   ]
  },
  {
   "cell_type": "code",
   "execution_count": 8,
   "metadata": {},
   "outputs": [
    {
     "name": "stdout",
     "output_type": "stream",
     "text": [
      "Not an integer\n"
     ]
    },
    {
     "ename": "Exception",
     "evalue": "Invalid",
     "output_type": "error",
     "traceback": [
      "\u001b[1;31m---------------------------------------------------------------------------\u001b[0m",
      "\u001b[1;31mException\u001b[0m                                 Traceback (most recent call last)",
      "\u001b[1;32m<ipython-input-8-ec66d6c2d1cf>\u001b[0m in \u001b[0;36m<module>\u001b[1;34m\u001b[0m\n\u001b[0;32m      9\u001b[0m \u001b[1;33m\u001b[0m\u001b[0m\n\u001b[0;32m     10\u001b[0m \u001b[1;33m\u001b[0m\u001b[0m\n\u001b[1;32m---> 11\u001b[1;33m \u001b[0mtest_positive_int\u001b[0m\u001b[1;33m(\u001b[0m\u001b[1;34m'g'\u001b[0m\u001b[1;33m)\u001b[0m\u001b[1;33m\u001b[0m\u001b[1;33m\u001b[0m\u001b[0m\n\u001b[0m",
      "\u001b[1;32m<ipython-input-8-ec66d6c2d1cf>\u001b[0m in \u001b[0;36mtest_positive_int\u001b[1;34m(x)\u001b[0m\n\u001b[0;32m      6\u001b[0m         \u001b[0mprint\u001b[0m\u001b[1;33m(\u001b[0m\u001b[1;34m\"Not an integer\"\u001b[0m\u001b[1;33m)\u001b[0m\u001b[1;33m\u001b[0m\u001b[1;33m\u001b[0m\u001b[0m\n\u001b[0;32m      7\u001b[0m \u001b[1;33m\u001b[0m\u001b[0m\n\u001b[1;32m----> 8\u001b[1;33m     \u001b[1;32mraise\u001b[0m \u001b[0mException\u001b[0m\u001b[1;33m(\u001b[0m\u001b[1;34m\"Invalid\"\u001b[0m\u001b[1;33m)\u001b[0m\u001b[1;33m\u001b[0m\u001b[1;33m\u001b[0m\u001b[0m\n\u001b[0m\u001b[0;32m      9\u001b[0m \u001b[1;33m\u001b[0m\u001b[0m\n\u001b[0;32m     10\u001b[0m \u001b[1;33m\u001b[0m\u001b[0m\n",
      "\u001b[1;31mException\u001b[0m: Invalid"
     ]
    }
   ],
   "source": [
    "def test_positive_int(x):\n",
    "    try:\n",
    "        if int(x) > 0:\n",
    "            return int(x)\n",
    "        \n",
    "    except ValueError:\n",
    "        print(\"Not an integer\")\n",
    "        \n",
    "    raise Exception(\"Invalid\")\n",
    "    \n",
    "    \n",
    "test_positive_int('g')"
   ]
  },
  {
   "cell_type": "code",
   "execution_count": null,
   "metadata": {},
   "outputs": [],
   "source": []
  }
 ],
 "metadata": {
  "kernelspec": {
   "display_name": "Python 3",
   "language": "python",
   "name": "python3"
  },
  "language_info": {
   "codemirror_mode": {
    "name": "ipython",
    "version": 3
   },
   "file_extension": ".py",
   "mimetype": "text/x-python",
   "name": "python",
   "nbconvert_exporter": "python",
   "pygments_lexer": "ipython3",
   "version": "3.7.4"
  }
 },
 "nbformat": 4,
 "nbformat_minor": 2
}
