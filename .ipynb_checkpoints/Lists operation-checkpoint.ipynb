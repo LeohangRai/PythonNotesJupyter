{
 "cells": [
  {
   "cell_type": "code",
   "execution_count": 3,
   "metadata": {},
   "outputs": [
    {
     "name": "stdout",
     "output_type": "stream",
     "text": [
      "[1, 11, 4, 6]\n",
      "[1, 11, 4, 6, 8]\n"
     ]
    }
   ],
   "source": [
    "#Slicing in List\n",
    "li = [1, 2, 11, 3, 4, 5, 6, 7, 8]\n",
    "print(li[0:-1:2])  #Prints the list items from 0 to second last by 2 steps per index increment\n",
    "print(li[::2])"
   ]
  },
  {
   "cell_type": "code",
   "execution_count": 5,
   "metadata": {},
   "outputs": [
    {
     "name": "stdout",
     "output_type": "stream",
     "text": [
      "[8, 7, 6, 5, 4, 3, 11, 2, 1]\n"
     ]
    }
   ],
   "source": [
    "#Reversing a list\n",
    "li = [1, 2, 11, 3, 4, 5, 6, 7, 8]\n",
    "print(li[::-1])"
   ]
  },
  {
   "cell_type": "code",
   "execution_count": 9,
   "metadata": {},
   "outputs": [
    {
     "name": "stdout",
     "output_type": "stream",
     "text": [
      "[1, 3.14, 'Shizen', False]\n"
     ]
    }
   ],
   "source": [
    "#Replacing items in Lists\n",
    "li = [1,3.14, \"Leo\", True]\n",
    "li[2:4]= [\"Shizen\", False]\n",
    "print(li)"
   ]
  },
  {
   "cell_type": "code",
   "execution_count": 17,
   "metadata": {},
   "outputs": [
    {
     "name": "stdout",
     "output_type": "stream",
     "text": [
      "[1, 3.14, 'Shizen', 'Leo', True]\n",
      "At index 2:  Shizen\n",
      "At index 3:  Leo\n"
     ]
    }
   ],
   "source": [
    "#Inserting items without replacing\n",
    "li = [1,3.14, \"Leo\", True]\n",
    "li[2:2]= [\"Shizen\"]   #will insert \"Shizen\" at index 2 and place the original item(\"Leo\") to index 3\n",
    "print(li)\n",
    "print(\"At index 2: \",li[2])\n",
    "print(\"At index 3: \",li[3])\n",
    "#Note: Multiple items can be added too."
   ]
  },
  {
   "cell_type": "code",
   "execution_count": 22,
   "metadata": {},
   "outputs": [
    {
     "name": "stdout",
     "output_type": "stream",
     "text": [
      "[1, 3.14, 'Shizen', 'Leo', True]\n"
     ]
    }
   ],
   "source": [
    "#Inserting using the insert() function\n",
    "li = [1,3.14, \"Leo\", True]\n",
    "li.insert(2,\"Shizen\") #will insert \"Shizen\" at the index 2\n",
    "print(li)"
   ]
  },
  {
   "cell_type": "code",
   "execution_count": 23,
   "metadata": {},
   "outputs": [
    {
     "name": "stdout",
     "output_type": "stream",
     "text": [
      "[1, 2, 3, 4, 5, 6, 7, 8]\n"
     ]
    }
   ],
   "source": [
    "#Inserting a new list at the end of an original list\n",
    "li = [1,2,3,4]\n",
    "li = li + [5,6,7,8]\n",
    "print(li)"
   ]
  },
  {
   "cell_type": "code",
   "execution_count": 30,
   "metadata": {},
   "outputs": [
    {
     "name": "stdout",
     "output_type": "stream",
     "text": [
      "[1, 3.14]\n"
     ]
    }
   ],
   "source": [
    "li = [1,3.14, \"Leo\", True]\n",
    "li.pop(3)  #will pop the item at index 3 i.e. True\n",
    "li.remove(\"Leo\")  #will remote the item \"Leo\"\n",
    "print(li)"
   ]
  },
  {
   "cell_type": "code",
   "execution_count": 3,
   "metadata": {},
   "outputs": [
    {
     "name": "stdout",
     "output_type": "stream",
     "text": [
      "True\n",
      "False\n"
     ]
    }
   ],
   "source": [
    "#Checking whether there is an iterm in the list or not\n",
    "li = [1,3.14, \"Leo\", True]\n",
    "print(True in li)\n",
    "print(\"Leo\" not in li)\n",
    "    "
   ]
  },
  {
   "cell_type": "code",
   "execution_count": 9,
   "metadata": {},
   "outputs": [
    {
     "name": "stdout",
     "output_type": "stream",
     "text": [
      "[['a', 'b'], ['c', 'd']]\n",
      "['a', 'b']\n",
      "a\n",
      "[['e', 'f'], ['g', 'h']]\n",
      "['g', 'h']\n",
      "h\n"
     ]
    }
   ],
   "source": [
    "#Multi-Dimensional Lists\n",
    "li = [[['a','b'],['c','d']],[['e','f'],['g','h']]]\n",
    "print(li[0])\n",
    "print(li[0][0])\n",
    "print(li[0][0][0]) #nested inside the nested, in the main(parent) list\n",
    "\n",
    "print(li[1])\n",
    "print(li[1][1])\n",
    "print(li[1][1][1])  #nested inside the nested in the main(parent) list"
   ]
  },
  {
   "cell_type": "code",
   "execution_count": 24,
   "metadata": {
    "scrolled": true
   },
   "outputs": [
    {
     "name": "stdout",
     "output_type": "stream",
     "text": [
      "1\n",
      "11\n",
      "a\n",
      "z\n"
     ]
    }
   ],
   "source": [
    "#Checking the min and max valued item in the list\n",
    "li = [1, 2, 11, 3, 4, 5, 6, 7, 8]\n",
    "print(min(li))\n",
    "print(max(li))\n",
    "li2 = ['a','b','z','c','d','e','f']\n",
    "print(min(li2))\n",
    "print(max(li2))"
   ]
  },
  {
   "cell_type": "code",
   "execution_count": 13,
   "metadata": {},
   "outputs": [
    {
     "name": "stdout",
     "output_type": "stream",
     "text": [
      "[0, 1, 3, 4, 6, 10, 32]\n",
      "['a', 'f', 'h', 'p', 'r', 'y']\n"
     ]
    }
   ],
   "source": [
    "#Sorting a list:\n",
    "lis = [10,3,4,6,0,32,1]\n",
    "lis.sort()\n",
    "print(lis)\n",
    "lis2 = ['f','a','r','h','y','p']\n",
    "lis2.sort()\n",
    "print(lis2)"
   ]
  },
  {
   "cell_type": "code",
   "execution_count": 14,
   "metadata": {},
   "outputs": [
    {
     "name": "stdout",
     "output_type": "stream",
     "text": [
      "None\n"
     ]
    }
   ],
   "source": [
    "lis2 = ['f','a','r','h','y','p']\n",
    "var = lis2.sort()\n",
    "print(var)"
   ]
  },
  {
   "cell_type": "code",
   "execution_count": 18,
   "metadata": {},
   "outputs": [
    {
     "name": "stdout",
     "output_type": "stream",
     "text": [
      "Help on built-in function sorted in module builtins:\n",
      "\n",
      "sorted(iterable, /, *, key=None, reverse=False)\n",
      "    Return a new list containing all items from the iterable in ascending order.\n",
      "    \n",
      "    A custom key function can be supplied to customize the sort order, and the\n",
      "    reverse flag can be set to request the result in descending order.\n",
      "\n"
     ]
    }
   ],
   "source": [
    "help(sorted)"
   ]
  },
  {
   "cell_type": "code",
   "execution_count": null,
   "metadata": {},
   "outputs": [],
   "source": []
  }
 ],
 "metadata": {
  "kernelspec": {
   "display_name": "Python 3",
   "language": "python",
   "name": "python3"
  },
  "language_info": {
   "codemirror_mode": {
    "name": "ipython",
    "version": 3
   },
   "file_extension": ".py",
   "mimetype": "text/x-python",
   "name": "python",
   "nbconvert_exporter": "python",
   "pygments_lexer": "ipython3",
   "version": "3.7.4"
  }
 },
 "nbformat": 4,
 "nbformat_minor": 2
}
