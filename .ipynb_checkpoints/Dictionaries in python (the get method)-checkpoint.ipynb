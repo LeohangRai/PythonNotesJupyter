{
 "cells": [
  {
   "cell_type": "markdown",
   "metadata": {},
   "source": [
    "### The get() method in python dictionaries\n",
    "While looking for the values in a dictionary using the keys, sometimes the key we enter may not exist:\n",
    "\n",
    "dict_name['key_that_dont_exist']\n",
    "\n",
    "This will throw a key error.\n",
    "\n",
    "\n",
    "So, to avoid this we can use the get method of the dict() obj.\n",
    "dict_name.get('key', default_value)\n",
    "\n",
    "default value is the value that will be returned if the key doesn't exist in the dictionary.\n",
    "\n",
    "Example:\n",
    "di = {'a':1, 'b':2, 'c':3}\n",
    "\n",
    "print(di.get('a'))     \t---> 1\n",
    "print(di.get('e', 0))  \t---> 0\n",
    "\n",
    "NOTE: The main benefit of this method is that it doesn't throw a traceback whether the key exists or not.\n",
    "\n",
    "The internal structure is:\n",
    "My own hypothesis:\n",
    "<PRE>\n",
    "def get(key, default):\n",
    "    if key in di.keys():\n",
    "        return di[key]\n",
    "    else: \n",
    "        return default\t\n"
   ]
  },
  {
   "cell_type": "markdown",
   "metadata": {},
   "source": [
    "### Example"
   ]
  },
  {
   "cell_type": "code",
   "execution_count": 1,
   "metadata": {},
   "outputs": [
    {
     "name": "stdout",
     "output_type": "stream",
     "text": [
      "1\n"
     ]
    },
    {
     "data": {
      "text/plain": [
       "0"
      ]
     },
     "execution_count": 1,
     "metadata": {},
     "output_type": "execute_result"
    }
   ],
   "source": [
    "di = {'a':1, 'b':2, 'c':3}\n",
    "\n",
    "print(di.get('a'))\n",
    "di.get('e', 0)"
   ]
  },
  {
   "cell_type": "code",
   "execution_count": null,
   "metadata": {},
   "outputs": [],
   "source": []
  }
 ],
 "metadata": {
  "kernelspec": {
   "display_name": "Python 3",
   "language": "python",
   "name": "python3"
  },
  "language_info": {
   "codemirror_mode": {
    "name": "ipython",
    "version": 3
   },
   "file_extension": ".py",
   "mimetype": "text/x-python",
   "name": "python",
   "nbconvert_exporter": "python",
   "pygments_lexer": "ipython3",
   "version": "3.7.4"
  }
 },
 "nbformat": 4,
 "nbformat_minor": 2
}
