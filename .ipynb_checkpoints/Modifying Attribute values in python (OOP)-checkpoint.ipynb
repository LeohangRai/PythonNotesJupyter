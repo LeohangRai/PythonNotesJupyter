{
 "cells": [
  {
   "cell_type": "code",
   "execution_count": 6,
   "metadata": {},
   "outputs": [],
   "source": [
    "#Class and function definition\n",
    "class Car():        \n",
    "    def __init__(self, make, model, year):        \n",
    "        \"\"\"Initialize attributes to describe a car.\"\"\"        \n",
    "        self.make = make        \n",
    "        self.model = model        \n",
    "        self.year = year         \n",
    "        self.odometer_reading = 0   \n",
    "        \n",
    "    def get_descriptive_name(self):        \n",
    "        \"\"\"Return a neatly formatted descriptive name.\"\"\"        \n",
    "        long_name = str(self.year) + ' ' + self.make + ' ' + self.model        \n",
    "        return long_name.title()   \n",
    "        \n",
    "    def read_odometer(self):        \n",
    "        \"\"\"Print a statement showing the car's mileage.\"\"\"        \n",
    "        print(\"This car has \" + str(self.odometer_reading) + \" miles on it.\") \n",
    "        \n",
    "        "
   ]
  },
  {
   "cell_type": "code",
   "execution_count": 7,
   "metadata": {},
   "outputs": [
    {
     "name": "stdout",
     "output_type": "stream",
     "text": [
      "2016 Audi A4\n"
     ]
    }
   ],
   "source": [
    "#Object initialization\n",
    "my_new_car = Car('audi', 'a4', 2016) \n",
    "print(my_new_car.get_descriptive_name())\n"
   ]
  },
  {
   "cell_type": "code",
   "execution_count": 8,
   "metadata": {},
   "outputs": [
    {
     "name": "stdout",
     "output_type": "stream",
     "text": [
      "This car has 23 miles on it.\n"
     ]
    }
   ],
   "source": [
    "#Modifying an attribute's value directly (Through an instance)\n",
    "my_new_car.odometer_reading = 23  #my_new_car is an obj and odometer_reading is the value\n",
    "my_new_car.read_odometer()\n"
   ]
  },
  {
   "cell_type": "code",
   "execution_count": 13,
   "metadata": {},
   "outputs": [
    {
     "data": {
      "text/plain": [
       "45"
      ]
     },
     "execution_count": 13,
     "metadata": {},
     "output_type": "execute_result"
    }
   ],
   "source": [
    "#Modifying an attribute's value through a method\n",
    "class Car():        \n",
    " \n",
    "    def __init__(self, make, model, year):        \n",
    "        \"\"\"Initialize attributes to describe a car.\"\"\"         \n",
    "        self.odometer_reading = 0   \n",
    "    def update_odometer(self, mileage):\n",
    "        \"\"\"Set the odometer reading to the given value\"\"\"\n",
    "        self.odometer_reading = mileage\n",
    "\n",
    "my_new_car = Car('audi', 'a4', 2016)\n",
    "my_new_car.update_odometer(45)\n",
    "my_new_car.odometer_reading"
   ]
  },
  {
   "cell_type": "code",
   "execution_count": null,
   "metadata": {},
   "outputs": [],
   "source": []
  }
 ],
 "metadata": {
  "kernelspec": {
   "display_name": "Python 3",
   "language": "python",
   "name": "python3"
  },
  "language_info": {
   "codemirror_mode": {
    "name": "ipython",
    "version": 3
   },
   "file_extension": ".py",
   "mimetype": "text/x-python",
   "name": "python",
   "nbconvert_exporter": "python",
   "pygments_lexer": "ipython3",
   "version": "3.7.4"
  }
 },
 "nbformat": 4,
 "nbformat_minor": 2
}
