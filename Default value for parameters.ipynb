{
 "cells": [
  {
   "cell_type": "code",
   "execution_count": 5,
   "metadata": {},
   "outputs": [
    {
     "name": "stdout",
     "output_type": "stream",
     "text": [
      "I have a dog.\n",
      "My dog's name is Willie.\n"
     ]
    }
   ],
   "source": [
    "#A normal function without any default values for parameters\n",
    "#Calling the function with positional arguments\n",
    "def describe_pet(animal_type, pet_name):\n",
    "    print(\"I have a \"+animal_type+\".\")\n",
    "    print(\"My \"+animal_type+\"'s name is \"+pet_name.title()+\".\")\n",
    "    \n",
    "describe_pet('dog','Willie')"
   ]
  },
  {
   "cell_type": "code",
   "execution_count": 6,
   "metadata": {},
   "outputs": [
    {
     "name": "stdout",
     "output_type": "stream",
     "text": [
      "I have a dog.\n",
      "My dog's name is Willie.\n"
     ]
    }
   ],
   "source": [
    "#A normal function without any default values for parameters\n",
    "#Calling the function with keyword arguments\n",
    "def describe_pet(animal_type, pet_name):\n",
    "    print(\"I have a \"+animal_type+\".\")\n",
    "    print(\"My \"+animal_type+\"'s name is \"+pet_name.title()+\".\")\n",
    "    \n",
    "describe_pet(pet_name = 'Willie', animal_type = 'dog')"
   ]
  },
  {
   "cell_type": "code",
   "execution_count": 17,
   "metadata": {},
   "outputs": [
    {
     "name": "stdout",
     "output_type": "stream",
     "text": [
      "My name is Leo\n",
      "I have a dog.\n",
      "My dog's name is Snow.\n"
     ]
    }
   ],
   "source": [
    "#A function with default values.\n",
    "def describe_pet(user, pet_name, animal_type = 'dog'):\n",
    "    print(\"My name is \" + user.title())    \n",
    "    print(\"I have a \" + animal_type+\".\")\n",
    "    print(\"My \" + animal_type + \"'s name is \" + pet_name.title() + \".\")\n",
    "    \n",
    "describe_pet('Leo', 'Snow')"
   ]
  },
  {
   "cell_type": "code",
   "execution_count": null,
   "metadata": {},
   "outputs": [],
   "source": [
    "#Equivalent ways to call a function\n",
    "def describe_pet(pet_name, animal_type = 'dog'):\n",
    "    print(\"I have a \"+animal_type+\".\")\n",
    "    print(\"My \"+animal_type+\"'s name is \"+pet_name.title()+\".\")\n",
    "\n",
    "\n"
   ]
  }
 ],
 "metadata": {
  "kernelspec": {
   "display_name": "Python 3",
   "language": "python",
   "name": "python3"
  },
  "language_info": {
   "codemirror_mode": {
    "name": "ipython",
    "version": 3
   },
   "file_extension": ".py",
   "mimetype": "text/x-python",
   "name": "python",
   "nbconvert_exporter": "python",
   "pygments_lexer": "ipython3",
   "version": "3.7.4"
  }
 },
 "nbformat": 4,
 "nbformat_minor": 2
}
