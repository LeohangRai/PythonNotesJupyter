{
 "cells": [
  {
   "cell_type": "code",
   "execution_count": 3,
   "metadata": {},
   "outputs": [
    {
     "name": "stdout",
     "output_type": "stream",
     "text": [
      "[1 2 3]\n"
     ]
    }
   ],
   "source": [
    "#One dimensional array\n",
    "import numpy as np\n",
    "a = np.array([1,2,3])\n",
    "print(a)"
   ]
  },
  {
   "cell_type": "code",
   "execution_count": 5,
   "metadata": {},
   "outputs": [
    {
     "name": "stdout",
     "output_type": "stream",
     "text": [
      "[[1 2 3]\n",
      " [4 5 6]]\n"
     ]
    }
   ],
   "source": [
    "#Two dimensional array\n",
    "b = np.array([(1,2,3),(4,5,6)])\n",
    "print(b)"
   ]
  },
  {
   "cell_type": "code",
   "execution_count": 9,
   "metadata": {},
   "outputs": [
    {
     "name": "stdout",
     "output_type": "stream",
     "text": [
      "28000\n",
      "4000\n"
     ]
    }
   ],
   "source": [
    "#Proof that numpy consumes less space than list\n",
    "import numpy as np\n",
    "\n",
    "import time \n",
    "\n",
    "import sys\n",
    "\n",
    "lis = range(1000) #List of the range\n",
    "\n",
    "arr = np.arange(1000) #Array of the same range\n",
    "\n",
    "#Code for calculating size:\n",
    "\n",
    "#This will print the size of the list 's'\n",
    "#The size of any integer is same\n",
    "\n",
    "print(sys.getsizeof(6)*len(lis))  #multiply the size of int with the list's length\n",
    "\n",
    "print(arr.size*arr.itemsize)  #Array size into size of each item, I guess (Since one array can have only one time of data)        \n"
   ]
  },
  {
   "cell_type": "code",
   "execution_count": 11,
   "metadata": {},
   "outputs": [
    {
     "name": "stdout",
     "output_type": "stream",
     "text": [
      "2966.2609100341797\n",
      "0.0\n"
     ]
    }
   ],
   "source": [
    "#Proof that numpy is faster than list\n",
    "\n",
    "import numpy as np\n",
    "\n",
    "import time\n",
    "\n",
    "import sys\n",
    "\n",
    "size = 100000\n",
    "\n",
    "lis1 = range(size)\n",
    "lis2 = range(size)\n",
    "\n",
    "arr1 = np.arange(size)\n",
    "arr2 = np.arange(size)\n",
    "\n",
    "\n",
    "#Calculating the time taken to add the elements of two lists\n",
    "start = time.time()\n",
    "listsum = [x+y for x,y in zip(lis1,lis2)]\n",
    "total_time = time.time() - start\n",
    "print(total_time * 100000)\n",
    "\n",
    "\n",
    "#Calculating the time taken to add the elements of two arrays\n",
    "start2 = time.time()\n",
    "arrsum = arr1 + arr2\n",
    "total_time2 = time.time() - start2 \n",
    "print(total_time2 * 100000)"
   ]
  },
  {
   "cell_type": "code",
   "execution_count": 12,
   "metadata": {},
   "outputs": [
    {
     "name": "stdout",
     "output_type": "stream",
     "text": [
      "[0, 2, 4, 6, 8, 10, 12, 14, 16, 18, 20, 22, 24, 26, 28, 30, 32, 34, 36, 38, 40, 42, 44, 46, 48, 50, 52, 54, 56, 58, 60, 62, 64, 66, 68, 70, 72, 74, 76, 78, 80, 82, 84, 86, 88, 90, 92, 94, 96, 98, 100, 102, 104, 106, 108, 110, 112, 114, 116, 118, 120, 122, 124, 126, 128, 130, 132, 134, 136, 138, 140, 142, 144, 146, 148, 150, 152, 154, 156, 158, 160, 162, 164, 166, 168, 170, 172, 174, 176, 178, 180, 182, 184, 186, 188, 190, 192, 194, 196, 198]\n"
     ]
    }
   ],
   "source": [
    "#Method to add two lists\n",
    "size = 100\n",
    "\n",
    "lis1 = range(size)\n",
    "lis2 = range(size)\n",
    "listsum = [x+y for x,y in zip(lis1,lis2)]\n",
    "print(listsum)"
   ]
  },
  {
   "cell_type": "code",
   "execution_count": 13,
   "metadata": {},
   "outputs": [
    {
     "name": "stdout",
     "output_type": "stream",
     "text": [
      "[     0      2      4 ... 199994 199996 199998]\n"
     ]
    }
   ],
   "source": [
    "#Method to add two arrays\n",
    "size = 100000\n",
    "arr1 = np.arange(size)\n",
    "arr2 = np.arange(size)\n",
    "\n",
    "arrsum = arr1 + arr2\n",
    "print(arrsum)"
   ]
  },
  {
   "cell_type": "code",
   "execution_count": null,
   "metadata": {},
   "outputs": [],
   "source": []
  }
 ],
 "metadata": {
  "kernelspec": {
   "display_name": "Python 3",
   "language": "python",
   "name": "python3"
  },
  "language_info": {
   "codemirror_mode": {
    "name": "ipython",
    "version": 3
   },
   "file_extension": ".py",
   "mimetype": "text/x-python",
   "name": "python",
   "nbconvert_exporter": "python",
   "pygments_lexer": "ipython3",
   "version": "3.7.4"
  }
 },
 "nbformat": 4,
 "nbformat_minor": 2
}
