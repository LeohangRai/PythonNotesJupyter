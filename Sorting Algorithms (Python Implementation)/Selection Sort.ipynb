{
 "cells": [
  {
   "cell_type": "code",
   "execution_count": 8,
   "metadata": {},
   "outputs": [
    {
     "name": "stdout",
     "output_type": "stream",
     "text": [
      "['a', 'c', 'd']\n",
      "[0, 1, 2, 3, 5, 6]\n"
     ]
    }
   ],
   "source": [
    "def SelectionSort(arr):\n",
    "    #Looping through the whole array\n",
    "    for i in range(0,len(arr)-1):\n",
    "        iMin = i\n",
    "        #Looping through the unsorted part\n",
    "        for j in range(i+1,len(arr)):\n",
    "            #If any element in the unsorted part is less than the first element in the unsorted part\n",
    "            #set iMin = index of the lowest element found so far \n",
    "            if arr[j] < arr[iMin]:  \n",
    "                iMin = j\n",
    "        #Swapping        \n",
    "        arr[i], arr[iMin] = arr[iMin], arr[i]\n",
    "    return arr\n",
    "        \n",
    "my_arr = ['c','a','d']\n",
    "my_arr2 = [3,1,6,5,2,0]\n",
    "print(SelectionSort(my_arr))\n",
    "print(SelectionSort(my_arr2))"
   ]
  }
 ],
 "metadata": {
  "kernelspec": {
   "display_name": "Python 3",
   "language": "python",
   "name": "python3"
  },
  "language_info": {
   "codemirror_mode": {
    "name": "ipython",
    "version": 3
   },
   "file_extension": ".py",
   "mimetype": "text/x-python",
   "name": "python",
   "nbconvert_exporter": "python",
   "pygments_lexer": "ipython3",
   "version": "3.8.3"
  }
 },
 "nbformat": 4,
 "nbformat_minor": 4
}
