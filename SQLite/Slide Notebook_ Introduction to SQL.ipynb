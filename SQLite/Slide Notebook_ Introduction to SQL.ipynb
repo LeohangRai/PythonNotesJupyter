{
 "cells": [
  {
   "cell_type": "markdown",
   "metadata": {
    "colab_type": "text",
    "id": "CD8c1Ph26KDI",
    "slideshow": {
     "slide_type": "slide"
    }
   },
   "source": [
    "## Recall: Fuse AI Database\n",
    "\n",
    "\n",
    "![FuseAI Database](https://drive.google.com/uc?export=view&id=1u-sN7Rcxmf0ea0gEWw5GVMZW4XglZqqJ)"
   ]
  },
  {
   "cell_type": "markdown",
   "metadata": {
    "colab_type": "text",
    "id": "EMqwm_ow1upu",
    "slideshow": {
     "slide_type": "slide"
    }
   },
   "source": [
    "#### Connecting to Sqlite Database"
   ]
  },
  {
   "cell_type": "code",
   "execution_count": 1,
   "metadata": {
    "colab": {},
    "colab_type": "code",
    "id": "FitABL_tnou_",
    "slideshow": {
     "slide_type": "fragment"
    }
   },
   "outputs": [],
   "source": [
    "%load_ext sql"
   ]
  },
  {
   "cell_type": "code",
   "execution_count": 2,
   "metadata": {
    "colab": {
     "base_uri": "https://localhost:8080/",
     "height": 35
    },
    "colab_type": "code",
    "executionInfo": {
     "elapsed": 740,
     "status": "ok",
     "timestamp": 1575293034119,
     "user": {
      "displayName": "Rosy Shrestha",
      "photoUrl": "https://lh5.googleusercontent.com/-2vZbOLKurdw/AAAAAAAAAAI/AAAAAAAAADE/f6PApdZyb_4/s64/photo.jpg",
      "userId": "08154866243064800637"
     },
     "user_tz": -345
    },
    "id": "9wyeHz7qnrZP",
    "outputId": "e562fa8a-8903-4fa8-ebe0-e6a36c65c65f",
    "slideshow": {
     "slide_type": "fragment"
    }
   },
   "outputs": [
    {
     "data": {
      "text/plain": [
       "'Connected: @None'"
      ]
     },
     "execution_count": 2,
     "metadata": {},
     "output_type": "execute_result"
    }
   ],
   "source": [
    "%sql sqlite://"
   ]
  },
  {
   "cell_type": "markdown",
   "metadata": {
    "colab_type": "text",
    "id": "g3LfquN911R8",
    "slideshow": {
     "slide_type": "slide"
    }
   },
   "source": [
    "#### Minor Differences between sqlite and SQL\n",
    "```\n",
    "* INT  ->  INTEGER\n",
    "* auto_increment -> AUTOINCREMENT\n",
    "```"
   ]
  },
  {
   "cell_type": "markdown",
   "metadata": {
    "colab_type": "text",
    "id": "dDZtOkMuEIYw",
    "slideshow": {
     "slide_type": "slide"
    }
   },
   "source": [
    "#### Create Table\n",
    "\n",
    "**Syntax**\n",
    "\n",
    "```\n",
    "create table <relation_name>(\n",
    "\t<attribute_name>\t<data_type>\t<integrity_constraint>\n",
    "\t<attribute_name>\t<data_type>\t<integrity_constraint>\n",
    "\t<attribute_name>\t<data_type>\t<integrity_constraint>\n",
    "\t<integrity_constraint>\n",
    ");\n",
    "```"
   ]
  },
  {
   "cell_type": "markdown",
   "metadata": {
    "colab_type": "text",
    "id": "2mvv8Rx33zAY",
    "slideshow": {
     "slide_type": "slide"
    }
   },
   "source": [
    "<br/>\n",
    "\n",
    "> Create `Student` table"
   ]
  },
  {
   "cell_type": "code",
   "execution_count": 4,
   "metadata": {
    "colab": {
     "base_uri": "https://localhost:8080/",
     "height": 69
    },
    "colab_type": "code",
    "executionInfo": {
     "elapsed": 1091,
     "status": "ok",
     "timestamp": 1575293039264,
     "user": {
      "displayName": "Rosy Shrestha",
      "photoUrl": "https://lh5.googleusercontent.com/-2vZbOLKurdw/AAAAAAAAAAI/AAAAAAAAADE/f6PApdZyb_4/s64/photo.jpg",
      "userId": "08154866243064800637"
     },
     "user_tz": -345
    },
    "id": "Yhvpll9gnDqQ",
    "outputId": "ce9271ec-d8ae-4f21-e1a4-fc12a5bbfb67",
    "slideshow": {
     "slide_type": "fragment"
    }
   },
   "outputs": [
    {
     "name": "stdout",
     "output_type": "stream",
     "text": [
      " * sqlite://\n",
      "Done.\n"
     ]
    },
    {
     "data": {
      "text/plain": [
       "[]"
      ]
     },
     "execution_count": 4,
     "metadata": {},
     "output_type": "execute_result"
    }
   ],
   "source": [
    "%%sql\n",
    "CREATE TABLE student(\n",
    "    student_id INTEGER PRIMARY KEY AUTOINCREMENT,\n",
    "    student_name VARCHAR(50) NOT NULL,\n",
    "    student_email VARCHAR(50),\n",
    "    student_contact VARCHAR(15)\n",
    ");"
   ]
  },
  {
   "cell_type": "markdown",
   "metadata": {
    "colab_type": "text",
    "id": "haUH7bp534S0",
    "slideshow": {
     "slide_type": "slide"
    }
   },
   "source": [
    "<br/>\n",
    "\n",
    "> Create `Course` table"
   ]
  },
  {
   "cell_type": "code",
   "execution_count": 6,
   "metadata": {
    "colab": {
     "base_uri": "https://localhost:8080/",
     "height": 69
    },
    "colab_type": "code",
    "executionInfo": {
     "elapsed": 1274,
     "status": "ok",
     "timestamp": 1575293042249,
     "user": {
      "displayName": "Rosy Shrestha",
      "photoUrl": "https://lh5.googleusercontent.com/-2vZbOLKurdw/AAAAAAAAAAI/AAAAAAAAADE/f6PApdZyb_4/s64/photo.jpg",
      "userId": "08154866243064800637"
     },
     "user_tz": -345
    },
    "id": "6Uz4gcKgn5eB",
    "outputId": "bd0758a2-f0ff-4d63-c953-0a799008a1b2",
    "slideshow": {
     "slide_type": "fragment"
    }
   },
   "outputs": [
    {
     "name": "stdout",
     "output_type": "stream",
     "text": [
      " * sqlite://\n",
      "Done.\n"
     ]
    },
    {
     "data": {
      "text/plain": [
       "[]"
      ]
     },
     "execution_count": 6,
     "metadata": {},
     "output_type": "execute_result"
    }
   ],
   "source": [
    "%%sql\n",
    "CREATE TABLE course(\n",
    "    course_id INTEGER NOT NULL PRIMARY KEY AUTOINCREMENT,\n",
    "    course_name VARCHAR(50) NOT NULL,\n",
    "    course_length INTEGER\n",
    ");"
   ]
  },
  {
   "cell_type": "markdown",
   "metadata": {
    "colab_type": "text",
    "id": "I76bxp1B3-Zv",
    "slideshow": {
     "slide_type": "slide"
    }
   },
   "source": [
    "<br/>\n",
    "\n",
    "> Add other tables"
   ]
  },
  {
   "cell_type": "code",
   "execution_count": 7,
   "metadata": {
    "colab": {
     "base_uri": "https://localhost:8080/",
     "height": 173
    },
    "colab_type": "code",
    "executionInfo": {
     "elapsed": 1058,
     "status": "ok",
     "timestamp": 1575293044756,
     "user": {
      "displayName": "Rosy Shrestha",
      "photoUrl": "https://lh5.googleusercontent.com/-2vZbOLKurdw/AAAAAAAAAAI/AAAAAAAAADE/f6PApdZyb_4/s64/photo.jpg",
      "userId": "08154866243064800637"
     },
     "user_tz": -345
    },
    "id": "LIqwldArn-8Q",
    "outputId": "dcb4f4f3-043c-450f-fb96-d58a6fd7da80",
    "slideshow": {
     "slide_type": "fragment"
    }
   },
   "outputs": [
    {
     "name": "stdout",
     "output_type": "stream",
     "text": [
      " * sqlite://\n",
      "Done.\n",
      "Done.\n",
      "Done.\n",
      "Done.\n",
      "Done.\n",
      "Done.\n",
      "Done.\n"
     ]
    },
    {
     "data": {
      "text/plain": [
       "[]"
      ]
     },
     "execution_count": 7,
     "metadata": {},
     "output_type": "execute_result"
    }
   ],
   "source": [
    "%%sql\n",
    "CREATE TABLE enrollment(student_id INTEGER, course_id INTEGER, FOREIGN KEY(student_id) REFERENCES student(student_id) ON DELETE CASCADE ON UPDATE CASCADE, FOREIGN KEY(course_id) REFERENCES course(course_id) ON DELETE CASCADE ON UPDATE CASCADE);\n",
    "CREATE TABLE module(course_id INTEGER, module_num INTEGER, module_name VARCHAR(50) NOT NULL, PRIMARY KEY(course_id,module_num), FOREIGN KEY(course_id) REFERENCES course(course_id) ON DELETE CASCADE ON UPDATE CASCADE);\n",
    "CREATE TABLE unit(course_id INTEGER, module_num INTEGER, unit_num INTEGER, unit_name VARCHAR(50) NOT NULL, time_allotted float, PRIMARY KEY(course_id,module_num,unit_num), FOREIGN KEY(course_id,module_num) REFERENCES module(course_id,module_num) ON DELETE CASCADE ON UPDATE CASCADE);\n",
    "CREATE TABLE chapter(course_id INTEGER, module_num INTEGER, unit_num INTEGER, chapter_num INTEGER, chapter_name VARCHAR(50) NOT NULL, PRIMARY KEY(course_id, module_num, unit_num, chapter_num), FOREIGN KEY(course_id, module_num, unit_num) REFERENCES unit(course_id,module_num, unit_num) ON DELETE CASCADE ON UPDATE CASCADE);\n",
    "CREATE TABLE project(course_id INTEGER, module_num INTEGER, project_title VARCHAR(50) NOT NULL, project_marks INTEGER, FOREIGN KEY(course_id,module_num) REFERENCES module(course_id,module_num) ON DELETE CASCADE ON UPDATE CASCADE);\n",
    "CREATE TABLE assignment(course_id INTEGER,module_num INTEGER,unit_num INTEGER, assignment_name VARCHAR(50) NOT NULL, assignment_marks INTEGER, FOREIGN KEY(course_id, module_num, unit_num) REFERENCES unit(course_id, module_num, unit_num) ON DELETE CASCADE ON UPDATE CASCADE);\n",
    "CREATE TABLE quiz(course_id INTEGER, module_num INTEGER, unit_num INTEGER, chapter_num INTEGER, num_questions INTEGER, FOREIGN KEY(course_id, module_num, unit_num, chapter_num) REFERENCES chapter(course_id,module_num, unit_num, chapter_num) ON DELETE CASCADE ON UPDATE CASCADE);"
   ]
  },
  {
   "cell_type": "markdown",
   "metadata": {
    "colab_type": "text",
    "id": "wnl_lBKiHACc",
    "slideshow": {
     "slide_type": "slide"
    }
   },
   "source": [
    "### Insertion\n",
    "\n",
    "**Syntax:**\n",
    "\n",
    "`Insert into <table_name> Values('val1','val2',...,'valn')`"
   ]
  },
  {
   "cell_type": "markdown",
   "metadata": {
    "colab_type": "text",
    "id": "Nfac5zQk4HQq",
    "slideshow": {
     "slide_type": "slide"
    }
   },
   "source": [
    "<br/>\n",
    "\n",
    ">Insert values into `Student` table\n"
   ]
  },
  {
   "cell_type": "code",
   "execution_count": 8,
   "metadata": {
    "colab": {
     "base_uri": "https://localhost:8080/",
     "height": 69
    },
    "colab_type": "code",
    "executionInfo": {
     "elapsed": 952,
     "status": "ok",
     "timestamp": 1575293052298,
     "user": {
      "displayName": "Rosy Shrestha",
      "photoUrl": "https://lh5.googleusercontent.com/-2vZbOLKurdw/AAAAAAAAAAI/AAAAAAAAADE/f6PApdZyb_4/s64/photo.jpg",
      "userId": "08154866243064800637"
     },
     "user_tz": -345
    },
    "id": "ck4pHGWjoGNp",
    "outputId": "29db5e0f-ed92-44ea-d268-b12b3c5e68cc",
    "slideshow": {
     "slide_type": "fragment"
    }
   },
   "outputs": [
    {
     "name": "stdout",
     "output_type": "stream",
     "text": [
      " * sqlite://\n",
      "8 rows affected.\n"
     ]
    },
    {
     "data": {
      "text/plain": [
       "[]"
      ]
     },
     "execution_count": 8,
     "metadata": {},
     "output_type": "execute_result"
    }
   ],
   "source": [
    "%%sql\n",
    "INSERT INTO student ( student_name, student_email)\n",
    "VALUES ('John Doe', 'john@fusemachines.com'),\n",
    "('Dummy Person', 'dummy@fusemachines.com'),\n",
    "('Alison Burgers','alison@fusemachines.com'),\n",
    "('Harka Bahadur','harke@fusemachines.com.np'),\n",
    "('Ful Kumari','fulkumari@fusemachines.com.np'),\n",
    "('Chulbul Pandey','chulbul@fusemachines.com'),\n",
    "('Bir Kaji Sherchan','birkaji@fusemachines.com.np'),\n",
    "('Maiya Gauchan','maiya@fusemachines.com.np');"
   ]
  },
  {
   "cell_type": "markdown",
   "metadata": {
    "colab_type": "text",
    "id": "vGjcZ3wO4MtJ",
    "slideshow": {
     "slide_type": "slide"
    }
   },
   "source": [
    "<br/>\n",
    "\n",
    ">Insert values into `course` table"
   ]
  },
  {
   "cell_type": "code",
   "execution_count": 9,
   "metadata": {
    "colab": {
     "base_uri": "https://localhost:8080/",
     "height": 69
    },
    "colab_type": "code",
    "executionInfo": {
     "elapsed": 1489,
     "status": "ok",
     "timestamp": 1575293056192,
     "user": {
      "displayName": "Rosy Shrestha",
      "photoUrl": "https://lh5.googleusercontent.com/-2vZbOLKurdw/AAAAAAAAAAI/AAAAAAAAADE/f6PApdZyb_4/s64/photo.jpg",
      "userId": "08154866243064800637"
     },
     "user_tz": -345
    },
    "id": "WtdsKtp1oP-t",
    "outputId": "217914fe-4225-40a0-96a5-ff2b01b204ef",
    "slideshow": {
     "slide_type": "fragment"
    }
   },
   "outputs": [
    {
     "name": "stdout",
     "output_type": "stream",
     "text": [
      " * sqlite://\n",
      "6 rows affected.\n"
     ]
    },
    {
     "data": {
      "text/plain": [
       "[]"
      ]
     },
     "execution_count": 9,
     "metadata": {},
     "output_type": "execute_result"
    }
   ],
   "source": [
    "%%sql\n",
    "INSERT INTO course (course_name,course_length)\n",
    "VALUES ('Fundamentals of Computer Science',3),\n",
    "('Fundamentals of Mathematics',4),\n",
    "('Machine Learning',5),\n",
    "('Deep Learning',5),\n",
    "('Computer Vision',5),\n",
    "('Natural Language Processing',5);"
   ]
  },
  {
   "cell_type": "markdown",
   "metadata": {
    "colab_type": "text",
    "id": "bmxif-t94RI5",
    "slideshow": {
     "slide_type": "slide"
    }
   },
   "source": [
    "<br/>\n",
    "\n",
    "> Insert values into other tables"
   ]
  },
  {
   "cell_type": "code",
   "execution_count": 10,
   "metadata": {
    "colab": {
     "base_uri": "https://localhost:8080/",
     "height": 156
    },
    "colab_type": "code",
    "executionInfo": {
     "elapsed": 953,
     "status": "ok",
     "timestamp": 1575293058936,
     "user": {
      "displayName": "Rosy Shrestha",
      "photoUrl": "https://lh5.googleusercontent.com/-2vZbOLKurdw/AAAAAAAAAAI/AAAAAAAAADE/f6PApdZyb_4/s64/photo.jpg",
      "userId": "08154866243064800637"
     },
     "user_tz": -345
    },
    "id": "uIBaACHYoU5O",
    "outputId": "ae6b40af-b6ee-4de3-8c51-670db1bff415",
    "slideshow": {
     "slide_type": "fragment"
    }
   },
   "outputs": [
    {
     "name": "stdout",
     "output_type": "stream",
     "text": [
      " * sqlite://\n",
      "8 rows affected.\n",
      "12 rows affected.\n",
      "31 rows affected.\n",
      "10 rows affected.\n",
      "3 rows affected.\n",
      "15 rows affected.\n"
     ]
    },
    {
     "data": {
      "text/plain": [
       "[]"
      ]
     },
     "execution_count": 10,
     "metadata": {},
     "output_type": "execute_result"
    }
   ],
   "source": [
    "%%sql\n",
    "INSERT INTO enrollment (student_id, course_id) VALUES (1,1),(1,2),(2,1),(3,1),(4,2),(5,1),(6,1),(7,2);\n",
    "INSERT INTO module(course_id, module_num, module_name) VALUES (1,1,'Introduction to the Course'),(1,2,'Basics of Computer Systems'),(1,3,'Python Programming'),(1,4,'Data Structures and Algorithms'),(1,5,'Database'),(1,6,'Building Applications'),(2,1,'Introduction to the Course'),(2,2,'Linear Algebra'),(2,3,'Calculus'),(2,4,'Probability and Statistics'),(2,5,'Information Theory'),(2,6,'Numerical Computation');\n",
    "INSERT INTO unit(course_id, module_num, unit_num, unit_name, time_allotted) VALUES (1,1,1,'Introduction to the Course',0.25),(1,1,2,'Introduction to AI',0.5),(1,2,1,'Introduction to the Module',0),(1,2,2,'Digital Information & Digital Logic',1.25),(1,2,3,'Basics Computer Architecture',2),(1,2,4,'Basics of Linux Operating System',1.5),(1,2,5,'Basics of Computer Networks',1.5),(1,2,6,'Module Summary',0),(1,3,1,'Introduction to the Module',0),(1,3,2,'Python Programming',5),(1,3,3,'Object Oriented Programming',4.5),(1,3,4,'Web Scraping',0.75),(1,3,5,'Numpy',2),(1,3,6,'Pandas',2),(1,3,7,'Matplotlib',1),(1,3,8,'Module Summary',0),(2,2,1,'Introduction to the Module',0),(2,2,2,'Scalars Vectors and their operations',1.75),(2,2,3,'Linear transformations and Matrix',1.5),(2,2,4,'Solving Linear Equations',3.75),(2,2,5,'Determinant and Inverses',2.25),(2,2,6,'Orthogonality',2),(2,2,7,'Eigen and Singular Value Decomposition',2.75),(2,2,8,'Module Summary',0),(2,3,1,'Introduction to the Module',0),(2,3,2,'Derivatives',3.25),(2,3,3,'Integrals',2.25),(2,3,4,'Multivariable Calculus',3),(2,3,5,'Optimization of multivariable Functions',2.5),(2,3,6,'Integrals of multivariable functions',2),(2,3,7,'Module Summary',0);\n",
    "INSERT INTO chapter(course_id, module_num, unit_num, chapter_num, chapter_name) VALUES (1,1,1,1,'Introduction to the Course'),(1,1,1,2,'Course Logistics'),(1,1,2,1,'AI and its applications'),(1,1,2,2,'A Brief History of AI'),(1,1,2,3,'Types of AI'),(1,1,2,4,'Introduction to ML'),(1,2,1,1,'Introduction to the Module'),(1,2,2,1,'Number Representation in computers'),(1,2,2,2,'Digital Information'),(1,2,2,3,'Boolean Operation and algebra');\n",
    "INSERT INTO project(course_id, module_num, project_title, project_marks) VALUES (2,1,'None',0),(2,2,'3D Reconstruction',200),(2,3,'Shape Optimization',250);\n",
    "INSERT INTO assignment(course_id, module_num, unit_num, assignment_name, assignment_marks) VALUES (2,2,1,'N/A',0),(2,2,2,'Similarity',60),(2,2,3,'Robotics Forward Kinematics',70),(2,2,4,'Kirchoffs Law: Traffic flow',80),(2,2,5,'Inverse Kinematics',90),(2,2,6,'Least-Squares',100),(2,2,7,'Eigen Faces',110),(2,2,8,'N/A',0),(2,3,1,'N/A',0),(2,3,2,'Robotics Forward Kinematics',60),(2,3,3,'Single variable gradient descent',70),(2,3,4,'Trapezoidal rule',80),(2,3,5,'Image edge detection',90),(2,3,6,'Multi variable gradient descent',100),(2,3,7,'N/A',110);"
   ]
  },
  {
   "cell_type": "markdown",
   "metadata": {
    "colab_type": "text",
    "id": "xYJkgoaF2vVj",
    "slideshow": {
     "slide_type": "slide"
    }
   },
   "source": [
    "<br/>\n",
    "\n",
    "### SELECT Statement\n",
    "\n",
    "**Syntax:**\n",
    "```\n",
    " SELECT \"column_name\" FROM \"table_name\"\n",
    " SELECT * FROM \"table_name\"\n",
    " SELECT DISTINCT \"column_name\" FROM \"table_name\"\n",
    "```"
   ]
  },
  {
   "cell_type": "markdown",
   "metadata": {
    "colab_type": "text",
    "id": "TKyzAIuEofbH",
    "slideshow": {
     "slide_type": "slide"
    }
   },
   "source": [
    "*  An Asterisk(*) in the select clause denotes all attributes\n",
    "\n",
    "> Q. Select all tuples from course relation\n"
   ]
  },
  {
   "cell_type": "code",
   "execution_count": 11,
   "metadata": {
    "slideshow": {
     "slide_type": "fragment"
    }
   },
   "outputs": [
    {
     "name": "stdout",
     "output_type": "stream",
     "text": [
      " * sqlite://\n",
      "Done.\n"
     ]
    },
    {
     "data": {
      "text/html": [
       "<table>\n",
       "    <tr>\n",
       "        <th>course_id</th>\n",
       "        <th>course_name</th>\n",
       "        <th>course_length</th>\n",
       "    </tr>\n",
       "    <tr>\n",
       "        <td>1</td>\n",
       "        <td>Fundamentals of Computer Science</td>\n",
       "        <td>3</td>\n",
       "    </tr>\n",
       "    <tr>\n",
       "        <td>2</td>\n",
       "        <td>Fundamentals of Mathematics</td>\n",
       "        <td>4</td>\n",
       "    </tr>\n",
       "    <tr>\n",
       "        <td>3</td>\n",
       "        <td>Machine Learning</td>\n",
       "        <td>5</td>\n",
       "    </tr>\n",
       "    <tr>\n",
       "        <td>4</td>\n",
       "        <td>Deep Learning</td>\n",
       "        <td>5</td>\n",
       "    </tr>\n",
       "    <tr>\n",
       "        <td>5</td>\n",
       "        <td>Computer Vision</td>\n",
       "        <td>5</td>\n",
       "    </tr>\n",
       "    <tr>\n",
       "        <td>6</td>\n",
       "        <td>Natural Language Processing</td>\n",
       "        <td>5</td>\n",
       "    </tr>\n",
       "</table>"
      ],
      "text/plain": [
       "[(1, 'Fundamentals of Computer Science', 3),\n",
       " (2, 'Fundamentals of Mathematics', 4),\n",
       " (3, 'Machine Learning', 5),\n",
       " (4, 'Deep Learning', 5),\n",
       " (5, 'Computer Vision', 5),\n",
       " (6, 'Natural Language Processing', 5)]"
      ]
     },
     "execution_count": 11,
     "metadata": {},
     "output_type": "execute_result"
    }
   ],
   "source": [
    "%sql SELECT * FROM course"
   ]
  },
  {
   "cell_type": "code",
   "execution_count": 0,
   "metadata": {
    "colab": {
     "base_uri": "https://localhost:8080/",
     "height": 199
    },
    "colab_type": "code",
    "executionInfo": {
     "elapsed": 1375,
     "status": "ok",
     "timestamp": 1575293063455,
     "user": {
      "displayName": "Rosy Shrestha",
      "photoUrl": "https://lh5.googleusercontent.com/-2vZbOLKurdw/AAAAAAAAAAI/AAAAAAAAADE/f6PApdZyb_4/s64/photo.jpg",
      "userId": "08154866243064800637"
     },
     "user_tz": -345
    },
    "id": "irdebdYSoXGg",
    "outputId": "4b57e928-3e4b-48a3-dd97-08e262afe84d",
    "slideshow": {
     "slide_type": "fragment"
    }
   },
   "outputs": [
    {
     "name": "stdout",
     "output_type": "stream",
     "text": [
      " * sqlite://\n",
      "Done.\n"
     ]
    },
    {
     "data": {
      "text/html": [
       "<table>\n",
       "    <tr>\n",
       "        <th>course_id</th>\n",
       "        <th>course_name</th>\n",
       "        <th>course_length</th>\n",
       "    </tr>\n",
       "    <tr>\n",
       "        <td>1</td>\n",
       "        <td>Fundamentals of Computer Science</td>\n",
       "        <td>3</td>\n",
       "    </tr>\n",
       "    <tr>\n",
       "        <td>2</td>\n",
       "        <td>Fundamentals of Mathematics</td>\n",
       "        <td>4</td>\n",
       "    </tr>\n",
       "    <tr>\n",
       "        <td>3</td>\n",
       "        <td>Machine Learning</td>\n",
       "        <td>5</td>\n",
       "    </tr>\n",
       "    <tr>\n",
       "        <td>4</td>\n",
       "        <td>Deep Learning</td>\n",
       "        <td>5</td>\n",
       "    </tr>\n",
       "    <tr>\n",
       "        <td>5</td>\n",
       "        <td>Computer Vision</td>\n",
       "        <td>5</td>\n",
       "    </tr>\n",
       "    <tr>\n",
       "        <td>6</td>\n",
       "        <td>Natural Language Processing</td>\n",
       "        <td>5</td>\n",
       "    </tr>\n",
       "</table>"
      ],
      "text/plain": [
       "[(1, 'Fundamentals of Computer Science', 3),\n",
       " (2, 'Fundamentals of Mathematics', 4),\n",
       " (3, 'Machine Learning', 5),\n",
       " (4, 'Deep Learning', 5),\n",
       " (5, 'Computer Vision', 5),\n",
       " (6, 'Natural Language Processing', 5)]"
      ]
     },
     "execution_count": 9,
     "metadata": {
      "tags": []
     },
     "output_type": "execute_result"
    }
   ],
   "source": [
    "%sql SELECT * FROM course;"
   ]
  },
  {
   "cell_type": "markdown",
   "metadata": {
    "colab_type": "text",
    "id": "0k0pC4fkoqs_",
    "slideshow": {
     "slide_type": "slide"
    }
   },
   "source": [
    "<br/>\n",
    "\n",
    "> Q. Select all tuples from module where course_id = 1"
   ]
  },
  {
   "cell_type": "code",
   "execution_count": 13,
   "metadata": {
    "slideshow": {
     "slide_type": "fragment"
    }
   },
   "outputs": [
    {
     "name": "stdout",
     "output_type": "stream",
     "text": [
      " * sqlite://\n",
      "Done.\n"
     ]
    },
    {
     "data": {
      "text/html": [
       "<table>\n",
       "    <tr>\n",
       "        <th>course_id</th>\n",
       "        <th>module_num</th>\n",
       "        <th>module_name</th>\n",
       "    </tr>\n",
       "    <tr>\n",
       "        <td>1</td>\n",
       "        <td>1</td>\n",
       "        <td>Introduction to the Course</td>\n",
       "    </tr>\n",
       "    <tr>\n",
       "        <td>1</td>\n",
       "        <td>2</td>\n",
       "        <td>Basics of Computer Systems</td>\n",
       "    </tr>\n",
       "    <tr>\n",
       "        <td>1</td>\n",
       "        <td>3</td>\n",
       "        <td>Python Programming</td>\n",
       "    </tr>\n",
       "    <tr>\n",
       "        <td>1</td>\n",
       "        <td>4</td>\n",
       "        <td>Data Structures and Algorithms</td>\n",
       "    </tr>\n",
       "    <tr>\n",
       "        <td>1</td>\n",
       "        <td>5</td>\n",
       "        <td>Database</td>\n",
       "    </tr>\n",
       "    <tr>\n",
       "        <td>1</td>\n",
       "        <td>6</td>\n",
       "        <td>Building Applications</td>\n",
       "    </tr>\n",
       "</table>"
      ],
      "text/plain": [
       "[(1, 1, 'Introduction to the Course'),\n",
       " (1, 2, 'Basics of Computer Systems'),\n",
       " (1, 3, 'Python Programming'),\n",
       " (1, 4, 'Data Structures and Algorithms'),\n",
       " (1, 5, 'Database'),\n",
       " (1, 6, 'Building Applications')]"
      ]
     },
     "execution_count": 13,
     "metadata": {},
     "output_type": "execute_result"
    }
   ],
   "source": [
    "%sql SELECT * FROM module WHERE course_id=1"
   ]
  },
  {
   "cell_type": "code",
   "execution_count": 0,
   "metadata": {
    "colab": {
     "base_uri": "https://localhost:8080/",
     "height": 199
    },
    "colab_type": "code",
    "executionInfo": {
     "elapsed": 3416,
     "status": "ok",
     "timestamp": 1575289209317,
     "user": {
      "displayName": "Rosy Shrestha",
      "photoUrl": "https://lh5.googleusercontent.com/-2vZbOLKurdw/AAAAAAAAAAI/AAAAAAAAADE/f6PApdZyb_4/s64/photo.jpg",
      "userId": "08154866243064800637"
     },
     "user_tz": -345
    },
    "id": "nMA5P3rxoq7C",
    "outputId": "0a4f00a2-e3c4-4089-95e2-2acbe23aa050",
    "slideshow": {
     "slide_type": "fragment"
    }
   },
   "outputs": [
    {
     "name": "stdout",
     "output_type": "stream",
     "text": [
      " * sqlite://\n",
      "Done.\n"
     ]
    },
    {
     "data": {
      "text/html": [
       "<table>\n",
       "    <tr>\n",
       "        <th>course_id</th>\n",
       "        <th>module_num</th>\n",
       "        <th>module_name</th>\n",
       "    </tr>\n",
       "    <tr>\n",
       "        <td>1</td>\n",
       "        <td>1</td>\n",
       "        <td>Introduction to the Course</td>\n",
       "    </tr>\n",
       "    <tr>\n",
       "        <td>1</td>\n",
       "        <td>2</td>\n",
       "        <td>Basics of Computer Systems</td>\n",
       "    </tr>\n",
       "    <tr>\n",
       "        <td>1</td>\n",
       "        <td>3</td>\n",
       "        <td>Python Programming</td>\n",
       "    </tr>\n",
       "    <tr>\n",
       "        <td>1</td>\n",
       "        <td>4</td>\n",
       "        <td>Data Structures and Algorithms</td>\n",
       "    </tr>\n",
       "    <tr>\n",
       "        <td>1</td>\n",
       "        <td>5</td>\n",
       "        <td>Database</td>\n",
       "    </tr>\n",
       "    <tr>\n",
       "        <td>1</td>\n",
       "        <td>6</td>\n",
       "        <td>Building Applications</td>\n",
       "    </tr>\n",
       "</table>"
      ],
      "text/plain": [
       "[(1, 1, 'Introduction to the Course'),\n",
       " (1, 2, 'Basics of Computer Systems'),\n",
       " (1, 3, 'Python Programming'),\n",
       " (1, 4, 'Data Structures and Algorithms'),\n",
       " (1, 5, 'Database'),\n",
       " (1, 6, 'Building Applications')]"
      ]
     },
     "execution_count": 13,
     "metadata": {
      "tags": []
     },
     "output_type": "execute_result"
    }
   ],
   "source": [
    "%sql SELECT * FROM module WHERE course_id = 1;"
   ]
  },
  {
   "cell_type": "markdown",
   "metadata": {
    "colab_type": "text",
    "id": "0KIAs-zXo0a-",
    "slideshow": {
     "slide_type": "slide"
    }
   },
   "source": [
    "<br/>\n",
    "\n",
    "> Q. Select all tuples from a unit of course_id = 1 and module_num = 2"
   ]
  },
  {
   "cell_type": "code",
   "execution_count": 14,
   "metadata": {
    "slideshow": {
     "slide_type": "slide"
    }
   },
   "outputs": [
    {
     "name": "stdout",
     "output_type": "stream",
     "text": [
      " * sqlite://\n",
      "(sqlite3.OperationalError) near \"SELCT\": syntax error\n",
      "[SQL: SELCT * from unit where course_id=1 AND module_num=2]\n",
      "(Background on this error at: http://sqlalche.me/e/e3q8)\n"
     ]
    }
   ],
   "source": [
    "%sql SELECT * from unit where course_id=1 AND module_num=2"
   ]
  },
  {
   "cell_type": "code",
   "execution_count": 15,
   "metadata": {
    "colab": {
     "base_uri": "https://localhost:8080/",
     "height": 199
    },
    "colab_type": "code",
    "executionInfo": {
     "elapsed": 1517,
     "status": "ok",
     "timestamp": 1575289660499,
     "user": {
      "displayName": "Rosy Shrestha",
      "photoUrl": "https://lh5.googleusercontent.com/-2vZbOLKurdw/AAAAAAAAAAI/AAAAAAAAADE/f6PApdZyb_4/s64/photo.jpg",
      "userId": "08154866243064800637"
     },
     "user_tz": -345
    },
    "id": "DcvYEyCYozX_",
    "outputId": "219c637c-45a5-4863-dbc9-133d6b03dc7d",
    "slideshow": {
     "slide_type": "fragment"
    }
   },
   "outputs": [
    {
     "name": "stdout",
     "output_type": "stream",
     "text": [
      " * sqlite://\n",
      "Done.\n"
     ]
    },
    {
     "data": {
      "text/html": [
       "<table>\n",
       "    <tr>\n",
       "        <th>course_id</th>\n",
       "        <th>module_num</th>\n",
       "        <th>unit_num</th>\n",
       "        <th>unit_name</th>\n",
       "        <th>time_allotted</th>\n",
       "    </tr>\n",
       "    <tr>\n",
       "        <td>1</td>\n",
       "        <td>2</td>\n",
       "        <td>1</td>\n",
       "        <td>Introduction to the Module</td>\n",
       "        <td>0.0</td>\n",
       "    </tr>\n",
       "    <tr>\n",
       "        <td>1</td>\n",
       "        <td>2</td>\n",
       "        <td>2</td>\n",
       "        <td>Digital Information &amp; Digital Logic</td>\n",
       "        <td>1.25</td>\n",
       "    </tr>\n",
       "    <tr>\n",
       "        <td>1</td>\n",
       "        <td>2</td>\n",
       "        <td>3</td>\n",
       "        <td>Basics Computer Architecture</td>\n",
       "        <td>2.0</td>\n",
       "    </tr>\n",
       "    <tr>\n",
       "        <td>1</td>\n",
       "        <td>2</td>\n",
       "        <td>4</td>\n",
       "        <td>Basics of Linux Operating System</td>\n",
       "        <td>1.5</td>\n",
       "    </tr>\n",
       "    <tr>\n",
       "        <td>1</td>\n",
       "        <td>2</td>\n",
       "        <td>5</td>\n",
       "        <td>Basics of Computer Networks</td>\n",
       "        <td>1.5</td>\n",
       "    </tr>\n",
       "    <tr>\n",
       "        <td>1</td>\n",
       "        <td>2</td>\n",
       "        <td>6</td>\n",
       "        <td>Module Summary</td>\n",
       "        <td>0.0</td>\n",
       "    </tr>\n",
       "</table>"
      ],
      "text/plain": [
       "[(1, 2, 1, 'Introduction to the Module', 0.0),\n",
       " (1, 2, 2, 'Digital Information & Digital Logic', 1.25),\n",
       " (1, 2, 3, 'Basics Computer Architecture', 2.0),\n",
       " (1, 2, 4, 'Basics of Linux Operating System', 1.5),\n",
       " (1, 2, 5, 'Basics of Computer Networks', 1.5),\n",
       " (1, 2, 6, 'Module Summary', 0.0)]"
      ]
     },
     "execution_count": 15,
     "metadata": {},
     "output_type": "execute_result"
    }
   ],
   "source": [
    "%sql SELECT * FROM unit WHERE course_id = 1 AND module_num = 2;"
   ]
  },
  {
   "cell_type": "markdown",
   "metadata": {
    "colab_type": "text",
    "id": "nnfz45_Co7Hz",
    "slideshow": {
     "slide_type": "slide"
    }
   },
   "source": [
    "<br/>\n",
    "\n",
    "> Q.Select only unit name and time allotted for a unit of first course second module"
   ]
  },
  {
   "cell_type": "code",
   "execution_count": 16,
   "metadata": {
    "colab": {
     "base_uri": "https://localhost:8080/",
     "height": 199
    },
    "colab_type": "code",
    "executionInfo": {
     "elapsed": 1301,
     "status": "ok",
     "timestamp": 1575290203488,
     "user": {
      "displayName": "Rosy Shrestha",
      "photoUrl": "https://lh5.googleusercontent.com/-2vZbOLKurdw/AAAAAAAAAAI/AAAAAAAAADE/f6PApdZyb_4/s64/photo.jpg",
      "userId": "08154866243064800637"
     },
     "user_tz": -345
    },
    "id": "vxvV7pISo92N",
    "outputId": "6f09eb30-a54c-4196-d78c-cbfe131f4439",
    "slideshow": {
     "slide_type": "fragment"
    }
   },
   "outputs": [
    {
     "name": "stdout",
     "output_type": "stream",
     "text": [
      " * sqlite://\n",
      "Done.\n"
     ]
    },
    {
     "data": {
      "text/html": [
       "<table>\n",
       "    <tr>\n",
       "        <th>unit_name</th>\n",
       "        <th>time_allotted</th>\n",
       "    </tr>\n",
       "    <tr>\n",
       "        <td>Introduction to the Module</td>\n",
       "        <td>0.0</td>\n",
       "    </tr>\n",
       "    <tr>\n",
       "        <td>Digital Information &amp; Digital Logic</td>\n",
       "        <td>1.25</td>\n",
       "    </tr>\n",
       "    <tr>\n",
       "        <td>Basics Computer Architecture</td>\n",
       "        <td>2.0</td>\n",
       "    </tr>\n",
       "    <tr>\n",
       "        <td>Basics of Linux Operating System</td>\n",
       "        <td>1.5</td>\n",
       "    </tr>\n",
       "    <tr>\n",
       "        <td>Basics of Computer Networks</td>\n",
       "        <td>1.5</td>\n",
       "    </tr>\n",
       "    <tr>\n",
       "        <td>Module Summary</td>\n",
       "        <td>0.0</td>\n",
       "    </tr>\n",
       "</table>"
      ],
      "text/plain": [
       "[('Introduction to the Module', 0.0),\n",
       " ('Digital Information & Digital Logic', 1.25),\n",
       " ('Basics Computer Architecture', 2.0),\n",
       " ('Basics of Linux Operating System', 1.5),\n",
       " ('Basics of Computer Networks', 1.5),\n",
       " ('Module Summary', 0.0)]"
      ]
     },
     "execution_count": 16,
     "metadata": {},
     "output_type": "execute_result"
    }
   ],
   "source": [
    "%sql SELECT unit_name, time_allotted FROM unit WHERE course_id = 1 AND module_num = 2;"
   ]
  },
  {
   "cell_type": "markdown",
   "metadata": {
    "colab_type": "text",
    "id": "_U9TgWWepEXp",
    "slideshow": {
     "slide_type": "slide"
    }
   },
   "source": [
    "<br/>\n",
    "\n",
    "> Q. Display name  of courses whose course length is between 3 to 4 months"
   ]
  },
  {
   "cell_type": "code",
   "execution_count": 17,
   "metadata": {
    "colab": {
     "base_uri": "https://localhost:8080/",
     "height": 116
    },
    "colab_type": "code",
    "executionInfo": {
     "elapsed": 1189,
     "status": "ok",
     "timestamp": 1575291103895,
     "user": {
      "displayName": "Rosy Shrestha",
      "photoUrl": "https://lh5.googleusercontent.com/-2vZbOLKurdw/AAAAAAAAAAI/AAAAAAAAADE/f6PApdZyb_4/s64/photo.jpg",
      "userId": "08154866243064800637"
     },
     "user_tz": -345
    },
    "id": "tLy8n-fvpNgn",
    "outputId": "d5a4f18e-efd3-4352-b464-109822f0cd5f",
    "slideshow": {
     "slide_type": "fragment"
    }
   },
   "outputs": [
    {
     "name": "stdout",
     "output_type": "stream",
     "text": [
      " * sqlite://\n",
      "Done.\n"
     ]
    },
    {
     "data": {
      "text/html": [
       "<table>\n",
       "    <tr>\n",
       "        <th>course_name</th>\n",
       "        <th>course_length</th>\n",
       "    </tr>\n",
       "    <tr>\n",
       "        <td>Fundamentals of Computer Science</td>\n",
       "        <td>3</td>\n",
       "    </tr>\n",
       "    <tr>\n",
       "        <td>Fundamentals of Mathematics</td>\n",
       "        <td>4</td>\n",
       "    </tr>\n",
       "</table>"
      ],
      "text/plain": [
       "[('Fundamentals of Computer Science', 3), ('Fundamentals of Mathematics', 4)]"
      ]
     },
     "execution_count": 17,
     "metadata": {},
     "output_type": "execute_result"
    }
   ],
   "source": [
    "%sql SELECT course_name, course_length FROM course WHERE course_length BETWEEN 3 AND 4;"
   ]
  },
  {
   "cell_type": "code",
   "execution_count": 0,
   "metadata": {
    "colab": {
     "base_uri": "https://localhost:8080/",
     "height": 199
    },
    "colab_type": "code",
    "executionInfo": {
     "elapsed": 943,
     "status": "ok",
     "timestamp": 1575291134391,
     "user": {
      "displayName": "Rosy Shrestha",
      "photoUrl": "https://lh5.googleusercontent.com/-2vZbOLKurdw/AAAAAAAAAAI/AAAAAAAAADE/f6PApdZyb_4/s64/photo.jpg",
      "userId": "08154866243064800637"
     },
     "user_tz": -345
    },
    "id": "1HxjjCgRpQiI",
    "outputId": "e2ff1f4a-0837-4138-ecbf-5f5a7fa56b05",
    "slideshow": {
     "slide_type": "fragment"
    }
   },
   "outputs": [
    {
     "name": "stdout",
     "output_type": "stream",
     "text": [
      " * sqlite://\n",
      "Done.\n"
     ]
    },
    {
     "data": {
      "text/html": [
       "<table>\n",
       "    <tr>\n",
       "        <th>course_name</th>\n",
       "        <th>course_length_in_weeks</th>\n",
       "    </tr>\n",
       "    <tr>\n",
       "        <td>Fundamentals of Computer Science</td>\n",
       "        <td>12</td>\n",
       "    </tr>\n",
       "    <tr>\n",
       "        <td>Fundamentals of Mathematics</td>\n",
       "        <td>16</td>\n",
       "    </tr>\n",
       "    <tr>\n",
       "        <td>Machine Learning</td>\n",
       "        <td>20</td>\n",
       "    </tr>\n",
       "    <tr>\n",
       "        <td>Deep Learning</td>\n",
       "        <td>20</td>\n",
       "    </tr>\n",
       "    <tr>\n",
       "        <td>Computer Vision</td>\n",
       "        <td>20</td>\n",
       "    </tr>\n",
       "    <tr>\n",
       "        <td>Natural Language Processing</td>\n",
       "        <td>20</td>\n",
       "    </tr>\n",
       "</table>"
      ],
      "text/plain": [
       "[('Fundamentals of Computer Science', 12),\n",
       " ('Fundamentals of Mathematics', 16),\n",
       " ('Machine Learning', 20),\n",
       " ('Deep Learning', 20),\n",
       " ('Computer Vision', 20),\n",
       " ('Natural Language Processing', 20)]"
      ]
     },
     "execution_count": 29,
     "metadata": {
      "tags": []
     },
     "output_type": "execute_result"
    }
   ],
   "source": [
    "%sql SELECT course_name, course_length*4 AS course_length_in_weeks FROM course;"
   ]
  },
  {
   "cell_type": "markdown",
   "metadata": {
    "colab_type": "text",
    "id": "vLqOfv9TphNF",
    "slideshow": {
     "slide_type": "slide"
    }
   },
   "source": [
    "> Q. List out the assignment names of all the assignments that have high weightage(greater than 100 marks) "
   ]
  },
  {
   "cell_type": "code",
   "execution_count": 20,
   "metadata": {
    "colab": {
     "base_uri": "https://localhost:8080/",
     "height": 116
    },
    "colab_type": "code",
    "executionInfo": {
     "elapsed": 1038,
     "status": "ok",
     "timestamp": 1575291325032,
     "user": {
      "displayName": "Rosy Shrestha",
      "photoUrl": "https://lh5.googleusercontent.com/-2vZbOLKurdw/AAAAAAAAAAI/AAAAAAAAADE/f6PApdZyb_4/s64/photo.jpg",
      "userId": "08154866243064800637"
     },
     "user_tz": -345
    },
    "id": "tvz0k6U7pk-5",
    "outputId": "a69f4aed-548a-4a20-eedf-d98e67971d77",
    "slideshow": {
     "slide_type": "fragment"
    }
   },
   "outputs": [
    {
     "name": "stdout",
     "output_type": "stream",
     "text": [
      " * sqlite://\n",
      "Done.\n"
     ]
    },
    {
     "data": {
      "text/html": [
       "<table>\n",
       "    <tr>\n",
       "        <th>course_id</th>\n",
       "        <th>module_num</th>\n",
       "        <th>unit_num</th>\n",
       "        <th>assignment_name</th>\n",
       "        <th>assignment_marks</th>\n",
       "    </tr>\n",
       "    <tr>\n",
       "        <td>2</td>\n",
       "        <td>2</td>\n",
       "        <td>7</td>\n",
       "        <td>Eigen Faces</td>\n",
       "        <td>110</td>\n",
       "    </tr>\n",
       "    <tr>\n",
       "        <td>2</td>\n",
       "        <td>3</td>\n",
       "        <td>7</td>\n",
       "        <td>N/A</td>\n",
       "        <td>110</td>\n",
       "    </tr>\n",
       "</table>"
      ],
      "text/plain": [
       "[(2, 2, 7, 'Eigen Faces', 110), (2, 3, 7, 'N/A', 110)]"
      ]
     },
     "execution_count": 20,
     "metadata": {},
     "output_type": "execute_result"
    }
   ],
   "source": [
    "%sql SELECT * FROM assignment WHERE assignment_marks > 100;"
   ]
  },
  {
   "cell_type": "markdown",
   "metadata": {
    "colab_type": "text",
    "id": "N6soCugEp-tu",
    "slideshow": {
     "slide_type": "slide"
    }
   },
   "source": [
    "<br/>\n",
    "\n",
    "SQL includes a string matching operator for comparisions on character string.\n",
    "* percent(%) character matches any substring\n",
    "* underscore(_) matches any character\n",
    "\n",
    "\n",
    "> Q. Find the name of all courses that are Fundamental(have Fundamental in their name)"
   ]
  },
  {
   "cell_type": "code",
   "execution_count": 21,
   "metadata": {
    "colab": {
     "base_uri": "https://localhost:8080/",
     "height": 116
    },
    "colab_type": "code",
    "executionInfo": {
     "elapsed": 1498,
     "status": "ok",
     "timestamp": 1575292254329,
     "user": {
      "displayName": "Rosy Shrestha",
      "photoUrl": "https://lh5.googleusercontent.com/-2vZbOLKurdw/AAAAAAAAAAI/AAAAAAAAADE/f6PApdZyb_4/s64/photo.jpg",
      "userId": "08154866243064800637"
     },
     "user_tz": -345
    },
    "id": "RZTZnbUfqQEO",
    "outputId": "b0c84797-d9f8-4a6e-b542-2917bf2e355b",
    "slideshow": {
     "slide_type": "slide"
    }
   },
   "outputs": [
    {
     "name": "stdout",
     "output_type": "stream",
     "text": [
      " * sqlite://\n",
      "Done.\n"
     ]
    },
    {
     "data": {
      "text/html": [
       "<table>\n",
       "    <tr>\n",
       "        <th>course_id</th>\n",
       "        <th>course_name</th>\n",
       "        <th>course_length</th>\n",
       "    </tr>\n",
       "    <tr>\n",
       "        <td>1</td>\n",
       "        <td>Fundamentals of Computer Science</td>\n",
       "        <td>3</td>\n",
       "    </tr>\n",
       "    <tr>\n",
       "        <td>2</td>\n",
       "        <td>Fundamentals of Mathematics</td>\n",
       "        <td>4</td>\n",
       "    </tr>\n",
       "</table>"
      ],
      "text/plain": [
       "[(1, 'Fundamentals of Computer Science', 3),\n",
       " (2, 'Fundamentals of Mathematics', 4)]"
      ]
     },
     "execution_count": 21,
     "metadata": {},
     "output_type": "execute_result"
    }
   ],
   "source": [
    "%sql SELECT * FROM course WHERE course_name LIKE '%Fundamental%';"
   ]
  },
  {
   "cell_type": "markdown",
   "metadata": {
    "colab_type": "text",
    "id": "o0KPe2-2qWPM",
    "slideshow": {
     "slide_type": "slide"
    }
   },
   "source": [
    "Students of fusemachines from Nepal have country domain `.np` in their email id. For Example: `buddha@fusemachines.com.np`\n",
    "\n",
    "> Q.List down all the students from Nepal."
   ]
  },
  {
   "cell_type": "code",
   "execution_count": 22,
   "metadata": {
    "colab": {
     "base_uri": "https://localhost:8080/",
     "height": 157
    },
    "colab_type": "code",
    "executionInfo": {
     "elapsed": 1778,
     "status": "ok",
     "timestamp": 1575292375389,
     "user": {
      "displayName": "Rosy Shrestha",
      "photoUrl": "https://lh5.googleusercontent.com/-2vZbOLKurdw/AAAAAAAAAAI/AAAAAAAAADE/f6PApdZyb_4/s64/photo.jpg",
      "userId": "08154866243064800637"
     },
     "user_tz": -345
    },
    "id": "2iC9YHTUpEtw",
    "outputId": "b11369e9-279c-46c0-80b8-d3db2b1d9b9f",
    "slideshow": {
     "slide_type": "fragment"
    }
   },
   "outputs": [
    {
     "name": "stdout",
     "output_type": "stream",
     "text": [
      " * sqlite://\n",
      "Done.\n"
     ]
    },
    {
     "data": {
      "text/html": [
       "<table>\n",
       "    <tr>\n",
       "        <th>student_id</th>\n",
       "        <th>student_name</th>\n",
       "        <th>student_email</th>\n",
       "        <th>student_contact</th>\n",
       "    </tr>\n",
       "    <tr>\n",
       "        <td>4</td>\n",
       "        <td>Harka Bahadur</td>\n",
       "        <td>harke@fusemachines.com.np</td>\n",
       "        <td>None</td>\n",
       "    </tr>\n",
       "    <tr>\n",
       "        <td>5</td>\n",
       "        <td>Ful Kumari</td>\n",
       "        <td>fulkumari@fusemachines.com.np</td>\n",
       "        <td>None</td>\n",
       "    </tr>\n",
       "    <tr>\n",
       "        <td>7</td>\n",
       "        <td>Bir Kaji Sherchan</td>\n",
       "        <td>birkaji@fusemachines.com.np</td>\n",
       "        <td>None</td>\n",
       "    </tr>\n",
       "    <tr>\n",
       "        <td>8</td>\n",
       "        <td>Maiya Gauchan</td>\n",
       "        <td>maiya@fusemachines.com.np</td>\n",
       "        <td>None</td>\n",
       "    </tr>\n",
       "</table>"
      ],
      "text/plain": [
       "[(4, 'Harka Bahadur', 'harke@fusemachines.com.np', None),\n",
       " (5, 'Ful Kumari', 'fulkumari@fusemachines.com.np', None),\n",
       " (7, 'Bir Kaji Sherchan', 'birkaji@fusemachines.com.np', None),\n",
       " (8, 'Maiya Gauchan', 'maiya@fusemachines.com.np', None)]"
      ]
     },
     "execution_count": 22,
     "metadata": {},
     "output_type": "execute_result"
    }
   ],
   "source": [
    "%sql SELECT * FROM student WHERE student_email LIKE '%.np%';"
   ]
  },
  {
   "cell_type": "markdown",
   "metadata": {
    "colab_type": "text",
    "id": "fW04VLkX1Pj4",
    "slideshow": {
     "slide_type": "slide"
    }
   },
   "source": [
    "> Alter Table\n",
    "\n",
    "**Syntax:** `Alter table <table_name> add <attribute_name> <data_type>`"
   ]
  },
  {
   "cell_type": "code",
   "execution_count": 23,
   "metadata": {
    "colab": {
     "base_uri": "https://localhost:8080/",
     "height": 69
    },
    "colab_type": "code",
    "executionInfo": {
     "elapsed": 958,
     "status": "ok",
     "timestamp": 1575293171405,
     "user": {
      "displayName": "Rosy Shrestha",
      "photoUrl": "https://lh5.googleusercontent.com/-2vZbOLKurdw/AAAAAAAAAAI/AAAAAAAAADE/f6PApdZyb_4/s64/photo.jpg",
      "userId": "08154866243064800637"
     },
     "user_tz": -345
    },
    "id": "myRu3-3w1Nv1",
    "outputId": "1fa1dbd5-2014-42da-a606-edf067e737bc",
    "slideshow": {
     "slide_type": "fragment"
    }
   },
   "outputs": [
    {
     "name": "stdout",
     "output_type": "stream",
     "text": [
      " * sqlite://\n",
      "Done.\n"
     ]
    },
    {
     "data": {
      "text/plain": [
       "[]"
      ]
     },
     "execution_count": 23,
     "metadata": {},
     "output_type": "execute_result"
    }
   ],
   "source": [
    "%sql ALTER TABLE course ADD course_difficulty VARCHAR(20)"
   ]
  },
  {
   "cell_type": "code",
   "execution_count": 24,
   "metadata": {
    "colab": {
     "base_uri": "https://localhost:8080/",
     "height": 199
    },
    "colab_type": "code",
    "executionInfo": {
     "elapsed": 1453,
     "status": "ok",
     "timestamp": 1575293175987,
     "user": {
      "displayName": "Rosy Shrestha",
      "photoUrl": "https://lh5.googleusercontent.com/-2vZbOLKurdw/AAAAAAAAAAI/AAAAAAAAADE/f6PApdZyb_4/s64/photo.jpg",
      "userId": "08154866243064800637"
     },
     "user_tz": -345
    },
    "id": "FeWYBaGR3kyu",
    "outputId": "8a49a4fa-9b67-479b-c8e6-007271eb76ee",
    "scrolled": true,
    "slideshow": {
     "slide_type": "fragment"
    }
   },
   "outputs": [
    {
     "name": "stdout",
     "output_type": "stream",
     "text": [
      " * sqlite://\n",
      "Done.\n"
     ]
    },
    {
     "data": {
      "text/html": [
       "<table>\n",
       "    <tr>\n",
       "        <th>course_id</th>\n",
       "        <th>course_name</th>\n",
       "        <th>course_length</th>\n",
       "        <th>course_difficulty</th>\n",
       "    </tr>\n",
       "    <tr>\n",
       "        <td>1</td>\n",
       "        <td>Fundamentals of Computer Science</td>\n",
       "        <td>3</td>\n",
       "        <td>None</td>\n",
       "    </tr>\n",
       "    <tr>\n",
       "        <td>2</td>\n",
       "        <td>Fundamentals of Mathematics</td>\n",
       "        <td>4</td>\n",
       "        <td>None</td>\n",
       "    </tr>\n",
       "    <tr>\n",
       "        <td>3</td>\n",
       "        <td>Machine Learning</td>\n",
       "        <td>5</td>\n",
       "        <td>None</td>\n",
       "    </tr>\n",
       "    <tr>\n",
       "        <td>4</td>\n",
       "        <td>Deep Learning</td>\n",
       "        <td>5</td>\n",
       "        <td>None</td>\n",
       "    </tr>\n",
       "    <tr>\n",
       "        <td>5</td>\n",
       "        <td>Computer Vision</td>\n",
       "        <td>5</td>\n",
       "        <td>None</td>\n",
       "    </tr>\n",
       "    <tr>\n",
       "        <td>6</td>\n",
       "        <td>Natural Language Processing</td>\n",
       "        <td>5</td>\n",
       "        <td>None</td>\n",
       "    </tr>\n",
       "</table>"
      ],
      "text/plain": [
       "[(1, 'Fundamentals of Computer Science', 3, None),\n",
       " (2, 'Fundamentals of Mathematics', 4, None),\n",
       " (3, 'Machine Learning', 5, None),\n",
       " (4, 'Deep Learning', 5, None),\n",
       " (5, 'Computer Vision', 5, None),\n",
       " (6, 'Natural Language Processing', 5, None)]"
      ]
     },
     "execution_count": 24,
     "metadata": {},
     "output_type": "execute_result"
    }
   ],
   "source": [
    "%sql SELECT * FROM course "
   ]
  },
  {
   "cell_type": "code",
   "execution_count": 25,
   "metadata": {
    "colab": {
     "base_uri": "https://localhost:8080/",
     "height": 69
    },
    "colab_type": "code",
    "executionInfo": {
     "elapsed": 1161,
     "status": "ok",
     "timestamp": 1575293295230,
     "user": {
      "displayName": "Rosy Shrestha",
      "photoUrl": "https://lh5.googleusercontent.com/-2vZbOLKurdw/AAAAAAAAAAI/AAAAAAAAADE/f6PApdZyb_4/s64/photo.jpg",
      "userId": "08154866243064800637"
     },
     "user_tz": -345
    },
    "id": "ofEiSBdj_zgY",
    "outputId": "05b0d704-28f0-429a-c10e-51704e070d21",
    "slideshow": {
     "slide_type": "slide"
    }
   },
   "outputs": [
    {
     "name": "stdout",
     "output_type": "stream",
     "text": [
      " * sqlite://\n",
      "2 rows affected.\n"
     ]
    },
    {
     "data": {
      "text/plain": [
       "[]"
      ]
     },
     "execution_count": 25,
     "metadata": {},
     "output_type": "execute_result"
    }
   ],
   "source": [
    "%sql UPDATE course SET course_difficulty = 'easy' WHERE course_id == 1 OR course_id == 2;"
   ]
  },
  {
   "cell_type": "code",
   "execution_count": 26,
   "metadata": {
    "colab": {
     "base_uri": "https://localhost:8080/",
     "height": 199
    },
    "colab_type": "code",
    "executionInfo": {
     "elapsed": 1120,
     "status": "ok",
     "timestamp": 1575293298760,
     "user": {
      "displayName": "Rosy Shrestha",
      "photoUrl": "https://lh5.googleusercontent.com/-2vZbOLKurdw/AAAAAAAAAAI/AAAAAAAAADE/f6PApdZyb_4/s64/photo.jpg",
      "userId": "08154866243064800637"
     },
     "user_tz": -345
    },
    "id": "h1iY8FlMA1g-",
    "outputId": "c8c2a146-949d-4399-c061-98236a53e475",
    "slideshow": {
     "slide_type": "fragment"
    }
   },
   "outputs": [
    {
     "name": "stdout",
     "output_type": "stream",
     "text": [
      " * sqlite://\n",
      "Done.\n"
     ]
    },
    {
     "data": {
      "text/html": [
       "<table>\n",
       "    <tr>\n",
       "        <th>course_id</th>\n",
       "        <th>course_name</th>\n",
       "        <th>course_length</th>\n",
       "        <th>course_difficulty</th>\n",
       "    </tr>\n",
       "    <tr>\n",
       "        <td>1</td>\n",
       "        <td>Fundamentals of Computer Science</td>\n",
       "        <td>3</td>\n",
       "        <td>easy</td>\n",
       "    </tr>\n",
       "    <tr>\n",
       "        <td>2</td>\n",
       "        <td>Fundamentals of Mathematics</td>\n",
       "        <td>4</td>\n",
       "        <td>easy</td>\n",
       "    </tr>\n",
       "    <tr>\n",
       "        <td>3</td>\n",
       "        <td>Machine Learning</td>\n",
       "        <td>5</td>\n",
       "        <td>None</td>\n",
       "    </tr>\n",
       "    <tr>\n",
       "        <td>4</td>\n",
       "        <td>Deep Learning</td>\n",
       "        <td>5</td>\n",
       "        <td>None</td>\n",
       "    </tr>\n",
       "    <tr>\n",
       "        <td>5</td>\n",
       "        <td>Computer Vision</td>\n",
       "        <td>5</td>\n",
       "        <td>None</td>\n",
       "    </tr>\n",
       "    <tr>\n",
       "        <td>6</td>\n",
       "        <td>Natural Language Processing</td>\n",
       "        <td>5</td>\n",
       "        <td>None</td>\n",
       "    </tr>\n",
       "</table>"
      ],
      "text/plain": [
       "[(1, 'Fundamentals of Computer Science', 3, 'easy'),\n",
       " (2, 'Fundamentals of Mathematics', 4, 'easy'),\n",
       " (3, 'Machine Learning', 5, None),\n",
       " (4, 'Deep Learning', 5, None),\n",
       " (5, 'Computer Vision', 5, None),\n",
       " (6, 'Natural Language Processing', 5, None)]"
      ]
     },
     "execution_count": 26,
     "metadata": {},
     "output_type": "execute_result"
    }
   ],
   "source": [
    "%sql SELECT * FROM course"
   ]
  },
  {
   "cell_type": "markdown",
   "metadata": {
    "colab_type": "text",
    "id": "Is__T4VUsAt1",
    "slideshow": {
     "slide_type": "slide"
    }
   },
   "source": [
    ">Delete Table\n",
    "\n",
    "**Syntax:** `Drop table <table_name>`"
   ]
  },
  {
   "cell_type": "code",
   "execution_count": 0,
   "metadata": {
    "colab": {
     "base_uri": "https://localhost:8080/",
     "height": 69
    },
    "colab_type": "code",
    "executionInfo": {
     "elapsed": 986,
     "status": "ok",
     "timestamp": 1575293472632,
     "user": {
      "displayName": "Rosy Shrestha",
      "photoUrl": "https://lh5.googleusercontent.com/-2vZbOLKurdw/AAAAAAAAAAI/AAAAAAAAADE/f6PApdZyb_4/s64/photo.jpg",
      "userId": "08154866243064800637"
     },
     "user_tz": -345
    },
    "id": "JinOv4v6r_8f",
    "outputId": "99521755-710b-43ae-df5c-e4067943c27e",
    "slideshow": {
     "slide_type": "skip"
    }
   },
   "outputs": [
    {
     "name": "stdout",
     "output_type": "stream",
     "text": [
      " * sqlite://\n",
      "Done.\n"
     ]
    },
    {
     "data": {
      "text/plain": [
       "[]"
      ]
     },
     "execution_count": 14,
     "metadata": {
      "tags": []
     },
     "output_type": "execute_result"
    }
   ],
   "source": [
    "%sql drop table course;"
   ]
  },
  {
   "cell_type": "code",
   "execution_count": 0,
   "metadata": {
    "colab": {
     "base_uri": "https://localhost:8080/",
     "height": 87
    },
    "colab_type": "code",
    "executionInfo": {
     "elapsed": 1002,
     "status": "ok",
     "timestamp": 1575293477755,
     "user": {
      "displayName": "Rosy Shrestha",
      "photoUrl": "https://lh5.googleusercontent.com/-2vZbOLKurdw/AAAAAAAAAAI/AAAAAAAAADE/f6PApdZyb_4/s64/photo.jpg",
      "userId": "08154866243064800637"
     },
     "user_tz": -345
    },
    "id": "VV5mHgr7sISo",
    "outputId": "3a3f04b1-c28e-4f8f-c122-c87a269bdca8",
    "slideshow": {
     "slide_type": "skip"
    }
   },
   "outputs": [
    {
     "name": "stdout",
     "output_type": "stream",
     "text": [
      " * sqlite://\n",
      "(sqlite3.OperationalError) no such table: course\n",
      "[SQL: select * from course;]\n",
      "(Background on this error at: http://sqlalche.me/e/e3q8)\n"
     ]
    }
   ],
   "source": [
    "%sql select * from course;"
   ]
  },
  {
   "cell_type": "code",
   "execution_count": null,
   "metadata": {
    "colab": {},
    "colab_type": "code",
    "id": "CEKcvldQLK4q",
    "slideshow": {
     "slide_type": "skip"
    }
   },
   "outputs": [],
   "source": []
  },
  {
   "cell_type": "code",
   "execution_count": null,
   "metadata": {},
   "outputs": [],
   "source": []
  }
 ],
 "metadata": {
  "celltoolbar": "Slideshow",
  "colab": {
   "collapsed_sections": [],
   "name": "Slide Notebook: Introduction to SQL",
   "provenance": []
  },
  "kernelspec": {
   "display_name": "Python 3",
   "language": "python",
   "name": "python3"
  },
  "language_info": {
   "codemirror_mode": {
    "name": "ipython",
    "version": 3
   },
   "file_extension": ".py",
   "mimetype": "text/x-python",
   "name": "python",
   "nbconvert_exporter": "python",
   "pygments_lexer": "ipython3",
   "version": "3.8.3"
  }
 },
 "nbformat": 4,
 "nbformat_minor": 1
}
