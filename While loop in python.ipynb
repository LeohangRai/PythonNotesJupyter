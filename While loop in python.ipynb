{
 "cells": [
  {
   "cell_type": "code",
   "execution_count": 1,
   "metadata": {},
   "outputs": [
    {
     "name": "stdout",
     "output_type": "stream",
     "text": [
      "0\n",
      "2\n",
      "4\n",
      "6\n",
      "8\n"
     ]
    }
   ],
   "source": [
    "#Print the even numbers less than 10\n",
    "w=0\n",
    "while w<10:\n",
    "    if w%2==0:\n",
    "        print(w)\n",
    "    w+=1\n",
    "    \n"
   ]
  },
  {
   "cell_type": "code",
   "execution_count": null,
   "metadata": {},
   "outputs": [],
   "source": [
    "#Printing the items of a list using while loop:\n",
    "li= [1,3.14,'a','b']\n",
    "i=0\n",
    "\n",
    "while i<(len(li)):\n",
    "    print(li[i])\n",
    "    i+=1\n"
   ]
  },
  {
   "cell_type": "code",
   "execution_count": 10,
   "metadata": {},
   "outputs": [
    {
     "name": "stdout",
     "output_type": "stream",
     "text": [
      "b\n",
      "a\n",
      "3.14\n",
      "1\n"
     ]
    }
   ],
   "source": [
    "#Popping the items of a list using while loop:\n",
    "li= [1,3.14,'a','b']\n",
    "\n",
    "while len(li):\n",
    "    print(li.pop())   #This will pop items one by one from the back of the list\n"
   ]
  },
  {
   "cell_type": "code",
   "execution_count": 13,
   "metadata": {
    "scrolled": true
   },
   "outputs": [
    {
     "name": "stdout",
     "output_type": "stream",
     "text": [
      "1\n",
      "3.14\n",
      "a\n",
      "b\n"
     ]
    }
   ],
   "source": [
    "#popping the items of a list using while loop:\n",
    "li = [1,3.14,'a','b']\n",
    "\n",
    "while len(li):\n",
    "    print(li.pop(0))  #This will pop the items one by one from the front of the list"
   ]
  },
  {
   "cell_type": "code",
   "execution_count": 2,
   "metadata": {},
   "outputs": [
    {
     "name": "stdout",
     "output_type": "stream",
     "text": [
      "\n",
      "Please tell me your name:\n",
      "First name: Leohang\n",
      "Last name: Rai\n",
      "\n",
      "Hello, Leohang Rai!\n"
     ]
    }
   ],
   "source": [
    "#Use of the break keyword\n",
    "def get_formatted_name(first_name, last_name):    \n",
    "    \"\"\"Return a full name, neatly formatted.\"\"\"    \n",
    "    full_name = first_name + ' ' + last_name    \n",
    "    return full_name.title()\n",
    "\n",
    "while True:      \n",
    "    print(\"\\nPlease tell me your name:\")    \n",
    "    f_name = input(\"First name: \")    \n",
    "    l_name = input(\"Last name: \")    \n",
    "    \n",
    "    formatted_name = get_formatted_name(f_name, l_name)    \n",
    "    print(\"\\nHello, \" + formatted_name + \"!\")\n",
    "    break\n"
   ]
  },
  {
   "cell_type": "code",
   "execution_count": 7,
   "metadata": {},
   "outputs": [
    {
     "name": "stdout",
     "output_type": "stream",
     "text": [
      "\n",
      "Please tell me your name:\n",
      "Press S at any time to stop\n",
      "First name: Leohang\n",
      "Last name: Rai\n",
      "\n",
      "Hello, Leohang Rai!\n",
      "\n",
      "Please tell me your name:\n",
      "Press S at any time to stop\n",
      "First name: s\n"
     ]
    }
   ],
   "source": [
    "#Making users break the loop if they want to\n",
    "def get_formatted_name(first_name, last_name):    \n",
    "    \"\"\"Return a full name, neatly formatted.\"\"\"    \n",
    "    full_name = first_name + ' ' + last_name    \n",
    "    return full_name.title()\n",
    "\n",
    "while True:      \n",
    "    print(\"\\nPlease tell me your name:\")   \n",
    "    print(\"Press S at any time to stop\")\n",
    "    \n",
    "    f_name = input(\"First name: \")\n",
    "    if f_name == 's' or f_name == 'S':\n",
    "        break\n",
    "        \n",
    "    l_name = input(\"Last name: \")    \n",
    "    if l_name == 's' or l_name == 'S':\n",
    "        break\n",
    "    \n",
    "    \n",
    "    formatted_name = get_formatted_name(f_name, l_name)    \n",
    "    print(\"\\nHello, \" + formatted_name + \"!\")\n",
    "    "
   ]
  },
  {
   "cell_type": "code",
   "execution_count": null,
   "metadata": {},
   "outputs": [],
   "source": []
  }
 ],
 "metadata": {
  "kernelspec": {
   "display_name": "Python 3",
   "language": "python",
   "name": "python3"
  },
  "language_info": {
   "codemirror_mode": {
    "name": "ipython",
    "version": 3
   },
   "file_extension": ".py",
   "mimetype": "text/x-python",
   "name": "python",
   "nbconvert_exporter": "python",
   "pygments_lexer": "ipython3",
   "version": "3.7.4"
  }
 },
 "nbformat": 4,
 "nbformat_minor": 2
}
