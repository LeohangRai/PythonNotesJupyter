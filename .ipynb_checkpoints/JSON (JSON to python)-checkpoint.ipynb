{
 "cells": [
  {
   "cell_type": "markdown",
   "metadata": {},
   "source": [
    "## JSON\n",
    "XML is not bad, it's just that it's very powerful, more powerful than we need in general.\n",
    "JSON is very native to JavaScript\n",
    "\n",
    "<PRE>\n",
    "#Important Note:\n",
    "In JSON, the names, i.e. they keys and values should be placed inside double quotes (\" \") insted of  single quotes\n",
    "It is alright to use single quotes in python dictionary but in JSON, double quotes is mandatory.\n",
    "So make sure that the keys and values are placed inside double quotes before loading them with the\n",
    "json.loads() function.\n",
    "\n",
    "There are multiple ways to make sure to pass double quotes.\n",
    "1. Using str.replace method:\n",
    "data = data.replace(\" ' \", ' \" ')\n",
    "---> Replaces single quote with double quote\n",
    "\n",
    "\n",
    "2. json.dumps() method\n",
    "\n",
    "Also, we can use the dump function to replace single quotes with double quotes and then send the string into the \n",
    "loads function as:\n",
    "\n",
    "\n",
    "#Important Note\n",
    "json.loads() is for loading a string\n",
    "json.load() is for loading a json file"
   ]
  },
  {
   "cell_type": "code",
   "execution_count": 14,
   "metadata": {},
   "outputs": [
    {
     "name": "stdout",
     "output_type": "stream",
     "text": [
      "Chuck\n",
      "{'type': 'intl', 'number': '89327493489'}\n",
      "{'hide': 'yes'}\n"
     ]
    }
   ],
   "source": [
    "import json\n",
    "\n",
    "data = '''{\n",
    "    \"name\":\"Chuck\",\n",
    "    \"phone\":{\n",
    "        \"type\":\"intl\",\n",
    "        \"number\":\"89327493489\"\n",
    "    },\n",
    "    \"email\":{\n",
    "        \"hide\":\"yes\"\n",
    "    }\n",
    "}'''\n",
    "\n",
    "info = json.loads(data)  #The loads function returns a dictionary object (in this case)\n",
    "#The object type that the loads function returns depends upon the string that we pass.\n",
    "#Since we had passed a string that has a dictionary in this case, we got a dictionary\n",
    "#If we had [] instead of {}, we'd have a list\n",
    "\n",
    "\n",
    "print(info['name'])\n",
    "print(info['phone'])\n",
    "print(info['email'])"
   ]
  },
  {
   "cell_type": "code",
   "execution_count": null,
   "metadata": {},
   "outputs": [],
   "source": []
  },
  {
   "cell_type": "markdown",
   "metadata": {},
   "source": [
    "### What to do when the keys/values are single quoted"
   ]
  },
  {
   "cell_type": "code",
   "execution_count": 2,
   "metadata": {},
   "outputs": [
    {
     "name": "stdout",
     "output_type": "stream",
     "text": [
      "Chuck\n",
      "{'type': 'intl', 'number': '89327493489'}\n",
      "{'hide': 'yes'}\n"
     ]
    }
   ],
   "source": [
    "import json\n",
    "\n",
    "data = '''\n",
    "{\n",
    "    'name':'Chuck',\n",
    "    'phone':{\n",
    "        'type':'intl',\n",
    "        'number':'89327493489'\n",
    "    },\n",
    "    'email':{\n",
    "        'hide':'yes'\n",
    "    }\n",
    "}\n",
    "'''\n",
    "\n",
    "data = data.replace(\"'\", '\"')\n",
    "info = json.loads(data)\n",
    "print(info['name'])\n",
    "print(info['phone'])\n",
    "print(info['email'])"
   ]
  },
  {
   "cell_type": "code",
   "execution_count": null,
   "metadata": {},
   "outputs": [],
   "source": []
  },
  {
   "cell_type": "code",
   "execution_count": 7,
   "metadata": {},
   "outputs": [
    {
     "name": "stdout",
     "output_type": "stream",
     "text": [
      "<class 'dict'>\n",
      "<class 'list'>\n"
     ]
    }
   ],
   "source": [
    "import json\n",
    "\n",
    "#A dictionary that has people as a key, which has an array as value\n",
    "#And the array has 2 dictionaries\n",
    "\n",
    "people_string = '''\n",
    "{\n",
    "    \"people\":[\n",
    "        {\n",
    "            \"name\":\"John Smith\",\n",
    "            \"phone\": \"234324353\",\n",
    "            \"emails\": [\"johnsmith@bogusemail.com\", \"john.smith@work-place.com\"],\n",
    "            \"has_license\": false\n",
    "        },\n",
    "        {\n",
    "            \"name\":\"Jane Doe\",\n",
    "            \"phone\":\"89458049\",\n",
    "            \"emails\": null,\n",
    "            \"has_license\": true\n",
    "        }\n",
    "    ]\n",
    "}\n",
    "'''\n",
    "\n",
    "my_data = json.loads(people_string)\n",
    "\n",
    "print(type(my_data))  \n",
    "print(type(my_data['people']))"
   ]
  },
  {
   "cell_type": "code",
   "execution_count": 10,
   "metadata": {},
   "outputs": [
    {
     "name": "stdout",
     "output_type": "stream",
     "text": [
      "{'people': [{'name': 'John Smith', 'phone': '234324353', 'emails': ['johnsmith@bogusemail.com', 'john.smith@work-place.com'], 'has_license': False}, {'name': 'Jane Doe', 'phone': '89458049', 'emails': None, 'has_license': True}]}\n"
     ]
    }
   ],
   "source": [
    "print(my_data)"
   ]
  },
  {
   "cell_type": "markdown",
   "metadata": {},
   "source": [
    "#### Above, we can note that 'null' got converted into 'None', false into False, true into True and so on"
   ]
  },
  {
   "cell_type": "code",
   "execution_count": null,
   "metadata": {},
   "outputs": [],
   "source": []
  },
  {
   "cell_type": "code",
   "execution_count": 19,
   "metadata": {},
   "outputs": [
    {
     "name": "stdout",
     "output_type": "stream",
     "text": [
      "John Smith\n",
      "234324353\n",
      "['johnsmith@bogusemail.com', 'john.smith@work-place.com']\n",
      "False\n",
      "\n",
      "Jane Doe\n",
      "89458049\n",
      "None\n",
      "True\n",
      "\n"
     ]
    }
   ],
   "source": [
    "#Let's loop through all the dictionaries inside the list\n",
    "for i in my_data['people']:\n",
    "    print(i['name'])\n",
    "    print(i['phone'])\n",
    "    print(i['emails'])\n",
    "    print(i['has_license'])\n",
    "    print()"
   ]
  }
 ],
 "metadata": {
  "kernelspec": {
   "display_name": "Python 3",
   "language": "python",
   "name": "python3"
  },
  "language_info": {
   "codemirror_mode": {
    "name": "ipython",
    "version": 3
   },
   "file_extension": ".py",
   "mimetype": "text/x-python",
   "name": "python",
   "nbconvert_exporter": "python",
   "pygments_lexer": "ipython3",
   "version": "3.7.4"
  }
 },
 "nbformat": 4,
 "nbformat_minor": 2
}
