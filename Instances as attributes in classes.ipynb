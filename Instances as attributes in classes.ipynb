{
 "cells": [
  {
   "cell_type": "code",
   "execution_count": 4,
   "metadata": {},
   "outputs": [
    {
     "name": "stdout",
     "output_type": "stream",
     "text": [
      "This car has a 70 KWh battery\n"
     ]
    }
   ],
   "source": [
    "#Creating a Car that will have Battery class instance as an attribute.\n",
    "\n",
    "class Battery():\n",
    "    def __init__(self, size = 70):\n",
    "        self.size = size\n",
    "        \n",
    "    def desc_battery(self):\n",
    "        print(\"This car has a \"+str(self.size)+\" KWh battery\")\n",
    " \n",
    "\n",
    "class Car():\n",
    "    def __init__(self, company, model):\n",
    "        self.company = company\n",
    "        self.model = model\n",
    "        self.battery = Battery()  #This is the instance of Battery class initiailized with default value.\n",
    "        \n",
    "my_car = Car('Tesla','LEO')\n",
    "my_car.battery.desc_battery()"
   ]
  },
  {
   "cell_type": "code",
   "execution_count": null,
   "metadata": {},
   "outputs": [],
   "source": []
  }
 ],
 "metadata": {
  "kernelspec": {
   "display_name": "Python 3",
   "language": "python",
   "name": "python3"
  },
  "language_info": {
   "codemirror_mode": {
    "name": "ipython",
    "version": 3
   },
   "file_extension": ".py",
   "mimetype": "text/x-python",
   "name": "python",
   "nbconvert_exporter": "python",
   "pygments_lexer": "ipython3",
   "version": "3.7.4"
  }
 },
 "nbformat": 4,
 "nbformat_minor": 2
}
