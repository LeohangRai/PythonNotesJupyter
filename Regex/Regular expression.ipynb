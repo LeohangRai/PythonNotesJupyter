{
 "cells": [
  {
   "cell_type": "markdown",
   "metadata": {},
   "source": [
    "### Regular expressions"
   ]
  },
  {
   "cell_type": "markdown",
   "metadata": {},
   "source": [
    "<PRE>\n",
    "#The big bracket (Square brackets):\n",
    "[]\n",
    "\n",
    "Inside the square  bracket, we can specify what to find.\n",
    "Like we can specify digits, range of digits, characters, etc\n",
    "\n",
    "Example:\n",
    "[0-9]\n",
    "\n",
    "\n",
    "NOTE:\n",
    "I think everything inside the Sq.bracket is treated as OR\n",
    "The symbols are treated differently inside the square bracket than how they are treated in regex.\n",
    "For example:\n",
    "Inside the [], '^' means NOT which would mean STARTSWITH in a regex\n",
    "\n",
    "So '\\S+' is equivalent to '[^ ]+'\n",
    "Both mean, non space character, 1 or many\n",
    "\n",
    "\n",
    "#The plus symbol and The asterik symbol\n",
    "+ : It means 1 or more.\n",
    "* : It means 0 or more\n",
    "\n",
    "For example, if we specify:\n",
    "[0-9]+\n",
    "This means 1 or more digits.\n",
    "\n",
    "Another example, if we specify:\n",
    "[0-9]*\n",
    "This means 0 or more digits\n",
    "\n",
    "\n",
    "\n"
   ]
  },
  {
   "cell_type": "markdown",
   "metadata": {},
   "source": [
    "### re.search vs re.findall\n",
    "\n",
    "<PRE>re.search()\n",
    "returns True or False, depending upon whether the string matches the regex or not.\n",
    "\n",
    "re.findall()\n",
    "re.findall('regex', 'string')\n",
    "If we actually want the matching strings to be extracted, we use re.finall()\n",
    "\n",
    "The findall() method a list of all the matches from the string.\n",
    "If none is found, then an empty list.\n"
   ]
  },
  {
   "cell_type": "code",
   "execution_count": 11,
   "metadata": {},
   "outputs": [
    {
     "name": "stdout",
     "output_type": "stream",
     "text": [
      "['2', '19', '42']\n",
      "[]\n"
     ]
    }
   ],
   "source": [
    "import re\n",
    "x = 'My 2 favorite numbers are 19 and 42'\n",
    "\n",
    "y = re.findall('[0-9]+', x)  #\n",
    "\n",
    "z = re.findall('[AEIOU]+', x)\n",
    "\n",
    "print(y)\n",
    "print(z)"
   ]
  },
  {
   "cell_type": "code",
   "execution_count": null,
   "metadata": {},
   "outputs": [],
   "source": []
  },
  {
   "cell_type": "markdown",
   "metadata": {},
   "source": [
    "### Greedy matching\n",
    "<PRE>\n",
    "By default, in regex, the greedy matching is ON.\n",
    "This means the regular expression library attempts to give you the largest possible version of the string that \n",
    "you're matching.\n",
    "The repeat characters (+ and *) push outwards in both directions to match the largest possible string. \n",
    "(i.e. Greedy)\n",
    "\n",
    "\n",
    "Let's say we have a string:\n",
    "x = 'From: Using the: whatever'\n",
    "\n",
    "If we define a regex like:\n",
    "^F.+:\n",
    "This regex means, starting with 'F', follwed by any character '.'  1 or many count with a ':'\n",
    "\n",
    "Here, we expect to get the result, 'From:' from the string x\n",
    "But what happens is, the regex will return the whole substring up to 'From: Using the:'\n",
    "This is because the greedy matching is ON.\n",
    "\n",
    "</PRE>\n",
    "### So how to avoid the greedy matching?\n",
    "<PRE>\n",
    "We can do this by using the '?' symbol.\n",
    "It tells the regex to match the first (shortest) string match.\n",
    "\n"
   ]
  },
  {
   "cell_type": "code",
   "execution_count": 16,
   "metadata": {},
   "outputs": [
    {
     "data": {
      "text/plain": [
       "['From: Using the:']"
      ]
     },
     "execution_count": 16,
     "metadata": {},
     "output_type": "execute_result"
    }
   ],
   "source": [
    "#Greedy matching ON (by default)\n",
    "import re\n",
    "x = 'From: Using the: character'\n",
    "y = re.findall('^F.+:', x)\n",
    "y"
   ]
  },
  {
   "cell_type": "code",
   "execution_count": 17,
   "metadata": {},
   "outputs": [
    {
     "data": {
      "text/plain": [
       "['From:']"
      ]
     },
     "execution_count": 17,
     "metadata": {},
     "output_type": "execute_result"
    }
   ],
   "source": [
    "#Greedy matching OFF\n",
    "import re\n",
    "x = 'From: Using the: character'\n",
    "y = re.findall('^F.+?:', x)\n",
    "y"
   ]
  },
  {
   "cell_type": "code",
   "execution_count": null,
   "metadata": {},
   "outputs": [],
   "source": []
  },
  {
   "cell_type": "code",
   "execution_count": null,
   "metadata": {},
   "outputs": [],
   "source": []
  },
  {
   "cell_type": "markdown",
   "metadata": {},
   "source": [
    "### Matching email"
   ]
  },
  {
   "cell_type": "code",
   "execution_count": 20,
   "metadata": {},
   "outputs": [
    {
     "name": "stdout",
     "output_type": "stream",
     "text": [
      "['stephen.marquard@uct.ac.za']\n"
     ]
    }
   ],
   "source": [
    "x = 'From stephen.marquard@uct.ac.za Sat Jan 5 09:14:16 2008'\n",
    "y = re.findall('\\S+@\\S+', x)  #matches a nonspace sequence (because +) with @ followed by another nonspace sequence\n",
    "print(y)\n"
   ]
  },
  {
   "cell_type": "markdown",
   "metadata": {},
   "source": [
    "<PRE>NOTE: on the above regex, we didn't specify '?'.\n",
    "If we'd done that, it would have returned 'd@u'"
   ]
  },
  {
   "cell_type": "code",
   "execution_count": 31,
   "metadata": {},
   "outputs": [
    {
     "name": "stdout",
     "output_type": "stream",
     "text": [
      "['stephen.marquard@u']\n"
     ]
    }
   ],
   "source": [
    "x = 'From stephen.marquard@uct.ac.za Sat Jan 5 09:14:16 2008'\n",
    "y = re.findall('\\S+@\\S+?', x)  #matches a nonspace sequence (because +) with @ followed by another nonspace sequence\n",
    "print(y)\n"
   ]
  },
  {
   "cell_type": "code",
   "execution_count": null,
   "metadata": {},
   "outputs": [],
   "source": []
  },
  {
   "cell_type": "markdown",
   "metadata": {},
   "source": [
    "### Using paranthesis\n",
    "<PRE>\n",
    "Paranthesis are not treated as a keyword-esque character in regex.\n",
    "But they can be used to specify where to start and stop string EXTRACTION.\n",
    "Remember the word 'Extraction', only the part that is extracted is returned.\n",
    "So, using paranthesis, we can specify which part to extract from the matched pattern.\n",
    "\n",
    "For example:\n",
    "let's say we want to extract the emails from the string:\n",
    "\n",
    "\"From: raileohang@herald.college.edu.np Sat Jan 5\"\n",
    "\n",
    "Here, we can see that the email is followed by a \"From: \"\n",
    "Let's say that these patterns repeat in a txt file.\n",
    "\n",
    "Then we can use:\n",
    "^From (\\S+@\\S+)\n",
    "\n",
    "This means, the string should start with From with a space, some non space chars followed by an \"@\" again \n",
    "followed by some non-space characters.\n",
    "But only return the part that matches the regex inside the bracket.\n",
    "\n",
    "NOTE:\n",
    "i.e. scan for the whole expression\n",
    "But only return the part specified inside paranthesis"
   ]
  },
  {
   "cell_type": "code",
   "execution_count": 36,
   "metadata": {},
   "outputs": [
    {
     "data": {
      "text/plain": [
       "['raileohang@herald.college.edu.np']"
      ]
     },
     "execution_count": 36,
     "metadata": {},
     "output_type": "execute_result"
    }
   ],
   "source": [
    "#Using paranthesis\n",
    "x = 'From raileohang@herald.college.edu.np Sat Jan 5'\n",
    "y = re.findall('^From (\\S+@\\S+)', x)\n",
    "y"
   ]
  },
  {
   "cell_type": "code",
   "execution_count": null,
   "metadata": {},
   "outputs": [],
   "source": []
  },
  {
   "cell_type": "markdown",
   "metadata": {},
   "source": [
    "### Matching the domain part of an email\n",
    "Remember how we did this before, by using split() and find() to get the position of @ and then slicing using the posision obtained from the find() method."
   ]
  },
  {
   "cell_type": "code",
   "execution_count": 45,
   "metadata": {},
   "outputs": [
    {
     "data": {
      "text/plain": [
       "['herald.college.edu.np']"
      ]
     },
     "execution_count": 45,
     "metadata": {},
     "output_type": "execute_result"
    }
   ],
   "source": [
    "import re\n",
    "x = 'From raileohang@herald.college.edu.np Sat Jan 5'\n",
    "y = re.findall('@(\\S+)', x)\n",
    "y\n"
   ]
  },
  {
   "cell_type": "code",
   "execution_count": 48,
   "metadata": {},
   "outputs": [
    {
     "data": {
      "text/plain": [
       "['herald.college.edu.np']"
      ]
     },
     "execution_count": 48,
     "metadata": {},
     "output_type": "execute_result"
    }
   ],
   "source": [
    "#Alternative:\n",
    "x = 'From raileohang@herald.college.edu.np Sat Jan 5'\n",
    "y = re.findall('@([^ ]+)', x)  #Here [^ ] means, not space\n",
    "y"
   ]
  },
  {
   "cell_type": "code",
   "execution_count": null,
   "metadata": {},
   "outputs": [],
   "source": []
  },
  {
   "cell_type": "markdown",
   "metadata": {},
   "source": [
    "### Let's fine tune this even more"
   ]
  },
  {
   "cell_type": "code",
   "execution_count": 52,
   "metadata": {},
   "outputs": [
    {
     "data": {
      "text/plain": [
       "['herald.college.edu.np']"
      ]
     },
     "execution_count": 52,
     "metadata": {},
     "output_type": "execute_result"
    }
   ],
   "source": [
    "import re\n",
    "x = 'From raileohang@herald.college.edu.np Sat Jan 5'\n",
    "y = re.findall('From .*@(\\S+)', x)   \n",
    "#means From with a space followed by 0 or many characters(.) followed by '@'' followed by 1 or many nonspace characters\n",
    "#But only return the non-space characters after the \"@\" i.e. (\\S+)\n",
    "\n",
    "y"
   ]
  },
  {
   "cell_type": "code",
   "execution_count": 53,
   "metadata": {},
   "outputs": [
    {
     "data": {
      "text/plain": [
       "['stephen.marquard@uct.ac.za']"
      ]
     },
     "execution_count": 53,
     "metadata": {},
     "output_type": "execute_result"
    }
   ],
   "source": [
    "x = 'From stephen.marquard@uct.ac.za Sat Jan  5 09:14:16 2008'\n",
    "y = re.findall('\\S+?@\\S+',x)\n",
    "y\n"
   ]
  }
 ],
 "metadata": {
  "kernelspec": {
   "display_name": "Python 3",
   "language": "python",
   "name": "python3"
  },
  "language_info": {
   "codemirror_mode": {
    "name": "ipython",
    "version": 3
   },
   "file_extension": ".py",
   "mimetype": "text/x-python",
   "name": "python",
   "nbconvert_exporter": "python",
   "pygments_lexer": "ipython3",
   "version": "3.7.4"
  }
 },
 "nbformat": 4,
 "nbformat_minor": 2
}
