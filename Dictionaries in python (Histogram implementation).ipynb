{
 "cells": [
  {
   "cell_type": "markdown",
   "metadata": {},
   "source": [
    "You are given a list of names. <br>\n",
    "By looking at the list, implement a dictionary such that, the dictionary stores the key as the unique names in the list and values as the frequency of each name (i.e. each key)<br>\n",
    "This is like a histogram.\n",
    "Because a histogram shows the frequency of all the available items.\n"
   ]
  },
  {
   "cell_type": "code",
   "execution_count": 1,
   "metadata": {},
   "outputs": [
    {
     "data": {
      "text/plain": [
       "{'csev': 2, 'cwen': 2, 'rayan': 1}"
      ]
     },
     "execution_count": 1,
     "metadata": {},
     "output_type": "execute_result"
    }
   ],
   "source": [
    "counts = dict()\n",
    "names = ['csev', 'cwen', 'csev', 'rayan', 'cwen']\n",
    "\n",
    "for name in names:\n",
    "    if name not in counts:\n",
    "        counts[name] = 1\n",
    "    else:\n",
    "        counts[name] += 1\n",
    "counts"
   ]
  },
  {
   "cell_type": "markdown",
   "metadata": {},
   "source": [
    "### Logic:\n",
    "If the name doesn't already appear in the dictionary (as key), it means, the name was found for the first time, so it's count(value) would be set to 1.<br>\n",
    "Otherwise, set it to previous number plus 1.\n"
   ]
  },
  {
   "cell_type": "code",
   "execution_count": null,
   "metadata": {},
   "outputs": [],
   "source": []
  },
  {
   "cell_type": "markdown",
   "metadata": {},
   "source": [
    "### Implementing the same thing using the get function."
   ]
  },
  {
   "cell_type": "code",
   "execution_count": 8,
   "metadata": {},
   "outputs": [
    {
     "data": {
      "text/plain": [
       "{'csev': 2, 'cwen': 2, 'rayan': 1}"
      ]
     },
     "execution_count": 8,
     "metadata": {},
     "output_type": "execute_result"
    }
   ],
   "source": [
    "counts = dict()\n",
    "names = ['csev', 'cwen', 'csev', 'rayan', 'cwen']\n",
    "\n",
    "for name in names:\n",
    "    counts[name] = counts.get(name, 0) + 1 \n",
    "counts    "
   ]
  },
  {
   "cell_type": "markdown",
   "metadata": {},
   "source": [
    "### Logic:\n",
    "Look at what the get method does below, if you've forgotten already.<br>\n",
    "The get method returns the defaul value that we pass as argument, if the key doesn't exist.\n",
    "\n",
    "So what we can do here is, we can add <br>\n",
    "counts.get(name, 0) + 1\n",
    "\n",
    "Here, if the name doesn't exist in the dictionary, that it is encountered for the first time, then the get method will return 0.<br>\n",
    "So the total count will be 0 + 1 = 1\n",
    "\n",
    "Otherwise, the get method will return the count value of the name, and it will be incremented with 1 as:\n",
    "count.get(name) + 1 <br>\n",
    "i.e. previous value + 1\n"
   ]
  },
  {
   "cell_type": "code",
   "execution_count": null,
   "metadata": {},
   "outputs": [],
   "source": []
  },
  {
   "cell_type": "code",
   "execution_count": null,
   "metadata": {},
   "outputs": [],
   "source": []
  },
  {
   "cell_type": "markdown",
   "metadata": {},
   "source": [
    "### get() method in dictionary\n",
    "<PRE>\n",
    "While looking for the values in a dictionary using the keys, sometimes the key we enter may not exist:\n",
    "\n",
    "dict_name['key_that_dont_exist']\n",
    "\n",
    "This will throw a key error.\n",
    "\n",
    "\n",
    "So, to avoid this we can use the get method of the dict() obj.\n",
    "dict_name.get('key', default_value)\n",
    "\n",
    "default value is the value that will be returned if the key doesn't exist in the dictionary.\n",
    "\n",
    "Example:\n",
    "di = {'a':1, 'b':2, 'c':3}\n",
    "\n",
    "print(di.get('a'))     \t> 1\n",
    "di.get('e', 0)\t>0\n",
    "\n",
    "NOTE: The main benefit of this method is that it doesn't throw a traceback whether the key exists or not.\n",
    "\n",
    "\n",
    "The internal structure is:\n",
    "My own hypothesis:\n",
    "\n",
    "def get(key, default):\n",
    "    if key in di.keys():\n",
    "        return di[key]\n",
    "    else: \n",
    "        return default\t\n",
    "\n"
   ]
  },
  {
   "cell_type": "code",
   "execution_count": null,
   "metadata": {},
   "outputs": [],
   "source": []
  }
 ],
 "metadata": {
  "kernelspec": {
   "display_name": "Python 3",
   "language": "python",
   "name": "python3"
  },
  "language_info": {
   "codemirror_mode": {
    "name": "ipython",
    "version": 3
   },
   "file_extension": ".py",
   "mimetype": "text/x-python",
   "name": "python",
   "nbconvert_exporter": "python",
   "pygments_lexer": "ipython3",
   "version": "3.7.4"
  }
 },
 "nbformat": 4,
 "nbformat_minor": 2
}
