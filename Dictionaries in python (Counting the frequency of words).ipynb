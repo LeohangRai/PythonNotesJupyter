{
 "cells": [
  {
   "cell_type": "markdown",
   "metadata": {},
   "source": [
    "### The user will enter a sentence and we have to check the sentence and store the frequency of each word as the value to the word as a key."
   ]
  },
  {
   "cell_type": "code",
   "execution_count": 1,
   "metadata": {},
   "outputs": [
    {
     "name": "stdout",
     "output_type": "stream",
     "text": [
      "Enter the sentence: The hello the hello the world\n",
      "{'The': 1, 'hello': 2, 'the': 2, 'world': 1}\n"
     ]
    }
   ],
   "source": [
    "counts = dict() #creates an empty dictionary\n",
    "sentence = input(\"Enter the sentence: \")\n",
    "\n",
    "try:\n",
    "    words = str(sentence).split()    \n",
    "except:\n",
    "    print(\"You must enter a valid sentence.\")\n",
    "    quit()\n",
    "\n",
    "for word in words:\n",
    "    counts[word] = counts.get(word, 0) + 1   #If the word is not in the dict add 0+1 otherwise add prev count + 1\n",
    "    \n",
    "print(counts)"
   ]
  },
  {
   "cell_type": "code",
   "execution_count": null,
   "metadata": {},
   "outputs": [],
   "source": []
  },
  {
   "cell_type": "code",
   "execution_count": null,
   "metadata": {},
   "outputs": [],
   "source": []
  },
  {
   "cell_type": "markdown",
   "metadata": {},
   "source": [
    "### Doing the same thing but on a file"
   ]
  },
  {
   "cell_type": "code",
   "execution_count": 5,
   "metadata": {},
   "outputs": [
    {
     "name": "stdout",
     "output_type": "stream",
     "text": [
      "Enter the file name: Syntax error is not that bad.txt\n",
      "{'syntax': 5, 'error': 3, \"doesn't\": 2, 'mean': 1, 'that': 4, 'Python': 6, 'thinks': 1, \"you're\": 1, 'bad.': 1, 'It': 2, 'is': 6, 'not': 3, 'a': 5, 'judgement': 2, 'of': 3, 'your': 3, 'ability': 1, 'as': 2, 'programmer,': 1, 'it': 4, 'potential': 1, 'to': 1, 'be': 2, 'programmer.': 1, 'Syntax': 1, 'means': 2, 'lost.': 2, 'You': 2, 'are': 1, 'learning': 1, \"Python's\": 1, 'language': 1, 'because': 1, \"can't\": 1, 'learn': 1, 'language.': 1, \"You're\": 1, 'smarter': 1, 'than': 1, 'Python.': 1, 'We': 1, 'can': 2, 'teach': 1, 'you.': 1, 'learn,': 1, 'but': 1, \"can't.\": 1, 'And': 1, 'so': 1, 'when': 2, 'says': 2, 'error,': 2, 'even': 1, 'though': 1, 'you': 3, 'feel': 1, 'like': 1, \"it's\": 2, 'rejection,': 1, 'simply': 1, 'just': 3, 'have': 1, 'really': 1, 'friendly': 1, 'words': 1, 'lost,': 1, 'goes': 1, 'which': 1, 'literally': 1, 'exactly': 1, \"what's\": 1, 'happening.': 1, 'Your': 1, 'something': 1, 'understands.': 1, 'So': 1, 'understand': 1, 'go': 1, 'through': 1, 'the': 1, 'next': 1, 'couple': 1, 'weeks': 1, 'will': 1, 'frustrated.': 1}\n"
     ]
    }
   ],
   "source": [
    "filename = input(\"Enter the file name: \")\n",
    "handle = open(filename)\n",
    "\n",
    "count = dict()\n",
    "for line in handle:\n",
    "    words = line.split()\n",
    "    \n",
    "    for word in words:\n",
    "        count[word] = count.get(word, 0) +1\n",
    "\n",
    "print(count)    \n"
   ]
  },
  {
   "cell_type": "code",
   "execution_count": null,
   "metadata": {},
   "outputs": [],
   "source": []
  },
  {
   "cell_type": "markdown",
   "metadata": {},
   "source": [
    "### Doing the same thing but this time returning the word that has the highest count and its frequency"
   ]
  },
  {
   "cell_type": "code",
   "execution_count": 10,
   "metadata": {},
   "outputs": [
    {
     "name": "stdout",
     "output_type": "stream",
     "text": [
      "Enter the file name: Syntax error is not that bad.txt\n",
      "Python\n",
      "6\n"
     ]
    }
   ],
   "source": [
    "filename = input(\"Enter the file name: \")\n",
    "handle = open(filename)\n",
    "\n",
    "count = dict()\n",
    "for line in handle:\n",
    "    line = line.rstrip()\n",
    "    words = line.split()\n",
    "    \n",
    "    for word in words:\n",
    "        count[word] = count.get(word, 0) +1\n",
    "\n",
    "highest_word = 0\n",
    "highest_word_frequency = 0\n",
    "\n",
    "for key, value in count.items():\n",
    "    if value > highest_word_frequency:\n",
    "        highest_word_frequency = value\n",
    "        highest_word = key\n",
    "    \n",
    "print(highest_word)\n",
    "print(highest_word_frequency)"
   ]
  },
  {
   "cell_type": "markdown",
   "metadata": {},
   "source": [
    "The count is showing 6 because the word \"Python's\" is not counted as \"Python\""
   ]
  },
  {
   "cell_type": "code",
   "execution_count": null,
   "metadata": {},
   "outputs": [],
   "source": []
  }
 ],
 "metadata": {
  "kernelspec": {
   "display_name": "Python 3",
   "language": "python",
   "name": "python3"
  },
  "language_info": {
   "codemirror_mode": {
    "name": "ipython",
    "version": 3
   },
   "file_extension": ".py",
   "mimetype": "text/x-python",
   "name": "python",
   "nbconvert_exporter": "python",
   "pygments_lexer": "ipython3",
   "version": "3.7.4"
  }
 },
 "nbformat": 4,
 "nbformat_minor": 2
}
