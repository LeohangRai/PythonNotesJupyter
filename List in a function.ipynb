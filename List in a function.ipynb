{
 "cells": [
  {
   "cell_type": "code",
   "execution_count": 5,
   "metadata": {},
   "outputs": [
    {
     "name": "stdout",
     "output_type": "stream",
     "text": [
      "Hello Shizen!\n",
      "Hello Leo!\n",
      "Hello Abhishek!\n",
      "Hello Raj!\n"
     ]
    }
   ],
   "source": [
    "#Passing a list into a function\n",
    "def greet_users(names):\n",
    "    for name in names:\n",
    "        print(\"Hello \" + name.title() + \"!\")\n",
    "        \n",
    "namelis = [\"Shizen\", \"Leo\", \"Abhishek\", \"Raj\"]\n",
    "greet_users(namelis)\n",
    "\n",
    "#NOTE: If a string is passed instead of list, the fn will loop over the string indices"
   ]
  },
  {
   "cell_type": "code",
   "execution_count": null,
   "metadata": {},
   "outputs": [],
   "source": []
  }
 ],
 "metadata": {
  "kernelspec": {
   "display_name": "Python 3",
   "language": "python",
   "name": "python3"
  },
  "language_info": {
   "codemirror_mode": {
    "name": "ipython",
    "version": 3
   },
   "file_extension": ".py",
   "mimetype": "text/x-python",
   "name": "python",
   "nbconvert_exporter": "python",
   "pygments_lexer": "ipython3",
   "version": "3.7.4"
  }
 },
 "nbformat": 4,
 "nbformat_minor": 2
}
