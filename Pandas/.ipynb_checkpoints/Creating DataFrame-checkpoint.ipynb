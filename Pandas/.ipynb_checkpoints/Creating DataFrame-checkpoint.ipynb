{
 "cells": [
  {
   "cell_type": "markdown",
   "metadata": {},
   "source": [
    "# About DataFrame in Pandas"
   ]
  },
  {
   "cell_type": "markdown",
   "metadata": {},
   "source": [
    "DataFrame: a 2 or morre dimensional data structure (array).\n",
    "Basically a table with rows and columns.\n",
    "The columns have names and rows have indices.\n",
    "- heterogeneous data\n",
    "- size mutable\n",
    "- data mutable\n",
    "- can Perform Arithmetic operations on rows and columns\n",
    "\n",
    "<PRE>\n",
    "#Syntax:\n",
    "pandas.DataFrame( data, index, columns, dtype, copy)\n",
    "\n",
    "data - takes various forms of data like ndarray, series, map, lists, dict, constants and also another Dataframe.\n",
    "index - the index to be used for the resulting frame. Default: np.arrange(n)\n",
    "columns - for column labels. Default: np.arrange(n)\n",
    "\n",
    "dtype - data type of each column\n",
    "copy - for copying data. Default: False\n"
   ]
  },
  {
   "cell_type": "markdown",
   "metadata": {},
   "source": [
    "# Creating DataFrame\n",
    "\n",
    "A pandas DataFrame can be created using various inputs like:\n",
    "\n",
    "    Lists\n",
    "    dict\n",
    "    Series\n",
    "    Numpy ndarrays\n",
    "    Another DataFrame\n"
   ]
  },
  {
   "cell_type": "markdown",
   "metadata": {},
   "source": [
    "# Create an empty DataFrame"
   ]
  },
  {
   "cell_type": "code",
   "execution_count": 2,
   "metadata": {},
   "outputs": [
    {
     "name": "stdout",
     "output_type": "stream",
     "text": [
      "Empty DataFrame\n",
      "Columns: []\n",
      "Index: []\n"
     ]
    }
   ],
   "source": [
    "import pandas as pd\n",
    "import numpy as np\n",
    "\n",
    "df = pd.DataFrame()\n",
    "print(df)"
   ]
  },
  {
   "cell_type": "markdown",
   "metadata": {},
   "source": [
    "# Create a Dataframe from Lists\n",
    "The dataFrame can be created using a single list or a nested list."
   ]
  },
  {
   "cell_type": "code",
   "execution_count": 4,
   "metadata": {},
   "outputs": [
    {
     "name": "stdout",
     "output_type": "stream",
     "text": [
      "   0\n",
      "0  1\n",
      "1  2\n",
      "2  3\n",
      "3  4\n",
      "4  5\n"
     ]
    }
   ],
   "source": [
    "#Creating a dataFrame using list\n",
    "data = [1,2,3,4,5]\n",
    "df = pd.DataFrame(data)\n",
    "print(df)"
   ]
  },
  {
   "cell_type": "raw",
   "metadata": {},
   "source": [
    "NOTE: The 0 at top is the index of the column (Default indexing of column)"
   ]
  },
  {
   "cell_type": "code",
   "execution_count": 15,
   "metadata": {},
   "outputs": [
    {
     "name": "stdout",
     "output_type": "stream",
     "text": [
      "     Name  Age  Death\n",
      "0    Alex   10     40\n",
      "1     Bob   12     50\n",
      "2  Clarke   13     50\n"
     ]
    }
   ],
   "source": [
    "#Creating a DataFrame using nested list\n",
    "#Looks the same as creating an array in numpy\n",
    "#Each nested list gets converted into a row just like in numpy arrray.\n",
    "\n",
    "data = [['Alex',10,40],['Bob',12,50],['Clarke',13,50]]\n",
    "df = pd.DataFrame(data, columns =['Name', 'Age', 'Death'])\n",
    "print(df)"
   ]
  },
  {
   "cell_type": "markdown",
   "metadata": {},
   "source": [
    "Each item of the nested list is indexed in a new column"
   ]
  },
  {
   "cell_type": "code",
   "execution_count": 11,
   "metadata": {
    "scrolled": true
   },
   "outputs": [
    {
     "name": "stdout",
     "output_type": "stream",
     "text": [
      "     Name   Age\n",
      "0    Alex  10.0\n",
      "1     Bob  12.0\n",
      "2  Clarke  13.0\n"
     ]
    }
   ],
   "source": [
    "#Creating a DataFrame using nested list \n",
    "#SPecifying the dtype\n",
    "\n",
    "data = [['Alex',10],['Bob',12],['Clarke',13]]\n",
    "df = pd.DataFrame(data,columns=['Name','Age'],dtype=float)\n",
    "print(df)"
   ]
  },
  {
   "cell_type": "markdown",
   "metadata": {},
   "source": [
    "# Create a DataFrame from Dict of Lists\n",
    "\n",
    "The key will be stored as the Column name and the value will be saved as rows\n",
    "\n",
    "All the lists (arrays) must be of same length.\n",
    "Otherwise, it will throw a valueError saying: \n",
    "\"arrays must all be same length\"\n",
    "\n",
    "If index is passed, the length of the index should be equal to that of the lists.Otherwise it will throw an error about the shape of the array not being compatible\n",
    "\n",
    "If no index is passed, the default index will be range(n)\n",
    "where n: length of list\n",
    "\n"
   ]
  },
  {
   "cell_type": "code",
   "execution_count": 2,
   "metadata": {},
   "outputs": [
    {
     "name": "stdout",
     "output_type": "stream",
     "text": [
      "    Name  Age\n",
      "0    Tom    2\n",
      "1   Jack    3\n",
      "2  Steve    4\n",
      "3  Ricky    5\n"
     ]
    }
   ],
   "source": [
    "#Creating a DataFrame from a dict of lists\n",
    "data = {'Name':['Tom','Jack','Steve','Ricky'], 'Age':[2,3,4,5]}\n",
    "df = pd.DataFrame(data)\n",
    "print(df)"
   ]
  },
  {
   "cell_type": "raw",
   "metadata": {},
   "source": [
    "The index of rows is [0,1,2,3] because of the defaul indexing"
   ]
  },
  {
   "cell_type": "code",
   "execution_count": 4,
   "metadata": {},
   "outputs": [
    {
     "name": "stdout",
     "output_type": "stream",
     "text": [
      "   Age   Name\n",
      "0    2    Tom\n",
      "1    3   Jack\n",
      "2    4  Steve\n",
      "3    5  Ricky\n"
     ]
    }
   ],
   "source": [
    "#We can override the order of the columns by passing a list\n",
    "import pandas as pd\n",
    "\n",
    "df2 = pd.DataFrame(data, columns=['Age','Name'])\n",
    "print(df2)"
   ]
  },
  {
   "cell_type": "code",
   "execution_count": 19,
   "metadata": {},
   "outputs": [
    {
     "name": "stdout",
     "output_type": "stream",
     "text": [
      "        Name  Age\n",
      "rank1    Tom   28\n",
      "rank2   Jack   34\n",
      "rank3  Steve   29\n",
      "rank4  Ricky   42\n"
     ]
    }
   ],
   "source": [
    "#Creating a DataFrame from a dict of lists by specifying index\n",
    "data = {'Name':['Tom', 'Jack', 'Steve', 'Ricky'],'Age':[28,34,29,42]}\n",
    "df = pd.DataFrame(data, index=['rank1','rank2','rank3','rank4'])\n",
    "print(df)"
   ]
  },
  {
   "cell_type": "markdown",
   "metadata": {},
   "source": [
    "# Creating a DataFrame from List of Dicts\n",
    "The dictionary keys are by default taken as column names.\n",
    "\n",
    "If explicit index is passed, it will be treates as row indices\n",
    "\n",
    "Nan will append in missing areas"
   ]
  },
  {
   "cell_type": "code",
   "execution_count": 21,
   "metadata": {},
   "outputs": [
    {
     "name": "stdout",
     "output_type": "stream",
     "text": [
      "   a   b     c\n",
      "0  1   2   NaN\n",
      "1  5  10  20.0\n"
     ]
    }
   ],
   "source": [
    "#Create a DataFrame from List of Dicts\n",
    "data = [{'a':1,'b':2},{'a':5,'b':10,'c':20}]\n",
    "df = pd.DataFrame(data)\n",
    "print(df)"
   ]
  },
  {
   "cell_type": "markdown",
   "metadata": {},
   "source": [
    "NaN (Not a Number) is appended in missing areas."
   ]
  },
  {
   "cell_type": "code",
   "execution_count": 3,
   "metadata": {},
   "outputs": [
    {
     "name": "stdout",
     "output_type": "stream",
     "text": [
      "        a   b     c\n",
      "first   1   2   NaN\n",
      "second  5  10  20.0\n"
     ]
    }
   ],
   "source": [
    "#Create a DataFrame from List of Dicts by specifying indexing\n",
    "\n",
    "data = [{'a': 1, 'b': 2},{'a': 5, 'b': 10, 'c': 20}]\n",
    "df = pd.DataFrame(data, index=['first', 'second'])\n",
    "print(df)"
   ]
  },
  {
   "cell_type": "code",
   "execution_count": 4,
   "metadata": {},
   "outputs": [
    {
     "name": "stdout",
     "output_type": "stream",
     "text": [
      "        a  b1\n",
      "first   1 NaN\n",
      "second  5 NaN\n"
     ]
    }
   ],
   "source": [
    "#Create a DataFrame from List of Dicts by specifying indexing\n",
    "#Also specifying the column indices\n",
    "\n",
    "data = [{'a': 1, 'b': 2},{'a': 5, 'b': 10, 'c': 20}]\n",
    "df = pd.DataFrame(data, index=['first', 'second'], columns=['a', 'b1'])\n",
    "print(df)"
   ]
  },
  {
   "cell_type": "markdown",
   "metadata": {},
   "source": [
    "The column a is in bothe firs and second, so its value are shown\n",
    "\n",
    "The column b1 has no values in any of the list dictionaries. So it is shown Nan"
   ]
  },
  {
   "cell_type": "markdown",
   "metadata": {},
   "source": [
    "# Creating a DataFrame from a Dict of Series\n",
    "The resultant index is the union of all the series indexes passed."
   ]
  },
  {
   "cell_type": "code",
   "execution_count": 13,
   "metadata": {},
   "outputs": [
    {
     "name": "stdout",
     "output_type": "stream",
     "text": [
      "   one  two\n",
      "a  1.0    1\n",
      "b  2.0    2\n",
      "c  3.0    3\n",
      "d  NaN    4\n"
     ]
    }
   ],
   "source": [
    "#Create a DataFrame from Dict of Series\n",
    "d = {\n",
    "    'one': pd.Series([1,2,3], index = ['a','b','c']),\n",
    "    'two': pd.Series([1,2,3,4], index = ['a', 'b', 'c', 'd'])\n",
    "    }\n",
    "\n",
    "df = pd.DataFrame(d)\n",
    "print(df)"
   ]
  },
  {
   "cell_type": "code",
   "execution_count": null,
   "metadata": {},
   "outputs": [],
   "source": []
  }
 ],
 "metadata": {
  "kernelspec": {
   "display_name": "Python 3",
   "language": "python",
   "name": "python3"
  },
  "language_info": {
   "codemirror_mode": {
    "name": "ipython",
    "version": 3
   },
   "file_extension": ".py",
   "mimetype": "text/x-python",
   "name": "python",
   "nbconvert_exporter": "python",
   "pygments_lexer": "ipython3",
   "version": "3.7.4"
  }
 },
 "nbformat": 4,
 "nbformat_minor": 2
}
