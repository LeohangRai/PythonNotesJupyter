{
 "cells": [
  {
   "cell_type": "markdown",
   "metadata": {},
   "source": [
    "# About Series in Pandas"
   ]
  },
  {
   "cell_type": "markdown",
   "metadata": {},
   "source": [
    "Panda Series:\n",
    "a 1D data structure (1D ndarray) that can store values.\n",
    "And for every value it holds a unique index.\n",
    "- homogeneous array\n",
    "- size immutable\n",
    "- values of data mutable"
   ]
  },
  {
   "cell_type": "code",
   "execution_count": 3,
   "metadata": {},
   "outputs": [
    {
     "name": "stdout",
     "output_type": "stream",
     "text": [
      "Series([], dtype: float64)\n"
     ]
    }
   ],
   "source": [
    "#Creating an Empty Series\n",
    "import pandas as pd\n",
    "s = pd.Series()\n",
    "print(s)"
   ]
  },
  {
   "cell_type": "markdown",
   "metadata": {},
   "source": [
    "# Creating a series from ndarray (numPy array)"
   ]
  },
  {
   "cell_type": "code",
   "execution_count": 12,
   "metadata": {},
   "outputs": [
    {
     "name": "stdout",
     "output_type": "stream",
     "text": [
      "Without specifying index:\n",
      "0    a\n",
      "1    b\n",
      "2    c\n",
      "3    d\n",
      "dtype: object\n",
      "\n",
      "\n",
      "With user-specified index:\n",
      "001    a\n",
      "002    b\n",
      "003    c\n",
      "005    d\n",
      "dtype: object\n"
     ]
    }
   ],
   "source": [
    "#Creating a series from ndarray\n",
    "import numpy as np\n",
    "\n",
    "import pandas as pd\n",
    "\n",
    "data = np.array(['a','b','c','d'])  \n",
    "s = pd.Series(data)  #Without providing index\n",
    "s2 = pd.Series(data, index = ['001','002','003','005'])  #With user specified index\n",
    "\n",
    "print(\"Without specifying index:\",s, sep = '\\n', end='\\n\\n\\n')\n",
    "print(\"With user-specified index:\",s2, sep = '\\n')"
   ]
  },
  {
   "cell_type": "markdown",
   "metadata": {},
   "source": [
    "# Creating a series from Dict"
   ]
  },
  {
   "cell_type": "code",
   "execution_count": 14,
   "metadata": {},
   "outputs": [
    {
     "name": "stdout",
     "output_type": "stream",
     "text": [
      "a    0.092\n",
      "b    1.343\n",
      "c    hello\n",
      "dtype: object\n"
     ]
    }
   ],
   "source": [
    "#Creating a series from dict\n",
    "data = {'a' : 0.092, 'b' : 1.343, 'c' : 'hello'}\n",
    "s = pd.Series(data)\n",
    "print(s)"
   ]
  },
  {
   "cell_type": "code",
   "execution_count": 21,
   "metadata": {},
   "outputs": [
    {
     "name": "stdout",
     "output_type": "stream",
     "text": [
      "b    1.0\n",
      "c    2.0\n",
      "d    NaN\n",
      "a    0.0\n",
      "dtype: float64\n"
     ]
    }
   ],
   "source": [
    "#Creating a series from dict\n",
    "#The order of index is persisted and the missing element is filled with NaN\n",
    "data = {'a' : 0., 'b' : 1., 'c' : 2.}\n",
    "s = pd.Series(data,index=['b','c','d','a'])\n",
    "print(s)\n"
   ]
  },
  {
   "cell_type": "code",
   "execution_count": 17,
   "metadata": {},
   "outputs": [
    {
     "name": "stdout",
     "output_type": "stream",
     "text": [
      "100    NaN\n",
      "200    NaN\n",
      "dtype: object\n"
     ]
    }
   ],
   "source": [
    "#Creating a series from dict\n",
    "#Providing index that are not keys\n",
    "\n",
    "data = {'a' : 0.092, 'b' : 1.343, 'c' : 'hello'}\n",
    "s = pd.Series(data, index = ['100','200'])\n",
    "print(s)"
   ]
  },
  {
   "cell_type": "markdown",
   "metadata": {},
   "source": [
    "# Creating a series from Scalar (Constant)"
   ]
  },
  {
   "cell_type": "code",
   "execution_count": 28,
   "metadata": {},
   "outputs": [
    {
     "name": "stdout",
     "output_type": "stream",
     "text": [
      "0    5\n",
      "1    5\n",
      "2    5\n",
      "3    5\n",
      "dtype: int64\n",
      "\n",
      "0    5\n",
      "dtype: int64\n"
     ]
    }
   ],
   "source": [
    "#Creating a Series from Scalar\n",
    "s = pd.Series(5, index = [0,1,2,3])\n",
    "s2 = pd.Series(5)   #If index is not defined, the value will be stored only once\n",
    "\n",
    "print(s, end = '\\n\\n')\n",
    "print(s2)"
   ]
  },
  {
   "cell_type": "code",
   "execution_count": null,
   "metadata": {},
   "outputs": [],
   "source": []
  }
 ],
 "metadata": {
  "kernelspec": {
   "display_name": "Python 3",
   "language": "python",
   "name": "python3"
  },
  "language_info": {
   "codemirror_mode": {
    "name": "ipython",
    "version": 3
   },
   "file_extension": ".py",
   "mimetype": "text/x-python",
   "name": "python",
   "nbconvert_exporter": "python",
   "pygments_lexer": "ipython3",
   "version": "3.7.4"
  }
 },
 "nbformat": 4,
 "nbformat_minor": 2
}
