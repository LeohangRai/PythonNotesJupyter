{
 "cells": [
  {
   "cell_type": "markdown",
   "metadata": {},
   "source": [
    "### The user will enter a sentence/file and we have to check the sentence and store the frequency of each word as the value to the word as a key.\n",
    "After doing that we have to show the top 10 most frequently used words."
   ]
  },
  {
   "cell_type": "code",
   "execution_count": 10,
   "metadata": {},
   "outputs": [
    {
     "name": "stdout",
     "output_type": "stream",
     "text": [
      "Enter the name of the file: mbox-short.txt\n",
      "The top ten most frequent words are:\n",
      "[('Jan', 352), ('2008', 324), ('by', 245), ('Received:', 243), ('-0500', 219), ('from', 218), ('4', 203), ('with', 194), ('Fri,', 183), ('id', 136)]\n"
     ]
    }
   ],
   "source": [
    "file_name = input(\"Enter the name of the file: \")\n",
    "handle = open(file_name)\n",
    "\n",
    "counts = dict()\n",
    "try:\n",
    "    for line in handle:\n",
    "        words = line.split()\n",
    "        for word in words:\n",
    "            counts[word] = counts.get(word, 0) + 1\n",
    "\n",
    "    #list of word and their count tuples\n",
    "    count_list = list()\n",
    "    for key, value in counts.items():\n",
    "        count_list.append((value, key))\n",
    "except:\n",
    "    print('Please enter a valid file name!')\n",
    "    quit()\n",
    "        \n",
    "try: #Sometimes there may be less than 10 words\n",
    "    sorted_list = sorted(count_list, reverse = True)[:10]\n",
    "except:\n",
    "    sorted_list = sorted(count_list, reverse =  True)\n",
    "\n",
    "#Since the tuple are in (count,word) order, let's change that to (word,count) order    \n",
    "final = [(value,key) for key,value in sorted_list]    \n",
    "print('The top ten most frequent words are:', final, sep = '\\n')\n",
    "        "
   ]
  },
  {
   "cell_type": "markdown",
   "metadata": {},
   "source": [
    "### Doing the same thing but using list comprehension"
   ]
  },
  {
   "cell_type": "code",
   "execution_count": 12,
   "metadata": {},
   "outputs": [
    {
     "name": "stdout",
     "output_type": "stream",
     "text": [
      "Enter the name of the file mbox-short.txt\n",
      "The top ten most frequent words are:\n",
      "[('Jan', 352), ('2008', 324), ('by', 245), ('Received:', 243), ('-0500', 219), ('from', 218), ('4', 203), ('with', 194), ('Fri,', 183), ('id', 136)]\n"
     ]
    }
   ],
   "source": [
    "fname = input(\"Enter the name of the file \")\n",
    "handle = open(fname)\n",
    "\n",
    "my_count = dict()\n",
    "for line in handle:\n",
    "    words = line.split()\n",
    "    for word in words:\n",
    "        my_count[word] = my_count.get(word, 0) + 1\n",
    "\n",
    "my_count_list = [(value, key) for key, value in my_count.items()]\n",
    "my_count_list_sorted = sorted(my_count_list, reverse = True)\n",
    "\n",
    "try:\n",
    "    top_10 = my_count_list_sorted[:10]\n",
    "except:\n",
    "    top_10 = my_count_list_sorted\n",
    "\n",
    "#Since the tuple are in (count,word) order, let's change that to (word,count) order        \n",
    "final_list = [(value,key) for key,value in top_10]\n",
    "print('The top ten most frequent words are:', final_list, sep = '\\n')\n"
   ]
  }
 ],
 "metadata": {
  "kernelspec": {
   "display_name": "Python 3",
   "language": "python",
   "name": "python3"
  },
  "language_info": {
   "codemirror_mode": {
    "name": "ipython",
    "version": 3
   },
   "file_extension": ".py",
   "mimetype": "text/x-python",
   "name": "python",
   "nbconvert_exporter": "python",
   "pygments_lexer": "ipython3",
   "version": "3.7.4"
  }
 },
 "nbformat": 4,
 "nbformat_minor": 2
}
