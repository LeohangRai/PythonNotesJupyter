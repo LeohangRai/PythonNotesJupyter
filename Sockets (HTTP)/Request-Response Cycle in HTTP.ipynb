{
 "cells": [
  {
   "cell_type": "markdown",
   "metadata": {},
   "source": [
    "## Request/Response Cycle in HTTP\n"
   ]
  },
  {
   "cell_type": "markdown",
   "metadata": {},
   "source": [
    "### Getting data from the Server\n",
    "<PRE>\n",
    "Each time the user clicks on an anchor tag with an href= value, to switch to a new page, the browser makes a \n",
    "connection to the web server and issues a \"GET\" request to get the content of the page at the specified URL.\n",
    "\n",
    "The server returns the HTML document  to the browser which formats and displays document to the user.\n",
    "\n",
    "#Syntax of a request:\n",
    "This is what the syntax of a request from the client to the server looks like:\n",
    "\"GET http://www.drchuck.com/page.html HTTP/1.0\"\n",
    "\n",
    "GET, capital letters with the space\n",
    "and then a URL,\n",
    "Uniform Resource Locator, and then a protocol, and so we connect.\n",
    "Then, this is the line that we send.\n",
    "That's a requesting of a document. \n",
    "\n"
   ]
  },
  {
   "cell_type": "markdown",
   "metadata": {},
   "source": [
    "### How to do this in Python\n",
    "<PRE>\n",
    "If we're going to do that same thing, which is make a connection to a port, send a GET request,\n",
    "and then get some data back, we can then do this in Python.\n",
    "So, we started with those first three lines,\n",
    "import the socket, \n",
    "connect the socket "
   ]
  },
  {
   "cell_type": "code",
   "execution_count": 10,
   "metadata": {},
   "outputs": [
    {
     "name": "stdout",
     "output_type": "stream",
     "text": [
      "HTTP/1.1 200 OK\r\n",
      "Date: Mon, 18 May 2020 16:50:13 GMT\r\n",
      "Server: Apache/2.4.18 (Ubuntu)\r\n",
      "Last-Modified: Sat, 13 May 2017 11:22:22 GMT\r\n",
      "ETag: \"a7-54f6609245537\"\r\n",
      "Accept-Ranges: bytes\r\n",
      "Content-Length: 167\r\n",
      "Cache-Control: max-age=0, no-cache, no-store, must-revalidate\r\n",
      "Pragma: no-cache\r\n",
      "Expires: Wed, 11 Jan 1984 05:00:00 GMT\r\n",
      "Connection: close\r\n",
      "Content-Type: text/plain\r\n",
      "\r\n",
      "But soft what light through yonder window breaks\n",
      "It is the east and Juliet is the sun\n",
      "Arise fair sun and kill the envious moon\n",
      "Who is already s\n",
      "ick and pale with grief\n",
      "\n"
     ]
    }
   ],
   "source": [
    "import socket\n",
    "\n",
    "mysock = socket.socket(socket.AF_INET, socket.SOCK_STREAM)\n",
    "mysock.connect(('data.pr4e.org', 80))\n",
    "\n",
    "cmd = 'GET http://data.pr4e.org/romeo.txt HTTP/1.0\\r\\n\\r\\n'.encode()  #command for GET request \n",
    "#(including a blank space)  '\\n\\n'\n",
    "#The encode() converts the unicode to UTF-8\n",
    "\n",
    "mysock.send(cmd)#Sends the request\n",
    "\n",
    "while True:\n",
    "    data = mysock.recv(512)  #receive up to 512 characters\n",
    "    if len(data)<1:     #end of line\n",
    "        break\n",
    "    print(data.decode())   #decode() converts the UTF-8 to unicode\n",
    "mysock.close()"
   ]
  },
  {
   "cell_type": "markdown",
   "metadata": {},
   "source": [
    "### All that we are doing here is,\n",
    "1. open a socket \n",
    "2. send a command\n",
    "3. retrieve the data. "
   ]
  },
  {
   "cell_type": "markdown",
   "metadata": {},
   "source": [
    "### Explanation\n",
    "<PRE>\n",
    "So, this socket first, it's like this porthole that lets you out.\n",
    "It's like a doorway out of your computer,\n",
    "but the doorway's not open and the doorways not connected to it yet.\n",
    "(just like handle in files, after connection though)\n",
    "\n",
    "That's what this does, makes the doorway, but there is nothing connected.\n",
    "Then, the connect basically extends out of your computer.\n",
    "This could fail if the server doesn't exist.\n",
    "\n",
    "So, it goes and finds the server, connects to port 80, and establishes the socket.\n",
    "\n",
    "When this line is done, what we have is we have a socket and it's connected to a server.\n",
    "You do know that the server's there and you know that their software on the other end of it,\n",
    "otherwise the connect will fail.\n",
    "\n",
    "But if the connect works, you're talking, but you haven't sent any data.\n",
    "Now, you can call methods on the socket object.\n",
    "\n",
    "Now, there's been connected like send and receive to send data across this or receive data from it.\n",
    "Now, part of the application protocol is, what do you do first?\n",
    "You send or receive.\n",
    "\n",
    "NOTE:\n",
    "Now, it turns out with HTTP, the server does a receive first and you do a send first.\n",
    "That's the rule. So, the first thing you do is you make a request and this is just a string.\n",
    "Now, we have to prepare it for sending.\n",
    "Prepare it for sending and then we send it.\n",
    "We send that, and so that means that you sent something to the server,\n",
    "and the server receives it.\n",
    "\n",
    "It goes, and read some files, and does some stuff, and then it's going to start sending data back.\n",
    "\n",
    "You can use a while loop now and receive is a method in the socket object once you've sent it,\n",
    "and it might take a couple of sends to get all the data.\n",
    "So, we're going to just print this stuff out onto our screen.\n",
    "If we get no data, that means end of file or end of transmission. So, we break out.\n",
    "Then, if we did get data, we decode it, that's taking data from the outside world\n",
    "and interpreting what it means internally for us.\n",
    "\n",
    "So, we're going to decode it, and so this loop is going to run a bunch of times until it hits end of file,\n",
    "and then we're going to close the socket,\n",
    "which tears all this stuff down because this actually takes up\n",
    "resources in your computer and the far ends computer as well.\n",
    "So, mysock.close closes that and that's it.\n",
    "\n",
    "So, that basically is request response cycle in Python and it's only like 10 lines of code.\n",
    "So, that's really impressive that Python's capable of doing that."
   ]
  }
 ],
 "metadata": {
  "kernelspec": {
   "display_name": "Python 3",
   "language": "python",
   "name": "python3"
  },
  "language_info": {
   "codemirror_mode": {
    "name": "ipython",
    "version": 3
   },
   "file_extension": ".py",
   "mimetype": "text/x-python",
   "name": "python",
   "nbconvert_exporter": "python",
   "pygments_lexer": "ipython3",
   "version": "3.7.4"
  }
 },
 "nbformat": 4,
 "nbformat_minor": 2
}
