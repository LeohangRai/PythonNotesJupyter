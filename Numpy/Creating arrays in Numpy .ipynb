{
 "cells": [
  {
   "cell_type": "code",
   "execution_count": 2,
   "metadata": {},
   "outputs": [
    {
     "name": "stdout",
     "output_type": "stream",
     "text": [
      "One dimensional array \n",
      " [1 2 3]\n",
      "\n",
      "Two dimensional array \n",
      " [[1 2 3]\n",
      " [4 5 6]]\n",
      "\n",
      "Another 2 dimensional array \n",
      " [[1 2 3]\n",
      " [4 5 6]\n",
      " [7 8 9]]\n",
      "\n",
      "Three dimensional array \n",
      " [[[1 2 3]\n",
      "  [4 5 6]]\n",
      "\n",
      " [[1 2 3]\n",
      "  [4 5 6]]]\n"
     ]
    }
   ],
   "source": [
    "#Creating arrays of different dimensions\n",
    "import numpy as np\n",
    "\n",
    "#One dimensional array\n",
    "arr = np.array([1,2,3])\n",
    "print(\"One dimensional array \\n\",arr)\n",
    "\n",
    "#Two dimensional array\n",
    "arr2 = np.array([(1,2,3),(4,5,6)])\n",
    "print(\"\\nTwo dimensional array \\n\", arr2)\n",
    "\n",
    "#Another two dimensional array\n",
    "arr1 = np.array([(1,2,3),(4,5,6),(7,8,9)])\n",
    "print(\"\\nAnother 2 dimensional array \\n\", arr1)\n",
    "\n",
    "#Three dimensional array\n",
    "arr3 = np.array([ [(1,2,3),(4,5,6)], [(1,2,3),(4,5,6)]  ])\n",
    "print(\"\\nThree dimensional array \\n\", arr3)"
   ]
  },
  {
   "cell_type": "code",
   "execution_count": 3,
   "metadata": {},
   "outputs": [
    {
     "name": "stdout",
     "output_type": "stream",
     "text": [
      "[[4 4 4]\n",
      " [4 4 4]\n",
      " [4 4 4]]\n",
      "\n",
      " [0 1 2 3 4 5 6 7 8 9]\n"
     ]
    }
   ],
   "source": [
    "#Other ways to create arrays\n",
    "\n",
    "#Create a 3x3 array filled with 4\n",
    "arr = np.full((3,3),4)  # the first argument takes the shape and the second arg takes the element to be placed\n",
    "print(arr)\n",
    "\n",
    "#Range in array\n",
    "#Create an array of linear sequence starting 0 and ending at 9\n",
    "arr2 = np.arange(0,10)\n",
    "print(\"\\n\",arr2)"
   ]
  },
  {
   "cell_type": "code",
   "execution_count": 4,
   "metadata": {},
   "outputs": [
    {
     "name": "stdout",
     "output_type": "stream",
     "text": [
      "[0 0 0 0 0]\n",
      "\n",
      " [[0 0 0]\n",
      " [0 0 0]]\n",
      "\n",
      " [[[0 0 0]\n",
      "  [0 0 0]]\n",
      "\n",
      " [[0 0 0]\n",
      "  [0 0 0]]\n",
      "\n",
      " [[0 0 0]\n",
      "  [0 0 0]]]\n"
     ]
    }
   ],
   "source": [
    "#Creating arrays filled with ones and zeros\n",
    "\n",
    "#Creating array filled with 0 by only specifying the columns (1 row is taken)\n",
    "zer = np.zeros(5, dtype = np.int)  #1 row and 5 columns\n",
    "print(zer)\n",
    "\n",
    "\n",
    "#Creating array filled with 0 by specifying the rows and column num\n",
    "zer = np.zeros([2,3], dtype = np.int32) #2 rows and 3 columns\n",
    "print(\"\\n\", zer)\n",
    "\n",
    "#Creating array filled with 0 specifying the dimensions along with rows and columns\n",
    "zer = np.zeros([3,2,3], dtype = np.int) # 3 dimensions, 2 rows and 3 columns\n",
    "print('\\n', zer)"
   ]
  },
  {
   "cell_type": "code",
   "execution_count": 5,
   "metadata": {},
   "outputs": [
    {
     "name": "stdout",
     "output_type": "stream",
     "text": [
      "Random array with rows and columns specified\n",
      " [[0.4482922  0.75833113 0.86434773]\n",
      " [0.81571033 0.4176769  0.20668751]\n",
      " [0.60634598 0.43649885 0.32961163]]\n",
      "\n",
      "Random array with dimensions specified\n",
      " [[[0.58798158 0.09268336 0.58301115]\n",
      "  [0.70716152 0.91730591 0.5206874 ]\n",
      "  [0.28934438 0.38273049 0.09976189]]\n",
      "\n",
      " [[0.55941661 0.50537467 0.97485908]\n",
      "  [0.86383363 0.51865214 0.37414784]\n",
      "  [0.78156312 0.21935038 0.89161908]]\n",
      "\n",
      " [[0.65443372 0.58168692 0.23151495]\n",
      "  [0.31093489 0.03581987 0.17816792]\n",
      "  [0.4931328  0.68341285 0.75895987]]]\n",
      "\n",
      "Random array with the range of intgers specified\n",
      " [[9 5]\n",
      " [5 9]\n",
      " [1 4]]\n"
     ]
    }
   ],
   "source": [
    "#Creating arrays using random elements\n",
    "\n",
    "#Creating a random array of specified shape (rows and columns) \n",
    "arr = np.random.random((3,3))\n",
    "print(\"Random array with rows and columns specified\\n\",arr)\n",
    "\n",
    "#Same as above but with dimension too\n",
    "arr = np.random.random((3,3,3))\n",
    "print(\"\\nRandom array with dimensions specified\\n\",arr)\n",
    "\n",
    "#Creating a random array with range specified \n",
    "arr = np.random.randint(0,10,(3,2))\n",
    "print(\"\\nRandom array with the range of intgers specified\\n\",arr)"
   ]
  },
  {
   "cell_type": "code",
   "execution_count": 6,
   "metadata": {},
   "outputs": [
    {
     "name": "stdout",
     "output_type": "stream",
     "text": [
      "1\n",
      "2\n",
      "2\n",
      "3\n"
     ]
    }
   ],
   "source": [
    "#Finding out the dimension of any array\n",
    "import numpy as np\n",
    "\n",
    "arr = np.array([1,2,3])  #only a single row\n",
    "arr1 = np.array([(1,2,3),(4,5,6)])    # Two rows\n",
    "arr2 = np.array([(1,2,3),(1,3,5),(3,4,5)])  #Three rows\n",
    "arr3 = np.array([[(1,2,3),(4,5,6)],[(3,4,5),(3,4,5)]])  \n",
    "\n",
    "print(arr.ndim)\n",
    "print(arr1.ndim)\n",
    "print(arr2.ndim)\n",
    "print(arr3.ndim)"
   ]
  },
  {
   "cell_type": "code",
   "execution_count": 7,
   "metadata": {},
   "outputs": [
    {
     "name": "stdout",
     "output_type": "stream",
     "text": [
      "4\n"
     ]
    }
   ],
   "source": [
    "#Finding out the itemsize of elements in an array\n",
    "arr = np.array([1,2,3])\n",
    "\n",
    "print(arr.itemsize)\n"
   ]
  },
  {
   "cell_type": "code",
   "execution_count": 8,
   "metadata": {},
   "outputs": [
    {
     "name": "stdout",
     "output_type": "stream",
     "text": [
      "int32\n"
     ]
    }
   ],
   "source": [
    "#Finding out the data type of elements in an array\n",
    "arr = np.array([1,2,3])\n",
    "\n",
    "print(arr.dtype)\n"
   ]
  },
  {
   "cell_type": "code",
   "execution_count": 9,
   "metadata": {},
   "outputs": [
    {
     "name": "stdout",
     "output_type": "stream",
     "text": [
      "3\n",
      "6\n",
      "9\n"
     ]
    }
   ],
   "source": [
    "#Finding the size of the whole array (i.e.the number of elements in the array)\n",
    "\n",
    "arr = np.array([1,2,3])\n",
    "arr1 = np.array([(1,2,3),(4,5,6)])\n",
    "arr2 = np.array([(1,2,3),(1,3,5),(3,4,5)])\n",
    "\n",
    "print(arr.size)\n",
    "print(arr1.size)\n",
    "print(arr2.size)"
   ]
  },
  {
   "cell_type": "code",
   "execution_count": 10,
   "metadata": {},
   "outputs": [
    {
     "name": "stdout",
     "output_type": "stream",
     "text": [
      "(7,)\n",
      "(2, 3)\n",
      "(3, 3)\n",
      "(2, 3)\n"
     ]
    }
   ],
   "source": [
    "#Finding the shape of an array (i.e. the number of rows and columns)\n",
    "\n",
    "arr = np.array([1,2,3,4,5,6,7])\n",
    "arr1 = np.array([(1,2,3),(4,5,6)])\n",
    "arr2 = np.array([(1,2,3),(1,3,5),(3,4,5)])\n",
    "arr3 = np.array([(1,2,3),(1,3,5)])\n",
    "\n",
    "print(arr.shape)\n",
    "print(arr1.shape)\n",
    "print(arr2.shape)\n",
    "print(arr3.shape)"
   ]
  },
  {
   "cell_type": "code",
   "execution_count": 11,
   "metadata": {},
   "outputs": [
    {
     "name": "stdout",
     "output_type": "stream",
     "text": [
      "Inital array  [1 2 3 4 5 6 7]\n",
      "\n",
      "Reshaped array  [[1]\n",
      " [2]\n",
      " [3]\n",
      " [4]\n",
      " [5]\n",
      " [6]\n",
      " [7]]\n"
     ]
    }
   ],
   "source": [
    "#Reshaping the array (Changing rows and columns)\n",
    "\n",
    "arr = np.array([1,2,3,4,5,6,7])\n",
    "print(\"Inital array \",arr)\n",
    "arr = arr.reshape(7,1)\n",
    "print(\"\\nReshaped array \",arr)"
   ]
  },
  {
   "cell_type": "code",
   "execution_count": 12,
   "metadata": {},
   "outputs": [
    {
     "name": "stdout",
     "output_type": "stream",
     "text": [
      "Initial array \n",
      " [[1 2 3]\n",
      " [4 5 6]]\n",
      "\n",
      "Reshaped array \n",
      " [[1 2]\n",
      " [3 4]\n",
      " [5 6]]\n"
     ]
    }
   ],
   "source": [
    "#Reshaping the array (Changing rows and columns)\n",
    "arr1 = np.array([(1,2,3),(4,5,6)])\n",
    "print(\"Initial array \\n\", arr1)\n",
    "arr1 = arr1.reshape(3,2)\n",
    "print(\"\\nReshaped array \\n\", arr1)"
   ]
  },
  {
   "cell_type": "code",
   "execution_count": 13,
   "metadata": {},
   "outputs": [
    {
     "name": "stdout",
     "output_type": "stream",
     "text": [
      "[4 8]\n"
     ]
    }
   ],
   "source": [
    "#Slicing an array\n",
    "arr = np.array([(1,2,3,4),(4,5,6,8)])\n",
    "\n",
    "#Print statement to return the 3rd index value in each row\n",
    "print(arr[0:, 3])"
   ]
  },
  {
   "cell_type": "code",
   "execution_count": null,
   "metadata": {},
   "outputs": [],
   "source": []
  }
 ],
 "metadata": {
  "kernelspec": {
   "display_name": "Python 3",
   "language": "python",
   "name": "python3"
  },
  "language_info": {
   "codemirror_mode": {
    "name": "ipython",
    "version": 3
   },
   "file_extension": ".py",
   "mimetype": "text/x-python",
   "name": "python",
   "nbconvert_exporter": "python",
   "pygments_lexer": "ipython3",
   "version": "3.7.4"
  }
 },
 "nbformat": 4,
 "nbformat_minor": 2
}
