{
 "cells": [
  {
   "cell_type": "markdown",
   "metadata": {},
   "source": [
    "## Counting Organizations\n",
    "\n",
    "This application will read the mailbox data (mbox.txt) and count the number of email messages per organization (i.e. domain name of the email address) using a database with the following schema to maintain the counts.\n",
    "\n",
    "CREATE TABLE Counts (org TEXT, count INTEGER)\n",
    "\n",
    "When you have run the program on mbox.txt upload the resulting database file above for grading.\n",
    "\n",
    "If you run the program multiple times in testing or with dfferent files, make sure to empty out the data before each run.\n",
    "\n",
    "You can use this code as a starting point for your application: http://www.py4e.com/code3/emaildb.py.\n",
    "\n",
    "The data file for this application is the same as in previous assignments: http://www.py4e.com/code3/mbox.txt.\n",
    "\n",
    "Because the sample code is using an UPDATE statement and committing the results to the database as each record is read in the loop, it might take as long as a few minutes to process all the data. The commit insists on completely writing all the data to disk every time it is called.\n",
    "\n",
    "The program can be speeded up greatly by moving the commit operation outside of the loop. In any database program, there is a balance between the number of operations you execute between commits and the importance of not losing the results of operations that have not yet been committed. "
   ]
  },
  {
   "cell_type": "code",
   "execution_count": null,
   "metadata": {},
   "outputs": [],
   "source": []
  },
  {
   "cell_type": "code",
   "execution_count": 10,
   "metadata": {},
   "outputs": [
    {
     "name": "stdout",
     "output_type": "stream",
     "text": [
      "Enter the file name: \n",
      "uct.ac.za 96\n",
      "media.berkeley.edu 56\n",
      "umich.edu 491\n",
      "iupui.edu 536\n",
      "caret.cam.ac.uk 157\n",
      "gmail.com 25\n",
      "indiana.edu 178\n",
      "et.gatech.edu 17\n",
      "vt.edu 110\n",
      "lancaster.ac.uk 14\n",
      "ucdavis.edu 1\n",
      "ufp.pt 28\n",
      "txstate.edu 17\n",
      "stanford.edu 12\n",
      "whitman.edu 17\n",
      "rsmart.com 8\n",
      "fhda.edu 1\n",
      "bu.edu 14\n",
      "unicon.net 9\n",
      "loi.nl 9\n",
      "utoronto.ca 1\n"
     ]
    }
   ],
   "source": [
    "import sqlite3\n",
    "#Connecting to the database\n",
    "#Since there is no database named emaildb.sqlite, it will create one\n",
    "conn = sqlite3.connect('emaildb.sqlite')\n",
    "#This is like the handle in file handling\n",
    "cur = conn.cursor()\n",
    "\n",
    "#Drop the table named Counts if already exists\n",
    "#So that our sql statements won't turn out useless since there could already be such table\n",
    "cur.execute('DROP TABLE IF EXISTS Counts')\n",
    "\n",
    "cur.execute('''\n",
    "    CREATE TABLE Counts (\n",
    "        org TEXT,\n",
    "        count INTEGER\n",
    "    )\n",
    "''')\n",
    "\n",
    "#This is the part where we read from the text file\n",
    "#And split the lines which start with \"From: \"\n",
    "#And check the email's domain, which will be the name of the organization\n",
    "fname = input('Enter the file name: ')\n",
    "if(len(fname)<1): fname = 'mbox.txt'\n",
    "\n",
    "handle = open(fname)\n",
    "for line in handle:\n",
    "    if not line.startswith('From: '): \n",
    "        continue\n",
    "    pieces = line.split()[1]\n",
    "    org = pieces.split('@')[1]\n",
    "    \n",
    "    cur.execute('SELECT count FROM Counts WHERE org = ?', (org,))\n",
    "    row = cur.fetchone()\n",
    "    if row is None:\n",
    "        cur.execute('''\n",
    "            INSERT INTO Counts (org, count)\n",
    "            VALUES (?, 1)\n",
    "        ''', (org,))\n",
    "    else:\n",
    "        cur.execute('''\n",
    "            UPDATE Counts SET count = count + 1 WHERE org = ?\n",
    "        ''', (org,))\n",
    "\n",
    "#The commit function actually writes the data into the disk/drive\n",
    "#Before commit, they are only on memory\n",
    "conn.commit()\n",
    "\n",
    "query = 'SELECT * FROM Counts'\n",
    "\n",
    "#row is a tuple\n",
    "#so row[0] and row[1] will return the org and count resp\n",
    "for row in cur.execute(query):\n",
    "    print(row[0], row[1])\n",
    "    \n",
    "cur.close()"
   ]
  },
  {
   "cell_type": "code",
   "execution_count": null,
   "metadata": {},
   "outputs": [],
   "source": []
  }
 ],
 "metadata": {
  "kernelspec": {
   "display_name": "Python 3",
   "language": "python",
   "name": "python3"
  },
  "language_info": {
   "codemirror_mode": {
    "name": "ipython",
    "version": 3
   },
   "file_extension": ".py",
   "mimetype": "text/x-python",
   "name": "python",
   "nbconvert_exporter": "python",
   "pygments_lexer": "ipython3",
   "version": "3.8.3"
  }
 },
 "nbformat": 4,
 "nbformat_minor": 4
}
