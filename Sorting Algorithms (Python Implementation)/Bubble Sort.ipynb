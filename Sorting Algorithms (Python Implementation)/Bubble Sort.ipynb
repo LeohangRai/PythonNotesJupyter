{
 "cells": [
  {
   "cell_type": "markdown",
   "metadata": {},
   "source": [
    "## Bubble sort code (Without improvements): Code only"
   ]
  },
  {
   "cell_type": "code",
   "execution_count": 44,
   "metadata": {},
   "outputs": [
    {
     "name": "stdout",
     "output_type": "stream",
     "text": [
      "['a', 'c', 'd']\n",
      "[0, 1, 2, 3, 5, 6]\n",
      "[1, 2, 3, 4, 5, 6]\n"
     ]
    }
   ],
   "source": [
    "def BubbleSort(arr):    \n",
    "    #This loop defines how many times we have to run the loop\n",
    "    for i in range(len(arr)):\n",
    "        #This is the loop that does the swapping part for each outer loop\n",
    "        for j in range(len(arr)-1):\n",
    "            #Swapping\n",
    "            if arr[j] > arr[j+1]:\n",
    "                arr[j], arr[j+1] = arr[j+1], arr[j]\n",
    "    return arr\n",
    "    \n",
    "#Test\n",
    "my_arr = ['c','a','d']\n",
    "my_arr2 = [3,1,6,5,2,0]\n",
    "already_sorted_arr = [1,2,3,4,5,6]\n",
    "print(BubbleSort(my_arr))\n",
    "print(BubbleSort(my_arr2))\n",
    "print(BubbleSort(already_sorted_arr))"
   ]
  },
  {
   "cell_type": "code",
   "execution_count": 45,
   "metadata": {},
   "outputs": [
    {
     "name": "stdout",
     "output_type": "stream",
     "text": [
      "9.75 µs ± 672 ns per loop (mean ± std. dev. of 7 runs, 100000 loops each)\n"
     ]
    }
   ],
   "source": [
    "%timeit BubbleSort(already_sorted_arr)"
   ]
  },
  {
   "cell_type": "markdown",
   "metadata": {},
   "source": [
    "## Bubble Sort code (With improvements): Code only"
   ]
  },
  {
   "cell_type": "code",
   "execution_count": 46,
   "metadata": {},
   "outputs": [
    {
     "name": "stdout",
     "output_type": "stream",
     "text": [
      "['a', 'c', 'd']\n",
      "[0, 1, 2, 3, 5, 6]\n",
      "[1, 2, 3, 4, 5, 6]\n"
     ]
    }
   ],
   "source": [
    "def BubbleSort2(arr):\n",
    "    for i in range(len(arr)):\n",
    "        #Boolean flag to check if the list is already sorted\n",
    "        #If a swap occurs, we will set this to False\n",
    "        is_already_sorted = True\n",
    "        \n",
    "        for j in range(len(arr)-1):\n",
    "            #Swapping\n",
    "            if arr[j] > arr[j+1]:\n",
    "                arr[j], arr[j+1] = arr[j+1], arr[j]\n",
    "                is_already_sorted = False\n",
    "                \n",
    "        if is_already_sorted:\n",
    "            break\n",
    "            \n",
    "    return arr\n",
    "\n",
    "#Test\n",
    "my_arr = ['c','a','d']\n",
    "my_arr2 = [3,1,6,5,2,0]\n",
    "already_sorted_arr = [1,2,3,4,5,6]\n",
    "print(BubbleSort2(my_arr))\n",
    "print(BubbleSort2(my_arr2)) \n",
    "print(BubbleSort2(already_sorted_arr))"
   ]
  },
  {
   "cell_type": "code",
   "execution_count": 47,
   "metadata": {},
   "outputs": [
    {
     "name": "stdout",
     "output_type": "stream",
     "text": [
      "1.94 µs ± 205 ns per loop (mean ± std. dev. of 7 runs, 100000 loops each)\n"
     ]
    }
   ],
   "source": [
    "%timeit BubbleSort2(already_sorted_arr)"
   ]
  },
  {
   "cell_type": "markdown",
   "metadata": {},
   "source": [
    "# Explanation of the Code"
   ]
  },
  {
   "cell_type": "code",
   "execution_count": 48,
   "metadata": {},
   "outputs": [
    {
     "name": "stdout",
     "output_type": "stream",
     "text": [
      "['a', 'c', 'd']\n",
      "[0, 1, 2, 3, 5, 6]\n",
      "[1, 2, 3, 4, 5, 6]\n"
     ]
    }
   ],
   "source": [
    "def BubbleSort(arr):\n",
    "    #This loop defines how many times we have to run the loop\n",
    "    #which is equal to the number of elements present in the array minus 1. \n",
    "    #(n-1) i.e. len(arr)\n",
    "    #Why the loop should run this many times?\n",
    "    #Because in each iteration, the largest item bubbles up to the rightmost position\n",
    "    #And after running (n-1) times, the largest items will have bubbled up at the right\n",
    "    #Leaving the smallest element at the leftmost position\n",
    "    for i in range(len(arr)):\n",
    "        #This is the loop that does the swapping part for each outer loop\n",
    "        for j in range(len(arr)-1):\n",
    "            #Swapping\n",
    "            if arr[j] > arr[j+1]:\n",
    "                arr[j], arr[j+1] = arr[j+1], arr[j]\n",
    "    return arr\n",
    "    \n",
    "\n",
    "#Test\n",
    "my_arr = ['c','a','d']\n",
    "my_arr2 = [3,1,6,5,2,0]\n",
    "already_sorted_arr = [1,2,3,4,5,6]\n",
    "print(BubbleSort(my_arr))\n",
    "print(BubbleSort(my_arr2))\n",
    "print(BubbleSort(already_sorted_arr))"
   ]
  },
  {
   "cell_type": "code",
   "execution_count": 49,
   "metadata": {},
   "outputs": [
    {
     "name": "stdout",
     "output_type": "stream",
     "text": [
      "9.53 µs ± 556 ns per loop (mean ± std. dev. of 7 runs, 100000 loops each)\n"
     ]
    }
   ],
   "source": [
    "%timeit BubbleSort(already_sorted_arr)"
   ]
  },
  {
   "cell_type": "markdown",
   "metadata": {},
   "source": [
    "### Improved Bubble Sort\n",
    "<PRE>\n",
    "In the above algorithm, if we give a sorted arr as an argument, the time complexity for the algorithm to run will be 0(n**2)\n",
    "So let's just create a Boolean flag intially set to false and if no swapping occurs in the first iteration,which means that the array is already sorted, we set it to True.\n",
    "And break out of the loop.\n",
    "    \n",
    "    \n",
    "The other thing that we can do to improve this algorithm is to run each iteration up until only the unsorted part.\n",
    "Each iteration bubbles up the greatest element to the rightmost part of the arr.\n",
    "So with each new iteration (of inner loop), we can set the new iteration size to, [from first to last(excluding the sorted part)]\n",
    "\n",
    "We can achieve this by subtracting the iteration number of each successive loop with the previous iteration's number"
   ]
  },
  {
   "cell_type": "code",
   "execution_count": 50,
   "metadata": {},
   "outputs": [
    {
     "name": "stdout",
     "output_type": "stream",
     "text": [
      "['a', 'c', 'd']\n",
      "[0, 1, 2, 3, 5, 6]\n",
      "[1, 2, 3, 4, 5, 6]\n"
     ]
    }
   ],
   "source": [
    "def BubbleSort2(arr):\n",
    "    for i in range(len(arr)):\n",
    "        #Boolean flag to check if the list is already sorted\n",
    "        #If a swap occurs, we will set this to False\n",
    "        is_already_sorted = True\n",
    "        \n",
    "        for j in range(len(arr)-1):\n",
    "            #Swapping\n",
    "            if arr[j] > arr[j+1]:\n",
    "                arr[j], arr[j+1] = arr[j+1], arr[j]\n",
    "                is_already_sorted = False\n",
    "                \n",
    "        if is_already_sorted:\n",
    "            break\n",
    "            \n",
    "    return arr\n",
    "\n",
    "#Test\n",
    "my_arr = ['c','a','d']\n",
    "my_arr2 = [3,1,6,5,2,0]\n",
    "already_sorted_arr = [1,2,3,4,5,6]\n",
    "print(BubbleSort2(my_arr))\n",
    "print(BubbleSort2(my_arr2)) \n",
    "print(BubbleSort2(already_sorted_arr))"
   ]
  },
  {
   "cell_type": "code",
   "execution_count": 51,
   "metadata": {},
   "outputs": [
    {
     "name": "stdout",
     "output_type": "stream",
     "text": [
      "1.97 µs ± 88 ns per loop (mean ± std. dev. of 7 runs, 1000000 loops each)\n"
     ]
    }
   ],
   "source": [
    "%timeit BubbleSort2(already_sorted_arr)"
   ]
  }
 ],
 "metadata": {
  "kernelspec": {
   "display_name": "Python 3",
   "language": "python",
   "name": "python3"
  },
  "language_info": {
   "codemirror_mode": {
    "name": "ipython",
    "version": 3
   },
   "file_extension": ".py",
   "mimetype": "text/x-python",
   "name": "python",
   "nbconvert_exporter": "python",
   "pygments_lexer": "ipython3",
   "version": "3.8.3"
  }
 },
 "nbformat": 4,
 "nbformat_minor": 4
}
