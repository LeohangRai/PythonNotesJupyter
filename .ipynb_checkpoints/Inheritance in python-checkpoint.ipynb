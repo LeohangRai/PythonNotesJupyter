{
 "cells": [
  {
   "cell_type": "code",
   "execution_count": 1,
   "metadata": {},
   "outputs": [],
   "source": [
    "#Creating the parent class:\n",
    "class Car():    \n",
    "    \"\"\"A simple attempt to represent a car.\"\"\"\n",
    "    \n",
    "    def __init__(self, make, model, year):        \n",
    "        self.make = make        \n",
    "        self.model = model        \n",
    "        self.year = year        \n",
    "        self.odometer_reading = 0           \n",
    "        \n",
    "    def get_descriptive_name(self):        \n",
    "        long_name = str(self.year) + ' ' + self.make + ' ' + self.model        \n",
    "        return long_name.title()        \n",
    "    \n",
    "    def read_odometer(self):        \n",
    "        print(\"This car has \" + str(self.odometer_reading) + \" miles on it.\")            \n",
    "        \n",
    "    def update_odometer(self, mileage):        \n",
    "        if mileage >= self.odometer_reading:            \n",
    "            self.odometer_reading = mileage        \n",
    "        else:            \n",
    "            print(\"You can't roll back an odometer!\")        \n",
    "            \n",
    "    def increment_odometer(self, miles):        \n",
    "        self.odometer_reading += miles\n",
    "        \n"
   ]
  },
  {
   "cell_type": "code",
   "execution_count": 4,
   "metadata": {},
   "outputs": [
    {
     "name": "stdout",
     "output_type": "stream",
     "text": [
      "<bound method Car.get_descriptive_name of <__main__.ElectricCar object at 0x000001AE830520C8>>\n",
      "model A\n"
     ]
    }
   ],
   "source": [
    "#Creating the child class\n",
    "class ElectricCar(Car):\n",
    "    pass\n",
    "my_tesla= ElectricCar('tesla','model A', 2016)\n",
    "print(my_tesla.get_descriptive_name)\n",
    "print(my_tesla.model)"
   ]
  },
  {
   "cell_type": "code",
   "execution_count": 10,
   "metadata": {},
   "outputs": [
    {
     "name": "stdout",
     "output_type": "stream",
     "text": [
      "<bound method Car.get_descriptive_name of <__main__.ElectricCar object at 0x000001AE830D8908>>\n",
      "model A\n"
     ]
    }
   ],
   "source": [
    "class ElectricCar(Car):\n",
    "    def __init__(self, make, model, year):\n",
    "        super().__init__(make, model, year)\n",
    "        \n",
    "my_tesla= ElectricCar('tesla','model A', 2016)        \n",
    "print(my_tesla.get_descriptive_name)\n",
    "print(my_tesla.model)"
   ]
  },
  {
   "cell_type": "code",
   "execution_count": null,
   "metadata": {},
   "outputs": [],
   "source": []
  }
 ],
 "metadata": {
  "kernelspec": {
   "display_name": "Python 3",
   "language": "python",
   "name": "python3"
  },
  "language_info": {
   "codemirror_mode": {
    "name": "ipython",
    "version": 3
   },
   "file_extension": ".py",
   "mimetype": "text/x-python",
   "name": "python",
   "nbconvert_exporter": "python",
   "pygments_lexer": "ipython3",
   "version": "3.7.4"
  }
 },
 "nbformat": 4,
 "nbformat_minor": 2
}
