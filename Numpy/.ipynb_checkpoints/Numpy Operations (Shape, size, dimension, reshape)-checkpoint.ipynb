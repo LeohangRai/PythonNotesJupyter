{
 "cells": [
  {
   "cell_type": "code",
   "execution_count": 2,
   "metadata": {},
   "outputs": [
    {
     "name": "stdout",
     "output_type": "stream",
     "text": [
      "1\n",
      "2\n",
      "2\n",
      "3\n"
     ]
    }
   ],
   "source": [
    "#Finding out the dimension of any array\n",
    "import numpy as np\n",
    "\n",
    "arr = np.array([1,2,3])  #only a single row\n",
    "arr1 = np.array([(1,2,3),(4,5,6)])    # Two rows\n",
    "arr2 = np.array([(1,2,3),(1,3,5),(3,4,5)])  #Three rows\n",
    "arr3 = np.array([[(1,2,3),(4,5,6)],[(3,4,5),(3,4,5)]])  \n",
    "\n",
    "print(arr.ndim)\n",
    "print(arr1.ndim)\n",
    "print(arr2.ndim)\n",
    "print(arr3.ndim)"
   ]
  },
  {
   "cell_type": "code",
   "execution_count": 3,
   "metadata": {},
   "outputs": [
    {
     "name": "stdout",
     "output_type": "stream",
     "text": [
      "4\n"
     ]
    }
   ],
   "source": [
    "#Finding out the itemsize of elements in an array\n",
    "arr = np.array([1,2,3])\n",
    "\n",
    "print(arr.itemsize)    #Shows the size of each item in bytes\n"
   ]
  },
  {
   "cell_type": "code",
   "execution_count": 4,
   "metadata": {},
   "outputs": [
    {
     "name": "stdout",
     "output_type": "stream",
     "text": [
      "int32\n"
     ]
    }
   ],
   "source": [
    "#Finding out the data type of elements in an array\n",
    "arr = np.array([1,2,3])\n",
    "\n",
    "print(arr.dtype)\n"
   ]
  },
  {
   "cell_type": "code",
   "execution_count": 10,
   "metadata": {},
   "outputs": [
    {
     "name": "stdout",
     "output_type": "stream",
     "text": [
      "3\n",
      "6\n",
      "9\n"
     ]
    }
   ],
   "source": [
    "#Finding the size of the whole array (i.e.the number of elements in the array)\n",
    "\n",
    "arr = np.array([1,2,3])\n",
    "arr1 = np.array([(1,2,3),(4,5,6)])\n",
    "arr2 = np.array([(1,2,3),(1,3,5),(3,4,5)])\n",
    "\n",
    "print(arr.size)\n",
    "print(arr1.size)\n",
    "print(arr2.size)"
   ]
  },
  {
   "cell_type": "code",
   "execution_count": 11,
   "metadata": {},
   "outputs": [
    {
     "name": "stdout",
     "output_type": "stream",
     "text": [
      "12\n",
      "24\n",
      "36\n"
     ]
    }
   ],
   "source": [
    "#Finding the total size(number of bytes occupied by the array)\n",
    "#Equivalent to arr.size * arr.itemsize\n",
    "\n",
    "arr = np.array([1,2,3])\n",
    "arr1 = np.array([(1,2,3),(4,5,6)])\n",
    "arr2 = np.array([(1,2,3),(1,3,5),(3,4,5)])\n",
    "\n",
    "print(arr.nbytes)\n",
    "print(arr1.nbytes)\n",
    "print(arr2.nbytes)"
   ]
  },
  {
   "cell_type": "code",
   "execution_count": 6,
   "metadata": {},
   "outputs": [
    {
     "name": "stdout",
     "output_type": "stream",
     "text": [
      "(7,)\n",
      "(2, 3)\n",
      "(3, 3)\n",
      "(2, 3)\n"
     ]
    }
   ],
   "source": [
    "#Finding the shape of an array (i.e. the number of rows and columns)\n",
    "\n",
    "arr = np.array([1,2,3,4,5,6,7])\n",
    "arr1 = np.array([(1,2,3),(4,5,6)])\n",
    "arr2 = np.array([(1,2,3),(1,3,5),(3,4,5)])\n",
    "arr3 = np.array([(1,2,3),(1,3,5)])\n",
    "\n",
    "print(arr.shape)\n",
    "print(arr1.shape)\n",
    "print(arr2.shape)\n",
    "print(arr3.shape)"
   ]
  },
  {
   "cell_type": "code",
   "execution_count": 7,
   "metadata": {},
   "outputs": [
    {
     "name": "stdout",
     "output_type": "stream",
     "text": [
      "Inital array  [1 2 3 4 5 6 7]\n",
      "\n",
      "Reshaped array \n",
      " [[1]\n",
      " [2]\n",
      " [3]\n",
      " [4]\n",
      " [5]\n",
      " [6]\n",
      " [7]]\n"
     ]
    }
   ],
   "source": [
    "#Reshaping the array (Changing rows and columns)\n",
    "\n",
    "arr = np.array([1,2,3,4,5,6,7])\n",
    "print(\"Inital array \",arr)\n",
    "arr = arr.reshape(7,1)\n",
    "print(\"\\nReshaped array \\n\",arr)"
   ]
  },
  {
   "cell_type": "code",
   "execution_count": 8,
   "metadata": {},
   "outputs": [
    {
     "name": "stdout",
     "output_type": "stream",
     "text": [
      "Initial array \n",
      " [[1 2 3]\n",
      " [4 5 6]]\n",
      "\n",
      "Reshaped array \n",
      " [[1 2]\n",
      " [3 4]\n",
      " [5 6]]\n"
     ]
    }
   ],
   "source": [
    "#Reshaping the array (Changing rows and columns)\n",
    "arr1 = np.array([(1,2,3),(4,5,6)])\n",
    "print(\"Initial array \\n\", arr1)\n",
    "arr1 = arr1.reshape(3,2)\n",
    "print(\"\\nReshaped array \\n\", arr1)"
   ]
  },
  {
   "cell_type": "code",
   "execution_count": 9,
   "metadata": {},
   "outputs": [
    {
     "name": "stdout",
     "output_type": "stream",
     "text": [
      "[4 8]\n"
     ]
    }
   ],
   "source": [
    "#Slicing an array\n",
    "arr = np.array([(1,2,3,4),(4,5,6,8)])\n",
    "\n",
    "#Print statement to return the 3rd index value in each row\n",
    "print(arr[0:, 3])  #arr[<column_index>, <row_index>]"
   ]
  },
  {
   "cell_type": "code",
   "execution_count": null,
   "metadata": {},
   "outputs": [],
   "source": []
  }
 ],
 "metadata": {
  "kernelspec": {
   "display_name": "Python 3",
   "language": "python",
   "name": "python3"
  },
  "language_info": {
   "codemirror_mode": {
    "name": "ipython",
    "version": 3
   },
   "file_extension": ".py",
   "mimetype": "text/x-python",
   "name": "python",
   "nbconvert_exporter": "python",
   "pygments_lexer": "ipython3",
   "version": "3.7.4"
  }
 },
 "nbformat": 4,
 "nbformat_minor": 2
}
