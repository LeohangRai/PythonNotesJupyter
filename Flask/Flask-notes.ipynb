{
 "cells": [
  {
   "cell_type": "markdown",
   "metadata": {
    "slideshow": {
     "slide_type": "slide"
    }
   },
   "source": [
    "### Flask"
   ]
  },
  {
   "cell_type": "markdown",
   "metadata": {
    "slideshow": {
     "slide_type": "fragment"
    }
   },
   "source": [
    "#### Flask Introduction\n",
    "\n",
    "* Microframework : small, clean and simple\n",
    "* Minimal features : Minimal Code\n"
   ]
  },
  {
   "cell_type": "markdown",
   "metadata": {
    "slideshow": {
     "slide_type": "slide"
    }
   },
   "source": [
    "**Why Choose Flask?**\n",
    "\n",
    "* clean and simle \n",
    "    * small app in a single Python file\n",
    "    \n",
    "* Un-opionated : \n",
    "    * Fleasible(choose the components that you need)\n",
    "    * Django is opionate\n",
    "    \n",
    "* Well Documented"
   ]
  },
  {
   "cell_type": "markdown",
   "metadata": {
    "slideshow": {
     "slide_type": "slide"
    }
   },
   "source": [
    "**Included with Flask**\n",
    "\n",
    "* Jinja 2 Template Engine\n",
    "* Werkzeug: HTTP and routing\n",
    "* Development server and debugger\n",
    "* Unit testing Support"
   ]
  },
  {
   "cell_type": "markdown",
   "metadata": {
    "slideshow": {
     "slide_type": "slide"
    }
   },
   "source": [
    "#### Installing Flask\n",
    "\n",
    "`pip install flask` \n",
    "OR\n",
    "`conda install flask`\n",
    "\n",
    "* Make sure to install in an active virtual environment"
   ]
  },
  {
   "cell_type": "markdown",
   "metadata": {
    "slideshow": {
     "slide_type": "slide"
    }
   },
   "source": [
    "#### Creating the flask Application Object\n",
    "\n",
    "```python\n",
    "from flask import Flask\n",
    "\n",
    "app = Flask(__name__)\n",
    "```\n",
    "The app object represents our web application"
   ]
  },
  {
   "cell_type": "markdown",
   "metadata": {
    "slideshow": {
     "slide_type": "slide"
    }
   },
   "source": [
    "#### View Functions\n",
    "* URLs must start with a slash\n",
    "* there is no connection between URL and function name\n",
    "\n",
    "```python\n",
    "@app.route(\"/my_url\")\n",
    "def my_view_func():\n",
    "       return \"This is an example page.\"\n",
    "```\n",
    "\n",
    "* When a request comes in for `/my_url`, the function will be called "
   ]
  },
  {
   "cell_type": "markdown",
   "metadata": {
    "slideshow": {
     "slide_type": "slide"
    }
   },
   "source": [
    "#### Running Flask\n",
    "\n",
    "```\n",
    "# Location of module containing our application\n",
    "export FLASK_APP=flashcards.py\n",
    "\n",
    "#Enable development features like debugging\n",
    "export FLASK_ENV=development\n",
    "\n",
    "flask run\n",
    "```"
   ]
  },
  {
   "cell_type": "markdown",
   "metadata": {
    "slideshow": {
     "slide_type": "slide"
    }
   },
   "source": [
    "#### Flask and the flow of control\n",
    "\n",
    "* Control flow is dictated by incoming HTTP Requests\n",
    "* A view function is only called if its URL is requested(visited in browser)\n",
    "\n",
    "\n",
    "{/date}"
   ]
  },
  {
   "cell_type": "markdown",
   "metadata": {
    "slideshow": {
     "slide_type": "slide"
    }
   },
   "source": [
    "---\n",
    "\n",
    "**Exercise**\n",
    "\n",
    "Add a page to show how many times it has been viewed.\n",
    "\n",
    "---"
   ]
  },
  {
   "cell_type": "markdown",
   "metadata": {
    "slideshow": {
     "slide_type": "slide"
    }
   },
   "source": [
    "#### Understanding URL mapping"
   ]
  },
  {
   "cell_type": "code",
   "execution_count": 1,
   "metadata": {
    "slideshow": {
     "slide_type": "fragment"
    }
   },
   "outputs": [],
   "source": [
    "import flashcards"
   ]
  },
  {
   "cell_type": "code",
   "execution_count": 2,
   "metadata": {
    "slideshow": {
     "slide_type": "fragment"
    }
   },
   "outputs": [
    {
     "data": {
      "text/plain": [
       "Map([<Rule '/count_views' (GET, OPTIONS, HEAD) -> count_views>,\n",
       " <Rule '/date' (GET, OPTIONS, HEAD) -> welcome>,\n",
       " <Rule '/' (GET, OPTIONS, HEAD) -> hello>,\n",
       " <Rule '/static/<filename>' (GET, OPTIONS, HEAD) -> static>])"
      ]
     },
     "execution_count": 2,
     "metadata": {},
     "output_type": "execute_result"
    }
   ],
   "source": [
    "flashcards.app.url_map"
   ]
  },
  {
   "cell_type": "markdown",
   "metadata": {
    "slideshow": {
     "slide_type": "slide"
    }
   },
   "source": [
    "` <Rule '/static/<filename>' (GET, OPTIONS, HEAD) -> static>`\n",
    "\n",
    "* server any file in a directory called static.\n"
   ]
  },
  {
   "cell_type": "markdown",
   "metadata": {
    "slideshow": {
     "slide_type": "slide"
    }
   },
   "source": [
    "### Model-Template-View Architectural Pattern "
   ]
  },
  {
   "cell_type": "markdown",
   "metadata": {
    "slideshow": {
     "slide_type": "fragment"
    }
   },
   "source": [
    "#### Jinja templates\n",
    "\n",
    "* Displaying data to the user\n",
    "* Greating HTML\n",
    "* calling templates from view\n",
    "* passing data from view to the template\n",
    "* Jinja variables"
   ]
  },
  {
   "cell_type": "markdown",
   "metadata": {
    "slideshow": {
     "slide_type": "slide"
    }
   },
   "source": [
    "**Templates**\n",
    "    * components that display data to the user\n",
    "    \n",
    "**Jinja templates generate text files**\n",
    "    * We use to create HTML\n",
    "    \n",
    "**Templates are text files**\n",
    "    * With placeholders for variables\n",
    "    * And logic: if, for, filters,etc."
   ]
  },
  {
   "cell_type": "markdown",
   "metadata": {
    "slideshow": {
     "slide_type": "slide"
    }
   },
   "source": [
    "**A Jinja Template Example**\n",
    "\n",
    "```HTML\n",
    "<html>\n",
    "    <head>\n",
    "        <title>{{name}}'s Page</title>\n",
    "    </head>\n",
    "    <body>\n",
    "        <h1>Hi I'm {{name}}!</h1>\n",
    "            I'm {{age}} years old.\n",
    "    </body>\n",
    "</html>\n",
    "```\n",
    "\n",
    "* `{{var}}` looks up var in the template context\n",
    "* Other text is copied to HTML output\n",
    "* This creates dynamic HTML page"
   ]
  },
  {
   "cell_type": "markdown",
   "metadata": {
    "slideshow": {
     "slide_type": "slide"
    }
   },
   "source": [
    "**Calling a Template from a View**\n",
    "\n",
    "```python\n",
    "from flask import render_template\n",
    "\n",
    "def welcome():\n",
    "    return render_template(\"welcome.html\",\n",
    "                           name = \"Bob\", age=35)\n",
    "\n",
    "```\n",
    "\n",
    "* `render_template`: first argument is name of template file\n",
    "* Other arguments are data passed to the template context\n",
    "* Templates should be in folder `/templates`\n",
    "* Don't forget to `return` template"
   ]
  },
  {
   "cell_type": "markdown",
   "metadata": {
    "slideshow": {
     "slide_type": "slide"
    }
   },
   "source": [
    "#### Model - Template - View\n",
    "\n",
    "![Model-Template-View](./static/MTV.png)\n",
    "\n",
    "![Model-Template-View](./static/MTV_II.png)"
   ]
  },
  {
   "cell_type": "markdown",
   "metadata": {
    "slideshow": {
     "slide_type": "slide"
    }
   },
   "source": [
    "### Adding Logic to Application"
   ]
  },
  {
   "cell_type": "markdown",
   "metadata": {
    "slideshow": {
     "slide_type": "fragment"
    }
   },
   "source": [
    "#### View Logic\n",
    "\n",
    "* Take argument from URL\n",
    "* Return HTTP error\n",
    "* Serving data as REST API"
   ]
  },
  {
   "cell_type": "markdown",
   "metadata": {
    "slideshow": {
     "slide_type": "fragment"
    }
   },
   "source": [
    "#### Template logic\n",
    "\n",
    "* Jinja For and If statements\n",
    "* Creating Link to cards"
   ]
  },
  {
   "cell_type": "markdown",
   "metadata": {
    "slideshow": {
     "slide_type": "slide"
    }
   },
   "source": [
    "**Card detail page**\n",
    "    * Parameter in URL to select card\n",
    "    * Return 404 when not found\n",
    "    \n",
    "**Browse cards**\n",
    "    * Create links to other cards\n",
    "    * If statement in card template\n",
    "    \n",
    "**Card list**\n",
    "    * For loop in template"
   ]
  },
  {
   "cell_type": "markdown",
   "metadata": {
    "slideshow": {
     "slide_type": "slide"
    }
   },
   "source": [
    "**Parameters in URLS**\n",
    "\n",
    "```python\n",
    "@app.route('/example/<int:x>')\n",
    "def my_view(x):\n",
    "    pass\n",
    "```\n",
    "\n",
    "* <int:x> will match a number in the url\n",
    "* This number will be assigned to the view parameter `x`."
   ]
  },
  {
   "cell_type": "markdown",
   "metadata": {
    "slideshow": {
     "slide_type": "slide"
    }
   },
   "source": [
    "**Return an Error Code**\n",
    "\n",
    "```python\n",
    "from Flask import abort\n",
    "\n",
    "@app.route('/card/<int:index>')\n",
    "def card_view(index):\n",
    "    try:\n",
    "        ...\n",
    "    except IndexError:\n",
    "        abort(404)\n",
    "```"
   ]
  },
  {
   "cell_type": "markdown",
   "metadata": {
    "slideshow": {
     "slide_type": "slide"
    }
   },
   "source": [
    "**Reverse URL building**\n",
    "\n",
    "* `url_for()` return the URL for a view\n",
    "* First argument is name of view function\n",
    "* Other arguments will be passed to the view(use keyword args)"
   ]
  },
  {
   "cell_type": "markdown",
   "metadata": {
    "slideshow": {
     "slide_type": "slide"
    }
   },
   "source": [
    "**Jinja for loops**\n",
    "\n",
    "```HTML\n",
    "<ul>\n",
    "{% for card in cards %}\n",
    "    <li>\n",
    "        <a href=\"{{ url_for('card_view',index=loop.index0) }}\">\n",
    "            {{card.question}}\n",
    "        </a>\n",
    "    </li>\n",
    "{% endfor %}\n",
    "</ul>\n",
    "```"
   ]
  },
  {
   "cell_type": "markdown",
   "metadata": {
    "slideshow": {
     "slide_type": "slide"
    }
   },
   "source": [
    "**Jinja if statements**\n",
    "```\n",
    "{% if index < max_index %}\n",
    "    <a href=\"{{ url_for('card_view', index=index+1) }}\">\n",
    "        Next Card\n",
    "    </a>\n",
    "{% else %}\n",
    "    <a href=\"{{ url_for('card_view', index=0) }}\">\n",
    "        Start over\n",
    "    </a>\n",
    "{% endif %}\n",
    "```"
   ]
  },
  {
   "cell_type": "markdown",
   "metadata": {
    "slideshow": {
     "slide_type": "slide"
    }
   },
   "source": [
    "### Adding User Interaction"
   ]
  },
  {
   "cell_type": "markdown",
   "metadata": {
    "slideshow": {
     "slide_type": "fragment"
    }
   },
   "source": [
    "HTML FORMS\n",
    "\n",
    "```HTML\n",
    "<form method=\"POST\">\n",
    "    Question: <input type=\"text\" name=\"question\">\n",
    "    Answer: <input type=\"text\" name=\"answer\">\n",
    "    <button type=\"submit\">Create</button>\n",
    "</form>\n",
    "```\n"
   ]
  },
  {
   "cell_type": "markdown",
   "metadata": {
    "slideshow": {
     "slide_type": "slide"
    }
   },
   "source": [
    "Handling POST Requests\n",
    "\n",
    "```python\n",
    "@app.route('/add_card', methods=[\"GET\",\"POST\"])\n",
    "def add_card():\n",
    "    if request.method == \"POST\":\n",
    "        # Handle user input\n",
    "\n",
    "    else:\n",
    "        return render_template(\"add_card.html\")\n",
    "```\n",
    "\n",
    "**Processing Form Input Data**\n",
    "\n",
    "```python\n",
    "card = {\"question\": request.form['question'],\n",
    "        \"answer\": request.form['answer']}\n",
    "```\n",
    "\n",
    "* import `request`\n",
    "* `request` contains info: headers, cookies, form data, etc.\n",
    "* `request` is a global object, but bound to the current request"
   ]
  },
  {
   "cell_type": "markdown",
   "metadata": {
    "slideshow": {
     "slide_type": "slide"
    }
   },
   "source": [
    "### Template Inheritance\n",
    "\n",
    "```python\n",
    "{% extends \"base.html\" %}\n",
    "\n",
    "{% block title %}{% endbock %}\n",
    "```\n",
    "\n",
    "**Static Files and url_for**\n",
    "\n",
    "```HTML\n",
    "<link rel=\"stylesheet\"\n",
    "      hred=\"{{ url_for('static',filename='style.css') }}>\n",
    "```\n"
   ]
  }
 ],
 "metadata": {
  "celltoolbar": "Slideshow",
  "kernelspec": {
   "display_name": "Python 3",
   "language": "python",
   "name": "python3"
  },
  "language_info": {
   "codemirror_mode": {
    "name": "ipython",
    "version": 3
   },
   "file_extension": ".py",
   "mimetype": "text/x-python",
   "name": "python",
   "nbconvert_exporter": "python",
   "pygments_lexer": "ipython3",
   "version": "3.7.4"
  },
  "toc": {
   "base_numbering": 1,
   "nav_menu": {},
   "number_sections": true,
   "sideBar": true,
   "skip_h1_title": false,
   "title_cell": "Table of Contents",
   "title_sidebar": "Contents",
   "toc_cell": false,
   "toc_position": {},
   "toc_section_display": true,
   "toc_window_display": false
  }
 },
 "nbformat": 4,
 "nbformat_minor": 4
}
