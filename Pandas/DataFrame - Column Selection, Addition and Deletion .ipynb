{
 "cells": [
  {
   "cell_type": "markdown",
   "metadata": {},
   "source": [
    "# Refer to Fuse ai resources, its summary is best\n",
    "Look at it first an recompile the note below"
   ]
  },
  {
   "cell_type": "markdown",
   "metadata": {},
   "source": [
    "# Column Selection\n",
    "\n",
    "NOTE:\n",
    "\n",
    "Column selection can be done directly by indexing (or passing labels) just like lists or arrays\n",
    "\n",
    "Row selections must be done by passing label to loc() function"
   ]
  },
  {
   "cell_type": "code",
   "execution_count": 23,
   "metadata": {},
   "outputs": [
    {
     "name": "stdout",
     "output_type": "stream",
     "text": [
      "a    1.0\n",
      "b    2.0\n",
      "c    3.0\n",
      "d    NaN\n",
      "Name: one, dtype: float64\n"
     ]
    }
   ],
   "source": [
    "import pandas as pd\n",
    "\n",
    "d = {\n",
    "    'one' : pd.Series([1, 2, 3], index=['a', 'b', 'c']),\n",
    "    'two' : pd.Series([1, 2, 3, 4], index=['a', 'b', 'c', 'd'])\n",
    "    }\n",
    "\n",
    "df = pd.DataFrame(d)\n",
    "print(df['one'])"
   ]
  },
  {
   "cell_type": "markdown",
   "metadata": {},
   "source": [
    "# Column Addition\n",
    "Adding a new column to an existing dataFrame\n"
   ]
  },
  {
   "cell_type": "code",
   "execution_count": 6,
   "metadata": {},
   "outputs": [
    {
     "name": "stdout",
     "output_type": "stream",
     "text": [
      "   one  two  three\n",
      "a  1.0    1   10.0\n",
      "b  2.0    2   20.0\n",
      "c  3.0    3   30.0\n",
      "d  NaN    4    NaN\n"
     ]
    }
   ],
   "source": [
    "# Adding a new column to an existing DataFrame object with column label by passing new series\n",
    "dic = {\n",
    "    'one' : pd.Series([1, 2, 3], index=['a', 'b', 'c']),\n",
    "    'two' : pd.Series([1, 2, 3, 4], index=['a', 'b', 'c', 'd'])\n",
    "    }\n",
    "\n",
    "df = pd.DataFrame(dic)\n",
    "df['three'] =  pd.Series([10,20,30], index = ['a','b','c'])\n",
    "print(df)"
   ]
  },
  {
   "cell_type": "code",
   "execution_count": 12,
   "metadata": {},
   "outputs": [
    {
     "name": "stdout",
     "output_type": "stream",
     "text": [
      "   one  two  three     4  four\n",
      "a  1.0    1   10.0  11.0  11.0\n",
      "b  2.0    2   20.0  22.0  22.0\n",
      "c  3.0    3   30.0  33.0  33.0\n",
      "d  NaN    4    NaN   NaN   NaN\n"
     ]
    }
   ],
   "source": [
    "#Adding a new column using the existing columns in DataFrame\n",
    "\n",
    "df[4] = df['one'] + df['three']\n",
    "df['four'] = df['one'] + df['three']\n",
    "print(df)"
   ]
  },
  {
   "cell_type": "markdown",
   "metadata": {},
   "source": [
    "# Column Deletion\n",
    "Column can be delete or popped using del and pop function resp.\n",
    "\n",
    "Syntax:\n",
    "\n",
    "del(df[index])\n",
    "\n",
    "df.pop(index)"
   ]
  },
  {
   "cell_type": "code",
   "execution_count": 19,
   "metadata": {},
   "outputs": [
    {
     "name": "stdout",
     "output_type": "stream",
     "text": [
      "Original Dataframe:\n",
      "\n",
      "   one  two  three\n",
      "a  1.0    1   10.0\n",
      "b  2.0    2   20.0\n",
      "c  3.0    3   30.0\n",
      "d  NaN    4    NaN\n",
      "\n",
      "After deletion:\n",
      "\n",
      "   two  three\n",
      "a    1   10.0\n",
      "b    2   20.0\n",
      "c    3   30.0\n",
      "d    4    NaN\n"
     ]
    }
   ],
   "source": [
    "#Using del function:\n",
    "import pandas as pd\n",
    "\n",
    "d = {\n",
    "    'one' : pd.Series([1, 2, 3], index=['a', 'b', 'c']), \n",
    "    'two' : pd.Series([1, 2, 3, 4], index=['a', 'b', 'c', 'd']), \n",
    "    'three' : pd.Series([10,20,30], index=['a','b','c'])\n",
    "    }\n",
    "df = pd.DataFrame(d)\n",
    "print(\"Original Dataframe:\", df, sep = '\\n\\n', end='\\n\\n')\n",
    "\n",
    "#Deleting using del func\n",
    "del df['one']\n",
    "print(\"After deletion:\", df, sep = '\\n\\n')"
   ]
  },
  {
   "cell_type": "code",
   "execution_count": 21,
   "metadata": {},
   "outputs": [
    {
     "name": "stdout",
     "output_type": "stream",
     "text": [
      "After deletion using Pop function: \n",
      "\n",
      "   three\n",
      "a   10.0\n",
      "b   20.0\n",
      "c   30.0\n",
      "d    NaN\n"
     ]
    }
   ],
   "source": [
    "#Using pop function\n",
    "df.pop('two')\n",
    "print(\"After deletion using Pop function: \", df, sep = \"\\n\\n\")"
   ]
  },
  {
   "cell_type": "markdown",
   "metadata": {},
   "source": [
    "# Row Selection, Addition and Deletion\n"
   ]
  }
 ],
 "metadata": {
  "kernelspec": {
   "display_name": "Python 3",
   "language": "python",
   "name": "python3"
  },
  "language_info": {
   "codemirror_mode": {
    "name": "ipython",
    "version": 3
   },
   "file_extension": ".py",
   "mimetype": "text/x-python",
   "name": "python",
   "nbconvert_exporter": "python",
   "pygments_lexer": "ipython3",
   "version": "3.7.4"
  }
 },
 "nbformat": 4,
 "nbformat_minor": 2
}
