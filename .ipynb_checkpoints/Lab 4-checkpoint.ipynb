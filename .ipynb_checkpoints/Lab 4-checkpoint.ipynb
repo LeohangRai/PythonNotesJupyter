{
 "cells": [
  {
   "cell_type": "code",
   "execution_count": 12,
   "metadata": {},
   "outputs": [
    {
     "data": {
      "text/plain": [
       "False"
      ]
     },
     "execution_count": 12,
     "metadata": {},
     "output_type": "execute_result"
    }
   ],
   "source": [
    "class Rectangle():\n",
    "    def __init__(self, l,b):\n",
    "        self.l = l\n",
    "        self.b = b\n",
    "    def get_area(self):\n",
    "        area = (self.l * self.b)\n",
    "        return area \n",
    "\n",
    "    def __gt__(self,other):\n",
    "        if self.get_area() > other.get_area():\n",
    "            return True\n",
    "        else:\n",
    "            return False\n",
    "        \n",
    "    def __eq__(self,other):\n",
    "        if self.get_area() == other.get_area():\n",
    "            return True\n",
    "        else:\n",
    "            return False\n",
    "            \n",
    "    def __lt__(self,other):\n",
    "        if self.get_area() < other.get_area():\n",
    "            return True\n",
    "        else:\n",
    "            return False\n",
    "            \n",
    "            \n",
    "r1 = Rectangle(5,4)\n",
    "r2 = Rectangle(4,3)\n",
    "\n",
    "r1<r2"
   ]
  },
  {
   "cell_type": "code",
   "execution_count": null,
   "metadata": {},
   "outputs": [],
   "source": []
  }
 ],
 "metadata": {
  "kernelspec": {
   "display_name": "Python 3",
   "language": "python",
   "name": "python3"
  },
  "language_info": {
   "codemirror_mode": {
    "name": "ipython",
    "version": 3
   },
   "file_extension": ".py",
   "mimetype": "text/x-python",
   "name": "python",
   "nbconvert_exporter": "python",
   "pygments_lexer": "ipython3",
   "version": "3.7.4"
  }
 },
 "nbformat": 4,
 "nbformat_minor": 2
}
