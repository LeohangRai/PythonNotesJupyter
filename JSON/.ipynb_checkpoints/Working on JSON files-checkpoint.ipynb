{
 "cells": [
  {
   "cell_type": "markdown",
   "metadata": {},
   "source": [
    "### Parsing a JSON file\n",
    "We can parse a JSON file using the json.load() method instead of the json.loads() method\n",
    "\n",
    "#Important Note<br>\n",
    "json.loads() is for loading a string <br>\n",
    "json.load() is for loading a json file"
   ]
  },
  {
   "cell_type": "markdown",
   "metadata": {},
   "source": [
    "### The json file that we are going to parse here looks something like this:\n",
    "<PRE>\n",
    "{\n",
    "  \"states\": [\n",
    "    {\n",
    "      \"name\": \"Alabama\",\n",
    "      \"abbreviation\": \"AL\",\n",
    "      \"area_codes\": [\"205\", \"251\", \"256\", \"334\", \"938\"]\n",
    "    },\n",
    "    {\n",
    "      \"name\": \"Alaska\",\n",
    "      \"abbreviation\": \"AK\",\n",
    "      \"area_codes\": [\"907\"]\n",
    "    },\n",
    "    .\n",
    "    .\n",
    "    .\n",
    "    .\n",
    "}"
   ]
  },
  {
   "cell_type": "code",
   "execution_count": 16,
   "metadata": {},
   "outputs": [
    {
     "name": "stdout",
     "output_type": "stream",
     "text": [
      "{'name': 'Alabama', 'abbreviation': 'AL', 'area_codes': ['205', '251', '256', '334', '938']}\n",
      "{'name': 'Alaska', 'abbreviation': 'AK', 'area_codes': ['907']}\n",
      "{'name': 'Arizona', 'abbreviation': 'AZ', 'area_codes': ['480', '520', '602', '623', '928']}\n",
      "{'name': 'Arkansas', 'abbreviation': 'AR', 'area_codes': ['479', '501', '870']}\n",
      "{'name': 'California', 'abbreviation': 'CA', 'area_codes': ['209', '213', '310', '323', '408', '415', '424', '442', '510', '530', '559', '562', '619', '626', '628', '650', '657', '661', '669', '707', '714', '747', '760', '805', '818', '831', '858', '909', '916', '925', '949', '951']}\n",
      "{'name': 'Colorado', 'abbreviation': 'CO', 'area_codes': ['303', '719', '720', '970']}\n",
      "{'name': 'Connecticut', 'abbreviation': 'CT', 'area_codes': ['203', '475', '860', '959']}\n",
      "{'name': 'Delaware', 'abbreviation': 'DE', 'area_codes': ['302']}\n",
      "{'name': 'Florida', 'abbreviation': 'FL', 'area_codes': ['239', '305', '321', '352', '386', '407', '561', '727', '754', '772', '786', '813', '850', '863', '904', '941', '954']}\n",
      "{'name': 'Georgia', 'abbreviation': 'GA', 'area_codes': ['229', '404', '470', '478', '678', '706', '762', '770', '912']}\n"
     ]
    }
   ],
   "source": [
    "import json\n",
    "\n",
    "with open('states.json') as handle:\n",
    "    data = json.load(handle)\n",
    "\n",
    "#Printing all the states in the dictionary\n",
    "for state in data['states'][:10]:\n",
    "        print(state)\n",
    " "
   ]
  },
  {
   "cell_type": "code",
   "execution_count": null,
   "metadata": {},
   "outputs": [],
   "source": []
  },
  {
   "cell_type": "code",
   "execution_count": 12,
   "metadata": {},
   "outputs": [
    {
     "name": "stdout",
     "output_type": "stream",
     "text": [
      "Alabama : AL\n",
      "Alaska : AK\n",
      "Arizona : AZ\n",
      "Arkansas : AR\n",
      "California : CA\n",
      "Colorado : CO\n",
      "Connecticut : CT\n",
      "Delaware : DE\n",
      "Florida : FL\n",
      "Georgia : GA\n",
      "Hawaii : HI\n",
      "Idaho : ID\n",
      "Illinois : IL\n",
      "Indiana : IN\n",
      "Iowa : IA\n",
      "Kansas : KS\n",
      "Kentucky : KY\n",
      "Louisiana : LA\n",
      "Maine : ME\n",
      "Maryland : MD\n",
      "Massachusetts : MA\n",
      "Michigan : MI\n",
      "Minnesota : MN\n",
      "Mississippi : MS\n",
      "Missouri : MO\n",
      "Montana : MT\n",
      "Nebraska : NE\n",
      "Nevada : NV\n",
      "New Hampshire : NH\n",
      "New Jersey : NJ\n",
      "New Mexico : NM\n",
      "New York : NY\n",
      "North Carolina : NC\n",
      "North Dakota : ND\n",
      "Ohio : OH\n",
      "Oklahoma : OK\n",
      "Oregon : OR\n",
      "Pennsylvania : PA\n",
      "Rhode Island : RI\n",
      "South Carolina : SC\n",
      "South Dakota : SD\n",
      "Tennessee : TN\n",
      "Texas : TX\n",
      "Utah : UT\n",
      "Vermont : VT\n",
      "Virginia : VA\n",
      "Washington : WA\n",
      "West Virginia : WV\n",
      "Wisconsin : WI\n",
      "Wyoming : WY\n"
     ]
    }
   ],
   "source": [
    "for state in data['states']:\n",
    "    print(state['name'], state['abbreviation'], sep = ' : ')"
   ]
  }
 ],
 "metadata": {
  "kernelspec": {
   "display_name": "Python 3",
   "language": "python",
   "name": "python3"
  },
  "language_info": {
   "codemirror_mode": {
    "name": "ipython",
    "version": 3
   },
   "file_extension": ".py",
   "mimetype": "text/x-python",
   "name": "python",
   "nbconvert_exporter": "python",
   "pygments_lexer": "ipython3",
   "version": "3.7.4"
  }
 },
 "nbformat": 4,
 "nbformat_minor": 2
}
