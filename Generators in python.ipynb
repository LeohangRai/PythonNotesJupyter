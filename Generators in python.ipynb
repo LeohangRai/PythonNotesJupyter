{
 "cells": [
  {
   "cell_type": "code",
   "execution_count": 9,
   "metadata": {},
   "outputs": [
    {
     "name": "stdout",
     "output_type": "stream",
     "text": [
      "[1, 4, 9, 16, 25]\n"
     ]
    }
   ],
   "source": [
    "#A function that takes a list of numbers and returns a list of their squares\n",
    "def square_nums(num):\n",
    "    square=[]\n",
    "    for i in num:\n",
    "        square.append(i*i)\n",
    "    return square\n",
    "\n",
    "#Test\n",
    "print(square_nums([1,2,3,4,5]))\n"
   ]
  },
  {
   "cell_type": "code",
   "execution_count": 48,
   "metadata": {},
   "outputs": [
    {
     "name": "stdout",
     "output_type": "stream",
     "text": [
      "<generator object square_nums at 0x7efe840a2bd0>\n",
      "1\n",
      "4\n",
      "9\n",
      "16\n"
     ]
    }
   ],
   "source": [
    "#A Generator function that takes a list of numbers and returns a list of their squares\n",
    "def square_nums(num):\n",
    "    for i in num:\n",
    "        yield (i*i)\n",
    "        \n",
    "#Test\n",
    "lis=square_nums([1,2,3,4,5])\n",
    "print(lis)\n",
    "print(next(lis))\n",
    "print(next(lis))\n",
    "print(next(lis))\n",
    "print(next(lis))\n",
    " # We can even run for loop instead"
   ]
  },
  {
   "cell_type": "code",
   "execution_count": 38,
   "metadata": {},
   "outputs": [
    {
     "name": "stdout",
     "output_type": "stream",
     "text": [
      "[1, 4, 9, 16, 25]\n",
      "1\n",
      "4\n",
      "9\n",
      "16\n",
      "25\n"
     ]
    }
   ],
   "source": [
    "#List Comprehension:\n",
    "square = [(i*i) for i in [1,2,3,4,5]]\n",
    "print(square)\n",
    "\n",
    "for i in square:\n",
    "    print(i)"
   ]
  },
  {
   "cell_type": "code",
   "execution_count": 37,
   "metadata": {},
   "outputs": [
    {
     "name": "stdout",
     "output_type": "stream",
     "text": [
      "<generator object <genexpr> at 0x7efe840a26d0>\n",
      "1\n",
      "4\n",
      "9\n",
      "16\n",
      "25\n"
     ]
    }
   ],
   "source": [
    "#Generator:\n",
    "square = ((i*i) for i in [1,2,3,4,5])\n",
    "print(square)\n",
    "print(next(square))\n",
    "print(next(square))\n",
    "print(next(square))\n",
    "print(next(square))\n",
    "print(next(square))\n",
    "\n",
    "#We can also run for loop instead"
   ]
  },
  {
   "cell_type": "code",
   "execution_count": 44,
   "metadata": {},
   "outputs": [
    {
     "name": "stdout",
     "output_type": "stream",
     "text": [
      "[2, 4, 6, 8, 10]\n"
     ]
    }
   ],
   "source": [
    "#How to obtain all the results of a generator at once\n",
    "#Converting a generator variable into a list\n",
    "\n",
    "odd = [1,3,5,7,9]\n",
    "even = ((i+1) for i in odd)\n",
    "print(list(even))"
   ]
  },
  {
   "cell_type": "code",
   "execution_count": 49,
   "metadata": {},
   "outputs": [
    {
     "name": "stdout",
     "output_type": "stream",
     "text": [
      "[1, 4, 9, 16, 25]\n"
     ]
    }
   ],
   "source": [
    "#How to obtain all the results of a generator at once\n",
    "#Converting a generator variable into a list\n",
    "square = ((i*i) for i in [1,2,3,4,5])\n",
    "square = list(square)\n",
    "print(square)"
   ]
  },
  {
   "cell_type": "code",
   "execution_count": null,
   "metadata": {},
   "outputs": [],
   "source": []
  },
  {
   "cell_type": "code",
   "execution_count": null,
   "metadata": {},
   "outputs": [],
   "source": []
  },
  {
   "cell_type": "code",
   "execution_count": null,
   "metadata": {},
   "outputs": [],
   "source": []
  }
 ],
 "metadata": {
  "kernelspec": {
   "display_name": "Python 3",
   "language": "python",
   "name": "python3"
  },
  "language_info": {
   "codemirror_mode": {
    "name": "ipython",
    "version": 3
   },
   "file_extension": ".py",
   "mimetype": "text/x-python",
   "name": "python",
   "nbconvert_exporter": "python",
   "pygments_lexer": "ipython3",
   "version": "3.7.4"
  }
 },
 "nbformat": 4,
 "nbformat_minor": 4
}
