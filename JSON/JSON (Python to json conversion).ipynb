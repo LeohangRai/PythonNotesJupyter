{
 "cells": [
  {
   "cell_type": "markdown",
   "metadata": {},
   "source": [
    "## Python to JSON conversion\n",
    "Let's say we  wanted to remove/update something from the json string using python and again convert the updated python string/object into json object/string.<br>\n",
    "We can achieve this by using the json.dumps() method\n",
    "<br>\n",
    "\n",
    "json.dumps(data, indent, sort_keys)<br>\n",
    "There are other parameters too but Corey talks about these in his tutorials <br>\n"
   ]
  },
  {
   "cell_type": "code",
   "execution_count": 5,
   "metadata": {},
   "outputs": [
    {
     "data": {
      "text/plain": [
       "{'people': [{'name': 'John Smith',\n",
       "   'phone': '234324353',\n",
       "   'emails': ['johnsmith@bogusemail.com', 'john.smith@work-place.com'],\n",
       "   'has_license': False},\n",
       "  {'name': 'Jane Doe',\n",
       "   'phone': '89458049',\n",
       "   'emails': None,\n",
       "   'has_license': True}]}"
      ]
     },
     "execution_count": 5,
     "metadata": {},
     "output_type": "execute_result"
    }
   ],
   "source": [
    "import json\n",
    "\n",
    "#A dictionary that has people as a key, which has an array as value\n",
    "#And the array has 2 dictionaries\n",
    "\n",
    "people_string = '''\n",
    "{\n",
    "    \"people\":[\n",
    "        {\n",
    "            \"name\":\"John Smith\",\n",
    "            \"phone\": \"234324353\",\n",
    "            \"emails\": [\"johnsmith@bogusemail.com\", \"john.smith@work-place.com\"],\n",
    "            \"has_license\": false\n",
    "        },\n",
    "        {\n",
    "            \"name\":\"Jane Doe\",\n",
    "            \"phone\":\"89458049\",\n",
    "            \"emails\": null,\n",
    "            \"has_license\": true\n",
    "        }\n",
    "    ]\n",
    "}\n",
    "'''\n",
    "\n",
    "data = json.loads(people_string)\n",
    "data"
   ]
  },
  {
   "cell_type": "code",
   "execution_count": 6,
   "metadata": {},
   "outputs": [
    {
     "name": "stdout",
     "output_type": "stream",
     "text": [
      "{\n",
      "  \"people\": [\n",
      "    {\n",
      "      \"name\": \"John Smith\",\n",
      "      \"emails\": [\n",
      "        \"johnsmith@bogusemail.com\",\n",
      "        \"john.smith@work-place.com\"\n",
      "      ],\n",
      "      \"has_license\": false\n",
      "    },\n",
      "    {\n",
      "      \"name\": \"Jane Doe\",\n",
      "      \"emails\": null,\n",
      "      \"has_license\": true\n",
      "    }\n",
      "  ]\n",
      "}\n"
     ]
    }
   ],
   "source": [
    "#Let's say we want to delete the phone numbers from both the dictionaries in the list\n",
    "for i in data['people']:\n",
    "    del i['phone']\n",
    "    \n",
    "new_string = json.dumps(data, indent =2)\n",
    "print(new_string)"
   ]
  }
 ],
 "metadata": {
  "kernelspec": {
   "display_name": "Python 3",
   "language": "python",
   "name": "python3"
  },
  "language_info": {
   "codemirror_mode": {
    "name": "ipython",
    "version": 3
   },
   "file_extension": ".py",
   "mimetype": "text/x-python",
   "name": "python",
   "nbconvert_exporter": "python",
   "pygments_lexer": "ipython3",
   "version": "3.7.4"
  }
 },
 "nbformat": 4,
 "nbformat_minor": 2
}
