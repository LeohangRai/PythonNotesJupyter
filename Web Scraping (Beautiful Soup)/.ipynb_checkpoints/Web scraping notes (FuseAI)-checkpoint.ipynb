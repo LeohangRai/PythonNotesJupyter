{
 "cells": [
  {
   "cell_type": "markdown",
   "metadata": {
    "colab_type": "text",
    "id": "ckK9ZkYpdpVU",
    "slideshow": {
     "slide_type": "slide"
    }
   },
   "source": [
    "# Web Scraping"
   ]
  },
  {
   "cell_type": "markdown",
   "metadata": {
    "colab_type": "text",
    "id": "gE4Vu-CudpVX",
    "slideshow": {
     "slide_type": "subslide"
    }
   },
   "source": [
    "---\n",
    "\n",
    "Extracting information from a website and parsing it in a readable format(this is called getting soup).\n",
    "\n",
    "---"
   ]
  },
  {
   "cell_type": "markdown",
   "metadata": {
    "slideshow": {
     "slide_type": "subslide"
    }
   },
   "source": [
    "## Why do we need web scraping?\n",
    "1. Collect data for AI projects (movie recommendation system, NLP for product reviews, corona prediction, sports predictions etc)\n",
    "2. Market analysis\n",
    "3. Marketing and sales solution\n",
    "4. SEO\n",
    "5. Product comparision\n",
    "\n"
   ]
  },
  {
   "cell_type": "markdown",
   "metadata": {
    "slideshow": {
     "slide_type": "slide"
    }
   },
   "source": [
    "## Demand for web scrapring\n",
    "https://www.upwork.com/ab/jobs/search/?q=web%20scraping&sort=recency"
   ]
  },
  {
   "cell_type": "markdown",
   "metadata": {
    "colab_type": "text",
    "id": "OtxF-1gUf8sw",
    "slideshow": {
     "slide_type": "slide"
    }
   },
   "source": [
    "# Introduction to Beautiful Soup"
   ]
  },
  {
   "cell_type": "markdown",
   "metadata": {
    "colab_type": "text",
    "id": "je5VFrfBf83u",
    "slideshow": {
     "slide_type": "subslide"
    }
   },
   "source": [
    "* Python package to parse HTML and XML trees. \n",
    "\n",
    "\n",
    "* provides easier ways of navigating, searching, and modifying the parse tree.\n"
   ]
  },
  {
   "cell_type": "markdown",
   "metadata": {
    "colab_type": "text",
    "id": "dT60TdD70wPy",
    "slideshow": {
     "slide_type": "slide"
    }
   },
   "source": [
    "## Installing Beautiful Soup"
   ]
  },
  {
   "cell_type": "markdown",
   "metadata": {
    "colab_type": "text",
    "id": "9xxpBJaN00bH",
    "slideshow": {
     "slide_type": "subslide"
    }
   },
   "source": [
    "To install Beautiful Soup, use the following command.\n",
    "\n",
    "```\n",
    "pip install beautifulsoup4\n",
    "```"
   ]
  },
  {
   "cell_type": "markdown",
   "metadata": {
    "colab_type": "text",
    "id": "pPBwxzWuk5a7",
    "slideshow": {
     "slide_type": "slide"
    }
   },
   "source": [
    "## Importing Beautiful Soup"
   ]
  },
  {
   "cell_type": "code",
   "execution_count": null,
   "metadata": {
    "colab": {},
    "colab_type": "code",
    "id": "HJNlA982lrhn",
    "slideshow": {
     "slide_type": "subslide"
    }
   },
   "outputs": [],
   "source": [
    "from bs4 import BeautifulSoup"
   ]
  },
  {
   "cell_type": "markdown",
   "metadata": {
    "colab_type": "text",
    "id": "GLZJISp2uzrV",
    "slideshow": {
     "slide_type": "slide"
    }
   },
   "source": [
    "## Parsing an HTML file with Beautiful Soup"
   ]
  },
  {
   "cell_type": "code",
   "execution_count": null,
   "metadata": {
    "colab": {},
    "colab_type": "code",
    "id": "IZA8WFgIGXSC",
    "slideshow": {
     "slide_type": "subslide"
    }
   },
   "outputs": [],
   "source": [
    "#Say you have the following HTML string.\n",
    "\n",
    "HTML_STRING = '''\n",
    "<!DOCTYPE html>\n",
    "<html lang=\"en\">\n",
    "<head>\n",
    "    <title>Document</title>\n",
    "</head>\n",
    "<body>\n",
    "    <div>\n",
    "        <ol>\n",
    "            <li>Item 1</li>\n",
    "            <li>Item 2</li>\n",
    "            <li>Item 3</li>\n",
    "            <li>Item 4</li>\n",
    "        </ol>\n",
    "    </div>\n",
    "</body>\n",
    "</html>\n",
    "'''"
   ]
  },
  {
   "cell_type": "markdown",
   "metadata": {
    "colab_type": "text",
    "id": "70bMc2GjJe1t",
    "slideshow": {
     "slide_type": "subslide"
    }
   },
   "source": [
    "You can create a `BeautifulSoup` object out of this string."
   ]
  },
  {
   "cell_type": "markdown",
   "metadata": {
    "colab_type": "text",
    "id": "7GxWf94P1pDl",
    "slideshow": {
     "slide_type": "fragment"
    }
   },
   "source": [
    "Parsing a html document with Beautiful Soup is easy: you create an instance of `BeautifulSoup`. The constructor takes in either a file or a string containing HTML."
   ]
  },
  {
   "cell_type": "code",
   "execution_count": null,
   "metadata": {
    "colab": {},
    "colab_type": "code",
    "id": "qwQb7vDaJfZQ",
    "slideshow": {
     "slide_type": "fragment"
    }
   },
   "outputs": [],
   "source": [
    "soup = BeautifulSoup(HTML_STRING, 'html.parser')\n",
    "soup.find_all('li')"
   ]
  },
  {
   "cell_type": "markdown",
   "metadata": {
    "colab_type": "text",
    "id": "tk1l7wt557f1",
    "slideshow": {
     "slide_type": "fragment"
    }
   },
   "source": [
    "Beautifulsoup has an amazing documentaion which you can read through [here](https://www.crummy.com/software/BeautifulSoup/bs4/doc).\n"
   ]
  },
  {
   "cell_type": "markdown",
   "metadata": {
    "colab_type": "text",
    "id": "TyMmtyAJPBJ5",
    "slideshow": {
     "slide_type": "slide"
    }
   },
   "source": [
    "# Finding Elements of a Webpage"
   ]
  },
  {
   "cell_type": "markdown",
   "metadata": {
    "colab_type": "text",
    "id": "EYiYBE7JQWY6",
    "slideshow": {
     "slide_type": "subslide"
    }
   },
   "source": [
    "## Getting the HTML for a page"
   ]
  },
  {
   "cell_type": "code",
   "execution_count": null,
   "metadata": {
    "colab": {},
    "colab_type": "code",
    "id": "puJSSFUB4RfK",
    "slideshow": {
     "slide_type": "fragment"
    }
   },
   "outputs": [],
   "source": [
    "import requests\n",
    "page = requests.get('http://quotes.toscrape.com/')"
   ]
  },
  {
   "cell_type": "markdown",
   "metadata": {
    "colab_type": "text",
    "id": "xzjz90XxRXGf",
    "slideshow": {
     "slide_type": "fragment"
    }
   },
   "source": [
    "The HTML string for the web page is in `page.text`."
   ]
  },
  {
   "cell_type": "code",
   "execution_count": null,
   "metadata": {
    "colab": {},
    "colab_type": "code",
    "id": "Cm7sP3U4lvSQ",
    "slideshow": {
     "slide_type": "fragment"
    }
   },
   "outputs": [],
   "source": [
    "from bs4 import BeautifulSoup\n",
    "\n",
    "soup = BeautifulSoup(page.text, 'html.parser')\n",
    "soup"
   ]
  },
  {
   "cell_type": "markdown",
   "metadata": {
    "colab_type": "text",
    "id": "wv_vVAbKTdHG",
    "slideshow": {
     "slide_type": "slide"
    }
   },
   "source": [
    "## Inspecting the source for the page"
   ]
  },
  {
   "cell_type": "markdown",
   "metadata": {
    "colab_type": "text",
    "id": "vYEWCx_QVkUv",
    "slideshow": {
     "slide_type": "fragment"
    }
   },
   "source": [
    "* All the quotes lie inside a `<div>` element of class `col-md-8`.\n",
    "\n",
    "* All the quote boxes are `<div>` elements of class `quote`.\n",
    "\n",
    "* Quotes, tags and names of the authors are together in a `<div>` element of class `quote` for each quote.\n",
    "\n",
    "* Each quote is in a `<span>` element of class `<text>`.\n",
    "\n",
    "* Each author is in a `<small>` element of class `author` and is nested in a `<span>` element with no class specified.\n",
    "\n",
    "* Tags are in `<a>` elements, all of class `tag`. These elements are inside a `<div>` element of class `tags`."
   ]
  },
  {
   "cell_type": "markdown",
   "metadata": {
    "colab_type": "text",
    "id": "MNZOj83WXz-U",
    "slideshow": {
     "slide_type": "fragment"
    }
   },
   "source": [
    "A good place to begin at is to get the `<div>` elements that contain the quotes in the page."
   ]
  },
  {
   "cell_type": "code",
   "execution_count": null,
   "metadata": {
    "colab": {},
    "colab_type": "code",
    "id": "mXnNtOmJX8Zv",
    "slideshow": {
     "slide_type": "subslide"
    }
   },
   "outputs": [],
   "source": [
    "all_quote_divs = soup('div', {'class':'quote'})\n",
    "print('Found {} quotes.'.format(len(all_quote_divs)))"
   ]
  },
  {
   "cell_type": "markdown",
   "metadata": {
    "colab_type": "text",
    "id": "W5fxXTfBdXF9",
    "slideshow": {
     "slide_type": "slide"
    }
   },
   "source": [
    "## Getting the quotes"
   ]
  },
  {
   "cell_type": "code",
   "execution_count": null,
   "metadata": {
    "colab": {},
    "colab_type": "code",
    "id": "ZCuHuvVcZVuv",
    "slideshow": {
     "slide_type": "fragment"
    }
   },
   "outputs": [],
   "source": [
    "quotes = []\n",
    "\n",
    "for quote_div in all_quote_divs:\n",
    "    quote_span = quote_div.find('span', {'class':'text'})\n",
    "    quote = quote_span.text\n",
    "    quotes.append(quote)\n",
    "\n",
    "quotes"
   ]
  },
  {
   "cell_type": "markdown",
   "metadata": {
    "colab_type": "text",
    "id": "c9fQpdHMdZI_",
    "slideshow": {
     "slide_type": "slide"
    }
   },
   "source": [
    "## Getting the authors"
   ]
  },
  {
   "cell_type": "code",
   "execution_count": null,
   "metadata": {
    "colab": {},
    "colab_type": "code",
    "id": "bYO3pDeeaikC",
    "slideshow": {
     "slide_type": "fragment"
    }
   },
   "outputs": [],
   "source": [
    "authors = []\n",
    "\n",
    "for quote_div in all_quote_divs:\n",
    "    author_small = quote_div.find('small', {'class':'author'})\n",
    "    author = author_small.text\n",
    "    authors.append(author)\n",
    "\n",
    "authors"
   ]
  },
  {
   "cell_type": "markdown",
   "metadata": {
    "colab_type": "text",
    "id": "-vb7qXFgdbbH",
    "slideshow": {
     "slide_type": "slide"
    }
   },
   "source": [
    "## Getting the tags"
   ]
  },
  {
   "cell_type": "code",
   "execution_count": null,
   "metadata": {
    "colab": {},
    "colab_type": "code",
    "id": "vH3ojIsIauy0",
    "slideshow": {
     "slide_type": "fragment"
    }
   },
   "outputs": [],
   "source": [
    "all_tags = []\n",
    "\n",
    "for quote_div in all_quote_divs:\n",
    "    tags_as = quote_div.find_all('a', {'class':'tag'})\n",
    "    \n",
    "    tags = []\n",
    "    \n",
    "    for tag_a in tags_as:\n",
    "        tag = tag_a.text\n",
    "        tags.append(tag)\n",
    "    all_tags.append(tags)\n",
    "\n",
    "all_tags"
   ]
  },
  {
   "cell_type": "markdown",
   "metadata": {
    "slideshow": {
     "slide_type": "slide"
    }
   },
   "source": [
    "# CLASSWORK: Scrape title, total revenue in weekend, and gross revenue of Top Box Office (US) movies from IMDB. \n",
    "\n",
    "Source: https://www.imdb.com/chart/boxoffice/?ref_=nv_ch_cht "
   ]
  },
  {
   "cell_type": "code",
   "execution_count": null,
   "metadata": {
    "slideshow": {
     "slide_type": "subslide"
    }
   },
   "outputs": [],
   "source": [
    "import requests as req\n",
    "from bs4 import BeautifulSoup as bs"
   ]
  },
  {
   "cell_type": "code",
   "execution_count": null,
   "metadata": {
    "slideshow": {
     "slide_type": "fragment"
    }
   },
   "outputs": [],
   "source": [
    "page = req.get('https://www.imdb.com/chart/boxoffice/?ref_=nv_ch_cht')\n",
    "soup = bs(page.text, 'html.parser')"
   ]
  },
  {
   "cell_type": "code",
   "execution_count": null,
   "metadata": {
    "slideshow": {
     "slide_type": "subslide"
    }
   },
   "outputs": [],
   "source": [
    "trs = soup.find('table', {'class': 'chart full-width'}).find('tbody').find_all('tr')\n"
   ]
  },
  {
   "cell_type": "code",
   "execution_count": null,
   "metadata": {
    "scrolled": true,
    "slideshow": {
     "slide_type": "fragment"
    }
   },
   "outputs": [],
   "source": [
    "for tr in trs:\n",
    "    image = tr.find('img').get('src')\n",
    "    title = tr.find('td', {'class': 'titleColumn'}).find('a').text\n",
    "    weekend = tr.find('td', {'class': 'ratingColumn'}).text.strip()\n",
    "    gross = tr.find('span', {'class': 'secondaryInfo'}).text\n",
    "    \n",
    "    print(\"%s \\n %s \\n %s \\n %s\" % (image, title, weekend, gross))\n"
   ]
  },
  {
   "cell_type": "markdown",
   "metadata": {
    "slideshow": {
     "slide_type": "slide"
    }
   },
   "source": [
    "## Access forbidden resources"
   ]
  },
  {
   "cell_type": "code",
   "execution_count": null,
   "metadata": {},
   "outputs": [],
   "source": [
    "import requests\n",
    "\n",
    "page = requests.get('https://hamrobazaar.com/')\n",
    "page.text"
   ]
  },
  {
   "cell_type": "code",
   "execution_count": null,
   "metadata": {},
   "outputs": [],
   "source": [
    "headers = {'User-Agent': 'Mozilla/5.0 (X11; Linux x86_64) AppleWebKit/537.36 (KHTML, like Gecko) Chrome/73.0.3683.75 Safari/537.36'}\n",
    "page = requests.get('https://hamrobazaar.com/', headers = headers)\n",
    "page.text"
   ]
  },
  {
   "cell_type": "markdown",
   "metadata": {
    "slideshow": {
     "slide_type": "subslide"
    }
   },
   "source": [
    "### Proxy"
   ]
  },
  {
   "cell_type": "code",
   "execution_count": null,
   "metadata": {
    "slideshow": {
     "slide_type": "fragment"
    }
   },
   "outputs": [],
   "source": [
    "import requests\n",
    "\n",
    "proxy = {'http': 'http://10.10.10.10:1234'}\n",
    "page = requests.get('https://www.google.com/', proxies = proxy)\n",
    "page"
   ]
  }
 ],
 "metadata": {
  "celltoolbar": "Slideshow",
  "colab": {
   "collapsed_sections": [],
   "name": "Introduction_to_Beautiful_Soup.ipynb",
   "provenance": []
  },
  "kernelspec": {
   "display_name": "Python 3",
   "language": "python",
   "name": "python3"
  },
  "language_info": {
   "codemirror_mode": {
    "name": "ipython",
    "version": 3
   },
   "file_extension": ".py",
   "mimetype": "text/x-python",
   "name": "python",
   "nbconvert_exporter": "python",
   "pygments_lexer": "ipython3",
   "version": "3.7.6"
  },
  "rise": {
   "enable_chalkboard": true
  }
 },
 "nbformat": 4,
 "nbformat_minor": 1
}
