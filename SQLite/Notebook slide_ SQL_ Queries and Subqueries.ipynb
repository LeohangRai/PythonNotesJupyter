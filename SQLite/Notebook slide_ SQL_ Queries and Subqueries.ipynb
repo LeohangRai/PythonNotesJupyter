{
 "cells": [
  {
   "cell_type": "markdown",
   "metadata": {
    "colab_type": "text",
    "id": "z1Keu4HMMqkZ",
    "slideshow": {
     "slide_type": "slide"
    }
   },
   "source": [
    "#### Recall from previous chapter"
   ]
  },
  {
   "cell_type": "code",
   "execution_count": 1,
   "metadata": {
    "colab": {
     "base_uri": "https://localhost:8080/",
     "height": 52
    },
    "colab_type": "code",
    "executionInfo": {
     "elapsed": 1930,
     "status": "ok",
     "timestamp": 1575456703090,
     "user": {
      "displayName": "Rosy Shrestha",
      "photoUrl": "https://lh5.googleusercontent.com/-2vZbOLKurdw/AAAAAAAAAAI/AAAAAAAAADE/f6PApdZyb_4/s64/photo.jpg",
      "userId": "08154866243064800637"
     },
     "user_tz": -345
    },
    "id": "ewUs2N2YaNpR",
    "outputId": "e29c9b81-fb87-406e-8073-743a5dc74d91",
    "slideshow": {
     "slide_type": "fragment"
    }
   },
   "outputs": [],
   "source": [
    "%load_ext sql"
   ]
  },
  {
   "cell_type": "code",
   "execution_count": 2,
   "metadata": {
    "colab": {
     "base_uri": "https://localhost:8080/",
     "height": 35
    },
    "colab_type": "code",
    "executionInfo": {
     "elapsed": 2489,
     "status": "ok",
     "timestamp": 1575456740189,
     "user": {
      "displayName": "Rosy Shrestha",
      "photoUrl": "https://lh5.googleusercontent.com/-2vZbOLKurdw/AAAAAAAAAAI/AAAAAAAAADE/f6PApdZyb_4/s64/photo.jpg",
      "userId": "08154866243064800637"
     },
     "user_tz": -345
    },
    "id": "Jatr-opFaZby",
    "outputId": "0fe02baa-3581-4864-ade9-32c99c90e32c",
    "slideshow": {
     "slide_type": "fragment"
    }
   },
   "outputs": [
    {
     "data": {
      "text/plain": [
       "'Connected: @None'"
      ]
     },
     "execution_count": 2,
     "metadata": {},
     "output_type": "execute_result"
    }
   ],
   "source": [
    "%sql sqlite://"
   ]
  },
  {
   "cell_type": "code",
   "execution_count": 3,
   "metadata": {
    "colab": {
     "base_uri": "https://localhost:8080/",
     "height": 347
    },
    "colab_type": "code",
    "executionInfo": {
     "elapsed": 2460,
     "status": "ok",
     "timestamp": 1575456744779,
     "user": {
      "displayName": "Rosy Shrestha",
      "photoUrl": "https://lh5.googleusercontent.com/-2vZbOLKurdw/AAAAAAAAAAI/AAAAAAAAADE/f6PApdZyb_4/s64/photo.jpg",
      "userId": "08154866243064800637"
     },
     "user_tz": -345
    },
    "id": "ebag9RALabJ7",
    "outputId": "173abfc5-7cd7-44e7-8173-4429c058bcf5",
    "slideshow": {
     "slide_type": "slide"
    }
   },
   "outputs": [
    {
     "name": "stdout",
     "output_type": "stream",
     "text": [
      " * sqlite://\n",
      "Done.\n",
      "Done.\n",
      "Done.\n",
      "Done.\n",
      "Done.\n",
      "Done.\n",
      "Done.\n",
      "Done.\n",
      "Done.\n",
      "8 rows affected.\n",
      "6 rows affected.\n",
      "8 rows affected.\n",
      "12 rows affected.\n",
      "31 rows affected.\n",
      "10 rows affected.\n",
      "3 rows affected.\n",
      "15 rows affected.\n"
     ]
    },
    {
     "data": {
      "text/plain": [
       "[]"
      ]
     },
     "execution_count": 3,
     "metadata": {},
     "output_type": "execute_result"
    }
   ],
   "source": [
    "%%sql\n",
    "CREATE TABLE student(student_id INTEGER NOT NULL PRIMARY KEY AUTOINCREMENT, student_name VARCHAR(50) NOT NULL, student_email VARCHAR(50), student_contact VARCHAR(15));\n",
    "CREATE TABLE course(course_id INTEGER NOT NULL PRIMARY KEY AUTOINCREMENT, course_name VARCHAR(50) NOT NULL, course_length INTEGER);\n",
    "CREATE TABLE enrollment(student_id INTEGER, course_id INTEGER, FOREIGN KEY(student_id) REFERENCES student(student_id) ON DELETE CASCADE ON UPDATE CASCADE, FOREIGN KEY(course_id) REFERENCES course(course_id) ON DELETE CASCADE ON UPDATE CASCADE);\n",
    "CREATE TABLE module(course_id INTEGER, module_num INTEGER, module_name VARCHAR(50) NOT NULL, PRIMARY KEY(course_id,module_num), FOREIGN KEY(course_id) REFERENCES course(course_id) ON DELETE CASCADE ON UPDATE CASCADE);\n",
    "CREATE TABLE unit(course_id INTEGER, module_num INTEGER, unit_num INTEGER, unit_name VARCHAR(50) NOT NULL, time_allotted float, PRIMARY KEY(course_id,module_num,unit_num), FOREIGN KEY(course_id,module_num) REFERENCES module(course_id,module_num) ON DELETE CASCADE ON UPDATE CASCADE);\n",
    "CREATE TABLE chapter(course_id INTEGER, module_num INTEGER, unit_num INTEGER, chapter_num INTEGER, chapter_name VARCHAR(50) NOT NULL, PRIMARY KEY(course_id, module_num, unit_num, chapter_num), FOREIGN KEY(course_id, module_num, unit_num) REFERENCES unit(course_id,module_num, unit_num) ON DELETE CASCADE ON UPDATE CASCADE);\n",
    "CREATE TABLE project(course_id INTEGER, module_num INTEGER, project_title VARCHAR(50) NOT NULL, project_marks INTEGER, FOREIGN KEY(course_id,module_num) REFERENCES module(course_id,module_num) ON DELETE CASCADE ON UPDATE CASCADE);\n",
    "CREATE TABLE assignment(course_id INTEGER,module_num INTEGER,unit_num INTEGER, assignment_name VARCHAR(50) NOT NULL, assignment_marks INTEGER, FOREIGN KEY(course_id, module_num, unit_num) REFERENCES unit(course_id, module_num, unit_num) ON DELETE CASCADE ON UPDATE CASCADE);\n",
    "CREATE TABLE quiz(course_id INTEGER, module_num INTEGER, unit_num INTEGER, chapter_num INTEGER, num_questions INTEGER, FOREIGN KEY(course_id, module_num, unit_num, chapter_num) REFERENCES chapter(course_id,module_num, unit_num, chapter_num) ON DELETE CASCADE ON UPDATE CASCADE);\n",
    "INSERT INTO student(student_name, student_email) VALUES ('John Doe', 'john@fusemachines.com'),('Dummy Person', 'dummy@fusemachines.com'),('Alison Burgers','alison@fusemachines.com'),('Harka Bahadur','harke@fusemachines.com.np'),('Ful Kumari','fulkumari@fusemachines.com.np'),('Chulbul Pandey','chulbul@fusemachines.com'),('Bir Kaji Sherchan','birkaji@fusemachines.com.np'),('Maiya Gauchan','maiya@fusemachines.com.np');\n",
    "INSERT INTO course (course_name,course_length) VALUES ('Fundamentals of Computer Science',3),('Fundamentals of Mathematics',4),('Machine Learning',5),('Deep Learning',5),('Computer Vision',5),('Natural Language Processing',5);\n",
    "INSERT INTO enrollment (student_id, course_id) VALUES (1,1),(1,2),(2,1),(3,1),(4,2),(5,1),(6,1),(7,2);\n",
    "INSERT INTO module(course_id, module_num, module_name) VALUES (1,1,'Introduction to the Course'),(1,2,'Basics of Computer Systems'),(1,3,'Python Programming'),(1,4,'Data Structures and Algorithms'),(1,5,'Database'),(1,6,'Building Applications'),(2,1,'Introduction to the Course'),(2,2,'Linear Algebra'),(2,3,'Calculus'),(2,4,'Probability and Statistics'),(2,5,'Information Theory'),(2,6,'Numerical Computation');\n",
    "INSERT INTO unit(course_id, module_num, unit_num, unit_name, time_allotted) VALUES (1,1,1,'Introduction to the Course',0.25),(1,1,2,'Introduction to AI',0.5),(1,2,1,'Introduction to the Module',0),(1,2,2,'Digital Information & Digital Logic',1.25),(1,2,3,'Basics Computer Architecture',2),(1,2,4,'Basics of Linux Operating System',1.5),(1,2,5,'Basics of Computer Networks',1.5),(1,2,6,'Module Summary',0),(1,3,1,'Introduction to the Module',0),(1,3,2,'Python Programming',5),(1,3,3,'Object Oriented Programming',4.5),(1,3,4,'Web Scraping',0.75),(1,3,5,'Numpy',2),(1,3,6,'Pandas',2),(1,3,7,'Matplotlib',1),(1,3,8,'Module Summary',0),(2,2,1,'Introduction to the Module',0),(2,2,2,'Scalars Vectors and their operations',1.75),(2,2,3,'Linear transformations and Matrix',1.5),(2,2,4,'Solving Linear Equations',3.75),(2,2,5,'Determinant and Inverses',2.25),(2,2,6,'Orthogonality',2),(2,2,7,'Eigen and Singular Value Decomposition',2.75),(2,2,8,'Module Summary',0),(2,3,1,'Introduction to the Module',0),(2,3,2,'Derivatives',3.25),(2,3,3,'Integrals',2.25),(2,3,4,'Multivariable Calculus',3),(2,3,5,'Optimization of multivariable Functions',2.5),(2,3,6,'Integrals of multivariable functions',2),(2,3,7,'Module Summary',0);\n",
    "INSERT INTO chapter(course_id, module_num, unit_num, chapter_num, chapter_name) VALUES (1,1,1,1,'Introduction to the Course'),(1,1,1,2,'Course Logistics'),(1,1,2,1,'AI and its applications'),(1,1,2,2,'A Brief History of AI'),(1,1,2,3,'Types of AI'),(1,1,2,4,'Introduction to ML'),(1,2,1,1,'Introduction to the Module'),(1,2,2,1,'Number Representation in computers'),(1,2,2,2,'Digital Information'),(1,2,2,3,'Boolean Operation and algebra');\n",
    "INSERT INTO project(course_id, module_num, project_title, project_marks) VALUES (2,1,'None',0),(2,2,'3D Reconstruction',200),(2,3,'Shape Optimization',250);\n",
    "INSERT INTO assignment(course_id, module_num, unit_num, assignment_name, assignment_marks) VALUES (2,2,1,'N/A',0),(2,2,2,'Similarity',60),(2,2,3,'Robotics Forward Kinematics',70),(2,2,4,'Kirchoffs Law: Traffic flow',80),(2,2,5,'Inverse Kinematics',90),(2,2,6,'Least-Squares',100),(2,2,7,'Eigen Faces',110),(2,2,8,'N/A',0),(2,3,1,'N/A',0),(2,3,2,'Robotics Forward Kinematics',60),(2,3,3,'Single variable gradient descent',70),(2,3,4,'Trapezoidal rule',80),(2,3,5,'Image edge detection',90),(2,3,6,'Multi variable gradient descent',100),(2,3,7,'N/A',110);"
   ]
  },
  {
   "cell_type": "markdown",
   "metadata": {
    "colab_type": "text",
    "id": "yA3UVQLxYcRf",
    "slideshow": {
     "slide_type": "slide"
    }
   },
   "source": [
    "### Set Operations\n",
    "\n",
    "**Note**: \n",
    "1. MySQL only supports **UNION** operation. It does not support **INTERSECT** and **EXCEPT**.\n",
    "2. Each set operation automatically eliminates duplicates\n",
    "3. Preserve Duplicates: UNION ALL, INTERSECT ALL, UNION ALL\n",
    "\n",
    "\n",
    "Syntax: `(SQL statement) <Set operation> (SQL statement)`"
   ]
  },
  {
   "cell_type": "markdown",
   "metadata": {
    "colab_type": "text",
    "id": "o4y7nYfWa3tG",
    "slideshow": {
     "slide_type": "slide"
    }
   },
   "source": [
    "> Q. Find all the less time consuming assignments (that have <= 60 marks) and more time consuming assignments( >= 100 marks)\n",
    " \n"
   ]
  },
  {
   "cell_type": "code",
   "execution_count": 6,
   "metadata": {
    "colab": {
     "base_uri": "https://localhost:8080/",
     "height": 343
    },
    "colab_type": "code",
    "executionInfo": {
     "elapsed": 1072,
     "status": "ok",
     "timestamp": 1575457090281,
     "user": {
      "displayName": "Rosy Shrestha",
      "photoUrl": "https://lh5.googleusercontent.com/-2vZbOLKurdw/AAAAAAAAAAI/AAAAAAAAADE/f6PApdZyb_4/s64/photo.jpg",
      "userId": "08154866243064800637"
     },
     "user_tz": -345
    },
    "id": "X_UKvf1Faxfh",
    "outputId": "93710534-2d3b-4e78-e1d7-1bb5787b2c74",
    "slideshow": {
     "slide_type": "fragment"
    }
   },
   "outputs": [
    {
     "name": "stdout",
     "output_type": "stream",
     "text": [
      " * sqlite://\n",
      "Done.\n"
     ]
    },
    {
     "data": {
      "text/html": [
       "<table>\n",
       "    <tr>\n",
       "        <th>assignment_name</th>\n",
       "        <th>assignment_marks</th>\n",
       "    </tr>\n",
       "    <tr>\n",
       "        <td>Eigen Faces</td>\n",
       "        <td>110</td>\n",
       "    </tr>\n",
       "    <tr>\n",
       "        <td>Image edge detection</td>\n",
       "        <td>90</td>\n",
       "    </tr>\n",
       "    <tr>\n",
       "        <td>Inverse Kinematics</td>\n",
       "        <td>90</td>\n",
       "    </tr>\n",
       "    <tr>\n",
       "        <td>Kirchoffs Law: Traffic flow</td>\n",
       "        <td>80</td>\n",
       "    </tr>\n",
       "    <tr>\n",
       "        <td>Least-Squares</td>\n",
       "        <td>100</td>\n",
       "    </tr>\n",
       "    <tr>\n",
       "        <td>Multi variable gradient descent</td>\n",
       "        <td>100</td>\n",
       "    </tr>\n",
       "    <tr>\n",
       "        <td>N/A</td>\n",
       "        <td>0</td>\n",
       "    </tr>\n",
       "    <tr>\n",
       "        <td>N/A</td>\n",
       "        <td>110</td>\n",
       "    </tr>\n",
       "    <tr>\n",
       "        <td>Robotics Forward Kinematics</td>\n",
       "        <td>60</td>\n",
       "    </tr>\n",
       "    <tr>\n",
       "        <td>Robotics Forward Kinematics</td>\n",
       "        <td>70</td>\n",
       "    </tr>\n",
       "    <tr>\n",
       "        <td>Similarity</td>\n",
       "        <td>60</td>\n",
       "    </tr>\n",
       "    <tr>\n",
       "        <td>Single variable gradient descent</td>\n",
       "        <td>70</td>\n",
       "    </tr>\n",
       "    <tr>\n",
       "        <td>Trapezoidal rule</td>\n",
       "        <td>80</td>\n",
       "    </tr>\n",
       "</table>"
      ],
      "text/plain": [
       "[('Eigen Faces', 110),\n",
       " ('Image edge detection', 90),\n",
       " ('Inverse Kinematics', 90),\n",
       " ('Kirchoffs Law: Traffic flow', 80),\n",
       " ('Least-Squares', 100),\n",
       " ('Multi variable gradient descent', 100),\n",
       " ('N/A', 0),\n",
       " ('N/A', 110),\n",
       " ('Robotics Forward Kinematics', 60),\n",
       " ('Robotics Forward Kinematics', 70),\n",
       " ('Similarity', 60),\n",
       " ('Single variable gradient descent', 70),\n",
       " ('Trapezoidal rule', 80)]"
      ]
     },
     "execution_count": 6,
     "metadata": {
      "tags": []
     },
     "output_type": "execute_result"
    }
   ],
   "source": [
    "%%sql\n",
    "SELECT assignment_name, assignment_marks from assignment where assignment_marks <= 60\n",
    "UNION\n",
    "SELECT assignment_name, assignment_marks from assignment where assignment_marks >=10"
   ]
  },
  {
   "cell_type": "markdown",
   "metadata": {
    "colab_type": "text",
    "id": "KGKDpQikbTv7",
    "slideshow": {
     "slide_type": "slide"
    }
   },
   "source": [
    "### Aggregate Functions\n",
    "An aggregate function summarizes the results of an expression over a number of rows, returning a single value.\n",
    "Some of the commonly used aggregate functions are:\n",
    "* ___avg___: average value\n",
    "* ___min___: minimum value\n",
    "* ___max___: maximum value\n",
    "* ___sum___: sum of values\n",
    "* ___count___: counts rows in a specified table \n",
    "\n",
    ">Remember: COUNT (*) is the only function which won’t ignore NULLs. Other functions like SUM, AVG, MIN, MAX they ignore NULLs.\n",
    "\n",
    "**Syntax:**\n",
    "\n",
    "```\n",
    "SELECT column_name, aggregate_function(column_name)\n",
    "FROM table_name\n",
    "WHERE column_name condition\n",
    "GROUP BY column_name\n",
    "```"
   ]
  },
  {
   "cell_type": "markdown",
   "metadata": {
    "colab_type": "text",
    "id": "2trv2WGabXlM",
    "slideshow": {
     "slide_type": "slide"
    }
   },
   "source": [
    "> Q. Find the total number of courses offered in Fuse.AI"
   ]
  },
  {
   "cell_type": "code",
   "execution_count": 10,
   "metadata": {
    "colab": {
     "base_uri": "https://localhost:8080/",
     "height": 199
    },
    "colab_type": "code",
    "executionInfo": {
     "elapsed": 991,
     "status": "ok",
     "timestamp": 1575457512548,
     "user": {
      "displayName": "Rosy Shrestha",
      "photoUrl": "https://lh5.googleusercontent.com/-2vZbOLKurdw/AAAAAAAAAAI/AAAAAAAAADE/f6PApdZyb_4/s64/photo.jpg",
      "userId": "08154866243064800637"
     },
     "user_tz": -345
    },
    "id": "fQ0XThG5azUS",
    "outputId": "417e76e1-e463-43ce-d3cb-057141555772",
    "slideshow": {
     "slide_type": "fragment"
    }
   },
   "outputs": [
    {
     "name": "stdout",
     "output_type": "stream",
     "text": [
      " * sqlite://\n",
      "Done.\n"
     ]
    },
    {
     "data": {
      "text/html": [
       "<table>\n",
       "    <tr>\n",
       "        <th>course_id</th>\n",
       "        <th>course_name</th>\n",
       "        <th>course_length</th>\n",
       "    </tr>\n",
       "    <tr>\n",
       "        <td>1</td>\n",
       "        <td>Fundamentals of Computer Science</td>\n",
       "        <td>3</td>\n",
       "    </tr>\n",
       "    <tr>\n",
       "        <td>2</td>\n",
       "        <td>Fundamentals of Mathematics</td>\n",
       "        <td>4</td>\n",
       "    </tr>\n",
       "    <tr>\n",
       "        <td>3</td>\n",
       "        <td>Machine Learning</td>\n",
       "        <td>5</td>\n",
       "    </tr>\n",
       "    <tr>\n",
       "        <td>4</td>\n",
       "        <td>Deep Learning</td>\n",
       "        <td>5</td>\n",
       "    </tr>\n",
       "    <tr>\n",
       "        <td>5</td>\n",
       "        <td>Computer Vision</td>\n",
       "        <td>5</td>\n",
       "    </tr>\n",
       "    <tr>\n",
       "        <td>6</td>\n",
       "        <td>Natural Language Processing</td>\n",
       "        <td>5</td>\n",
       "    </tr>\n",
       "</table>"
      ],
      "text/plain": [
       "[(1, 'Fundamentals of Computer Science', 3),\n",
       " (2, 'Fundamentals of Mathematics', 4),\n",
       " (3, 'Machine Learning', 5),\n",
       " (4, 'Deep Learning', 5),\n",
       " (5, 'Computer Vision', 5),\n",
       " (6, 'Natural Language Processing', 5)]"
      ]
     },
     "execution_count": 10,
     "metadata": {
      "tags": []
     },
     "output_type": "execute_result"
    }
   ],
   "source": [
    "%sql SELECT * from course"
   ]
  },
  {
   "cell_type": "code",
   "execution_count": 11,
   "metadata": {
    "colab": {
     "base_uri": "https://localhost:8080/",
     "height": 95
    },
    "colab_type": "code",
    "executionInfo": {
     "elapsed": 966,
     "status": "ok",
     "timestamp": 1575457517982,
     "user": {
      "displayName": "Rosy Shrestha",
      "photoUrl": "https://lh5.googleusercontent.com/-2vZbOLKurdw/AAAAAAAAAAI/AAAAAAAAADE/f6PApdZyb_4/s64/photo.jpg",
      "userId": "08154866243064800637"
     },
     "user_tz": -345
    },
    "id": "ukI5_GYWbGBE",
    "outputId": "d9c5b94a-241a-4d30-b5cc-fe7e176c3992",
    "slideshow": {
     "slide_type": "fragment"
    }
   },
   "outputs": [
    {
     "name": "stdout",
     "output_type": "stream",
     "text": [
      " * sqlite://\n",
      "Done.\n"
     ]
    },
    {
     "data": {
      "text/html": [
       "<table>\n",
       "    <tr>\n",
       "        <th>count(*)</th>\n",
       "    </tr>\n",
       "    <tr>\n",
       "        <td>6</td>\n",
       "    </tr>\n",
       "</table>"
      ],
      "text/plain": [
       "[(6,)]"
      ]
     },
     "execution_count": 11,
     "metadata": {
      "tags": []
     },
     "output_type": "execute_result"
    }
   ],
   "source": [
    "%sql SELECT count(*) from course"
   ]
  },
  {
   "cell_type": "markdown",
   "metadata": {
    "colab_type": "text",
    "id": "26fKx6T5bukw",
    "slideshow": {
     "slide_type": "slide"
    }
   },
   "source": [
    "<br/>\n",
    "\n",
    "> Q. Select all assignments which are graded i.e assignment marks is not 0\n",
    " "
   ]
  },
  {
   "cell_type": "code",
   "execution_count": 12,
   "metadata": {
    "colab": {
     "base_uri": "https://localhost:8080/",
     "height": 323
    },
    "colab_type": "code",
    "executionInfo": {
     "elapsed": 963,
     "status": "ok",
     "timestamp": 1575457672725,
     "user": {
      "displayName": "Rosy Shrestha",
      "photoUrl": "https://lh5.googleusercontent.com/-2vZbOLKurdw/AAAAAAAAAAI/AAAAAAAAADE/f6PApdZyb_4/s64/photo.jpg",
      "userId": "08154866243064800637"
     },
     "user_tz": -345
    },
    "id": "6Pxq9SY3bsKC",
    "outputId": "de4b345f-7f5a-49e7-ede9-952672f21269",
    "slideshow": {
     "slide_type": "fragment"
    }
   },
   "outputs": [
    {
     "name": "stdout",
     "output_type": "stream",
     "text": [
      " * sqlite://\n",
      "Done.\n"
     ]
    },
    {
     "data": {
      "text/html": [
       "<table>\n",
       "    <tr>\n",
       "        <th>course_id</th>\n",
       "        <th>module_num</th>\n",
       "        <th>unit_num</th>\n",
       "        <th>assignment_name</th>\n",
       "        <th>assignment_marks</th>\n",
       "    </tr>\n",
       "    <tr>\n",
       "        <td>2</td>\n",
       "        <td>2</td>\n",
       "        <td>2</td>\n",
       "        <td>Similarity</td>\n",
       "        <td>60</td>\n",
       "    </tr>\n",
       "    <tr>\n",
       "        <td>2</td>\n",
       "        <td>2</td>\n",
       "        <td>3</td>\n",
       "        <td>Robotics Forward Kinematics</td>\n",
       "        <td>70</td>\n",
       "    </tr>\n",
       "    <tr>\n",
       "        <td>2</td>\n",
       "        <td>2</td>\n",
       "        <td>4</td>\n",
       "        <td>Kirchoffs Law: Traffic flow</td>\n",
       "        <td>80</td>\n",
       "    </tr>\n",
       "    <tr>\n",
       "        <td>2</td>\n",
       "        <td>2</td>\n",
       "        <td>5</td>\n",
       "        <td>Inverse Kinematics</td>\n",
       "        <td>90</td>\n",
       "    </tr>\n",
       "    <tr>\n",
       "        <td>2</td>\n",
       "        <td>2</td>\n",
       "        <td>6</td>\n",
       "        <td>Least-Squares</td>\n",
       "        <td>100</td>\n",
       "    </tr>\n",
       "    <tr>\n",
       "        <td>2</td>\n",
       "        <td>2</td>\n",
       "        <td>7</td>\n",
       "        <td>Eigen Faces</td>\n",
       "        <td>110</td>\n",
       "    </tr>\n",
       "    <tr>\n",
       "        <td>2</td>\n",
       "        <td>3</td>\n",
       "        <td>2</td>\n",
       "        <td>Robotics Forward Kinematics</td>\n",
       "        <td>60</td>\n",
       "    </tr>\n",
       "    <tr>\n",
       "        <td>2</td>\n",
       "        <td>3</td>\n",
       "        <td>3</td>\n",
       "        <td>Single variable gradient descent</td>\n",
       "        <td>70</td>\n",
       "    </tr>\n",
       "    <tr>\n",
       "        <td>2</td>\n",
       "        <td>3</td>\n",
       "        <td>4</td>\n",
       "        <td>Trapezoidal rule</td>\n",
       "        <td>80</td>\n",
       "    </tr>\n",
       "    <tr>\n",
       "        <td>2</td>\n",
       "        <td>3</td>\n",
       "        <td>5</td>\n",
       "        <td>Image edge detection</td>\n",
       "        <td>90</td>\n",
       "    </tr>\n",
       "    <tr>\n",
       "        <td>2</td>\n",
       "        <td>3</td>\n",
       "        <td>6</td>\n",
       "        <td>Multi variable gradient descent</td>\n",
       "        <td>100</td>\n",
       "    </tr>\n",
       "    <tr>\n",
       "        <td>2</td>\n",
       "        <td>3</td>\n",
       "        <td>7</td>\n",
       "        <td>N/A</td>\n",
       "        <td>110</td>\n",
       "    </tr>\n",
       "</table>"
      ],
      "text/plain": [
       "[(2, 2, 2, 'Similarity', 60),\n",
       " (2, 2, 3, 'Robotics Forward Kinematics', 70),\n",
       " (2, 2, 4, 'Kirchoffs Law: Traffic flow', 80),\n",
       " (2, 2, 5, 'Inverse Kinematics', 90),\n",
       " (2, 2, 6, 'Least-Squares', 100),\n",
       " (2, 2, 7, 'Eigen Faces', 110),\n",
       " (2, 3, 2, 'Robotics Forward Kinematics', 60),\n",
       " (2, 3, 3, 'Single variable gradient descent', 70),\n",
       " (2, 3, 4, 'Trapezoidal rule', 80),\n",
       " (2, 3, 5, 'Image edge detection', 90),\n",
       " (2, 3, 6, 'Multi variable gradient descent', 100),\n",
       " (2, 3, 7, 'N/A', 110)]"
      ]
     },
     "execution_count": 12,
     "metadata": {
      "tags": []
     },
     "output_type": "execute_result"
    }
   ],
   "source": [
    "%sql SELECT * FROM assignment WHERE assignment_marks != 0"
   ]
  },
  {
   "cell_type": "markdown",
   "metadata": {
    "colab_type": "text",
    "id": "R7Eqbri1b5KB",
    "slideshow": {
     "slide_type": "slide"
    }
   },
   "source": [
    "> Q. List average marks of assignments which are graded\n",
    " \n"
   ]
  },
  {
   "cell_type": "code",
   "execution_count": 13,
   "metadata": {
    "colab": {
     "base_uri": "https://localhost:8080/",
     "height": 95
    },
    "colab_type": "code",
    "executionInfo": {
     "elapsed": 753,
     "status": "ok",
     "timestamp": 1575457688158,
     "user": {
      "displayName": "Rosy Shrestha",
      "photoUrl": "https://lh5.googleusercontent.com/-2vZbOLKurdw/AAAAAAAAAAI/AAAAAAAAADE/f6PApdZyb_4/s64/photo.jpg",
      "userId": "08154866243064800637"
     },
     "user_tz": -345
    },
    "id": "H5y3UL4ob-7T",
    "outputId": "6668d895-66a6-4f0b-9b1c-cf8344f83d8b",
    "slideshow": {
     "slide_type": "fragment"
    }
   },
   "outputs": [
    {
     "name": "stdout",
     "output_type": "stream",
     "text": [
      " * sqlite://\n",
      "Done.\n"
     ]
    },
    {
     "data": {
      "text/html": [
       "<table>\n",
       "    <tr>\n",
       "        <th>avg(assignment_marks)</th>\n",
       "    </tr>\n",
       "    <tr>\n",
       "        <td>85.0</td>\n",
       "    </tr>\n",
       "</table>"
      ],
      "text/plain": [
       "[(85.0,)]"
      ]
     },
     "execution_count": 13,
     "metadata": {
      "tags": []
     },
     "output_type": "execute_result"
    }
   ],
   "source": [
    "%sql SELECT avg(assignment_marks) FROM assignment WHERE assignment_marks != 0"
   ]
  },
  {
   "cell_type": "markdown",
   "metadata": {
    "colab_type": "text",
    "id": "wGxS58SLcF3o",
    "slideshow": {
     "slide_type": "slide"
    }
   },
   "source": [
    "<br/>\n",
    "\n",
    "> Q. Find the total time allotted for each module of the 1st course\n",
    " "
   ]
  },
  {
   "cell_type": "code",
   "execution_count": 14,
   "metadata": {
    "colab": {
     "base_uri": "https://localhost:8080/",
     "height": 137
    },
    "colab_type": "code",
    "executionInfo": {
     "elapsed": 909,
     "status": "ok",
     "timestamp": 1575457868980,
     "user": {
      "displayName": "Rosy Shrestha",
      "photoUrl": "https://lh5.googleusercontent.com/-2vZbOLKurdw/AAAAAAAAAAI/AAAAAAAAADE/f6PApdZyb_4/s64/photo.jpg",
      "userId": "08154866243064800637"
     },
     "user_tz": -345
    },
    "id": "WPrwivrXcAhY",
    "outputId": "e9cef885-ae05-4a9d-bddb-e85190187e44",
    "slideshow": {
     "slide_type": "fragment"
    }
   },
   "outputs": [
    {
     "name": "stdout",
     "output_type": "stream",
     "text": [
      " * sqlite://\n",
      "Done.\n"
     ]
    },
    {
     "data": {
      "text/html": [
       "<table>\n",
       "    <tr>\n",
       "        <th>module_num</th>\n",
       "        <th>Total_Time_Allotted</th>\n",
       "    </tr>\n",
       "    <tr>\n",
       "        <td>1</td>\n",
       "        <td>0.75</td>\n",
       "    </tr>\n",
       "    <tr>\n",
       "        <td>2</td>\n",
       "        <td>6.25</td>\n",
       "    </tr>\n",
       "    <tr>\n",
       "        <td>3</td>\n",
       "        <td>15.25</td>\n",
       "    </tr>\n",
       "</table>"
      ],
      "text/plain": [
       "[(1, 0.75), (2, 6.25), (3, 15.25)]"
      ]
     },
     "execution_count": 14,
     "metadata": {
      "tags": []
     },
     "output_type": "execute_result"
    }
   ],
   "source": [
    "%sql SELECT module_num, SUM(time_allotted) AS Total_Time_Allotted FROM unit WHERE course_id = 1 GROUP BY module_num"
   ]
  },
  {
   "cell_type": "markdown",
   "metadata": {
    "colab_type": "text",
    "id": "Ml2cyWpDcSAI",
    "slideshow": {
     "slide_type": "slide"
    }
   },
   "source": [
    "<br/>\n",
    "\n",
    "> Q. Find total marks of assignment of each module of the second course. Take care of the case where assignment mark = 0"
   ]
  },
  {
   "cell_type": "code",
   "execution_count": null,
   "metadata": {
    "slideshow": {
     "slide_type": "fragment"
    }
   },
   "outputs": [],
   "source": []
  },
  {
   "cell_type": "code",
   "execution_count": 15,
   "metadata": {
    "colab": {
     "base_uri": "https://localhost:8080/",
     "height": 116
    },
    "colab_type": "code",
    "executionInfo": {
     "elapsed": 1128,
     "status": "ok",
     "timestamp": 1575457887131,
     "user": {
      "displayName": "Rosy Shrestha",
      "photoUrl": "https://lh5.googleusercontent.com/-2vZbOLKurdw/AAAAAAAAAAI/AAAAAAAAADE/f6PApdZyb_4/s64/photo.jpg",
      "userId": "08154866243064800637"
     },
     "user_tz": -345
    },
    "id": "GxufAQhlcLaW",
    "outputId": "87d968bd-f847-446e-9568-2f318c68d7a7",
    "slideshow": {
     "slide_type": "fragment"
    }
   },
   "outputs": [
    {
     "name": "stdout",
     "output_type": "stream",
     "text": [
      " * sqlite://\n",
      "Done.\n"
     ]
    },
    {
     "data": {
      "text/html": [
       "<table>\n",
       "    <tr>\n",
       "        <th>module_num</th>\n",
       "        <th>SUM(assignment_marks)</th>\n",
       "    </tr>\n",
       "    <tr>\n",
       "        <td>2</td>\n",
       "        <td>510</td>\n",
       "    </tr>\n",
       "    <tr>\n",
       "        <td>3</td>\n",
       "        <td>510</td>\n",
       "    </tr>\n",
       "</table>"
      ],
      "text/plain": [
       "[(2, 510), (3, 510)]"
      ]
     },
     "execution_count": 15,
     "metadata": {
      "tags": []
     },
     "output_type": "execute_result"
    }
   ],
   "source": [
    "%sql SELECT module_num, SUM(assignment_marks) FROM assignment WHERE assignment_marks != 0 GROUP BY module_num"
   ]
  },
  {
   "cell_type": "markdown",
   "metadata": {
    "colab_type": "text",
    "id": "Z9QkrAaNyVqP",
    "slideshow": {
     "slide_type": "slide"
    }
   },
   "source": [
    "### Nested Query\n",
    "\n",
    "A nested query is a query that has another query embedded within it; the embedded query is called a subquery\n",
    "\n",
    "Q. List all attributes of the assignment with the highest mark.\n"
   ]
  },
  {
   "cell_type": "code",
   "execution_count": 0,
   "metadata": {
    "colab": {},
    "colab_type": "code",
    "id": "v1Qzh20YyVyv",
    "slideshow": {
     "slide_type": "fragment"
    }
   },
   "outputs": [],
   "source": [
    "#Don't run this cell wont work\n",
    "%sql SELECT * FROM assignment A1 WHERE A1.assignment_marks >= ALL(SELECT A2.assignment_marks from assignment A2)"
   ]
  },
  {
   "cell_type": "markdown",
   "metadata": {
    "colab_type": "text",
    "id": "mTmlx9JYy0nU",
    "slideshow": {
     "slide_type": "fragment"
    }
   },
   "source": [
    "\n",
    "| course_id\t| module_num\t| unit_num\t| assignment_name\t| assignment_marks | \n",
    "| - | - | - | - | - | \n",
    "| 2\t| 2\t| 7\t| Eigen Faces\t| 110\t| \n",
    "| 2\t| 3\t| 7\t| N/A\t| 110\t| \n"
   ]
  },
  {
   "cell_type": "markdown",
   "metadata": {
    "colab_type": "text",
    "id": "knPdEPlKy41B",
    "slideshow": {
     "slide_type": "slide"
    }
   },
   "source": [
    "<br/>\n",
    "\n",
    "**Recall:** To find the average marks of assignments\n",
    "`SELECT avg(assignment_marks) FROM assignment WHERE assignment_marks != 0`\n",
    "\n",
    "\n",
    "> Q. List out the name and marks of all assignments whose total marks is greater than average marks of assignments. Also take care of the case where assignment mark = 0"
   ]
  },
  {
   "cell_type": "code",
   "execution_count": 16,
   "metadata": {
    "colab": {
     "base_uri": "https://localhost:8080/",
     "height": 199
    },
    "colab_type": "code",
    "executionInfo": {
     "elapsed": 998,
     "status": "ok",
     "timestamp": 1575458326768,
     "user": {
      "displayName": "Rosy Shrestha",
      "photoUrl": "https://lh5.googleusercontent.com/-2vZbOLKurdw/AAAAAAAAAAI/AAAAAAAAADE/f6PApdZyb_4/s64/photo.jpg",
      "userId": "08154866243064800637"
     },
     "user_tz": -345
    },
    "id": "sE3wSlBLy1MP",
    "outputId": "84f88b5f-0e45-472c-9032-026e84f44def",
    "slideshow": {
     "slide_type": "fragment"
    }
   },
   "outputs": [
    {
     "name": "stdout",
     "output_type": "stream",
     "text": [
      " * sqlite://\n",
      "Done.\n"
     ]
    },
    {
     "data": {
      "text/html": [
       "<table>\n",
       "    <tr>\n",
       "        <th>assignment_name</th>\n",
       "        <th>assignment_marks</th>\n",
       "    </tr>\n",
       "    <tr>\n",
       "        <td>Inverse Kinematics</td>\n",
       "        <td>90</td>\n",
       "    </tr>\n",
       "    <tr>\n",
       "        <td>Least-Squares</td>\n",
       "        <td>100</td>\n",
       "    </tr>\n",
       "    <tr>\n",
       "        <td>Eigen Faces</td>\n",
       "        <td>110</td>\n",
       "    </tr>\n",
       "    <tr>\n",
       "        <td>Image edge detection</td>\n",
       "        <td>90</td>\n",
       "    </tr>\n",
       "    <tr>\n",
       "        <td>Multi variable gradient descent</td>\n",
       "        <td>100</td>\n",
       "    </tr>\n",
       "    <tr>\n",
       "        <td>N/A</td>\n",
       "        <td>110</td>\n",
       "    </tr>\n",
       "</table>"
      ],
      "text/plain": [
       "[('Inverse Kinematics', 90),\n",
       " ('Least-Squares', 100),\n",
       " ('Eigen Faces', 110),\n",
       " ('Image edge detection', 90),\n",
       " ('Multi variable gradient descent', 100),\n",
       " ('N/A', 110)]"
      ]
     },
     "execution_count": 16,
     "metadata": {
      "tags": []
     },
     "output_type": "execute_result"
    }
   ],
   "source": [
    "%%sql\n",
    "SELECT a1.assignment_name, a1.assignment_marks FROM assignment a1 WHERE\n",
    "a1.assignment_marks > (SELECT avg(a2.assignment_marks) FROM assignment a2 WHERE a2.assignment_marks != 0)"
   ]
  },
  {
   "cell_type": "markdown",
   "metadata": {
    "colab_type": "text",
    "id": "WzgKFNahzkci",
    "slideshow": {
     "slide_type": "slide"
    }
   },
   "source": [
    "<br/>\n",
    "\n",
    "##Join Operations\n",
    "\n",
    "Types of Joints:\n",
    "1. Cross Join\n",
    "2. Equi-Join\n",
    "3. Inner Join\n",
    "4. Natural Join\n",
    "5. Outer Join\n",
    "6. Self Join\n",
    "\n",
    "\n",
    "A **Cross Join** returns the cartesian product of rows from tables in a join.\n",
    "An **Equi-join** is a join in which the joining condition is based on equality between values in the common columns; common columns appear redundantly in the result table.\n",
    "\n",
    "\n",
    "> Q. List the module name and project title of each project"
   ]
  },
  {
   "cell_type": "code",
   "execution_count": 17,
   "metadata": {
    "colab": {
     "base_uri": "https://localhost:8080/",
     "height": 137
    },
    "colab_type": "code",
    "executionInfo": {
     "elapsed": 989,
     "status": "ok",
     "timestamp": 1575458736114,
     "user": {
      "displayName": "Rosy Shrestha",
      "photoUrl": "https://lh5.googleusercontent.com/-2vZbOLKurdw/AAAAAAAAAAI/AAAAAAAAADE/f6PApdZyb_4/s64/photo.jpg",
      "userId": "08154866243064800637"
     },
     "user_tz": -345
    },
    "id": "zkDG3l_C0AK3",
    "outputId": "6120907a-44fc-4d0b-e0de-9bdd0731c637",
    "slideshow": {
     "slide_type": "fragment"
    }
   },
   "outputs": [
    {
     "name": "stdout",
     "output_type": "stream",
     "text": [
      " * sqlite://\n",
      "Done.\n"
     ]
    },
    {
     "data": {
      "text/html": [
       "<table>\n",
       "    <tr>\n",
       "        <th>module_name</th>\n",
       "        <th>project_title</th>\n",
       "    </tr>\n",
       "    <tr>\n",
       "        <td>Introduction to the Course</td>\n",
       "        <td>None</td>\n",
       "    </tr>\n",
       "    <tr>\n",
       "        <td>Linear Algebra</td>\n",
       "        <td>3D Reconstruction</td>\n",
       "    </tr>\n",
       "    <tr>\n",
       "        <td>Calculus</td>\n",
       "        <td>Shape Optimization</td>\n",
       "    </tr>\n",
       "</table>"
      ],
      "text/plain": [
       "[('Introduction to the Course', 'None'),\n",
       " ('Linear Algebra', '3D Reconstruction'),\n",
       " ('Calculus', 'Shape Optimization')]"
      ]
     },
     "execution_count": 17,
     "metadata": {
      "tags": []
     },
     "output_type": "execute_result"
    }
   ],
   "source": [
    "%%sql\n",
    "SELECT module_name, project_title FROM module, project \n",
    "WHERE (module.course_id, module.module_num) = (project.course_id, project.module_num)"
   ]
  },
  {
   "cell_type": "markdown",
   "metadata": {
    "colab_type": "text",
    "id": "43VMyhFkz_ia",
    "slideshow": {
     "slide_type": "slide"
    }
   },
   "source": [
    "> Easier way to do this is to use NATURAL JOIN operation"
   ]
  },
  {
   "cell_type": "code",
   "execution_count": 18,
   "metadata": {
    "colab": {
     "base_uri": "https://localhost:8080/",
     "height": 137
    },
    "colab_type": "code",
    "executionInfo": {
     "elapsed": 995,
     "status": "ok",
     "timestamp": 1575458741243,
     "user": {
      "displayName": "Rosy Shrestha",
      "photoUrl": "https://lh5.googleusercontent.com/-2vZbOLKurdw/AAAAAAAAAAI/AAAAAAAAADE/f6PApdZyb_4/s64/photo.jpg",
      "userId": "08154866243064800637"
     },
     "user_tz": -345
    },
    "id": "ttp7O-YM0JY1",
    "outputId": "a6cfaf8a-f7d1-4f15-9dde-d8155fc8b27d",
    "slideshow": {
     "slide_type": "fragment"
    }
   },
   "outputs": [
    {
     "name": "stdout",
     "output_type": "stream",
     "text": [
      " * sqlite://\n",
      "Done.\n"
     ]
    },
    {
     "data": {
      "text/html": [
       "<table>\n",
       "    <tr>\n",
       "        <th>module_name</th>\n",
       "        <th>project_title</th>\n",
       "    </tr>\n",
       "    <tr>\n",
       "        <td>Introduction to the Course</td>\n",
       "        <td>None</td>\n",
       "    </tr>\n",
       "    <tr>\n",
       "        <td>Linear Algebra</td>\n",
       "        <td>3D Reconstruction</td>\n",
       "    </tr>\n",
       "    <tr>\n",
       "        <td>Calculus</td>\n",
       "        <td>Shape Optimization</td>\n",
       "    </tr>\n",
       "</table>"
      ],
      "text/plain": [
       "[('Introduction to the Course', 'None'),\n",
       " ('Linear Algebra', '3D Reconstruction'),\n",
       " ('Calculus', 'Shape Optimization')]"
      ]
     },
     "execution_count": 18,
     "metadata": {
      "tags": []
     },
     "output_type": "execute_result"
    }
   ],
   "source": [
    "%sql SELECT module_name, project_title FROM  module NATURAL JOIN project;"
   ]
  },
  {
   "cell_type": "markdown",
   "metadata": {
    "colab_type": "text",
    "id": "68W2clMZ0Plk",
    "slideshow": {
     "slide_type": "slide"
    }
   },
   "source": [
    "<br/>\n",
    "\n",
    "***Joins are used to gain more information about a relation***\n",
    "\n",
    "> If we want to list out the module name and unit name  side by side."
   ]
  },
  {
   "cell_type": "code",
   "execution_count": 19,
   "metadata": {
    "colab": {
     "base_uri": "https://localhost:8080/",
     "height": 715
    },
    "colab_type": "code",
    "executionInfo": {
     "elapsed": 1009,
     "status": "ok",
     "timestamp": 1575458753458,
     "user": {
      "displayName": "Rosy Shrestha",
      "photoUrl": "https://lh5.googleusercontent.com/-2vZbOLKurdw/AAAAAAAAAAI/AAAAAAAAADE/f6PApdZyb_4/s64/photo.jpg",
      "userId": "08154866243064800637"
     },
     "user_tz": -345
    },
    "id": "fj5000rS0O4S",
    "outputId": "3788174c-1466-4141-835b-4f07bc943b9e",
    "slideshow": {
     "slide_type": "fragment"
    }
   },
   "outputs": [
    {
     "name": "stdout",
     "output_type": "stream",
     "text": [
      " * sqlite://\n",
      "Done.\n"
     ]
    },
    {
     "data": {
      "text/html": [
       "<table>\n",
       "    <tr>\n",
       "        <th>module_name</th>\n",
       "        <th>unit_name</th>\n",
       "    </tr>\n",
       "    <tr>\n",
       "        <td>Introduction to the Course</td>\n",
       "        <td>Introduction to the Course</td>\n",
       "    </tr>\n",
       "    <tr>\n",
       "        <td>Introduction to the Course</td>\n",
       "        <td>Introduction to AI</td>\n",
       "    </tr>\n",
       "    <tr>\n",
       "        <td>Basics of Computer Systems</td>\n",
       "        <td>Introduction to the Module</td>\n",
       "    </tr>\n",
       "    <tr>\n",
       "        <td>Basics of Computer Systems</td>\n",
       "        <td>Digital Information &amp; Digital Logic</td>\n",
       "    </tr>\n",
       "    <tr>\n",
       "        <td>Basics of Computer Systems</td>\n",
       "        <td>Basics Computer Architecture</td>\n",
       "    </tr>\n",
       "    <tr>\n",
       "        <td>Basics of Computer Systems</td>\n",
       "        <td>Basics of Linux Operating System</td>\n",
       "    </tr>\n",
       "    <tr>\n",
       "        <td>Basics of Computer Systems</td>\n",
       "        <td>Basics of Computer Networks</td>\n",
       "    </tr>\n",
       "    <tr>\n",
       "        <td>Basics of Computer Systems</td>\n",
       "        <td>Module Summary</td>\n",
       "    </tr>\n",
       "    <tr>\n",
       "        <td>Python Programming</td>\n",
       "        <td>Introduction to the Module</td>\n",
       "    </tr>\n",
       "    <tr>\n",
       "        <td>Python Programming</td>\n",
       "        <td>Python Programming</td>\n",
       "    </tr>\n",
       "    <tr>\n",
       "        <td>Python Programming</td>\n",
       "        <td>Object Oriented Programming</td>\n",
       "    </tr>\n",
       "    <tr>\n",
       "        <td>Python Programming</td>\n",
       "        <td>Web Scraping</td>\n",
       "    </tr>\n",
       "    <tr>\n",
       "        <td>Python Programming</td>\n",
       "        <td>Numpy</td>\n",
       "    </tr>\n",
       "    <tr>\n",
       "        <td>Python Programming</td>\n",
       "        <td>Pandas</td>\n",
       "    </tr>\n",
       "    <tr>\n",
       "        <td>Python Programming</td>\n",
       "        <td>Matplotlib</td>\n",
       "    </tr>\n",
       "    <tr>\n",
       "        <td>Python Programming</td>\n",
       "        <td>Module Summary</td>\n",
       "    </tr>\n",
       "    <tr>\n",
       "        <td>Linear Algebra</td>\n",
       "        <td>Introduction to the Module</td>\n",
       "    </tr>\n",
       "    <tr>\n",
       "        <td>Linear Algebra</td>\n",
       "        <td>Scalars Vectors and their operations</td>\n",
       "    </tr>\n",
       "    <tr>\n",
       "        <td>Linear Algebra</td>\n",
       "        <td>Linear transformations and Matrix</td>\n",
       "    </tr>\n",
       "    <tr>\n",
       "        <td>Linear Algebra</td>\n",
       "        <td>Solving Linear Equations</td>\n",
       "    </tr>\n",
       "    <tr>\n",
       "        <td>Linear Algebra</td>\n",
       "        <td>Determinant and Inverses</td>\n",
       "    </tr>\n",
       "    <tr>\n",
       "        <td>Linear Algebra</td>\n",
       "        <td>Orthogonality</td>\n",
       "    </tr>\n",
       "    <tr>\n",
       "        <td>Linear Algebra</td>\n",
       "        <td>Eigen and Singular Value Decomposition</td>\n",
       "    </tr>\n",
       "    <tr>\n",
       "        <td>Linear Algebra</td>\n",
       "        <td>Module Summary</td>\n",
       "    </tr>\n",
       "    <tr>\n",
       "        <td>Calculus</td>\n",
       "        <td>Introduction to the Module</td>\n",
       "    </tr>\n",
       "    <tr>\n",
       "        <td>Calculus</td>\n",
       "        <td>Derivatives</td>\n",
       "    </tr>\n",
       "    <tr>\n",
       "        <td>Calculus</td>\n",
       "        <td>Integrals</td>\n",
       "    </tr>\n",
       "    <tr>\n",
       "        <td>Calculus</td>\n",
       "        <td>Multivariable Calculus</td>\n",
       "    </tr>\n",
       "    <tr>\n",
       "        <td>Calculus</td>\n",
       "        <td>Optimization of multivariable Functions</td>\n",
       "    </tr>\n",
       "    <tr>\n",
       "        <td>Calculus</td>\n",
       "        <td>Integrals of multivariable functions</td>\n",
       "    </tr>\n",
       "    <tr>\n",
       "        <td>Calculus</td>\n",
       "        <td>Module Summary</td>\n",
       "    </tr>\n",
       "</table>"
      ],
      "text/plain": [
       "[('Introduction to the Course', 'Introduction to the Course'),\n",
       " ('Introduction to the Course', 'Introduction to AI'),\n",
       " ('Basics of Computer Systems', 'Introduction to the Module'),\n",
       " ('Basics of Computer Systems', 'Digital Information & Digital Logic'),\n",
       " ('Basics of Computer Systems', 'Basics Computer Architecture'),\n",
       " ('Basics of Computer Systems', 'Basics of Linux Operating System'),\n",
       " ('Basics of Computer Systems', 'Basics of Computer Networks'),\n",
       " ('Basics of Computer Systems', 'Module Summary'),\n",
       " ('Python Programming', 'Introduction to the Module'),\n",
       " ('Python Programming', 'Python Programming'),\n",
       " ('Python Programming', 'Object Oriented Programming'),\n",
       " ('Python Programming', 'Web Scraping'),\n",
       " ('Python Programming', 'Numpy'),\n",
       " ('Python Programming', 'Pandas'),\n",
       " ('Python Programming', 'Matplotlib'),\n",
       " ('Python Programming', 'Module Summary'),\n",
       " ('Linear Algebra', 'Introduction to the Module'),\n",
       " ('Linear Algebra', 'Scalars Vectors and their operations'),\n",
       " ('Linear Algebra', 'Linear transformations and Matrix'),\n",
       " ('Linear Algebra', 'Solving Linear Equations'),\n",
       " ('Linear Algebra', 'Determinant and Inverses'),\n",
       " ('Linear Algebra', 'Orthogonality'),\n",
       " ('Linear Algebra', 'Eigen and Singular Value Decomposition'),\n",
       " ('Linear Algebra', 'Module Summary'),\n",
       " ('Calculus', 'Introduction to the Module'),\n",
       " ('Calculus', 'Derivatives'),\n",
       " ('Calculus', 'Integrals'),\n",
       " ('Calculus', 'Multivariable Calculus'),\n",
       " ('Calculus', 'Optimization of multivariable Functions'),\n",
       " ('Calculus', 'Integrals of multivariable functions'),\n",
       " ('Calculus', 'Module Summary')]"
      ]
     },
     "execution_count": 19,
     "metadata": {
      "tags": []
     },
     "output_type": "execute_result"
    }
   ],
   "source": [
    "%sql SELECT module_name, unit_name FROM module NATURAL JOIN unit;"
   ]
  },
  {
   "cell_type": "markdown",
   "metadata": {
    "colab_type": "text",
    "id": "VJ9hPpPXm8US",
    "slideshow": {
     "slide_type": "slide"
    }
   },
   "source": [
    "Lets create two relations r and s each containing fields A and B."
   ]
  },
  {
   "cell_type": "code",
   "execution_count": 20,
   "metadata": {
    "colab": {
     "base_uri": "https://localhost:8080/",
     "height": 87
    },
    "colab_type": "code",
    "executionInfo": {
     "elapsed": 1431,
     "status": "ok",
     "timestamp": 1575458963219,
     "user": {
      "displayName": "Rosy Shrestha",
      "photoUrl": "https://lh5.googleusercontent.com/-2vZbOLKurdw/AAAAAAAAAAI/AAAAAAAAADE/f6PApdZyb_4/s64/photo.jpg",
      "userId": "08154866243064800637"
     },
     "user_tz": -345
    },
    "id": "Jk8qWh0wmUPj",
    "outputId": "2edf9584-afd0-4c75-d024-c99b86dc329a",
    "slideshow": {
     "slide_type": "fragment"
    }
   },
   "outputs": [
    {
     "name": "stdout",
     "output_type": "stream",
     "text": [
      " * sqlite://\n",
      "Done.\n",
      "Done.\n"
     ]
    },
    {
     "data": {
      "text/plain": [
       "[]"
      ]
     },
     "execution_count": 20,
     "metadata": {
      "tags": []
     },
     "output_type": "execute_result"
    }
   ],
   "source": [
    "%%sql\n",
    "CREATE TABLE r(A INTEGER, B VARCHAR(1));\n",
    "CREATE TABLE s(A INTEGER, B VARCHAR(1));"
   ]
  },
  {
   "cell_type": "code",
   "execution_count": 21,
   "metadata": {
    "colab": {
     "base_uri": "https://localhost:8080/",
     "height": 69
    },
    "colab_type": "code",
    "executionInfo": {
     "elapsed": 1496,
     "status": "ok",
     "timestamp": 1575458965952,
     "user": {
      "displayName": "Rosy Shrestha",
      "photoUrl": "https://lh5.googleusercontent.com/-2vZbOLKurdw/AAAAAAAAAAI/AAAAAAAAADE/f6PApdZyb_4/s64/photo.jpg",
      "userId": "08154866243064800637"
     },
     "user_tz": -345
    },
    "id": "SEaMnCrpnDxa",
    "outputId": "bf3bcac6-d10d-4e24-dc77-4df9c77d6fb6",
    "slideshow": {
     "slide_type": "fragment"
    }
   },
   "outputs": [
    {
     "name": "stdout",
     "output_type": "stream",
     "text": [
      " * sqlite://\n",
      "5 rows affected.\n"
     ]
    },
    {
     "data": {
      "text/plain": [
       "[]"
      ]
     },
     "execution_count": 21,
     "metadata": {
      "tags": []
     },
     "output_type": "execute_result"
    }
   ],
   "source": [
    "%sql INSERT INTO r VALUES(1,'a'),(2,'b'),(1,'c'),(3,'d'),(4,'a');"
   ]
  },
  {
   "cell_type": "code",
   "execution_count": 22,
   "metadata": {
    "colab": {
     "base_uri": "https://localhost:8080/",
     "height": 69
    },
    "colab_type": "code",
    "executionInfo": {
     "elapsed": 990,
     "status": "ok",
     "timestamp": 1575458969184,
     "user": {
      "displayName": "Rosy Shrestha",
      "photoUrl": "https://lh5.googleusercontent.com/-2vZbOLKurdw/AAAAAAAAAAI/AAAAAAAAADE/f6PApdZyb_4/s64/photo.jpg",
      "userId": "08154866243064800637"
     },
     "user_tz": -345
    },
    "id": "P-E9neRkoH-s",
    "outputId": "37a7e71d-ed32-499a-ce8f-30e3d1ad3f58",
    "slideshow": {
     "slide_type": "fragment"
    }
   },
   "outputs": [
    {
     "name": "stdout",
     "output_type": "stream",
     "text": [
      " * sqlite://\n",
      "5 rows affected.\n"
     ]
    },
    {
     "data": {
      "text/plain": [
       "[]"
      ]
     },
     "execution_count": 22,
     "metadata": {
      "tags": []
     },
     "output_type": "execute_result"
    }
   ],
   "source": [
    "%sql INSERT INTO s VALUES(2,'a'),(2,'b'),(1,'c'),(3,'d'),(4,'a');"
   ]
  },
  {
   "cell_type": "markdown",
   "metadata": {
    "colab_type": "text",
    "id": "aKwzTi4AojLw",
    "slideshow": {
     "slide_type": "slide"
    }
   },
   "source": [
    "### **Cross Join**\n",
    "\n",
    "A **Cross Join** returns the cartesian product of rows from tables in a join. \n",
    "\n",
    "![Cartesian Product](https://drive.google.com/uc?export=view&id=1Kn6mr9LQ2-gS9GmoYKJQdW3vG-lgn4UH)"
   ]
  },
  {
   "cell_type": "code",
   "execution_count": 23,
   "metadata": {
    "colab": {
     "base_uri": "https://localhost:8080/",
     "height": 591
    },
    "colab_type": "code",
    "executionInfo": {
     "elapsed": 1093,
     "status": "ok",
     "timestamp": 1575459140249,
     "user": {
      "displayName": "Rosy Shrestha",
      "photoUrl": "https://lh5.googleusercontent.com/-2vZbOLKurdw/AAAAAAAAAAI/AAAAAAAAADE/f6PApdZyb_4/s64/photo.jpg",
      "userId": "08154866243064800637"
     },
     "user_tz": -345
    },
    "id": "mWlglzFhoWgj",
    "outputId": "428edc36-ff97-4d67-adeb-910a6751e39e",
    "slideshow": {
     "slide_type": "slide"
    }
   },
   "outputs": [
    {
     "name": "stdout",
     "output_type": "stream",
     "text": [
      " * sqlite://\n",
      "Done.\n"
     ]
    },
    {
     "data": {
      "text/html": [
       "<table>\n",
       "    <tr>\n",
       "        <th>A</th>\n",
       "        <th>B</th>\n",
       "        <th>A_1</th>\n",
       "        <th>B_1</th>\n",
       "    </tr>\n",
       "    <tr>\n",
       "        <td>1</td>\n",
       "        <td>a</td>\n",
       "        <td>2</td>\n",
       "        <td>a</td>\n",
       "    </tr>\n",
       "    <tr>\n",
       "        <td>1</td>\n",
       "        <td>a</td>\n",
       "        <td>2</td>\n",
       "        <td>b</td>\n",
       "    </tr>\n",
       "    <tr>\n",
       "        <td>1</td>\n",
       "        <td>a</td>\n",
       "        <td>1</td>\n",
       "        <td>c</td>\n",
       "    </tr>\n",
       "    <tr>\n",
       "        <td>1</td>\n",
       "        <td>a</td>\n",
       "        <td>3</td>\n",
       "        <td>d</td>\n",
       "    </tr>\n",
       "    <tr>\n",
       "        <td>1</td>\n",
       "        <td>a</td>\n",
       "        <td>4</td>\n",
       "        <td>a</td>\n",
       "    </tr>\n",
       "    <tr>\n",
       "        <td>2</td>\n",
       "        <td>b</td>\n",
       "        <td>2</td>\n",
       "        <td>a</td>\n",
       "    </tr>\n",
       "    <tr>\n",
       "        <td>2</td>\n",
       "        <td>b</td>\n",
       "        <td>2</td>\n",
       "        <td>b</td>\n",
       "    </tr>\n",
       "    <tr>\n",
       "        <td>2</td>\n",
       "        <td>b</td>\n",
       "        <td>1</td>\n",
       "        <td>c</td>\n",
       "    </tr>\n",
       "    <tr>\n",
       "        <td>2</td>\n",
       "        <td>b</td>\n",
       "        <td>3</td>\n",
       "        <td>d</td>\n",
       "    </tr>\n",
       "    <tr>\n",
       "        <td>2</td>\n",
       "        <td>b</td>\n",
       "        <td>4</td>\n",
       "        <td>a</td>\n",
       "    </tr>\n",
       "    <tr>\n",
       "        <td>1</td>\n",
       "        <td>c</td>\n",
       "        <td>2</td>\n",
       "        <td>a</td>\n",
       "    </tr>\n",
       "    <tr>\n",
       "        <td>1</td>\n",
       "        <td>c</td>\n",
       "        <td>2</td>\n",
       "        <td>b</td>\n",
       "    </tr>\n",
       "    <tr>\n",
       "        <td>1</td>\n",
       "        <td>c</td>\n",
       "        <td>1</td>\n",
       "        <td>c</td>\n",
       "    </tr>\n",
       "    <tr>\n",
       "        <td>1</td>\n",
       "        <td>c</td>\n",
       "        <td>3</td>\n",
       "        <td>d</td>\n",
       "    </tr>\n",
       "    <tr>\n",
       "        <td>1</td>\n",
       "        <td>c</td>\n",
       "        <td>4</td>\n",
       "        <td>a</td>\n",
       "    </tr>\n",
       "    <tr>\n",
       "        <td>3</td>\n",
       "        <td>d</td>\n",
       "        <td>2</td>\n",
       "        <td>a</td>\n",
       "    </tr>\n",
       "    <tr>\n",
       "        <td>3</td>\n",
       "        <td>d</td>\n",
       "        <td>2</td>\n",
       "        <td>b</td>\n",
       "    </tr>\n",
       "    <tr>\n",
       "        <td>3</td>\n",
       "        <td>d</td>\n",
       "        <td>1</td>\n",
       "        <td>c</td>\n",
       "    </tr>\n",
       "    <tr>\n",
       "        <td>3</td>\n",
       "        <td>d</td>\n",
       "        <td>3</td>\n",
       "        <td>d</td>\n",
       "    </tr>\n",
       "    <tr>\n",
       "        <td>3</td>\n",
       "        <td>d</td>\n",
       "        <td>4</td>\n",
       "        <td>a</td>\n",
       "    </tr>\n",
       "    <tr>\n",
       "        <td>4</td>\n",
       "        <td>a</td>\n",
       "        <td>2</td>\n",
       "        <td>a</td>\n",
       "    </tr>\n",
       "    <tr>\n",
       "        <td>4</td>\n",
       "        <td>a</td>\n",
       "        <td>2</td>\n",
       "        <td>b</td>\n",
       "    </tr>\n",
       "    <tr>\n",
       "        <td>4</td>\n",
       "        <td>a</td>\n",
       "        <td>1</td>\n",
       "        <td>c</td>\n",
       "    </tr>\n",
       "    <tr>\n",
       "        <td>4</td>\n",
       "        <td>a</td>\n",
       "        <td>3</td>\n",
       "        <td>d</td>\n",
       "    </tr>\n",
       "    <tr>\n",
       "        <td>4</td>\n",
       "        <td>a</td>\n",
       "        <td>4</td>\n",
       "        <td>a</td>\n",
       "    </tr>\n",
       "</table>"
      ],
      "text/plain": [
       "[(1, 'a', 2, 'a'),\n",
       " (1, 'a', 2, 'b'),\n",
       " (1, 'a', 1, 'c'),\n",
       " (1, 'a', 3, 'd'),\n",
       " (1, 'a', 4, 'a'),\n",
       " (2, 'b', 2, 'a'),\n",
       " (2, 'b', 2, 'b'),\n",
       " (2, 'b', 1, 'c'),\n",
       " (2, 'b', 3, 'd'),\n",
       " (2, 'b', 4, 'a'),\n",
       " (1, 'c', 2, 'a'),\n",
       " (1, 'c', 2, 'b'),\n",
       " (1, 'c', 1, 'c'),\n",
       " (1, 'c', 3, 'd'),\n",
       " (1, 'c', 4, 'a'),\n",
       " (3, 'd', 2, 'a'),\n",
       " (3, 'd', 2, 'b'),\n",
       " (3, 'd', 1, 'c'),\n",
       " (3, 'd', 3, 'd'),\n",
       " (3, 'd', 4, 'a'),\n",
       " (4, 'a', 2, 'a'),\n",
       " (4, 'a', 2, 'b'),\n",
       " (4, 'a', 1, 'c'),\n",
       " (4, 'a', 3, 'd'),\n",
       " (4, 'a', 4, 'a')]"
      ]
     },
     "execution_count": 23,
     "metadata": {
      "tags": []
     },
     "output_type": "execute_result"
    }
   ],
   "source": [
    "%sql SELECT * FROM r, s"
   ]
  },
  {
   "cell_type": "markdown",
   "metadata": {
    "colab_type": "text",
    "id": "ioUsSH9Tonce",
    "slideshow": {
     "slide_type": "slide"
    }
   },
   "source": [
    "### **Natural Join**\n",
    "\n",
    "**Natural join** is an equi-join in which one of the duplicate columns is eliminated in the result table.\n",
    "\n",
    "![Natural Join](https://drive.google.com/uc?export=view&id=1OjvZx2ZTxIPPbgy6OUA9Dgw1FFpm9sEN)"
   ]
  },
  {
   "cell_type": "code",
   "execution_count": 24,
   "metadata": {
    "colab": {
     "base_uri": "https://localhost:8080/",
     "height": 157
    },
    "colab_type": "code",
    "executionInfo": {
     "elapsed": 976,
     "status": "ok",
     "timestamp": 1575459162882,
     "user": {
      "displayName": "Rosy Shrestha",
      "photoUrl": "https://lh5.googleusercontent.com/-2vZbOLKurdw/AAAAAAAAAAI/AAAAAAAAADE/f6PApdZyb_4/s64/photo.jpg",
      "userId": "08154866243064800637"
     },
     "user_tz": -345
    },
    "id": "5JImP-_xobyO",
    "outputId": "e5e40fbe-b197-4ae5-d124-c49af78132db",
    "slideshow": {
     "slide_type": "slide"
    }
   },
   "outputs": [
    {
     "name": "stdout",
     "output_type": "stream",
     "text": [
      " * sqlite://\n",
      "Done.\n"
     ]
    },
    {
     "data": {
      "text/html": [
       "<table>\n",
       "    <tr>\n",
       "        <th>A</th>\n",
       "        <th>B</th>\n",
       "    </tr>\n",
       "    <tr>\n",
       "        <td>2</td>\n",
       "        <td>b</td>\n",
       "    </tr>\n",
       "    <tr>\n",
       "        <td>1</td>\n",
       "        <td>c</td>\n",
       "    </tr>\n",
       "    <tr>\n",
       "        <td>3</td>\n",
       "        <td>d</td>\n",
       "    </tr>\n",
       "    <tr>\n",
       "        <td>4</td>\n",
       "        <td>a</td>\n",
       "    </tr>\n",
       "</table>"
      ],
      "text/plain": [
       "[(2, 'b'), (1, 'c'), (3, 'd'), (4, 'a')]"
      ]
     },
     "execution_count": 24,
     "metadata": {
      "tags": []
     },
     "output_type": "execute_result"
    }
   ],
   "source": [
    "%sql SELECT * FROM r NATURAL JOIN s"
   ]
  },
  {
   "cell_type": "markdown",
   "metadata": {
    "colab_type": "text",
    "id": "HvnGuVaIpm-A",
    "slideshow": {
     "slide_type": "slide"
    }
   },
   "source": [
    "### **Inner Join**\n",
    "\n",
    "**Inner join** is a join in which the DBMS selects records from two tables only when the records have the same value in the common field that links the tables.\n",
    "\n",
    "\n",
    "![Inner Product](https://drive.google.com/uc?export=view&id=1iumh9midfMyNYcC5x2caTrhHLKbkLdOp)\n"
   ]
  },
  {
   "cell_type": "code",
   "execution_count": 25,
   "metadata": {
    "colab": {
     "base_uri": "https://localhost:8080/",
     "height": 199
    },
    "colab_type": "code",
    "executionInfo": {
     "elapsed": 1315,
     "status": "ok",
     "timestamp": 1575459351598,
     "user": {
      "displayName": "Rosy Shrestha",
      "photoUrl": "https://lh5.googleusercontent.com/-2vZbOLKurdw/AAAAAAAAAAI/AAAAAAAAADE/f6PApdZyb_4/s64/photo.jpg",
      "userId": "08154866243064800637"
     },
     "user_tz": -345
    },
    "id": "ocxx9XgXpoTo",
    "outputId": "1cfc5856-eb6b-4182-8912-69fec55a6434",
    "slideshow": {
     "slide_type": "slide"
    }
   },
   "outputs": [
    {
     "name": "stdout",
     "output_type": "stream",
     "text": [
      " * sqlite://\n",
      "Done.\n"
     ]
    },
    {
     "data": {
      "text/html": [
       "<table>\n",
       "    <tr>\n",
       "        <th>A</th>\n",
       "        <th>B</th>\n",
       "        <th>A_1</th>\n",
       "        <th>B_1</th>\n",
       "    </tr>\n",
       "    <tr>\n",
       "        <td>1</td>\n",
       "        <td>a</td>\n",
       "        <td>1</td>\n",
       "        <td>c</td>\n",
       "    </tr>\n",
       "    <tr>\n",
       "        <td>2</td>\n",
       "        <td>b</td>\n",
       "        <td>2</td>\n",
       "        <td>a</td>\n",
       "    </tr>\n",
       "    <tr>\n",
       "        <td>2</td>\n",
       "        <td>b</td>\n",
       "        <td>2</td>\n",
       "        <td>b</td>\n",
       "    </tr>\n",
       "    <tr>\n",
       "        <td>1</td>\n",
       "        <td>c</td>\n",
       "        <td>1</td>\n",
       "        <td>c</td>\n",
       "    </tr>\n",
       "    <tr>\n",
       "        <td>3</td>\n",
       "        <td>d</td>\n",
       "        <td>3</td>\n",
       "        <td>d</td>\n",
       "    </tr>\n",
       "    <tr>\n",
       "        <td>4</td>\n",
       "        <td>a</td>\n",
       "        <td>4</td>\n",
       "        <td>a</td>\n",
       "    </tr>\n",
       "</table>"
      ],
      "text/plain": [
       "[(1, 'a', 1, 'c'),\n",
       " (2, 'b', 2, 'a'),\n",
       " (2, 'b', 2, 'b'),\n",
       " (1, 'c', 1, 'c'),\n",
       " (3, 'd', 3, 'd'),\n",
       " (4, 'a', 4, 'a')]"
      ]
     },
     "execution_count": 25,
     "metadata": {
      "tags": []
     },
     "output_type": "execute_result"
    }
   ],
   "source": [
    "%sql SELECT * FROM r INNER JOIN s on r.A = s.A"
   ]
  },
  {
   "cell_type": "code",
   "execution_count": 26,
   "metadata": {
    "colab": {
     "base_uri": "https://localhost:8080/",
     "height": 219
    },
    "colab_type": "code",
    "executionInfo": {
     "elapsed": 1091,
     "status": "ok",
     "timestamp": 1575459357445,
     "user": {
      "displayName": "Rosy Shrestha",
      "photoUrl": "https://lh5.googleusercontent.com/-2vZbOLKurdw/AAAAAAAAAAI/AAAAAAAAADE/f6PApdZyb_4/s64/photo.jpg",
      "userId": "08154866243064800637"
     },
     "user_tz": -345
    },
    "id": "LlSLNDJxpt_F",
    "outputId": "26b0d639-c8ff-43b5-c787-e00dfd762597",
    "slideshow": {
     "slide_type": "slide"
    }
   },
   "outputs": [
    {
     "name": "stdout",
     "output_type": "stream",
     "text": [
      " * sqlite://\n",
      "Done.\n"
     ]
    },
    {
     "data": {
      "text/html": [
       "<table>\n",
       "    <tr>\n",
       "        <th>A</th>\n",
       "        <th>B</th>\n",
       "        <th>A_1</th>\n",
       "        <th>B_1</th>\n",
       "    </tr>\n",
       "    <tr>\n",
       "        <td>1</td>\n",
       "        <td>a</td>\n",
       "        <td>2</td>\n",
       "        <td>a</td>\n",
       "    </tr>\n",
       "    <tr>\n",
       "        <td>1</td>\n",
       "        <td>a</td>\n",
       "        <td>4</td>\n",
       "        <td>a</td>\n",
       "    </tr>\n",
       "    <tr>\n",
       "        <td>2</td>\n",
       "        <td>b</td>\n",
       "        <td>2</td>\n",
       "        <td>b</td>\n",
       "    </tr>\n",
       "    <tr>\n",
       "        <td>1</td>\n",
       "        <td>c</td>\n",
       "        <td>1</td>\n",
       "        <td>c</td>\n",
       "    </tr>\n",
       "    <tr>\n",
       "        <td>3</td>\n",
       "        <td>d</td>\n",
       "        <td>3</td>\n",
       "        <td>d</td>\n",
       "    </tr>\n",
       "    <tr>\n",
       "        <td>4</td>\n",
       "        <td>a</td>\n",
       "        <td>2</td>\n",
       "        <td>a</td>\n",
       "    </tr>\n",
       "    <tr>\n",
       "        <td>4</td>\n",
       "        <td>a</td>\n",
       "        <td>4</td>\n",
       "        <td>a</td>\n",
       "    </tr>\n",
       "</table>"
      ],
      "text/plain": [
       "[(1, 'a', 2, 'a'),\n",
       " (1, 'a', 4, 'a'),\n",
       " (2, 'b', 2, 'b'),\n",
       " (1, 'c', 1, 'c'),\n",
       " (3, 'd', 3, 'd'),\n",
       " (4, 'a', 2, 'a'),\n",
       " (4, 'a', 4, 'a')]"
      ]
     },
     "execution_count": 26,
     "metadata": {
      "tags": []
     },
     "output_type": "execute_result"
    }
   ],
   "source": [
    "%sql SELECT * FROM r INNER JOIN s on r.B = s.B"
   ]
  },
  {
   "cell_type": "code",
   "execution_count": 27,
   "metadata": {
    "colab": {
     "base_uri": "https://localhost:8080/",
     "height": 69
    },
    "colab_type": "code",
    "executionInfo": {
     "elapsed": 1091,
     "status": "ok",
     "timestamp": 1575459374628,
     "user": {
      "displayName": "Rosy Shrestha",
      "photoUrl": "https://lh5.googleusercontent.com/-2vZbOLKurdw/AAAAAAAAAAI/AAAAAAAAADE/f6PApdZyb_4/s64/photo.jpg",
      "userId": "08154866243064800637"
     },
     "user_tz": -345
    },
    "id": "OvZPZOd_QTK7",
    "outputId": "c58d915f-db58-4edb-fccd-687f8ad0e89b",
    "slideshow": {
     "slide_type": "slide"
    }
   },
   "outputs": [
    {
     "name": "stdout",
     "output_type": "stream",
     "text": [
      " * sqlite://\n",
      "1 rows affected.\n"
     ]
    },
    {
     "data": {
      "text/plain": [
       "[]"
      ]
     },
     "execution_count": 27,
     "metadata": {
      "tags": []
     },
     "output_type": "execute_result"
    }
   ],
   "source": [
    "%sql INSERT INTO r VALUES(5,'a')"
   ]
  },
  {
   "cell_type": "markdown",
   "metadata": {
    "colab_type": "text",
    "id": "IiWXeFJEpej0",
    "slideshow": {
     "slide_type": "slide"
    }
   },
   "source": [
    "### **Left Outer Join**\n",
    "\n",
    "* Extention of Join Operation that avoids loss of information. \n",
    "* Compute the join and adds tuples from one relation that may not match with any tuples in the other relation to the result of the join.\n",
    "* Uses null values\n",
    "\n",
    "\n",
    "**Note** Full Outer Join and Right Outer Join are not supported by sqlite\n",
    "\n",
    "\n",
    "\n",
    "![Inner Product](https://drive.google.com/uc?export=view&id=1yu2gYRRtigoeBb2PmJtcxFPBuMaO2yz8)"
   ]
  },
  {
   "cell_type": "code",
   "execution_count": 32,
   "metadata": {
    "colab": {
     "base_uri": "https://localhost:8080/",
     "height": 219
    },
    "colab_type": "code",
    "executionInfo": {
     "elapsed": 1000,
     "status": "ok",
     "timestamp": 1575459900770,
     "user": {
      "displayName": "Rosy Shrestha",
      "photoUrl": "https://lh5.googleusercontent.com/-2vZbOLKurdw/AAAAAAAAAAI/AAAAAAAAADE/f6PApdZyb_4/s64/photo.jpg",
      "userId": "08154866243064800637"
     },
     "user_tz": -345
    },
    "id": "cL4b3tXCoo86",
    "outputId": "bf718fc3-847b-407a-a266-7469bf4a8e9a",
    "slideshow": {
     "slide_type": "slide"
    }
   },
   "outputs": [
    {
     "name": "stdout",
     "output_type": "stream",
     "text": [
      " * sqlite://\n",
      "Done.\n"
     ]
    },
    {
     "data": {
      "text/html": [
       "<table>\n",
       "    <tr>\n",
       "        <th>A</th>\n",
       "        <th>B</th>\n",
       "        <th>A_1</th>\n",
       "        <th>B_1</th>\n",
       "    </tr>\n",
       "    <tr>\n",
       "        <td>1</td>\n",
       "        <td>a</td>\n",
       "        <td>1</td>\n",
       "        <td>c</td>\n",
       "    </tr>\n",
       "    <tr>\n",
       "        <td>2</td>\n",
       "        <td>b</td>\n",
       "        <td>2</td>\n",
       "        <td>a</td>\n",
       "    </tr>\n",
       "    <tr>\n",
       "        <td>2</td>\n",
       "        <td>b</td>\n",
       "        <td>2</td>\n",
       "        <td>b</td>\n",
       "    </tr>\n",
       "    <tr>\n",
       "        <td>1</td>\n",
       "        <td>c</td>\n",
       "        <td>1</td>\n",
       "        <td>c</td>\n",
       "    </tr>\n",
       "    <tr>\n",
       "        <td>3</td>\n",
       "        <td>d</td>\n",
       "        <td>3</td>\n",
       "        <td>d</td>\n",
       "    </tr>\n",
       "    <tr>\n",
       "        <td>4</td>\n",
       "        <td>a</td>\n",
       "        <td>4</td>\n",
       "        <td>a</td>\n",
       "    </tr>\n",
       "    <tr>\n",
       "        <td>5</td>\n",
       "        <td>a</td>\n",
       "        <td>None</td>\n",
       "        <td>None</td>\n",
       "    </tr>\n",
       "</table>"
      ],
      "text/plain": [
       "[(1, 'a', 1, 'c'),\n",
       " (2, 'b', 2, 'a'),\n",
       " (2, 'b', 2, 'b'),\n",
       " (1, 'c', 1, 'c'),\n",
       " (3, 'd', 3, 'd'),\n",
       " (4, 'a', 4, 'a'),\n",
       " (5, 'a', None, None)]"
      ]
     },
     "execution_count": 32,
     "metadata": {
      "tags": []
     },
     "output_type": "execute_result"
    }
   ],
   "source": [
    "%sql SELECT * FROM r LEFT OUTER JOIN s ON r.A = s.A"
   ]
  },
  {
   "cell_type": "markdown",
   "metadata": {
    "colab_type": "text",
    "id": "vJ0xLjtKS7co",
    "slideshow": {
     "slide_type": "slide"
    }
   },
   "source": [
    ">In contrast, Inner Join excludes the last tuple."
   ]
  },
  {
   "cell_type": "code",
   "execution_count": 33,
   "metadata": {
    "colab": {
     "base_uri": "https://localhost:8080/",
     "height": 199
    },
    "colab_type": "code",
    "executionInfo": {
     "elapsed": 973,
     "status": "ok",
     "timestamp": 1575459921753,
     "user": {
      "displayName": "Rosy Shrestha",
      "photoUrl": "https://lh5.googleusercontent.com/-2vZbOLKurdw/AAAAAAAAAAI/AAAAAAAAADE/f6PApdZyb_4/s64/photo.jpg",
      "userId": "08154866243064800637"
     },
     "user_tz": -345
    },
    "id": "e2Y1VQiKQyDz",
    "outputId": "36172775-ca94-4de9-de0e-68c17368a118",
    "slideshow": {
     "slide_type": "slide"
    }
   },
   "outputs": [
    {
     "name": "stdout",
     "output_type": "stream",
     "text": [
      " * sqlite://\n",
      "Done.\n"
     ]
    },
    {
     "data": {
      "text/html": [
       "<table>\n",
       "    <tr>\n",
       "        <th>A</th>\n",
       "        <th>B</th>\n",
       "        <th>A_1</th>\n",
       "        <th>B_1</th>\n",
       "    </tr>\n",
       "    <tr>\n",
       "        <td>1</td>\n",
       "        <td>a</td>\n",
       "        <td>1</td>\n",
       "        <td>c</td>\n",
       "    </tr>\n",
       "    <tr>\n",
       "        <td>2</td>\n",
       "        <td>b</td>\n",
       "        <td>2</td>\n",
       "        <td>a</td>\n",
       "    </tr>\n",
       "    <tr>\n",
       "        <td>2</td>\n",
       "        <td>b</td>\n",
       "        <td>2</td>\n",
       "        <td>b</td>\n",
       "    </tr>\n",
       "    <tr>\n",
       "        <td>1</td>\n",
       "        <td>c</td>\n",
       "        <td>1</td>\n",
       "        <td>c</td>\n",
       "    </tr>\n",
       "    <tr>\n",
       "        <td>3</td>\n",
       "        <td>d</td>\n",
       "        <td>3</td>\n",
       "        <td>d</td>\n",
       "    </tr>\n",
       "    <tr>\n",
       "        <td>4</td>\n",
       "        <td>a</td>\n",
       "        <td>4</td>\n",
       "        <td>a</td>\n",
       "    </tr>\n",
       "</table>"
      ],
      "text/plain": [
       "[(1, 'a', 1, 'c'),\n",
       " (2, 'b', 2, 'a'),\n",
       " (2, 'b', 2, 'b'),\n",
       " (1, 'c', 1, 'c'),\n",
       " (3, 'd', 3, 'd'),\n",
       " (4, 'a', 4, 'a')]"
      ]
     },
     "execution_count": 33,
     "metadata": {
      "tags": []
     },
     "output_type": "execute_result"
    }
   ],
   "source": [
    "%sql SELECT * FROM r INNER JOIN s ON r.A = s.A"
   ]
  },
  {
   "cell_type": "markdown",
   "metadata": {
    "colab_type": "text",
    "id": "NQe2k7UGXyPp",
    "slideshow": {
     "slide_type": "slide"
    }
   },
   "source": [
    "### **Right Outer Join**\n",
    "\n",
    "**RIGHT OUTER JOIN** specifies that in the output all records of the right relation, in this case the `s` relation must feature.\n",
    "\n",
    "![Right Outer Join](https://drive.google.com/uc?export=view&id=1fsPH-aC2bhSr-zCl1PhY_zoqkg-pTJVS)\n",
    "\n",
    "\n",
    "`sql> INSERT INTO s VALUES(6,'b')`\n",
    "\n",
    "`sql> SELECT * FROM r RIGHT OUTER JOIN s ON r.A = s.A`\n",
    "\n",
    "\n",
    "| A\t| B | A | B |\t\n",
    "| - | - | - | - |\n",
    "| 1\t| a |\t1 |\tc |\t\n",
    "| 2\t| b |\t2 |\ta |\t\n",
    "| 2 |\tb |\t2 |\tb |\t\n",
    "| 1 |\tc |\t1 |\tc |\t\n",
    "| 3 |\td |\t3 |\td |\t\n",
    "| 4 |\ta |\t4 |\ta |\t\n",
    "| NULL | NULL | 6  | b |\t\n",
    "\n",
    "\n",
    "\n",
    "### **Full Outer Join**\n",
    "\n",
    "**FULL OUTER JOIN** keyword returns all records when there is a match in left (R) or right (S) table records.\n",
    "\n",
    "![Full Outer Join](https://drive.google.com/uc?export=view&id=1Zqj-LX5jQpVELvqGqx6ZQ4NQ9POqGegQ)\n",
    "\n",
    "A full outer join will result in following table:\n",
    "\n",
    "```\n",
    "sql> SELECT * FROM r RIGHT OUTER JOIN s ON r.A = s.A\n",
    "UNION\n",
    "SELECT * FROM r LEFT OUTER JOIN s ON r.A = s.A\n",
    "```\n",
    "\n",
    "| A | B\t| A\t| B\t| \n",
    "| - | - | - | - |\n",
    "| 1\t| a\t| 1\t| c\t| \n",
    "| 2\t| b\t| 2\t| a\t| \n",
    "| 2\t| b\t| 2\t| b\t| \n",
    "| 1\t| c\t| 1\t| c\t| \n",
    "| 3\t| d\t| 3\t| d\t| \n",
    "| 4\t| a\t| 4\t| a\t| \n",
    "| 5\t| a\t| NULL | NULL |\n",
    "| NULL | NULL |\t6\t | b |\t\n",
    "\n",
    "\t\n"
   ]
  },
  {
   "cell_type": "code",
   "execution_count": null,
   "metadata": {},
   "outputs": [],
   "source": []
  }
 ],
 "metadata": {
  "celltoolbar": "Slideshow",
  "colab": {
   "collapsed_sections": [],
   "name": "Notebook slide: SQL: Queries and Subqueries",
   "provenance": []
  },
  "kernelspec": {
   "display_name": "Python 3",
   "language": "python",
   "name": "python3"
  },
  "language_info": {
   "codemirror_mode": {
    "name": "ipython",
    "version": 3
   },
   "file_extension": ".py",
   "mimetype": "text/x-python",
   "name": "python",
   "nbconvert_exporter": "python",
   "pygments_lexer": "ipython3",
   "version": "3.8.3"
  }
 },
 "nbformat": 4,
 "nbformat_minor": 1
}
