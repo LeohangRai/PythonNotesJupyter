{
 "cells": [
  {
   "cell_type": "code",
   "execution_count": 32,
   "metadata": {},
   "outputs": [
    {
     "data": {
      "text/plain": [
       "2"
      ]
     },
     "execution_count": 32,
     "metadata": {},
     "output_type": "execute_result"
    }
   ],
   "source": [
    "def duplicate_finder(list1):\n",
    "    hare = list1[0]\n",
    "    turtle = list1[0]\n",
    "    \n",
    "    while list1:\n",
    "        turtle = list1[turtle]\n",
    "        hare = list1[list1[hare]]\n",
    "        if turtle == hare:\n",
    "            break\n",
    "    \n",
    "    t2 = list1[0]\n",
    "    h2 = hare\n",
    "    while t2 != h2:\n",
    "        t2 = list1[t2]\n",
    "        h2 = list1[h2]\n",
    "    \n",
    "    return t2\n",
    "\n",
    "\n",
    "my_list = [5,6,7,2,8,2,4,2]                       \n",
    "duplicate_finder(my_list)"
   ]
  },
  {
   "cell_type": "code",
   "execution_count": null,
   "metadata": {},
   "outputs": [],
   "source": []
  },
  {
   "cell_type": "code",
   "execution_count": 36,
   "metadata": {},
   "outputs": [
    {
     "name": "stdout",
     "output_type": "stream",
     "text": [
      "The input list is [1, 9, 5, 3, 7, 2, 5, 8, 6, 4]\n",
      "\n",
      "Stage 1\n",
      "turtle is: 1 and hare is: 9\n",
      "turtle is: 9 and hare is: 7\n",
      "turtle is: 4 and hare is: 6\n",
      "turtle is: 7 and hare is: 2\n",
      "turtle is: 8 and hare is: 2\n",
      "turtle is: 6 and hare is: 2\n",
      "turtle is: 5 and hare is: 2\n",
      "turtle is: 2 and hare is: 2\n",
      "\n",
      "This is the point where the turtle and hare meet.\n",
      "\n",
      "Stage 2\n",
      "turtle is: 1 and hare is: 5\n",
      "turtle is: 9 and hare is: 2\n",
      "turtle is: 4 and hare is: 5\n",
      "turtle is: 7 and hare is: 2\n",
      "turtle is: 8 and hare is: 5\n",
      "turtle is: 6 and hare is: 2\n",
      "turtle is: 5 and hare is: 5\n",
      "This is the point where the turtle and hare meet again.\n",
      "\n",
      "So 5 is the duplicate number.\n"
     ]
    }
   ],
   "source": [
    "import random\n",
    "\n",
    "def duplicate_finder(lis):  \n",
    "    print(f'The input list is {lis}')\n",
    "    print('\\nStage 1')\n",
    "    turtle = 0\n",
    "    hare = 0\n",
    "    while True:\n",
    "        turtle = lis[turtle]\n",
    "        hare = lis[lis[hare]]\n",
    "        print(f'turtle is: {turtle} and hare is: {hare}')\n",
    "        if turtle == hare:\n",
    "            print('\\nThis is the point where the turtle and hare meet.\\n')\n",
    "            break\n",
    "            \n",
    "    print('Stage 2')\n",
    "    #Sending back the turtle to the initial position\n",
    "    #hare will resume from the same position\n",
    "    turtle = 0\n",
    "    while True:\n",
    "        turtle = lis[turtle]\n",
    "        hare = lis[hare]\n",
    "        print(f'turtle is: {turtle} and hare is: {hare}')\n",
    "        if turtle == hare:\n",
    "            print(f'This is the point where the turtle and hare meet again.\\n')\n",
    "            print(f'So {turtle} is the duplicate number.')\n",
    "            break\n",
    "            \n",
    "            \n",
    "\n",
    "#Test            \n",
    "n = 10\n",
    "#list of numbers from 0 to (10-1)\n",
    "#Because the list can only have inclusive numbers from 0 to (n-1)\n",
    "my_list = [i for i in range(n)]  \n",
    "\n",
    "#Replacing the first item of the list with any number between 1 to n-1 \n",
    "#so that there's a duplicate\n",
    "my_list[0] = random.randint(1, n-1)  \n",
    "\n",
    "#Let's shuffle the list items\n",
    "random.shuffle(my_list)\n",
    "duplicate_finder(my_list)\n",
    "        "
   ]
  },
  {
   "cell_type": "code",
   "execution_count": null,
   "metadata": {},
   "outputs": [],
   "source": []
  }
 ],
 "metadata": {
  "kernelspec": {
   "display_name": "Python 3",
   "language": "python",
   "name": "python3"
  },
  "language_info": {
   "codemirror_mode": {
    "name": "ipython",
    "version": 3
   },
   "file_extension": ".py",
   "mimetype": "text/x-python",
   "name": "python",
   "nbconvert_exporter": "python",
   "pygments_lexer": "ipython3",
   "version": "3.7.4"
  }
 },
 "nbformat": 4,
 "nbformat_minor": 2
}
