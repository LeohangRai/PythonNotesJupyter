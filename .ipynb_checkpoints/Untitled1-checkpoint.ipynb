{
 "cells": [
  {
   "cell_type": "code",
   "execution_count": null,
   "metadata": {},
   "outputs": [
    {
     "name": "stdout",
     "output_type": "stream",
     "text": [
      "\n",
      "Please tell me your name:\n",
      "First name: Leohang\n",
      "Last name: Rai\n",
      "\n",
      "Hello, Leohang Rai!\n",
      "\n",
      "Please tell me your name:\n"
     ]
    }
   ],
   "source": [
    "def get_formatted_name(first_name, last_name):    \n",
    "    \"\"\"Return a full name, neatly formatted.\"\"\"    \n",
    "    full_name = first_name + ' ' + last_name    \n",
    "    return full_name.title()\n",
    "\n",
    "while True:      \n",
    "    print(\"\\nPlease tell me your name:\")    \n",
    "    f_name = input(\"First name: \")    \n",
    "    l_name = input(\"Last name: \")    \n",
    "    \n",
    "    formatted_name = get_formatted_name(f_name, l_name)    \n",
    "    print(\"\\nHello, \" + formatted_name + \"!\")\n"
   ]
  },
  {
   "cell_type": "code",
   "execution_count": null,
   "metadata": {},
   "outputs": [],
   "source": []
  }
 ],
 "metadata": {
  "kernelspec": {
   "display_name": "Python 3",
   "language": "python",
   "name": "python3"
  },
  "language_info": {
   "codemirror_mode": {
    "name": "ipython",
    "version": 3
   },
   "file_extension": ".py",
   "mimetype": "text/x-python",
   "name": "python",
   "nbconvert_exporter": "python",
   "pygments_lexer": "ipython3",
   "version": "3.7.4"
  }
 },
 "nbformat": 4,
 "nbformat_minor": 2
}
