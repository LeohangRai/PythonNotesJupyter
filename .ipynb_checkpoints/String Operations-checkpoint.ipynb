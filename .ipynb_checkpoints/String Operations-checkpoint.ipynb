{
 "cells": [
  {
   "cell_type": "code",
   "execution_count": 21,
   "metadata": {},
   "outputs": [
    {
     "name": "stdout",
     "output_type": "stream",
     "text": [
      "23 Hello\n"
     ]
    }
   ],
   "source": [
    "#Formatted strings\n",
    "print(\"%d %s\" % (23, 'Hello'))"
   ]
  },
  {
   "cell_type": "code",
   "execution_count": 22,
   "metadata": {},
   "outputs": [
    {
     "name": "stdout",
     "output_type": "stream",
     "text": [
      "This is a formatted variable: Leohang\n"
     ]
    }
   ],
   "source": [
    "#Formatted strings\n",
    "print(\"This is a formatted variable: %s\" % ('Leohang'))"
   ]
  },
  {
   "cell_type": "code",
   "execution_count": 28,
   "metadata": {},
   "outputs": [
    {
     "name": "stdout",
     "output_type": "stream",
     "text": [
      "This is ignored:\\n\n"
     ]
    }
   ],
   "source": [
    "#raw strings\n",
    "str4 = r\"This is ignored:\\n\"\n",
    "print(str4) "
   ]
  },
  {
   "cell_type": "code",
   "execution_count": 88,
   "metadata": {},
   "outputs": [
    {
     "name": "stdout",
     "output_type": "stream",
     "text": [
      "5+5=10\n"
     ]
    }
   ],
   "source": [
    "#Format the output with f string\n",
    "int1 = 5\n",
    "int2 = 5\n",
    "print(f'{int1}+{int2}={int1+int2}')"
   ]
  },
  {
   "cell_type": "code",
   "execution_count": 36,
   "metadata": {},
   "outputs": [
    {
     "name": "stdout",
     "output_type": "stream",
     "text": [
      "Hello cruel World\n"
     ]
    }
   ],
   "source": [
    "#Replacing string characters by slicing\n",
    "myst = \"Hello World\"\n",
    "myst = myst[:5]+\" cruel \"+ myst[6:]\n",
    "print(myst)"
   ]
  },
  {
   "cell_type": "code",
   "execution_count": 41,
   "metadata": {},
   "outputs": [
    {
     "name": "stdout",
     "output_type": "stream",
     "text": [
      "Hello Summer\n"
     ]
    }
   ],
   "source": [
    "#Replacing string characters by using replace() function\n",
    "mysty = \"Hello Winter\"\n",
    "mysty = mysty.replace(\"Winter\",\"Summer\")\n",
    "print(mysty)"
   ]
  },
  {
   "cell_type": "code",
   "execution_count": 1,
   "metadata": {},
   "outputs": [
    {
     "name": "stdout",
     "output_type": "stream",
     "text": [
      "True\n",
      "False\n",
      "True\n"
     ]
    }
   ],
   "source": [
    "#Checking whether a particular string is in a String or not\n",
    "str1 = \"Hello dear!\"\n",
    "print(\"Hello\" in str1)\n",
    "print(\"hello\" in str1)\n",
    "print(\"hello\" not in str1)"
   ]
  },
  {
   "cell_type": "code",
   "execution_count": 52,
   "metadata": {},
   "outputs": [
    {
     "name": "stdout",
     "output_type": "stream",
     "text": [
      "Hello\n",
      "Hello  \n",
      "   Hello\n"
     ]
    }
   ],
   "source": [
    "#Trim whitespace from a string\n",
    "\n",
    "print(\"   Hello  \".strip()) #Strip from both left and right\n",
    "print(\"   Hello  \".lstrip()) #Strip from left\n",
    "print(\"   Hello  \".rstrip())  #Strip from the right"
   ]
  },
  {
   "cell_type": "code",
   "execution_count": 58,
   "metadata": {},
   "outputs": [
    {
     "name": "stdout",
     "output_type": "stream",
     "text": [
      "Hello kid\n"
     ]
    }
   ],
   "source": [
    "str1 = \"  Hello kid  \"\n",
    "print(str1.strip())"
   ]
  },
  {
   "cell_type": "code",
   "execution_count": 71,
   "metadata": {},
   "outputs": [
    {
     "name": "stdout",
     "output_type": "stream",
     "text": [
      "Some random words\n",
      "Somerandomwords\n",
      "Some-random-words\n",
      "Some_random_words\n"
     ]
    }
   ],
   "source": [
    "#Converting a list into a string:\n",
    "li = [\"Some\", \"random\",\"words\"]\n",
    "print(\" \".join(li)) # Join the elements of a list into a single string separated by a single space\n",
    "print(\"\".join(li))  #Join the elements without any space\n",
    "print(\"-\".join(li)) #Joins the elements of a list into a single string separated by a hyphen\n",
    "print(\"_\".join(li))\n",
    "\n",
    "#Note: This code actually joins the elements to the right and left side of whatever is given in \"\"\n"
   ]
  },
  {
   "cell_type": "code",
   "execution_count": 86,
   "metadata": {},
   "outputs": [
    {
     "name": "stdout",
     "output_type": "stream",
     "text": [
      "['This', 'is', 'a', 'string']\n",
      "['This', 'is', 'a', 'string']\n",
      "['This,', 'is,', 'another', 'string']\n"
     ]
    }
   ],
   "source": [
    "#Converting a string into a list\n",
    "str4=\"This is a string\"\n",
    "print(str4.split())  #This is the same as the below statement and is the default argument.\n",
    "print(str4.split(\" \")) # \" \" means, split the string whenever there is a single space.\n",
    "\n",
    "str2 = \"This, is, another string\"\n",
    "print(str2.split()) #splits the string wherever there is a comma."
   ]
  },
  {
   "cell_type": "code",
   "execution_count": 90,
   "metadata": {},
   "outputs": [
    {
     "name": "stdout",
     "output_type": "stream",
     "text": [
      "hello world\n",
      "HELLO WORLD\n"
     ]
    }
   ],
   "source": [
    "#Converting to upper case or lower case\n",
    "print(\"Hello World\".lower())\n",
    "print(\"Hello World\".upper())"
   ]
  },
  {
   "cell_type": "code",
   "execution_count": 108,
   "metadata": {},
   "outputs": [
    {
     "name": "stdout",
     "output_type": "stream",
     "text": [
      "False\n",
      "False\n",
      "False\n"
     ]
    }
   ],
   "source": [
    "#Checking whether a string a num or character or either:\n",
    "print(\"A String 123\".isalnum()) #Checks whether it is either or both alphabet and num\n",
    "print(\"A String\".isalpha())   #Checks whether everything is a char\n",
    "print(\"A String\".isdigit()) #Checks whether whether everything is a digit"
   ]
  },
  {
   "cell_type": "code",
   "execution_count": 107,
   "metadata": {},
   "outputs": [
    {
     "name": "stdout",
     "output_type": "stream",
     "text": [
      "True\n",
      "True\n",
      "True\n"
     ]
    }
   ],
   "source": [
    "#Checking whether a string a num or character or either:\n",
    "print(\"AString123\".isalnum())\n",
    "print(\"AString\".isalpha())\n",
    "print(\"1234\".isdigit())"
   ]
  },
  {
   "cell_type": "code",
   "execution_count": null,
   "metadata": {},
   "outputs": [],
   "source": []
  }
 ],
 "metadata": {
  "kernelspec": {
   "display_name": "Python 3",
   "language": "python",
   "name": "python3"
  },
  "language_info": {
   "codemirror_mode": {
    "name": "ipython",
    "version": 3
   },
   "file_extension": ".py",
   "mimetype": "text/x-python",
   "name": "python",
   "nbconvert_exporter": "python",
   "pygments_lexer": "ipython3",
   "version": "3.7.4"
  }
 },
 "nbformat": 4,
 "nbformat_minor": 2
}
